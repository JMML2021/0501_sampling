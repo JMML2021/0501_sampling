{
  "nbformat": 4,
  "nbformat_minor": 0,
  "metadata": {
    "colab": {
      "name": "05_Sampling.ipynb",
      "provenance": [],
      "toc_visible": true,
      "authorship_tag": "ABX9TyNzsrbZImJxgmg50+96sMwK",
      "include_colab_link": true
    },
    "kernelspec": {
      "name": "python3",
      "display_name": "Python 3"
    },
    "language_info": {
      "name": "python"
    }
  },
  "cells": [
    {
      "cell_type": "markdown",
      "metadata": {
        "id": "view-in-github",
        "colab_type": "text"
      },
      "source": [
        "<a href=\"https://colab.research.google.com/github/JMML2021/0501_sampling/blob/main/05_Sampling.ipynb\" target=\"_parent\"><img src=\"https://colab.research.google.com/assets/colab-badge.svg\" alt=\"Open In Colab\"/></a>"
      ]
    },
    {
      "cell_type": "code",
      "source": [
        "import pandas as pd"
      ],
      "metadata": {
        "id": "wykSmjJcKnDR"
      },
      "execution_count": 183,
      "outputs": []
    },
    {
      "cell_type": "markdown",
      "source": [
        ""
      ],
      "metadata": {
        "id": "PoXvCyF_RHbC"
      }
    },
    {
      "cell_type": "markdown",
      "source": [
        "# Descripció\n",
        "Aprèn a realitzar mostreig de les dades amb Python."
      ],
      "metadata": {
        "id": "SITn1ej3RIwn"
      }
    },
    {
      "cell_type": "code",
      "execution_count": 184,
      "metadata": {
        "colab": {
          "base_uri": "https://localhost:8080/"
        },
        "id": "5sy1G7U3D1dh",
        "outputId": "6f174c66-017d-4064-a6c2-6c9f519f5ced"
      },
      "outputs": [
        {
          "output_type": "stream",
          "name": "stdout",
          "text": [
            "Drive already mounted at /content/drive; to attempt to forcibly remount, call drive.mount(\"/content/drive\", force_remount=True).\n"
          ]
        }
      ],
      "source": [
        "# Activo Google Drive\n",
        "\n",
        "from google.colab import drive\n",
        "drive.mount('/content/drive')"
      ]
    },
    {
      "cell_type": "code",
      "source": [
        "import os\n",
        "os.environ['KAGGLE_CONFIG_DIR'] = '/content/drive/MyDrive/01_COLAB/kaggle.json'"
      ],
      "metadata": {
        "id": "GIcwCb3QFqdt"
      },
      "execution_count": 185,
      "outputs": []
    },
    {
      "cell_type": "code",
      "source": [
        "# Abro el fichero una vez adecuado\n",
        "\n",
        "path = ('/content/drive/MyDrive/01_COLAB/resultsFutbol.csv')\n",
        "df=  pd.read_csv(path)\n",
        "df.shape\n",
        "\n",
        "nRow, nCol = df.shape\n",
        "print(f'Hay  {nRow} filas con {nCol} columnas')"
      ],
      "metadata": {
        "colab": {
          "base_uri": "https://localhost:8080/"
        },
        "id": "AkAtN6iXKgjb",
        "outputId": "6af66b09-baf3-49b0-8ee4-72e600949402"
      },
      "execution_count": 186,
      "outputs": [
        {
          "output_type": "stream",
          "name": "stdout",
          "text": [
            "Hay  41243 filas con 9 columnas\n"
          ]
        }
      ]
    },
    {
      "cell_type": "code",
      "source": [
        "df1 = df.copy()"
      ],
      "metadata": {
        "id": "vuUOY1WfSd-X"
      },
      "execution_count": 187,
      "outputs": []
    },
    {
      "cell_type": "markdown",
      "source": [
        "# Exercici 1\n",
        "\n",
        "Agafa un conjunt de dades de tema esportiu que t'agradi. Realitza un mostreig de les dades generant una mostra aleatòria simple i una mostra sistemàtica."
      ],
      "metadata": {
        "id": "PCIzntqWK72I"
      }
    },
    {
      "cell_type": "code",
      "source": [
        "# Muestreo aleatorio\n",
        "# Escojo una muestar de 1.000 elementos.\n",
        "\n",
        "muestra_df1 = df1.sample(1000)\n",
        "\n",
        "\n",
        "ganado= muestra_df1[(muestra_df1['home_score'] > muestra_df1['away_score'])].count()\n",
        "jugado= muestra_df1.shape[0]\n",
        "porcentaje= ganado/jugado*100\n",
        "print(round(porcentaje,2), '%')\n"
      ],
      "metadata": {
        "colab": {
          "base_uri": "https://localhost:8080/"
        },
        "id": "lz6iw34zifY1",
        "outputId": "3e2f8507-7a79-46bd-e7a5-7d0c7addbc98"
      },
      "execution_count": 188,
      "outputs": [
        {
          "output_type": "stream",
          "name": "stdout",
          "text": [
            "date          50.4\n",
            "home_team     50.4\n",
            "away_team     50.4\n",
            "home_score    50.4\n",
            "away_score    50.4\n",
            "tournament    50.4\n",
            "city          50.4\n",
            "country       50.4\n",
            "neutral       50.4\n",
            "dtype: float64 %\n"
          ]
        }
      ]
    },
    {
      "cell_type": "code",
      "source": [
        "# Muestreo sistematico\n",
        "# Creo una función que cada 5 elementos escojo un registro\n",
        "import numpy as np\n",
        "\n",
        "\n",
        "# Creo la funcion de muestreo sistematico\n",
        "def muestreoSistematico(df, step):\n",
        " \n",
        "    indexes = np.arange(0, len(df), step=step)\n",
        "    systematic_sample = df.iloc[indexes]\n",
        "    return systematic_sample\n",
        "\n",
        "\n",
        "muestreoSistematico_df1 = muestreoSistematico(df1, 5)\n",
        "ganado= muestreoSistematico_df1[(muestreoSistematico_df1['home_score'] > muestreoSistematico_df1['away_score'])].count()\n",
        "\n",
        "jugado=muestreoSistematico_df1.shape[0]\n",
        "porcentaje= ganado/jugado*100\n",
        "print(round(porcentaje,2), '%')"
      ],
      "metadata": {
        "id": "CQbjWWj5k2-n",
        "outputId": "ff04dcef-0d6b-41e5-e598-335f6a181566",
        "colab": {
          "base_uri": "https://localhost:8080/"
        }
      },
      "execution_count": 189,
      "outputs": [
        {
          "output_type": "stream",
          "name": "stdout",
          "text": [
            "date          48.47\n",
            "home_team     48.47\n",
            "away_team     48.47\n",
            "home_score    48.47\n",
            "away_score    48.47\n",
            "tournament    48.47\n",
            "city          48.47\n",
            "country       48.47\n",
            "neutral       48.47\n",
            "dtype: float64 %\n"
          ]
        }
      ]
    },
    {
      "cell_type": "code",
      "source": [
        "# Voy a hacer una t_test para verificar si las 2 muestras tienen la misma media\n",
        "\n",
        "from scipy import stats\n",
        "print('\\n\\nMedia aleatoria   de home_score = ', muestra_df1['home_score'].mean())\n",
        "print('Media sistematica de home_score = ', muestreoSistematico_df1['home_score'].mean())\n",
        "\n",
        "\n",
        "stats.ttest_ind(muestreoSistematico_df1['home_score'], muestra_df1['home_score'], equal_var=False)"
      ],
      "metadata": {
        "id": "sU2CD9atLZTA",
        "outputId": "0b798f86-1f64-4160-f1d2-c7492455be41",
        "colab": {
          "base_uri": "https://localhost:8080/"
        }
      },
      "execution_count": 190,
      "outputs": [
        {
          "output_type": "stream",
          "name": "stdout",
          "text": [
            "\n",
            "\n",
            "Media aleatoria   de home_score =  1.737\n",
            "Media sistematica de home_score =  1.7382713056128016\n"
          ]
        },
        {
          "output_type": "execute_result",
          "data": {
            "text/plain": [
              "Ttest_indResult(statistic=0.02285243693245445, pvalue=0.9817715201451649)"
            ]
          },
          "metadata": {},
          "execution_count": 190
        }
      ]
    },
    {
      "cell_type": "markdown",
      "source": [
        "**Conclusion:**\n",
        "las 2 medias se parecen, pero el P_value es bajo (< 0.05) y debemos rechazar la hipostesis nula (Ho) y quedarnos con la alternativa, que quiere decir que las 2 medias son diferentes.\n",
        "El **metodo de muestreo** que escojamos puede afectar a los resultados que buscamos\n",
        "\n",
        "Nota: He podido cometer el error de tomar unos datos discretos (goles), que no son normales... y puede estar el calculo mal.\n"
      ],
      "metadata": {
        "id": "a5XwtaOBVGv4"
      }
    },
    {
      "cell_type": "code",
      "source": [
        "# Convierto la columnas de tiempo en un formato correcto\n",
        "df1 = df.copy()\n",
        "\n",
        "formato = (\"%Y-%m-%d %H:%M\")\n",
        "df1['fecha']= pd.to_datetime(df1['date'],\n",
        "                               format=formato,\n",
        "                               errors='coerce')\n",
        "# Convierto las colunas de goles Enteros\n",
        "#df1['away_score'].astype(int)\n",
        "#df1.head(-2)"
      ],
      "metadata": {
        "id": "8CvcN7-MQJEr"
      },
      "execution_count": 191,
      "outputs": []
    },
    {
      "cell_type": "code",
      "source": [
        "# Saco el año\n",
        "df1 ['year'] = pd.DatetimeIndex(df1['fecha']).year\n",
        "#df1"
      ],
      "metadata": {
        "id": "pB5chO2FQfxW"
      },
      "execution_count": 192,
      "outputs": []
    },
    {
      "cell_type": "code",
      "source": [
        "'''\n",
        "dfPaises = pd.unique(df1[['home_team', 'away_team']].values.ravel('K'))\n",
        "\n",
        "dfYears = pd.unique(df1[['year']].values.ravel('K'))\n",
        "#dfYears= df1[-5:]\n",
        "dfYears.min()\n",
        "'''"
      ],
      "metadata": {
        "colab": {
          "base_uri": "https://localhost:8080/",
          "height": 36
        },
        "id": "LWkzFOntMV62",
        "outputId": "2049b3e8-ca9b-40c9-cfd1-c4de4d5850cb"
      },
      "execution_count": 193,
      "outputs": [
        {
          "output_type": "execute_result",
          "data": {
            "text/plain": [
              "\"\\ndfPaises = pd.unique(df1[['home_team', 'away_team']].values.ravel('K'))\\n\\ndfYears = pd.unique(df1[['year']].values.ravel('K'))\\n#dfYears= df1[-5:]\\ndfYears.min()\\n\""
            ],
            "application/vnd.google.colaboratory.intrinsic+json": {
              "type": "string"
            }
          },
          "metadata": {},
          "execution_count": 193
        }
      ]
    },
    {
      "cell_type": "code",
      "source": [
        "'''\n",
        "#Trabajare con los ultimos 15 años:\n",
        "\n",
        "df1Years = dfYears.copy()\n",
        "df1Years = df1Years[-15:]\n",
        "df1Years\n",
        "'''"
      ],
      "metadata": {
        "colab": {
          "base_uri": "https://localhost:8080/",
          "height": 36
        },
        "id": "VvG0xTihV7sk",
        "outputId": "8d042558-f403-41bf-f597-00f69ddcfc0f"
      },
      "execution_count": 194,
      "outputs": [
        {
          "output_type": "execute_result",
          "data": {
            "text/plain": [
              "'\\n#Trabajare con los ultimos 15 años:\\n\\ndf1Years = dfYears.copy()\\ndf1Years = df1Years[-15:]\\ndf1Years\\n'"
            ],
            "application/vnd.google.colaboratory.intrinsic+json": {
              "type": "string"
            }
          },
          "metadata": {},
          "execution_count": 194
        }
      ]
    },
    {
      "cell_type": "code",
      "source": [
        "'''\n",
        "# Selecciono solo España:\n",
        "spain = df1[(df1['home_team'] == 'Spain') | (df1['away_team'] == 'Spain') & (df1['year']> 2016)]\n",
        "spain.head(3)\n",
        "'''"
      ],
      "metadata": {
        "colab": {
          "base_uri": "https://localhost:8080/",
          "height": 36
        },
        "id": "aVXLjZY2ADM4",
        "outputId": "b34ab71c-872e-4857-c69f-40e7487df0d1"
      },
      "execution_count": 195,
      "outputs": [
        {
          "output_type": "execute_result",
          "data": {
            "text/plain": [
              "\"\\n# Selecciono solo España:\\nspain = df1[(df1['home_team'] == 'Spain') | (df1['away_team'] == 'Spain') & (df1['year']> 2016)]\\nspain.head(3)\\n\""
            ],
            "application/vnd.google.colaboratory.intrinsic+json": {
              "type": "string"
            }
          },
          "metadata": {},
          "execution_count": 195
        }
      ]
    },
    {
      "cell_type": "code",
      "source": [
        "'''\n",
        "# Partidos ganados\n",
        "\n",
        "spain[(spain['home_score'] >= spain['away_score']) & ( spain['home_team'] == 'Spain') |\n",
        "      (spain['home_score'] <= spain['away_score']) & ( spain['away_team'] == 'Spain')].groupby(\"away_team\").count()\n",
        "'''"
      ],
      "metadata": {
        "colab": {
          "base_uri": "https://localhost:8080/",
          "height": 36
        },
        "id": "Cc4RV0SZc0bG",
        "outputId": "e8bb6704-3ce9-4586-e1c5-a98ef4358911"
      },
      "execution_count": 196,
      "outputs": [
        {
          "output_type": "execute_result",
          "data": {
            "text/plain": [
              "'\\n# Partidos ganados\\n\\nspain[(spain[\\'home_score\\'] >= spain[\\'away_score\\']) & ( spain[\\'home_team\\'] == \\'Spain\\') |\\n      (spain[\\'home_score\\'] <= spain[\\'away_score\\']) & ( spain[\\'away_team\\'] == \\'Spain\\')].groupby(\"away_team\").count()\\n'"
            ],
            "application/vnd.google.colaboratory.intrinsic+json": {
              "type": "string"
            }
          },
          "metadata": {},
          "execution_count": 196
        }
      ]
    },
    {
      "cell_type": "code",
      "source": [
        "'''\n",
        "ganados= spain[((spain.home_team.str.match(\"Spain\")) & (spain['home_score'] > spain['away_score']) | \n",
        "                (spain.away_team.str.match(\"Spain\")) & (spain['home_score'] < spain['away_score'])) ].count()\n",
        "#ganados\n",
        "'''"
      ],
      "metadata": {
        "colab": {
          "base_uri": "https://localhost:8080/",
          "height": 36
        },
        "id": "EtPzHetmL5IH",
        "outputId": "bcfc0ca4-32f1-4ccc-aff4-add730e6696f"
      },
      "execution_count": 197,
      "outputs": [
        {
          "output_type": "execute_result",
          "data": {
            "text/plain": [
              "'\\nganados= spain[((spain.home_team.str.match(\"Spain\")) & (spain[\\'home_score\\'] > spain[\\'away_score\\']) | \\n                (spain.away_team.str.match(\"Spain\")) & (spain[\\'home_score\\'] < spain[\\'away_score\\'])) ].count()\\n#ganados\\n'"
            ],
            "application/vnd.google.colaboratory.intrinsic+json": {
              "type": "string"
            }
          },
          "metadata": {},
          "execution_count": 197
        }
      ]
    },
    {
      "cell_type": "code",
      "source": [
        "jugados=spain[spain.home_team.str.match(\"Spain\")].count()"
      ],
      "metadata": {
        "id": "XJn_Fm3oMdad"
      },
      "execution_count": 198,
      "outputs": []
    },
    {
      "cell_type": "code",
      "source": [
        "#porcentaje = ganados/jugados\n",
        "#porcentaje"
      ],
      "metadata": {
        "id": "VfU2kkyqOA7H"
      },
      "execution_count": 199,
      "outputs": []
    },
    {
      "cell_type": "code",
      "source": [
        "# Selecciono solo España:\n",
        "spain = df1[(df1['home_team'] == 'Spain') | (df1['away_team'] == 'Spain') & (df1['year']> 2016)]\n",
        "#spain.head(3)\n",
        "\n",
        "spain[(spain['home_score'] >= spain['away_score']) & ( spain['home_team'] == 'Spain') |\n",
        "      (spain['home_score'] <= spain['away_score']) & ( spain['away_team'] == 'Spain')].groupby(\"away_team\").count()"
      ],
      "metadata": {
        "colab": {
          "base_uri": "https://localhost:8080/",
          "height": 455
        },
        "id": "QYxoO_lsd5oZ",
        "outputId": "16a1a8b1-109f-41bb-c974-45351ca2518d"
      },
      "execution_count": 200,
      "outputs": [
        {
          "output_type": "execute_result",
          "data": {
            "text/plain": [
              "               date  home_team  home_score  away_score  tournament  city  \\\n",
              "away_team                                                                  \n",
              "Albania           4          4           4           4           4     4   \n",
              "Andorra           1          1           1           1           1     1   \n",
              "Argentina         7          7           7           7           7     7   \n",
              "Armenia           3          3           3           3           3     3   \n",
              "Austria           6          6           6           6           6     6   \n",
              "...             ...        ...         ...         ...         ...   ...   \n",
              "United States     3          3           3           3           3     3   \n",
              "Uruguay           8          8           8           8           8     8   \n",
              "Venezuela         2          2           2           2           2     2   \n",
              "Wales             3          3           3           3           3     3   \n",
              "Yugoslavia        5          5           5           5           5     5   \n",
              "\n",
              "               country  neutral  fecha  year  \n",
              "away_team                                     \n",
              "Albania              4        4      4     4  \n",
              "Andorra              1        1      1     1  \n",
              "Argentina            7        7      7     7  \n",
              "Armenia              3        3      3     3  \n",
              "Austria              6        6      6     6  \n",
              "...                ...      ...    ...   ...  \n",
              "United States        3        3      3     3  \n",
              "Uruguay              8        8      8     8  \n",
              "Venezuela            2        2      2     2  \n",
              "Wales                3        3      3     3  \n",
              "Yugoslavia           5        5      5     5  \n",
              "\n",
              "[77 rows x 10 columns]"
            ],
            "text/html": [
              "\n",
              "  <div id=\"df-8d59c33f-7d07-4e5e-ade9-951aec4a6331\">\n",
              "    <div class=\"colab-df-container\">\n",
              "      <div>\n",
              "<style scoped>\n",
              "    .dataframe tbody tr th:only-of-type {\n",
              "        vertical-align: middle;\n",
              "    }\n",
              "\n",
              "    .dataframe tbody tr th {\n",
              "        vertical-align: top;\n",
              "    }\n",
              "\n",
              "    .dataframe thead th {\n",
              "        text-align: right;\n",
              "    }\n",
              "</style>\n",
              "<table border=\"1\" class=\"dataframe\">\n",
              "  <thead>\n",
              "    <tr style=\"text-align: right;\">\n",
              "      <th></th>\n",
              "      <th>date</th>\n",
              "      <th>home_team</th>\n",
              "      <th>home_score</th>\n",
              "      <th>away_score</th>\n",
              "      <th>tournament</th>\n",
              "      <th>city</th>\n",
              "      <th>country</th>\n",
              "      <th>neutral</th>\n",
              "      <th>fecha</th>\n",
              "      <th>year</th>\n",
              "    </tr>\n",
              "    <tr>\n",
              "      <th>away_team</th>\n",
              "      <th></th>\n",
              "      <th></th>\n",
              "      <th></th>\n",
              "      <th></th>\n",
              "      <th></th>\n",
              "      <th></th>\n",
              "      <th></th>\n",
              "      <th></th>\n",
              "      <th></th>\n",
              "      <th></th>\n",
              "    </tr>\n",
              "  </thead>\n",
              "  <tbody>\n",
              "    <tr>\n",
              "      <th>Albania</th>\n",
              "      <td>4</td>\n",
              "      <td>4</td>\n",
              "      <td>4</td>\n",
              "      <td>4</td>\n",
              "      <td>4</td>\n",
              "      <td>4</td>\n",
              "      <td>4</td>\n",
              "      <td>4</td>\n",
              "      <td>4</td>\n",
              "      <td>4</td>\n",
              "    </tr>\n",
              "    <tr>\n",
              "      <th>Andorra</th>\n",
              "      <td>1</td>\n",
              "      <td>1</td>\n",
              "      <td>1</td>\n",
              "      <td>1</td>\n",
              "      <td>1</td>\n",
              "      <td>1</td>\n",
              "      <td>1</td>\n",
              "      <td>1</td>\n",
              "      <td>1</td>\n",
              "      <td>1</td>\n",
              "    </tr>\n",
              "    <tr>\n",
              "      <th>Argentina</th>\n",
              "      <td>7</td>\n",
              "      <td>7</td>\n",
              "      <td>7</td>\n",
              "      <td>7</td>\n",
              "      <td>7</td>\n",
              "      <td>7</td>\n",
              "      <td>7</td>\n",
              "      <td>7</td>\n",
              "      <td>7</td>\n",
              "      <td>7</td>\n",
              "    </tr>\n",
              "    <tr>\n",
              "      <th>Armenia</th>\n",
              "      <td>3</td>\n",
              "      <td>3</td>\n",
              "      <td>3</td>\n",
              "      <td>3</td>\n",
              "      <td>3</td>\n",
              "      <td>3</td>\n",
              "      <td>3</td>\n",
              "      <td>3</td>\n",
              "      <td>3</td>\n",
              "      <td>3</td>\n",
              "    </tr>\n",
              "    <tr>\n",
              "      <th>Austria</th>\n",
              "      <td>6</td>\n",
              "      <td>6</td>\n",
              "      <td>6</td>\n",
              "      <td>6</td>\n",
              "      <td>6</td>\n",
              "      <td>6</td>\n",
              "      <td>6</td>\n",
              "      <td>6</td>\n",
              "      <td>6</td>\n",
              "      <td>6</td>\n",
              "    </tr>\n",
              "    <tr>\n",
              "      <th>...</th>\n",
              "      <td>...</td>\n",
              "      <td>...</td>\n",
              "      <td>...</td>\n",
              "      <td>...</td>\n",
              "      <td>...</td>\n",
              "      <td>...</td>\n",
              "      <td>...</td>\n",
              "      <td>...</td>\n",
              "      <td>...</td>\n",
              "      <td>...</td>\n",
              "    </tr>\n",
              "    <tr>\n",
              "      <th>United States</th>\n",
              "      <td>3</td>\n",
              "      <td>3</td>\n",
              "      <td>3</td>\n",
              "      <td>3</td>\n",
              "      <td>3</td>\n",
              "      <td>3</td>\n",
              "      <td>3</td>\n",
              "      <td>3</td>\n",
              "      <td>3</td>\n",
              "      <td>3</td>\n",
              "    </tr>\n",
              "    <tr>\n",
              "      <th>Uruguay</th>\n",
              "      <td>8</td>\n",
              "      <td>8</td>\n",
              "      <td>8</td>\n",
              "      <td>8</td>\n",
              "      <td>8</td>\n",
              "      <td>8</td>\n",
              "      <td>8</td>\n",
              "      <td>8</td>\n",
              "      <td>8</td>\n",
              "      <td>8</td>\n",
              "    </tr>\n",
              "    <tr>\n",
              "      <th>Venezuela</th>\n",
              "      <td>2</td>\n",
              "      <td>2</td>\n",
              "      <td>2</td>\n",
              "      <td>2</td>\n",
              "      <td>2</td>\n",
              "      <td>2</td>\n",
              "      <td>2</td>\n",
              "      <td>2</td>\n",
              "      <td>2</td>\n",
              "      <td>2</td>\n",
              "    </tr>\n",
              "    <tr>\n",
              "      <th>Wales</th>\n",
              "      <td>3</td>\n",
              "      <td>3</td>\n",
              "      <td>3</td>\n",
              "      <td>3</td>\n",
              "      <td>3</td>\n",
              "      <td>3</td>\n",
              "      <td>3</td>\n",
              "      <td>3</td>\n",
              "      <td>3</td>\n",
              "      <td>3</td>\n",
              "    </tr>\n",
              "    <tr>\n",
              "      <th>Yugoslavia</th>\n",
              "      <td>5</td>\n",
              "      <td>5</td>\n",
              "      <td>5</td>\n",
              "      <td>5</td>\n",
              "      <td>5</td>\n",
              "      <td>5</td>\n",
              "      <td>5</td>\n",
              "      <td>5</td>\n",
              "      <td>5</td>\n",
              "      <td>5</td>\n",
              "    </tr>\n",
              "  </tbody>\n",
              "</table>\n",
              "<p>77 rows × 10 columns</p>\n",
              "</div>\n",
              "      <button class=\"colab-df-convert\" onclick=\"convertToInteractive('df-8d59c33f-7d07-4e5e-ade9-951aec4a6331')\"\n",
              "              title=\"Convert this dataframe to an interactive table.\"\n",
              "              style=\"display:none;\">\n",
              "        \n",
              "  <svg xmlns=\"http://www.w3.org/2000/svg\" height=\"24px\"viewBox=\"0 0 24 24\"\n",
              "       width=\"24px\">\n",
              "    <path d=\"M0 0h24v24H0V0z\" fill=\"none\"/>\n",
              "    <path d=\"M18.56 5.44l.94 2.06.94-2.06 2.06-.94-2.06-.94-.94-2.06-.94 2.06-2.06.94zm-11 1L8.5 8.5l.94-2.06 2.06-.94-2.06-.94L8.5 2.5l-.94 2.06-2.06.94zm10 10l.94 2.06.94-2.06 2.06-.94-2.06-.94-.94-2.06-.94 2.06-2.06.94z\"/><path d=\"M17.41 7.96l-1.37-1.37c-.4-.4-.92-.59-1.43-.59-.52 0-1.04.2-1.43.59L10.3 9.45l-7.72 7.72c-.78.78-.78 2.05 0 2.83L4 21.41c.39.39.9.59 1.41.59.51 0 1.02-.2 1.41-.59l7.78-7.78 2.81-2.81c.8-.78.8-2.07 0-2.86zM5.41 20L4 18.59l7.72-7.72 1.47 1.35L5.41 20z\"/>\n",
              "  </svg>\n",
              "      </button>\n",
              "      \n",
              "  <style>\n",
              "    .colab-df-container {\n",
              "      display:flex;\n",
              "      flex-wrap:wrap;\n",
              "      gap: 12px;\n",
              "    }\n",
              "\n",
              "    .colab-df-convert {\n",
              "      background-color: #E8F0FE;\n",
              "      border: none;\n",
              "      border-radius: 50%;\n",
              "      cursor: pointer;\n",
              "      display: none;\n",
              "      fill: #1967D2;\n",
              "      height: 32px;\n",
              "      padding: 0 0 0 0;\n",
              "      width: 32px;\n",
              "    }\n",
              "\n",
              "    .colab-df-convert:hover {\n",
              "      background-color: #E2EBFA;\n",
              "      box-shadow: 0px 1px 2px rgba(60, 64, 67, 0.3), 0px 1px 3px 1px rgba(60, 64, 67, 0.15);\n",
              "      fill: #174EA6;\n",
              "    }\n",
              "\n",
              "    [theme=dark] .colab-df-convert {\n",
              "      background-color: #3B4455;\n",
              "      fill: #D2E3FC;\n",
              "    }\n",
              "\n",
              "    [theme=dark] .colab-df-convert:hover {\n",
              "      background-color: #434B5C;\n",
              "      box-shadow: 0px 1px 3px 1px rgba(0, 0, 0, 0.15);\n",
              "      filter: drop-shadow(0px 1px 2px rgba(0, 0, 0, 0.3));\n",
              "      fill: #FFFFFF;\n",
              "    }\n",
              "  </style>\n",
              "\n",
              "      <script>\n",
              "        const buttonEl =\n",
              "          document.querySelector('#df-8d59c33f-7d07-4e5e-ade9-951aec4a6331 button.colab-df-convert');\n",
              "        buttonEl.style.display =\n",
              "          google.colab.kernel.accessAllowed ? 'block' : 'none';\n",
              "\n",
              "        async function convertToInteractive(key) {\n",
              "          const element = document.querySelector('#df-8d59c33f-7d07-4e5e-ade9-951aec4a6331');\n",
              "          const dataTable =\n",
              "            await google.colab.kernel.invokeFunction('convertToInteractive',\n",
              "                                                     [key], {});\n",
              "          if (!dataTable) return;\n",
              "\n",
              "          const docLinkHtml = 'Like what you see? Visit the ' +\n",
              "            '<a target=\"_blank\" href=https://colab.research.google.com/notebooks/data_table.ipynb>data table notebook</a>'\n",
              "            + ' to learn more about interactive tables.';\n",
              "          element.innerHTML = '';\n",
              "          dataTable['output_type'] = 'display_data';\n",
              "          await google.colab.output.renderOutput(dataTable, element);\n",
              "          const docLink = document.createElement('div');\n",
              "          docLink.innerHTML = docLinkHtml;\n",
              "          element.appendChild(docLink);\n",
              "        }\n",
              "      </script>\n",
              "    </div>\n",
              "  </div>\n",
              "  "
            ]
          },
          "metadata": {},
          "execution_count": 200
        }
      ]
    },
    {
      "cell_type": "code",
      "source": [
        "'''\n",
        "df5= df1.groupby(['away_team', 'year']).count()\n",
        "df5.head(-8)\n",
        "'''"
      ],
      "metadata": {
        "colab": {
          "base_uri": "https://localhost:8080/",
          "height": 36
        },
        "id": "Y6m-WqZpeMzO",
        "outputId": "9a74605f-f42d-4635-fe4d-aa2e635467f3"
      },
      "execution_count": 201,
      "outputs": [
        {
          "output_type": "execute_result",
          "data": {
            "text/plain": [
              "\"\\ndf5= df1.groupby(['away_team', 'year']).count()\\ndf5.head(-8)\\n\""
            ],
            "application/vnd.google.colaboratory.intrinsic+json": {
              "type": "string"
            }
          },
          "metadata": {},
          "execution_count": 201
        }
      ]
    },
    {
      "cell_type": "code",
      "source": [
        "ganado= df1[(df1['home_score'] > df1['away_score'])].count()\n",
        "#ganado"
      ],
      "metadata": {
        "id": "Ygu_Mf-qe-Ah"
      },
      "execution_count": 202,
      "outputs": []
    },
    {
      "cell_type": "code",
      "source": [
        "jugado= df1.shape[0]\n",
        "porcentaje= ganado/jugado*100\n",
        "#print(round(porcentaje,2), '%')"
      ],
      "metadata": {
        "id": "XhrWc2M1hDXW"
      },
      "execution_count": 203,
      "outputs": []
    },
    {
      "cell_type": "markdown",
      "source": [
        "# Nivell 2\n",
        "\n",
        "## Exercici 2\n",
        "Continua amb el conjunt de dades de tema esportiu i genera una mostra estratificada i una mostra utilitzant SMOTE (Synthetic Minority Oversampling Technique)."
      ],
      "metadata": {
        "id": "gjJjenSVtVgZ"
      }
    },
    {
      "cell_type": "markdown",
      "source": [
        "![image.png](data:image/png;base64,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)"
      ],
      "metadata": {
        "id": "_cpXDQ3DRA7_"
      }
    },
    {
      "cell_type": "markdown",
      "source": [
        "Quiero crear 3 estratos para que en mi muestra estén los equipos que juegan mucho y poco."
      ],
      "metadata": {
        "id": "lm6qQoqr2Eu1"
      }
    },
    {
      "cell_type": "code",
      "source": [
        "# Partidos jugados por cada Pais\n",
        "\n",
        "#df7 = df1.drop_duplicates(subset=['home_team', 'away_team']).count()\n",
        "#df7.head()"
      ],
      "metadata": {
        "id": "UPDxj9d_uHrl"
      },
      "execution_count": 204,
      "outputs": []
    },
    {
      "cell_type": "markdown",
      "source": [
        "Creo los estratos separando por la cantidad de partidos jugados"
      ],
      "metadata": {
        "id": "_eYuxtufRP8x"
      }
    },
    {
      "cell_type": "code",
      "source": [
        "\n",
        "#dfPaises = pd.unique(df1[['home_team', 'away_team']].values.ravel('K'))\n",
        "#dfPaises"
      ],
      "metadata": {
        "id": "yB4o-uMpvycr"
      },
      "execution_count": 205,
      "outputs": []
    },
    {
      "cell_type": "code",
      "source": [
        "#partidosJugados = df1.groupby(['home_team']).count()\n",
        "#partidosJugados[104:107]"
      ],
      "metadata": {
        "id": "HukB27EjwO_L"
      },
      "execution_count": 206,
      "outputs": []
    },
    {
      "cell_type": "code",
      "source": [
        "# Cantidad de partidos jugados por cada Pais\n",
        "partidosJugados = df1.groupby(['home_team']).count() + df1.groupby(['away_team'\t]).count()\n",
        "partidosJugados= partidosJugados['date'][104:107]\n",
        "partidosJugados"
      ],
      "metadata": {
        "id": "JDoe565Axa6o",
        "outputId": "4d4526c1-e918-4aa4-b48b-f835cb132982",
        "colab": {
          "base_uri": "https://localhost:8080/"
        }
      },
      "execution_count": 207,
      "outputs": [
        {
          "output_type": "execute_result",
          "data": {
            "text/plain": [
              "German DR    298.0\n",
              "Germany      946.0\n",
              "Ghana        598.0\n",
              "Name: date, dtype: float64"
            ]
          },
          "metadata": {},
          "execution_count": 207
        }
      ]
    },
    {
      "cell_type": "code",
      "source": [
        "# Cantidad de partidos ganados en casa\n",
        "\n",
        "partidosJugados = df1[(df1['home_score'] > df1['away_score'])].groupby(['home_team']).count() \n",
        "partidosJugados= partidosJugados[['date']][95:102]\n",
        "#partidosJugados "
      ],
      "metadata": {
        "id": "wkBPI5VLx7cv"
      },
      "execution_count": 208,
      "outputs": []
    },
    {
      "cell_type": "code",
      "source": [
        "partidosJugados=pd.DataFrame(partidosJugados)\n",
        "partidosJugados = partidosJugados.sort_values('date')\n",
        "partidosJugados.reset_index()\n",
        "partidosJugados.rename(columns={ 'home_team': 'Pais2', 'date': 'Pais'})\n",
        "type(partidosJugados)\n",
        "partidosJugados.columns"
      ],
      "metadata": {
        "id": "R4JP3g0C7eaA",
        "colab": {
          "base_uri": "https://localhost:8080/"
        },
        "outputId": "ba120763-e717-4e54-e757-3d21e990a511"
      },
      "execution_count": 209,
      "outputs": [
        {
          "output_type": "execute_result",
          "data": {
            "text/plain": [
              "Index(['date'], dtype='object')"
            ]
          },
          "metadata": {},
          "execution_count": 209
        }
      ]
    },
    {
      "cell_type": "code",
      "source": [
        "partidosJugados.sort_values('date')\n",
        "partidosJugados"
      ],
      "metadata": {
        "colab": {
          "base_uri": "https://localhost:8080/",
          "height": 300
        },
        "id": "wwFWL8bTPT7b",
        "outputId": "31887410-4cab-474e-8dfe-bcb7044cfa3b"
      },
      "execution_count": 210,
      "outputs": [
        {
          "output_type": "execute_result",
          "data": {
            "text/plain": [
              "           date\n",
              "home_team      \n",
              "Galicia       3\n",
              "Gambia       39\n",
              "Georgia      47\n",
              "German DR    77\n",
              "Gabon        83\n",
              "Ghana       174\n",
              "Germany     315"
            ],
            "text/html": [
              "\n",
              "  <div id=\"df-5a321126-141c-4cbb-a87f-c6109d8607f6\">\n",
              "    <div class=\"colab-df-container\">\n",
              "      <div>\n",
              "<style scoped>\n",
              "    .dataframe tbody tr th:only-of-type {\n",
              "        vertical-align: middle;\n",
              "    }\n",
              "\n",
              "    .dataframe tbody tr th {\n",
              "        vertical-align: top;\n",
              "    }\n",
              "\n",
              "    .dataframe thead th {\n",
              "        text-align: right;\n",
              "    }\n",
              "</style>\n",
              "<table border=\"1\" class=\"dataframe\">\n",
              "  <thead>\n",
              "    <tr style=\"text-align: right;\">\n",
              "      <th></th>\n",
              "      <th>date</th>\n",
              "    </tr>\n",
              "    <tr>\n",
              "      <th>home_team</th>\n",
              "      <th></th>\n",
              "    </tr>\n",
              "  </thead>\n",
              "  <tbody>\n",
              "    <tr>\n",
              "      <th>Galicia</th>\n",
              "      <td>3</td>\n",
              "    </tr>\n",
              "    <tr>\n",
              "      <th>Gambia</th>\n",
              "      <td>39</td>\n",
              "    </tr>\n",
              "    <tr>\n",
              "      <th>Georgia</th>\n",
              "      <td>47</td>\n",
              "    </tr>\n",
              "    <tr>\n",
              "      <th>German DR</th>\n",
              "      <td>77</td>\n",
              "    </tr>\n",
              "    <tr>\n",
              "      <th>Gabon</th>\n",
              "      <td>83</td>\n",
              "    </tr>\n",
              "    <tr>\n",
              "      <th>Ghana</th>\n",
              "      <td>174</td>\n",
              "    </tr>\n",
              "    <tr>\n",
              "      <th>Germany</th>\n",
              "      <td>315</td>\n",
              "    </tr>\n",
              "  </tbody>\n",
              "</table>\n",
              "</div>\n",
              "      <button class=\"colab-df-convert\" onclick=\"convertToInteractive('df-5a321126-141c-4cbb-a87f-c6109d8607f6')\"\n",
              "              title=\"Convert this dataframe to an interactive table.\"\n",
              "              style=\"display:none;\">\n",
              "        \n",
              "  <svg xmlns=\"http://www.w3.org/2000/svg\" height=\"24px\"viewBox=\"0 0 24 24\"\n",
              "       width=\"24px\">\n",
              "    <path d=\"M0 0h24v24H0V0z\" fill=\"none\"/>\n",
              "    <path d=\"M18.56 5.44l.94 2.06.94-2.06 2.06-.94-2.06-.94-.94-2.06-.94 2.06-2.06.94zm-11 1L8.5 8.5l.94-2.06 2.06-.94-2.06-.94L8.5 2.5l-.94 2.06-2.06.94zm10 10l.94 2.06.94-2.06 2.06-.94-2.06-.94-.94-2.06-.94 2.06-2.06.94z\"/><path d=\"M17.41 7.96l-1.37-1.37c-.4-.4-.92-.59-1.43-.59-.52 0-1.04.2-1.43.59L10.3 9.45l-7.72 7.72c-.78.78-.78 2.05 0 2.83L4 21.41c.39.39.9.59 1.41.59.51 0 1.02-.2 1.41-.59l7.78-7.78 2.81-2.81c.8-.78.8-2.07 0-2.86zM5.41 20L4 18.59l7.72-7.72 1.47 1.35L5.41 20z\"/>\n",
              "  </svg>\n",
              "      </button>\n",
              "      \n",
              "  <style>\n",
              "    .colab-df-container {\n",
              "      display:flex;\n",
              "      flex-wrap:wrap;\n",
              "      gap: 12px;\n",
              "    }\n",
              "\n",
              "    .colab-df-convert {\n",
              "      background-color: #E8F0FE;\n",
              "      border: none;\n",
              "      border-radius: 50%;\n",
              "      cursor: pointer;\n",
              "      display: none;\n",
              "      fill: #1967D2;\n",
              "      height: 32px;\n",
              "      padding: 0 0 0 0;\n",
              "      width: 32px;\n",
              "    }\n",
              "\n",
              "    .colab-df-convert:hover {\n",
              "      background-color: #E2EBFA;\n",
              "      box-shadow: 0px 1px 2px rgba(60, 64, 67, 0.3), 0px 1px 3px 1px rgba(60, 64, 67, 0.15);\n",
              "      fill: #174EA6;\n",
              "    }\n",
              "\n",
              "    [theme=dark] .colab-df-convert {\n",
              "      background-color: #3B4455;\n",
              "      fill: #D2E3FC;\n",
              "    }\n",
              "\n",
              "    [theme=dark] .colab-df-convert:hover {\n",
              "      background-color: #434B5C;\n",
              "      box-shadow: 0px 1px 3px 1px rgba(0, 0, 0, 0.15);\n",
              "      filter: drop-shadow(0px 1px 2px rgba(0, 0, 0, 0.3));\n",
              "      fill: #FFFFFF;\n",
              "    }\n",
              "  </style>\n",
              "\n",
              "      <script>\n",
              "        const buttonEl =\n",
              "          document.querySelector('#df-5a321126-141c-4cbb-a87f-c6109d8607f6 button.colab-df-convert');\n",
              "        buttonEl.style.display =\n",
              "          google.colab.kernel.accessAllowed ? 'block' : 'none';\n",
              "\n",
              "        async function convertToInteractive(key) {\n",
              "          const element = document.querySelector('#df-5a321126-141c-4cbb-a87f-c6109d8607f6');\n",
              "          const dataTable =\n",
              "            await google.colab.kernel.invokeFunction('convertToInteractive',\n",
              "                                                     [key], {});\n",
              "          if (!dataTable) return;\n",
              "\n",
              "          const docLinkHtml = 'Like what you see? Visit the ' +\n",
              "            '<a target=\"_blank\" href=https://colab.research.google.com/notebooks/data_table.ipynb>data table notebook</a>'\n",
              "            + ' to learn more about interactive tables.';\n",
              "          element.innerHTML = '';\n",
              "          dataTable['output_type'] = 'display_data';\n",
              "          await google.colab.output.renderOutput(dataTable, element);\n",
              "          const docLink = document.createElement('div');\n",
              "          docLink.innerHTML = docLinkHtml;\n",
              "          element.appendChild(docLink);\n",
              "        }\n",
              "      </script>\n",
              "    </div>\n",
              "  </div>\n",
              "  "
            ]
          },
          "metadata": {},
          "execution_count": 210
        }
      ]
    },
    {
      "cell_type": "markdown",
      "source": [
        "Creo los percentiles de los partidos jugados.\n",
        "Quiero ver el impacto en el muestreo si lo estratifico en 3 categorias en funcion de la cantidad de partidos jugados... \n",
        "A mas partidos jugados.... más profesional eres"
      ],
      "metadata": {
        "id": "amUd5OHnVwrb"
      }
    },
    {
      "cell_type": "code",
      "source": [
        "print(partidosJugados.date.quantile([.25, .5, .75]))\n",
        "qs=partidosJugados.date.quantile([.25, .5, .75]).values\n",
        "\n",
        "#Distribuyo los valores por Cuartiles:\n",
        "partidosJugados['Cuartil']= pd.qcut(partidosJugados['date'],  \n",
        "                             q = 4, labels = False)\n",
        "partidosJugados"
      ],
      "metadata": {
        "colab": {
          "base_uri": "https://localhost:8080/",
          "height": 370
        },
        "id": "vkP7DHLCSRMB",
        "outputId": "7da5ea13-25ba-41a3-8139-edc6d825ec3c"
      },
      "execution_count": 211,
      "outputs": [
        {
          "output_type": "stream",
          "name": "stdout",
          "text": [
            "0.25     43.0\n",
            "0.50     77.0\n",
            "0.75    128.5\n",
            "Name: date, dtype: float64\n"
          ]
        },
        {
          "output_type": "execute_result",
          "data": {
            "text/plain": [
              "           date  Cuartil\n",
              "home_team               \n",
              "Galicia       3        0\n",
              "Gambia       39        0\n",
              "Georgia      47        1\n",
              "German DR    77        1\n",
              "Gabon        83        2\n",
              "Ghana       174        3\n",
              "Germany     315        3"
            ],
            "text/html": [
              "\n",
              "  <div id=\"df-707909df-10c2-4656-ab25-b0ccef1f8d76\">\n",
              "    <div class=\"colab-df-container\">\n",
              "      <div>\n",
              "<style scoped>\n",
              "    .dataframe tbody tr th:only-of-type {\n",
              "        vertical-align: middle;\n",
              "    }\n",
              "\n",
              "    .dataframe tbody tr th {\n",
              "        vertical-align: top;\n",
              "    }\n",
              "\n",
              "    .dataframe thead th {\n",
              "        text-align: right;\n",
              "    }\n",
              "</style>\n",
              "<table border=\"1\" class=\"dataframe\">\n",
              "  <thead>\n",
              "    <tr style=\"text-align: right;\">\n",
              "      <th></th>\n",
              "      <th>date</th>\n",
              "      <th>Cuartil</th>\n",
              "    </tr>\n",
              "    <tr>\n",
              "      <th>home_team</th>\n",
              "      <th></th>\n",
              "      <th></th>\n",
              "    </tr>\n",
              "  </thead>\n",
              "  <tbody>\n",
              "    <tr>\n",
              "      <th>Galicia</th>\n",
              "      <td>3</td>\n",
              "      <td>0</td>\n",
              "    </tr>\n",
              "    <tr>\n",
              "      <th>Gambia</th>\n",
              "      <td>39</td>\n",
              "      <td>0</td>\n",
              "    </tr>\n",
              "    <tr>\n",
              "      <th>Georgia</th>\n",
              "      <td>47</td>\n",
              "      <td>1</td>\n",
              "    </tr>\n",
              "    <tr>\n",
              "      <th>German DR</th>\n",
              "      <td>77</td>\n",
              "      <td>1</td>\n",
              "    </tr>\n",
              "    <tr>\n",
              "      <th>Gabon</th>\n",
              "      <td>83</td>\n",
              "      <td>2</td>\n",
              "    </tr>\n",
              "    <tr>\n",
              "      <th>Ghana</th>\n",
              "      <td>174</td>\n",
              "      <td>3</td>\n",
              "    </tr>\n",
              "    <tr>\n",
              "      <th>Germany</th>\n",
              "      <td>315</td>\n",
              "      <td>3</td>\n",
              "    </tr>\n",
              "  </tbody>\n",
              "</table>\n",
              "</div>\n",
              "      <button class=\"colab-df-convert\" onclick=\"convertToInteractive('df-707909df-10c2-4656-ab25-b0ccef1f8d76')\"\n",
              "              title=\"Convert this dataframe to an interactive table.\"\n",
              "              style=\"display:none;\">\n",
              "        \n",
              "  <svg xmlns=\"http://www.w3.org/2000/svg\" height=\"24px\"viewBox=\"0 0 24 24\"\n",
              "       width=\"24px\">\n",
              "    <path d=\"M0 0h24v24H0V0z\" fill=\"none\"/>\n",
              "    <path d=\"M18.56 5.44l.94 2.06.94-2.06 2.06-.94-2.06-.94-.94-2.06-.94 2.06-2.06.94zm-11 1L8.5 8.5l.94-2.06 2.06-.94-2.06-.94L8.5 2.5l-.94 2.06-2.06.94zm10 10l.94 2.06.94-2.06 2.06-.94-2.06-.94-.94-2.06-.94 2.06-2.06.94z\"/><path d=\"M17.41 7.96l-1.37-1.37c-.4-.4-.92-.59-1.43-.59-.52 0-1.04.2-1.43.59L10.3 9.45l-7.72 7.72c-.78.78-.78 2.05 0 2.83L4 21.41c.39.39.9.59 1.41.59.51 0 1.02-.2 1.41-.59l7.78-7.78 2.81-2.81c.8-.78.8-2.07 0-2.86zM5.41 20L4 18.59l7.72-7.72 1.47 1.35L5.41 20z\"/>\n",
              "  </svg>\n",
              "      </button>\n",
              "      \n",
              "  <style>\n",
              "    .colab-df-container {\n",
              "      display:flex;\n",
              "      flex-wrap:wrap;\n",
              "      gap: 12px;\n",
              "    }\n",
              "\n",
              "    .colab-df-convert {\n",
              "      background-color: #E8F0FE;\n",
              "      border: none;\n",
              "      border-radius: 50%;\n",
              "      cursor: pointer;\n",
              "      display: none;\n",
              "      fill: #1967D2;\n",
              "      height: 32px;\n",
              "      padding: 0 0 0 0;\n",
              "      width: 32px;\n",
              "    }\n",
              "\n",
              "    .colab-df-convert:hover {\n",
              "      background-color: #E2EBFA;\n",
              "      box-shadow: 0px 1px 2px rgba(60, 64, 67, 0.3), 0px 1px 3px 1px rgba(60, 64, 67, 0.15);\n",
              "      fill: #174EA6;\n",
              "    }\n",
              "\n",
              "    [theme=dark] .colab-df-convert {\n",
              "      background-color: #3B4455;\n",
              "      fill: #D2E3FC;\n",
              "    }\n",
              "\n",
              "    [theme=dark] .colab-df-convert:hover {\n",
              "      background-color: #434B5C;\n",
              "      box-shadow: 0px 1px 3px 1px rgba(0, 0, 0, 0.15);\n",
              "      filter: drop-shadow(0px 1px 2px rgba(0, 0, 0, 0.3));\n",
              "      fill: #FFFFFF;\n",
              "    }\n",
              "  </style>\n",
              "\n",
              "      <script>\n",
              "        const buttonEl =\n",
              "          document.querySelector('#df-707909df-10c2-4656-ab25-b0ccef1f8d76 button.colab-df-convert');\n",
              "        buttonEl.style.display =\n",
              "          google.colab.kernel.accessAllowed ? 'block' : 'none';\n",
              "\n",
              "        async function convertToInteractive(key) {\n",
              "          const element = document.querySelector('#df-707909df-10c2-4656-ab25-b0ccef1f8d76');\n",
              "          const dataTable =\n",
              "            await google.colab.kernel.invokeFunction('convertToInteractive',\n",
              "                                                     [key], {});\n",
              "          if (!dataTable) return;\n",
              "\n",
              "          const docLinkHtml = 'Like what you see? Visit the ' +\n",
              "            '<a target=\"_blank\" href=https://colab.research.google.com/notebooks/data_table.ipynb>data table notebook</a>'\n",
              "            + ' to learn more about interactive tables.';\n",
              "          element.innerHTML = '';\n",
              "          dataTable['output_type'] = 'display_data';\n",
              "          await google.colab.output.renderOutput(dataTable, element);\n",
              "          const docLink = document.createElement('div');\n",
              "          docLink.innerHTML = docLinkHtml;\n",
              "          element.appendChild(docLink);\n",
              "        }\n",
              "      </script>\n",
              "    </div>\n",
              "  </div>\n",
              "  "
            ]
          },
          "metadata": {},
          "execution_count": 211
        }
      ]
    },
    {
      "cell_type": "code",
      "source": [
        "!pip install sidetable"
      ],
      "metadata": {
        "id": "e5Wyq9FG6xzd",
        "colab": {
          "base_uri": "https://localhost:8080/"
        },
        "outputId": "e91a4611-38d0-4aef-9d47-497f44c0aef4"
      },
      "execution_count": 212,
      "outputs": [
        {
          "output_type": "stream",
          "name": "stdout",
          "text": [
            "Looking in indexes: https://pypi.org/simple, https://us-python.pkg.dev/colab-wheels/public/simple/\n",
            "Requirement already satisfied: sidetable in /usr/local/lib/python3.7/dist-packages (0.9.0)\n",
            "Requirement already satisfied: pandas>=1.0 in /usr/local/lib/python3.7/dist-packages (from sidetable) (1.3.5)\n",
            "Requirement already satisfied: numpy>=1.17.3 in /usr/local/lib/python3.7/dist-packages (from pandas>=1.0->sidetable) (1.21.6)\n",
            "Requirement already satisfied: python-dateutil>=2.7.3 in /usr/local/lib/python3.7/dist-packages (from pandas>=1.0->sidetable) (2.8.2)\n",
            "Requirement already satisfied: pytz>=2017.3 in /usr/local/lib/python3.7/dist-packages (from pandas>=1.0->sidetable) (2022.1)\n",
            "Requirement already satisfied: six>=1.5 in /usr/local/lib/python3.7/dist-packages (from python-dateutil>=2.7.3->pandas>=1.0->sidetable) (1.15.0)\n"
          ]
        }
      ]
    },
    {
      "cell_type": "code",
      "source": [
        "# Obtener la frecuencia de ocurrencia con Sidetable\n",
        "\n",
        "import sidetable as stb\n",
        "df1.stb.freq(['home_team'])"
      ],
      "metadata": {
        "id": "GuldY72b6SGd",
        "outputId": "01400ece-55e7-45ad-894d-895847c2e458",
        "colab": {
          "base_uri": "https://localhost:8080/",
          "height": 424
        }
      },
      "execution_count": 213,
      "outputs": [
        {
          "output_type": "execute_result",
          "data": {
            "text/plain": [
              "         home_team  count   percent  cumulative_count  cumulative_percent\n",
              "0           Brazil    567  1.374779               567            1.374779\n",
              "1        Argentina    547  1.326286              1114            2.701064\n",
              "2           Mexico    512  1.241423              1626            3.942487\n",
              "3          Germany    503  1.219601              2129            5.162088\n",
              "4          England    491  1.190505              2620            6.352593\n",
              "..             ...    ...       ...               ...                 ...\n",
              "305         Madrid      1  0.002425             41239           99.990301\n",
              "306        Kabylia      1  0.002425             41240           99.992726\n",
              "307         Crimea      1  0.002425             41241           99.995151\n",
              "308       Chameria      1  0.002425             41242           99.997575\n",
              "309  Central Spain      1  0.002425             41243          100.000000\n",
              "\n",
              "[310 rows x 5 columns]"
            ],
            "text/html": [
              "\n",
              "  <div id=\"df-f5f1ee92-2e0c-451e-ad7c-5b37599a29b3\">\n",
              "    <div class=\"colab-df-container\">\n",
              "      <div>\n",
              "<style scoped>\n",
              "    .dataframe tbody tr th:only-of-type {\n",
              "        vertical-align: middle;\n",
              "    }\n",
              "\n",
              "    .dataframe tbody tr th {\n",
              "        vertical-align: top;\n",
              "    }\n",
              "\n",
              "    .dataframe thead th {\n",
              "        text-align: right;\n",
              "    }\n",
              "</style>\n",
              "<table border=\"1\" class=\"dataframe\">\n",
              "  <thead>\n",
              "    <tr style=\"text-align: right;\">\n",
              "      <th></th>\n",
              "      <th>home_team</th>\n",
              "      <th>count</th>\n",
              "      <th>percent</th>\n",
              "      <th>cumulative_count</th>\n",
              "      <th>cumulative_percent</th>\n",
              "    </tr>\n",
              "  </thead>\n",
              "  <tbody>\n",
              "    <tr>\n",
              "      <th>0</th>\n",
              "      <td>Brazil</td>\n",
              "      <td>567</td>\n",
              "      <td>1.374779</td>\n",
              "      <td>567</td>\n",
              "      <td>1.374779</td>\n",
              "    </tr>\n",
              "    <tr>\n",
              "      <th>1</th>\n",
              "      <td>Argentina</td>\n",
              "      <td>547</td>\n",
              "      <td>1.326286</td>\n",
              "      <td>1114</td>\n",
              "      <td>2.701064</td>\n",
              "    </tr>\n",
              "    <tr>\n",
              "      <th>2</th>\n",
              "      <td>Mexico</td>\n",
              "      <td>512</td>\n",
              "      <td>1.241423</td>\n",
              "      <td>1626</td>\n",
              "      <td>3.942487</td>\n",
              "    </tr>\n",
              "    <tr>\n",
              "      <th>3</th>\n",
              "      <td>Germany</td>\n",
              "      <td>503</td>\n",
              "      <td>1.219601</td>\n",
              "      <td>2129</td>\n",
              "      <td>5.162088</td>\n",
              "    </tr>\n",
              "    <tr>\n",
              "      <th>4</th>\n",
              "      <td>England</td>\n",
              "      <td>491</td>\n",
              "      <td>1.190505</td>\n",
              "      <td>2620</td>\n",
              "      <td>6.352593</td>\n",
              "    </tr>\n",
              "    <tr>\n",
              "      <th>...</th>\n",
              "      <td>...</td>\n",
              "      <td>...</td>\n",
              "      <td>...</td>\n",
              "      <td>...</td>\n",
              "      <td>...</td>\n",
              "    </tr>\n",
              "    <tr>\n",
              "      <th>305</th>\n",
              "      <td>Madrid</td>\n",
              "      <td>1</td>\n",
              "      <td>0.002425</td>\n",
              "      <td>41239</td>\n",
              "      <td>99.990301</td>\n",
              "    </tr>\n",
              "    <tr>\n",
              "      <th>306</th>\n",
              "      <td>Kabylia</td>\n",
              "      <td>1</td>\n",
              "      <td>0.002425</td>\n",
              "      <td>41240</td>\n",
              "      <td>99.992726</td>\n",
              "    </tr>\n",
              "    <tr>\n",
              "      <th>307</th>\n",
              "      <td>Crimea</td>\n",
              "      <td>1</td>\n",
              "      <td>0.002425</td>\n",
              "      <td>41241</td>\n",
              "      <td>99.995151</td>\n",
              "    </tr>\n",
              "    <tr>\n",
              "      <th>308</th>\n",
              "      <td>Chameria</td>\n",
              "      <td>1</td>\n",
              "      <td>0.002425</td>\n",
              "      <td>41242</td>\n",
              "      <td>99.997575</td>\n",
              "    </tr>\n",
              "    <tr>\n",
              "      <th>309</th>\n",
              "      <td>Central Spain</td>\n",
              "      <td>1</td>\n",
              "      <td>0.002425</td>\n",
              "      <td>41243</td>\n",
              "      <td>100.000000</td>\n",
              "    </tr>\n",
              "  </tbody>\n",
              "</table>\n",
              "<p>310 rows × 5 columns</p>\n",
              "</div>\n",
              "      <button class=\"colab-df-convert\" onclick=\"convertToInteractive('df-f5f1ee92-2e0c-451e-ad7c-5b37599a29b3')\"\n",
              "              title=\"Convert this dataframe to an interactive table.\"\n",
              "              style=\"display:none;\">\n",
              "        \n",
              "  <svg xmlns=\"http://www.w3.org/2000/svg\" height=\"24px\"viewBox=\"0 0 24 24\"\n",
              "       width=\"24px\">\n",
              "    <path d=\"M0 0h24v24H0V0z\" fill=\"none\"/>\n",
              "    <path d=\"M18.56 5.44l.94 2.06.94-2.06 2.06-.94-2.06-.94-.94-2.06-.94 2.06-2.06.94zm-11 1L8.5 8.5l.94-2.06 2.06-.94-2.06-.94L8.5 2.5l-.94 2.06-2.06.94zm10 10l.94 2.06.94-2.06 2.06-.94-2.06-.94-.94-2.06-.94 2.06-2.06.94z\"/><path d=\"M17.41 7.96l-1.37-1.37c-.4-.4-.92-.59-1.43-.59-.52 0-1.04.2-1.43.59L10.3 9.45l-7.72 7.72c-.78.78-.78 2.05 0 2.83L4 21.41c.39.39.9.59 1.41.59.51 0 1.02-.2 1.41-.59l7.78-7.78 2.81-2.81c.8-.78.8-2.07 0-2.86zM5.41 20L4 18.59l7.72-7.72 1.47 1.35L5.41 20z\"/>\n",
              "  </svg>\n",
              "      </button>\n",
              "      \n",
              "  <style>\n",
              "    .colab-df-container {\n",
              "      display:flex;\n",
              "      flex-wrap:wrap;\n",
              "      gap: 12px;\n",
              "    }\n",
              "\n",
              "    .colab-df-convert {\n",
              "      background-color: #E8F0FE;\n",
              "      border: none;\n",
              "      border-radius: 50%;\n",
              "      cursor: pointer;\n",
              "      display: none;\n",
              "      fill: #1967D2;\n",
              "      height: 32px;\n",
              "      padding: 0 0 0 0;\n",
              "      width: 32px;\n",
              "    }\n",
              "\n",
              "    .colab-df-convert:hover {\n",
              "      background-color: #E2EBFA;\n",
              "      box-shadow: 0px 1px 2px rgba(60, 64, 67, 0.3), 0px 1px 3px 1px rgba(60, 64, 67, 0.15);\n",
              "      fill: #174EA6;\n",
              "    }\n",
              "\n",
              "    [theme=dark] .colab-df-convert {\n",
              "      background-color: #3B4455;\n",
              "      fill: #D2E3FC;\n",
              "    }\n",
              "\n",
              "    [theme=dark] .colab-df-convert:hover {\n",
              "      background-color: #434B5C;\n",
              "      box-shadow: 0px 1px 3px 1px rgba(0, 0, 0, 0.15);\n",
              "      filter: drop-shadow(0px 1px 2px rgba(0, 0, 0, 0.3));\n",
              "      fill: #FFFFFF;\n",
              "    }\n",
              "  </style>\n",
              "\n",
              "      <script>\n",
              "        const buttonEl =\n",
              "          document.querySelector('#df-f5f1ee92-2e0c-451e-ad7c-5b37599a29b3 button.colab-df-convert');\n",
              "        buttonEl.style.display =\n",
              "          google.colab.kernel.accessAllowed ? 'block' : 'none';\n",
              "\n",
              "        async function convertToInteractive(key) {\n",
              "          const element = document.querySelector('#df-f5f1ee92-2e0c-451e-ad7c-5b37599a29b3');\n",
              "          const dataTable =\n",
              "            await google.colab.kernel.invokeFunction('convertToInteractive',\n",
              "                                                     [key], {});\n",
              "          if (!dataTable) return;\n",
              "\n",
              "          const docLinkHtml = 'Like what you see? Visit the ' +\n",
              "            '<a target=\"_blank\" href=https://colab.research.google.com/notebooks/data_table.ipynb>data table notebook</a>'\n",
              "            + ' to learn more about interactive tables.';\n",
              "          element.innerHTML = '';\n",
              "          dataTable['output_type'] = 'display_data';\n",
              "          await google.colab.output.renderOutput(dataTable, element);\n",
              "          const docLink = document.createElement('div');\n",
              "          docLink.innerHTML = docLinkHtml;\n",
              "          element.appendChild(docLink);\n",
              "        }\n",
              "      </script>\n",
              "    </div>\n",
              "  </div>\n",
              "  "
            ]
          },
          "metadata": {},
          "execution_count": 213
        }
      ]
    },
    {
      "cell_type": "code",
      "source": [
        " #Busco los partidos que ha ganado localmente\n",
        "\n",
        "df1['homeGanador'] = np.where(df1['home_score']>df1['away_score'], 1, 0)\n",
        "\n",
        "partidosJugados = df1[(df1['homeGanador'] == 'pierde_Empata')].groupby(['home_team']).count() \n",
        "partidosJugados= partidosJugados[['date']][95:102]\n",
        "partidosJugados= partidosJugados.sort_values(by = ['date'])\n",
        "#partidosJugados "
      ],
      "metadata": {
        "id": "0ISuKT6GWeE3"
      },
      "execution_count": 214,
      "outputs": []
    },
    {
      "cell_type": "code",
      "source": [
        "#df3=df1.groupby('home_team', as_index=False).agg({'homeGanador': \"sum\", 'home_score':'count'})"
      ],
      "metadata": {
        "id": "nf7kJjmbeYUi"
      },
      "execution_count": 215,
      "outputs": []
    },
    {
      "cell_type": "code",
      "source": [
        "# Creo 3 grupos en funcion de la cantidad de partidos jugados.\n",
        "\n",
        "df3=df1.groupby('home_team', as_index=False).agg({'homeGanador': \"sum\", 'home_score':'count'})\n",
        "\n",
        "df3['%']=round(df3['homeGanador']/df3['home_score']*100,1)\n",
        "\n",
        "df3= df3.set_axis(['Pais', 'PartidosGanadosCasa', 'PartidosJugados', '%_ganados'], axis=1)\n",
        "df3.rename({'home_team': 'Pais', 'home_score': 'partidosJugados'}, axis = 1)\n",
        "df3['Cuartil']= pd.qcut(df3['PartidosJugados'],  \n",
        "                             q = 3, labels = False)\n",
        "df3 =df3.sort_values('PartidosJugados')\n",
        "df3['perdidos']= df3['PartidosJugados']- df3['PartidosGanadosCasa']\n",
        "df3[50:-20]"
      ],
      "metadata": {
        "colab": {
          "base_uri": "https://localhost:8080/",
          "height": 424
        },
        "id": "wFcU00l3e5X4",
        "outputId": "45b50e1a-64a2-45e2-ca8e-5adba46002cc"
      },
      "execution_count": 216,
      "outputs": [
        {
          "output_type": "execute_result",
          "data": {
            "text/plain": [
              "                        Pais  PartidosGanadosCasa  PartidosJugados  %_ganados  \\\n",
              "254            South Ossetia                    1                7       14.3   \n",
              "143                   Kernow                    3                8       37.5   \n",
              "63                   Corsica                    3                8       37.5   \n",
              "84              Ellan Vannin                    5                8       62.5   \n",
              "286  United Koreans in Japan                    2                8       25.0   \n",
              "..                       ...                  ...              ...        ...   \n",
              "256                    Spain                  243              357       68.1   \n",
              "237             Saudi Arabia                  201              359       56.0   \n",
              "142                    Kenya                  187              367       51.0   \n",
              "137                    Japan                  189              368       51.4   \n",
              "238                 Scotland                  212              377       56.2   \n",
              "\n",
              "     Cuartil  perdidos  \n",
              "254        0         6  \n",
              "143        0         5  \n",
              "63         0         5  \n",
              "84         0         3  \n",
              "286        0         6  \n",
              "..       ...       ...  \n",
              "256        2       114  \n",
              "237        2       158  \n",
              "142        2       180  \n",
              "137        2       179  \n",
              "238        2       165  \n",
              "\n",
              "[240 rows x 6 columns]"
            ],
            "text/html": [
              "\n",
              "  <div id=\"df-f20e1af4-37a9-48f1-87f9-840b0401bf5e\">\n",
              "    <div class=\"colab-df-container\">\n",
              "      <div>\n",
              "<style scoped>\n",
              "    .dataframe tbody tr th:only-of-type {\n",
              "        vertical-align: middle;\n",
              "    }\n",
              "\n",
              "    .dataframe tbody tr th {\n",
              "        vertical-align: top;\n",
              "    }\n",
              "\n",
              "    .dataframe thead th {\n",
              "        text-align: right;\n",
              "    }\n",
              "</style>\n",
              "<table border=\"1\" class=\"dataframe\">\n",
              "  <thead>\n",
              "    <tr style=\"text-align: right;\">\n",
              "      <th></th>\n",
              "      <th>Pais</th>\n",
              "      <th>PartidosGanadosCasa</th>\n",
              "      <th>PartidosJugados</th>\n",
              "      <th>%_ganados</th>\n",
              "      <th>Cuartil</th>\n",
              "      <th>perdidos</th>\n",
              "    </tr>\n",
              "  </thead>\n",
              "  <tbody>\n",
              "    <tr>\n",
              "      <th>254</th>\n",
              "      <td>South Ossetia</td>\n",
              "      <td>1</td>\n",
              "      <td>7</td>\n",
              "      <td>14.3</td>\n",
              "      <td>0</td>\n",
              "      <td>6</td>\n",
              "    </tr>\n",
              "    <tr>\n",
              "      <th>143</th>\n",
              "      <td>Kernow</td>\n",
              "      <td>3</td>\n",
              "      <td>8</td>\n",
              "      <td>37.5</td>\n",
              "      <td>0</td>\n",
              "      <td>5</td>\n",
              "    </tr>\n",
              "    <tr>\n",
              "      <th>63</th>\n",
              "      <td>Corsica</td>\n",
              "      <td>3</td>\n",
              "      <td>8</td>\n",
              "      <td>37.5</td>\n",
              "      <td>0</td>\n",
              "      <td>5</td>\n",
              "    </tr>\n",
              "    <tr>\n",
              "      <th>84</th>\n",
              "      <td>Ellan Vannin</td>\n",
              "      <td>5</td>\n",
              "      <td>8</td>\n",
              "      <td>62.5</td>\n",
              "      <td>0</td>\n",
              "      <td>3</td>\n",
              "    </tr>\n",
              "    <tr>\n",
              "      <th>286</th>\n",
              "      <td>United Koreans in Japan</td>\n",
              "      <td>2</td>\n",
              "      <td>8</td>\n",
              "      <td>25.0</td>\n",
              "      <td>0</td>\n",
              "      <td>6</td>\n",
              "    </tr>\n",
              "    <tr>\n",
              "      <th>...</th>\n",
              "      <td>...</td>\n",
              "      <td>...</td>\n",
              "      <td>...</td>\n",
              "      <td>...</td>\n",
              "      <td>...</td>\n",
              "      <td>...</td>\n",
              "    </tr>\n",
              "    <tr>\n",
              "      <th>256</th>\n",
              "      <td>Spain</td>\n",
              "      <td>243</td>\n",
              "      <td>357</td>\n",
              "      <td>68.1</td>\n",
              "      <td>2</td>\n",
              "      <td>114</td>\n",
              "    </tr>\n",
              "    <tr>\n",
              "      <th>237</th>\n",
              "      <td>Saudi Arabia</td>\n",
              "      <td>201</td>\n",
              "      <td>359</td>\n",
              "      <td>56.0</td>\n",
              "      <td>2</td>\n",
              "      <td>158</td>\n",
              "    </tr>\n",
              "    <tr>\n",
              "      <th>142</th>\n",
              "      <td>Kenya</td>\n",
              "      <td>187</td>\n",
              "      <td>367</td>\n",
              "      <td>51.0</td>\n",
              "      <td>2</td>\n",
              "      <td>180</td>\n",
              "    </tr>\n",
              "    <tr>\n",
              "      <th>137</th>\n",
              "      <td>Japan</td>\n",
              "      <td>189</td>\n",
              "      <td>368</td>\n",
              "      <td>51.4</td>\n",
              "      <td>2</td>\n",
              "      <td>179</td>\n",
              "    </tr>\n",
              "    <tr>\n",
              "      <th>238</th>\n",
              "      <td>Scotland</td>\n",
              "      <td>212</td>\n",
              "      <td>377</td>\n",
              "      <td>56.2</td>\n",
              "      <td>2</td>\n",
              "      <td>165</td>\n",
              "    </tr>\n",
              "  </tbody>\n",
              "</table>\n",
              "<p>240 rows × 6 columns</p>\n",
              "</div>\n",
              "      <button class=\"colab-df-convert\" onclick=\"convertToInteractive('df-f20e1af4-37a9-48f1-87f9-840b0401bf5e')\"\n",
              "              title=\"Convert this dataframe to an interactive table.\"\n",
              "              style=\"display:none;\">\n",
              "        \n",
              "  <svg xmlns=\"http://www.w3.org/2000/svg\" height=\"24px\"viewBox=\"0 0 24 24\"\n",
              "       width=\"24px\">\n",
              "    <path d=\"M0 0h24v24H0V0z\" fill=\"none\"/>\n",
              "    <path d=\"M18.56 5.44l.94 2.06.94-2.06 2.06-.94-2.06-.94-.94-2.06-.94 2.06-2.06.94zm-11 1L8.5 8.5l.94-2.06 2.06-.94-2.06-.94L8.5 2.5l-.94 2.06-2.06.94zm10 10l.94 2.06.94-2.06 2.06-.94-2.06-.94-.94-2.06-.94 2.06-2.06.94z\"/><path d=\"M17.41 7.96l-1.37-1.37c-.4-.4-.92-.59-1.43-.59-.52 0-1.04.2-1.43.59L10.3 9.45l-7.72 7.72c-.78.78-.78 2.05 0 2.83L4 21.41c.39.39.9.59 1.41.59.51 0 1.02-.2 1.41-.59l7.78-7.78 2.81-2.81c.8-.78.8-2.07 0-2.86zM5.41 20L4 18.59l7.72-7.72 1.47 1.35L5.41 20z\"/>\n",
              "  </svg>\n",
              "      </button>\n",
              "      \n",
              "  <style>\n",
              "    .colab-df-container {\n",
              "      display:flex;\n",
              "      flex-wrap:wrap;\n",
              "      gap: 12px;\n",
              "    }\n",
              "\n",
              "    .colab-df-convert {\n",
              "      background-color: #E8F0FE;\n",
              "      border: none;\n",
              "      border-radius: 50%;\n",
              "      cursor: pointer;\n",
              "      display: none;\n",
              "      fill: #1967D2;\n",
              "      height: 32px;\n",
              "      padding: 0 0 0 0;\n",
              "      width: 32px;\n",
              "    }\n",
              "\n",
              "    .colab-df-convert:hover {\n",
              "      background-color: #E2EBFA;\n",
              "      box-shadow: 0px 1px 2px rgba(60, 64, 67, 0.3), 0px 1px 3px 1px rgba(60, 64, 67, 0.15);\n",
              "      fill: #174EA6;\n",
              "    }\n",
              "\n",
              "    [theme=dark] .colab-df-convert {\n",
              "      background-color: #3B4455;\n",
              "      fill: #D2E3FC;\n",
              "    }\n",
              "\n",
              "    [theme=dark] .colab-df-convert:hover {\n",
              "      background-color: #434B5C;\n",
              "      box-shadow: 0px 1px 3px 1px rgba(0, 0, 0, 0.15);\n",
              "      filter: drop-shadow(0px 1px 2px rgba(0, 0, 0, 0.3));\n",
              "      fill: #FFFFFF;\n",
              "    }\n",
              "  </style>\n",
              "\n",
              "      <script>\n",
              "        const buttonEl =\n",
              "          document.querySelector('#df-f20e1af4-37a9-48f1-87f9-840b0401bf5e button.colab-df-convert');\n",
              "        buttonEl.style.display =\n",
              "          google.colab.kernel.accessAllowed ? 'block' : 'none';\n",
              "\n",
              "        async function convertToInteractive(key) {\n",
              "          const element = document.querySelector('#df-f20e1af4-37a9-48f1-87f9-840b0401bf5e');\n",
              "          const dataTable =\n",
              "            await google.colab.kernel.invokeFunction('convertToInteractive',\n",
              "                                                     [key], {});\n",
              "          if (!dataTable) return;\n",
              "\n",
              "          const docLinkHtml = 'Like what you see? Visit the ' +\n",
              "            '<a target=\"_blank\" href=https://colab.research.google.com/notebooks/data_table.ipynb>data table notebook</a>'\n",
              "            + ' to learn more about interactive tables.';\n",
              "          element.innerHTML = '';\n",
              "          dataTable['output_type'] = 'display_data';\n",
              "          await google.colab.output.renderOutput(dataTable, element);\n",
              "          const docLink = document.createElement('div');\n",
              "          docLink.innerHTML = docLinkHtml;\n",
              "          element.appendChild(docLink);\n",
              "        }\n",
              "      </script>\n",
              "    </div>\n",
              "  </div>\n",
              "  "
            ]
          },
          "metadata": {},
          "execution_count": 216
        }
      ]
    },
    {
      "cell_type": "markdown",
      "source": [
        "***La estratificacion la he hecho por la cantidad de partidos jugados.***"
      ],
      "metadata": {
        "id": "ftjEjRffE19L"
      }
    },
    {
      "cell_type": "code",
      "source": [
        "df3.boxplot(column=['%_ganados'], by=['Cuartil'], figsize=(15,10), fontsize=25)\n",
        " "
      ],
      "metadata": {
        "colab": {
          "base_uri": "https://localhost:8080/",
          "height": 745
        },
        "id": "V47EYQz5HtKL",
        "outputId": "04869968-13a3-4bdc-8e20-a119bac0514b"
      },
      "execution_count": 217,
      "outputs": [
        {
          "output_type": "stream",
          "name": "stderr",
          "text": [
            "/usr/local/lib/python3.7/dist-packages/matplotlib/cbook/__init__.py:1376: VisibleDeprecationWarning: Creating an ndarray from ragged nested sequences (which is a list-or-tuple of lists-or-tuples-or ndarrays with different lengths or shapes) is deprecated. If you meant to do this, you must specify 'dtype=object' when creating the ndarray.\n",
            "  X = np.atleast_1d(X.T if isinstance(X, np.ndarray) else np.asarray(X))\n"
          ]
        },
        {
          "output_type": "execute_result",
          "data": {
            "text/plain": [
              "<matplotlib.axes._subplots.AxesSubplot at 0x7f241d4bb310>"
            ]
          },
          "metadata": {},
          "execution_count": 217
        },
        {
          "output_type": "display_data",
          "data": {
            "text/plain": [
              "<Figure size 1080x720 with 1 Axes>"
            ],
            "image/png": "[encoded data removed]"
          },
          "metadata": {
            "needs_background": "light"
          }
        }
      ]
    },
    {
      "cell_type": "markdown",
      "source": [
        "Se ve claramente que a más partidos jugados (Eres del grupo 2), tienes más experiencia, eres mas estable porque el IQR es más pequeño que los otros cuartiles, y como juegas más es porque al ganar partidos avanzas más en el campeonato y logiamente debes ganar más partidos en casa tambien."
      ],
      "metadata": {
        "id": "7mWhHXZ0J-hG"
      }
    },
    {
      "cell_type": "code",
      "source": [
        "df4=df3.groupby('Cuartil', as_index=False).agg({'PartidosGanadosCasa': \"sum\", 'PartidosJugados':'sum'})\n",
        "df4['%']=round(df4['PartidosGanadosCasa']/df4['PartidosJugados']*100,1)\n",
        "df4['perdidos']= df4['PartidosJugados']- df4['PartidosGanadosCasa']\n",
        "df4"
      ],
      "metadata": {
        "colab": {
          "base_uri": "https://localhost:8080/",
          "height": 144
        },
        "id": "Wo5tA1PWEG4a",
        "outputId": "3efa8194-b902-4369-ac3d-6ad73e1b2baf"
      },
      "execution_count": 218,
      "outputs": [
        {
          "output_type": "execute_result",
          "data": {
            "text/plain": [
              "   Cuartil  PartidosGanadosCasa  PartidosJugados     %  perdidos\n",
              "0        0                  421             1058  39.8       637\n",
              "1        1                 3954             9560  41.4      5606\n",
              "2        2                15678            30625  51.2     14947"
            ],
            "text/html": [
              "\n",
              "  <div id=\"df-c171c45a-d4fa-4586-8527-321defad210f\">\n",
              "    <div class=\"colab-df-container\">\n",
              "      <div>\n",
              "<style scoped>\n",
              "    .dataframe tbody tr th:only-of-type {\n",
              "        vertical-align: middle;\n",
              "    }\n",
              "\n",
              "    .dataframe tbody tr th {\n",
              "        vertical-align: top;\n",
              "    }\n",
              "\n",
              "    .dataframe thead th {\n",
              "        text-align: right;\n",
              "    }\n",
              "</style>\n",
              "<table border=\"1\" class=\"dataframe\">\n",
              "  <thead>\n",
              "    <tr style=\"text-align: right;\">\n",
              "      <th></th>\n",
              "      <th>Cuartil</th>\n",
              "      <th>PartidosGanadosCasa</th>\n",
              "      <th>PartidosJugados</th>\n",
              "      <th>%</th>\n",
              "      <th>perdidos</th>\n",
              "    </tr>\n",
              "  </thead>\n",
              "  <tbody>\n",
              "    <tr>\n",
              "      <th>0</th>\n",
              "      <td>0</td>\n",
              "      <td>421</td>\n",
              "      <td>1058</td>\n",
              "      <td>39.8</td>\n",
              "      <td>637</td>\n",
              "    </tr>\n",
              "    <tr>\n",
              "      <th>1</th>\n",
              "      <td>1</td>\n",
              "      <td>3954</td>\n",
              "      <td>9560</td>\n",
              "      <td>41.4</td>\n",
              "      <td>5606</td>\n",
              "    </tr>\n",
              "    <tr>\n",
              "      <th>2</th>\n",
              "      <td>2</td>\n",
              "      <td>15678</td>\n",
              "      <td>30625</td>\n",
              "      <td>51.2</td>\n",
              "      <td>14947</td>\n",
              "    </tr>\n",
              "  </tbody>\n",
              "</table>\n",
              "</div>\n",
              "      <button class=\"colab-df-convert\" onclick=\"convertToInteractive('df-c171c45a-d4fa-4586-8527-321defad210f')\"\n",
              "              title=\"Convert this dataframe to an interactive table.\"\n",
              "              style=\"display:none;\">\n",
              "        \n",
              "  <svg xmlns=\"http://www.w3.org/2000/svg\" height=\"24px\"viewBox=\"0 0 24 24\"\n",
              "       width=\"24px\">\n",
              "    <path d=\"M0 0h24v24H0V0z\" fill=\"none\"/>\n",
              "    <path d=\"M18.56 5.44l.94 2.06.94-2.06 2.06-.94-2.06-.94-.94-2.06-.94 2.06-2.06.94zm-11 1L8.5 8.5l.94-2.06 2.06-.94-2.06-.94L8.5 2.5l-.94 2.06-2.06.94zm10 10l.94 2.06.94-2.06 2.06-.94-2.06-.94-.94-2.06-.94 2.06-2.06.94z\"/><path d=\"M17.41 7.96l-1.37-1.37c-.4-.4-.92-.59-1.43-.59-.52 0-1.04.2-1.43.59L10.3 9.45l-7.72 7.72c-.78.78-.78 2.05 0 2.83L4 21.41c.39.39.9.59 1.41.59.51 0 1.02-.2 1.41-.59l7.78-7.78 2.81-2.81c.8-.78.8-2.07 0-2.86zM5.41 20L4 18.59l7.72-7.72 1.47 1.35L5.41 20z\"/>\n",
              "  </svg>\n",
              "      </button>\n",
              "      \n",
              "  <style>\n",
              "    .colab-df-container {\n",
              "      display:flex;\n",
              "      flex-wrap:wrap;\n",
              "      gap: 12px;\n",
              "    }\n",
              "\n",
              "    .colab-df-convert {\n",
              "      background-color: #E8F0FE;\n",
              "      border: none;\n",
              "      border-radius: 50%;\n",
              "      cursor: pointer;\n",
              "      display: none;\n",
              "      fill: #1967D2;\n",
              "      height: 32px;\n",
              "      padding: 0 0 0 0;\n",
              "      width: 32px;\n",
              "    }\n",
              "\n",
              "    .colab-df-convert:hover {\n",
              "      background-color: #E2EBFA;\n",
              "      box-shadow: 0px 1px 2px rgba(60, 64, 67, 0.3), 0px 1px 3px 1px rgba(60, 64, 67, 0.15);\n",
              "      fill: #174EA6;\n",
              "    }\n",
              "\n",
              "    [theme=dark] .colab-df-convert {\n",
              "      background-color: #3B4455;\n",
              "      fill: #D2E3FC;\n",
              "    }\n",
              "\n",
              "    [theme=dark] .colab-df-convert:hover {\n",
              "      background-color: #434B5C;\n",
              "      box-shadow: 0px 1px 3px 1px rgba(0, 0, 0, 0.15);\n",
              "      filter: drop-shadow(0px 1px 2px rgba(0, 0, 0, 0.3));\n",
              "      fill: #FFFFFF;\n",
              "    }\n",
              "  </style>\n",
              "\n",
              "      <script>\n",
              "        const buttonEl =\n",
              "          document.querySelector('#df-c171c45a-d4fa-4586-8527-321defad210f button.colab-df-convert');\n",
              "        buttonEl.style.display =\n",
              "          google.colab.kernel.accessAllowed ? 'block' : 'none';\n",
              "\n",
              "        async function convertToInteractive(key) {\n",
              "          const element = document.querySelector('#df-c171c45a-d4fa-4586-8527-321defad210f');\n",
              "          const dataTable =\n",
              "            await google.colab.kernel.invokeFunction('convertToInteractive',\n",
              "                                                     [key], {});\n",
              "          if (!dataTable) return;\n",
              "\n",
              "          const docLinkHtml = 'Like what you see? Visit the ' +\n",
              "            '<a target=\"_blank\" href=https://colab.research.google.com/notebooks/data_table.ipynb>data table notebook</a>'\n",
              "            + ' to learn more about interactive tables.';\n",
              "          element.innerHTML = '';\n",
              "          dataTable['output_type'] = 'display_data';\n",
              "          await google.colab.output.renderOutput(dataTable, element);\n",
              "          const docLink = document.createElement('div');\n",
              "          docLink.innerHTML = docLinkHtml;\n",
              "          element.appendChild(docLink);\n",
              "        }\n",
              "      </script>\n",
              "    </div>\n",
              "  </div>\n",
              "  "
            ]
          },
          "metadata": {},
          "execution_count": 218
        }
      ]
    },
    {
      "cell_type": "markdown",
      "source": [
        ""
      ],
      "metadata": {
        "id": "z4kU4YHrFDDY"
      }
    },
    {
      "cell_type": "code",
      "source": [
        "df4.plot.pie(y = '%', figsize=(15,10), autopct='%1.1f%%', subplots=True)"
      ],
      "metadata": {
        "colab": {
          "base_uri": "https://localhost:8080/",
          "height": 610
        },
        "id": "CZVn1zhXFG8F",
        "outputId": "2fa5467f-d61f-4961-926c-e708fc76f128"
      },
      "execution_count": 219,
      "outputs": [
        {
          "output_type": "execute_result",
          "data": {
            "text/plain": [
              "array([<matplotlib.axes._subplots.AxesSubplot object at 0x7f241d407810>],\n",
              "      dtype=object)"
            ]
          },
          "metadata": {},
          "execution_count": 219
        },
        {
          "output_type": "display_data",
          "data": {
            "text/plain": [
              "<Figure size 1080x720 with 1 Axes>"
            ],
            "image/png": "[encoded data removed]"
          },
          "metadata": {}
        }
      ]
    },
    {
      "cell_type": "code",
      "source": [
        "# Muestreo:\n",
        "\n",
        "muestraQ0= df3[df3['Cuartil']==0].sample(60)\n",
        "muestraQ0Porcentaje =muestraQ0['PartidosGanadosCasa'].sum()/muestraQ0['PartidosJugados'].sum()\n",
        "print('\\n\\nEl % de partidos ganados en casa en el grupo 0 de modo aleatorio estratificado es de: ',round(muestraQ0Porcentaje*100,2), '%')"
      ],
      "metadata": {
        "colab": {
          "base_uri": "https://localhost:8080/"
        },
        "id": "rvM2wW5CMFrg",
        "outputId": "e9405585-d5ac-4ade-c0b8-574c854416c3"
      },
      "execution_count": 220,
      "outputs": [
        {
          "output_type": "stream",
          "name": "stdout",
          "text": [
            "\n",
            "\n",
            "El % de partidos ganados en casa en el grupo 0 de modo aleatorio estratificado es de:  34.99 %\n"
          ]
        }
      ]
    },
    {
      "cell_type": "code",
      "source": [
        "muestraQ3= df3[df3['Cuartil']==2].sample(60)\n",
        "muestraQ3Porcentaje =muestraQ3['PartidosGanadosCasa'].sum()/muestraQ3['PartidosJugados'].sum()\n",
        "print('El % de partidos ganados en casa en el grupo 2 de modo aleatorio es de: ',round(muestraQ3Porcentaje*100,3), '%')\n",
        "\n",
        "muestraQ1= df3[df3['Cuartil']==1].sample(60)\n",
        "muestraQ1Porcentaje =muestraQ1['PartidosGanadosCasa'].sum()/muestraQ1['PartidosJugados'].sum()\n",
        "print('El % de partidos ganados en casa en el grupo 1 de modo aleatorio es de: ',round(muestraQ1Porcentaje*100,3), '%')"
      ],
      "metadata": {
        "colab": {
          "base_uri": "https://localhost:8080/"
        },
        "id": "wO6qlHeVNrHc",
        "outputId": "254b674a-31a6-4e00-d025-8c4b9bc7c958"
      },
      "execution_count": 221,
      "outputs": [
        {
          "output_type": "stream",
          "name": "stdout",
          "text": [
            "El % de partidos ganados en casa en el grupo 2 de modo aleatorio es de:  52.634 %\n",
            "El % de partidos ganados en casa en el grupo 1 de modo aleatorio es de:  39.989 %\n"
          ]
        }
      ]
    },
    {
      "cell_type": "markdown",
      "source": [
        "Comparar con toda la muestra:"
      ],
      "metadata": {
        "id": "YMz7ejkvPOop"
      }
    },
    {
      "cell_type": "code",
      "source": [
        "df4"
      ],
      "metadata": {
        "id": "cog-a1dl5b4N",
        "outputId": "f69c2731-2871-4c72-8dad-52ce1ba77315",
        "colab": {
          "base_uri": "https://localhost:8080/",
          "height": 144
        }
      },
      "execution_count": 222,
      "outputs": [
        {
          "output_type": "execute_result",
          "data": {
            "text/plain": [
              "   Cuartil  PartidosGanadosCasa  PartidosJugados     %  perdidos\n",
              "0        0                  421             1058  39.8       637\n",
              "1        1                 3954             9560  41.4      5606\n",
              "2        2                15678            30625  51.2     14947"
            ],
            "text/html": [
              "\n",
              "  <div id=\"df-b7cead70-c92d-489e-8d56-286f09d377a6\">\n",
              "    <div class=\"colab-df-container\">\n",
              "      <div>\n",
              "<style scoped>\n",
              "    .dataframe tbody tr th:only-of-type {\n",
              "        vertical-align: middle;\n",
              "    }\n",
              "\n",
              "    .dataframe tbody tr th {\n",
              "        vertical-align: top;\n",
              "    }\n",
              "\n",
              "    .dataframe thead th {\n",
              "        text-align: right;\n",
              "    }\n",
              "</style>\n",
              "<table border=\"1\" class=\"dataframe\">\n",
              "  <thead>\n",
              "    <tr style=\"text-align: right;\">\n",
              "      <th></th>\n",
              "      <th>Cuartil</th>\n",
              "      <th>PartidosGanadosCasa</th>\n",
              "      <th>PartidosJugados</th>\n",
              "      <th>%</th>\n",
              "      <th>perdidos</th>\n",
              "    </tr>\n",
              "  </thead>\n",
              "  <tbody>\n",
              "    <tr>\n",
              "      <th>0</th>\n",
              "      <td>0</td>\n",
              "      <td>421</td>\n",
              "      <td>1058</td>\n",
              "      <td>39.8</td>\n",
              "      <td>637</td>\n",
              "    </tr>\n",
              "    <tr>\n",
              "      <th>1</th>\n",
              "      <td>1</td>\n",
              "      <td>3954</td>\n",
              "      <td>9560</td>\n",
              "      <td>41.4</td>\n",
              "      <td>5606</td>\n",
              "    </tr>\n",
              "    <tr>\n",
              "      <th>2</th>\n",
              "      <td>2</td>\n",
              "      <td>15678</td>\n",
              "      <td>30625</td>\n",
              "      <td>51.2</td>\n",
              "      <td>14947</td>\n",
              "    </tr>\n",
              "  </tbody>\n",
              "</table>\n",
              "</div>\n",
              "      <button class=\"colab-df-convert\" onclick=\"convertToInteractive('df-b7cead70-c92d-489e-8d56-286f09d377a6')\"\n",
              "              title=\"Convert this dataframe to an interactive table.\"\n",
              "              style=\"display:none;\">\n",
              "        \n",
              "  <svg xmlns=\"http://www.w3.org/2000/svg\" height=\"24px\"viewBox=\"0 0 24 24\"\n",
              "       width=\"24px\">\n",
              "    <path d=\"M0 0h24v24H0V0z\" fill=\"none\"/>\n",
              "    <path d=\"M18.56 5.44l.94 2.06.94-2.06 2.06-.94-2.06-.94-.94-2.06-.94 2.06-2.06.94zm-11 1L8.5 8.5l.94-2.06 2.06-.94-2.06-.94L8.5 2.5l-.94 2.06-2.06.94zm10 10l.94 2.06.94-2.06 2.06-.94-2.06-.94-.94-2.06-.94 2.06-2.06.94z\"/><path d=\"M17.41 7.96l-1.37-1.37c-.4-.4-.92-.59-1.43-.59-.52 0-1.04.2-1.43.59L10.3 9.45l-7.72 7.72c-.78.78-.78 2.05 0 2.83L4 21.41c.39.39.9.59 1.41.59.51 0 1.02-.2 1.41-.59l7.78-7.78 2.81-2.81c.8-.78.8-2.07 0-2.86zM5.41 20L4 18.59l7.72-7.72 1.47 1.35L5.41 20z\"/>\n",
              "  </svg>\n",
              "      </button>\n",
              "      \n",
              "  <style>\n",
              "    .colab-df-container {\n",
              "      display:flex;\n",
              "      flex-wrap:wrap;\n",
              "      gap: 12px;\n",
              "    }\n",
              "\n",
              "    .colab-df-convert {\n",
              "      background-color: #E8F0FE;\n",
              "      border: none;\n",
              "      border-radius: 50%;\n",
              "      cursor: pointer;\n",
              "      display: none;\n",
              "      fill: #1967D2;\n",
              "      height: 32px;\n",
              "      padding: 0 0 0 0;\n",
              "      width: 32px;\n",
              "    }\n",
              "\n",
              "    .colab-df-convert:hover {\n",
              "      background-color: #E2EBFA;\n",
              "      box-shadow: 0px 1px 2px rgba(60, 64, 67, 0.3), 0px 1px 3px 1px rgba(60, 64, 67, 0.15);\n",
              "      fill: #174EA6;\n",
              "    }\n",
              "\n",
              "    [theme=dark] .colab-df-convert {\n",
              "      background-color: #3B4455;\n",
              "      fill: #D2E3FC;\n",
              "    }\n",
              "\n",
              "    [theme=dark] .colab-df-convert:hover {\n",
              "      background-color: #434B5C;\n",
              "      box-shadow: 0px 1px 3px 1px rgba(0, 0, 0, 0.15);\n",
              "      filter: drop-shadow(0px 1px 2px rgba(0, 0, 0, 0.3));\n",
              "      fill: #FFFFFF;\n",
              "    }\n",
              "  </style>\n",
              "\n",
              "      <script>\n",
              "        const buttonEl =\n",
              "          document.querySelector('#df-b7cead70-c92d-489e-8d56-286f09d377a6 button.colab-df-convert');\n",
              "        buttonEl.style.display =\n",
              "          google.colab.kernel.accessAllowed ? 'block' : 'none';\n",
              "\n",
              "        async function convertToInteractive(key) {\n",
              "          const element = document.querySelector('#df-b7cead70-c92d-489e-8d56-286f09d377a6');\n",
              "          const dataTable =\n",
              "            await google.colab.kernel.invokeFunction('convertToInteractive',\n",
              "                                                     [key], {});\n",
              "          if (!dataTable) return;\n",
              "\n",
              "          const docLinkHtml = 'Like what you see? Visit the ' +\n",
              "            '<a target=\"_blank\" href=https://colab.research.google.com/notebooks/data_table.ipynb>data table notebook</a>'\n",
              "            + ' to learn more about interactive tables.';\n",
              "          element.innerHTML = '';\n",
              "          dataTable['output_type'] = 'display_data';\n",
              "          await google.colab.output.renderOutput(dataTable, element);\n",
              "          const docLink = document.createElement('div');\n",
              "          docLink.innerHTML = docLinkHtml;\n",
              "          element.appendChild(docLink);\n",
              "        }\n",
              "      </script>\n",
              "    </div>\n",
              "  </div>\n",
              "  "
            ]
          },
          "metadata": {},
          "execution_count": 222
        }
      ]
    },
    {
      "cell_type": "markdown",
      "source": [
        "**Conclusión:**\n",
        "\n",
        "Aplicando la estratificación la diferencia es de un   % de error minimo.\n",
        "\n",
        "ver tabala estratificado v poblacion total\n",
        "\n",
        "grupo 0 --> 39.97% v 39.8%\n",
        "\n",
        "grupo 1 --> 39.6% v 41.4%\n",
        "\n",
        "grupo 2 --> 50.68% v 51.2%\n",
        "\n",
        "Y es el modo de que todos los estratos participen en la muestra y no se descompensen sus proporciones."
      ],
      "metadata": {
        "id": "Yh3E2w-MPUsL"
      }
    },
    {
      "cell_type": "code",
      "source": [
        "import seaborn as sns \n",
        "import matplotlib.pyplot as plt\n",
        "\n",
        "f, ax = plt.subplots(figsize=(10,12))\n",
        "\n",
        "\n",
        "sns.axes_style( )  \n",
        "sns.scatterplot( 'PartidosJugados','PartidosGanadosCasa', data= df3, hue='Cuartil', palette=\"deep\", size='Cuartil')\n",
        "#sns.title('Relacion partidos Jugados v Ganados')  \n",
        "#plt.show()\n"
      ],
      "metadata": {
        "colab": {
          "base_uri": "https://localhost:8080/",
          "height": 786
        },
        "id": "sOoBIpO3RiTn",
        "outputId": "a1f288c6-70ba-4aa9-8c9e-0df655f41197"
      },
      "execution_count": 223,
      "outputs": [
        {
          "output_type": "stream",
          "name": "stderr",
          "text": [
            "/usr/local/lib/python3.7/dist-packages/seaborn/_decorators.py:43: FutureWarning: Pass the following variables as keyword args: x, y. From version 0.12, the only valid positional argument will be `data`, and passing other arguments without an explicit keyword will result in an error or misinterpretation.\n",
            "  FutureWarning\n"
          ]
        },
        {
          "output_type": "execute_result",
          "data": {
            "text/plain": [
              "<matplotlib.axes._subplots.AxesSubplot at 0x7f241d30cb90>"
            ]
          },
          "metadata": {},
          "execution_count": 223
        },
        {
          "output_type": "display_data",
          "data": {
            "text/plain": [
              "<Figure size 720x864 with 1 Axes>"
            ],
            "image/png": "[encoded data removed]"
          },
          "metadata": {
            "needs_background": "light"
          }
        }
      ]
    },
    {
      "cell_type": "markdown",
      "source": [
        "# ¿Qué es SMOTE?\n",
        "SMOTE es un algoritmo de sobremuestreo que se basa en el concepto de vecinos más cercanos para crear sus datos sintéticos. Propuesto de nuevo en 2002 por Chawla et. Alabama ., SMOTE se ha convertido en uno de los algoritmos más populares para el sobremuestreo.\n",
        "\n",
        "Los datos sintéticos son datos artificiales generados de forma inteligente que se asemejan a la forma o los valores de los datos que se pretende mejorar. En lugar de simplemente hacer nuevos ejemplos proceso de copiar los datos que ya tenemos (como se explica en el último párrafo), un generador de datos sintéticos crea datos que son similares al existente. La creación de datos sintéticos es donde SMOTE brilla.\n",
        "\n",
        "el punto azul rodeado con un círculo es la observación actual, el punto azul no rodeado es su vecino más cercano y el punto verde es el sintético."
      ],
      "metadata": {
        "id": "4izp4zo6WDD8"
      }
    },
    {
      "cell_type": "markdown",
      "source": [
        "![image.png](data:image/png;base64,iVBORw0KGgoAAAANSUhEUgAAAyAAAALhCAIAAAAo0VeaAAAgAElEQVR4nOzd2ZNkx3Eu+M894uRaWy9oAN0NEKQoUMvITHdmrt15nfnH50EzMt6R6UqUUeIGgoSwdnd1157LORHu8xDnnMpaGgR4sysTwPeztkRVVlYuVUXlJw8PD3F3EBEREdH66KafABEREdH3DQMWERER0ZoxYBERERGtGQMWERER0ZoxYBERERGtGQMWERER0ZoxYBERERGtGQMWERER0ZoxYBERERGtGQMWERER0ZoxYBERERGtGQMWERER0ZoxYBERERGtGQMWERER0ZoxYBERERGtGQMWERER0ZoxYBERERGtGQMWERER0ZoxYBERERGtGQMWERER0ZoxYBERERGtGQMWERER0ZoxYBERERGtGQMWERER0ZoxYBERERGtGQMWERER0ZoxYBERERGtGQMWERER0ZoxYBERERGtGQMWERER0ZoxYBERERGtGQMWERER0ZoxYBERERGtGQMWERER0ZoxYBERERGtGQMWERER0ZoxYBERERGtGQMWERER0ZoxYBERERGtGQMWERER0ZoxYBERERGtGQMWERER0ZoxYBERERGtGQMWERER0ZoxYBERERGtGQMWERER0ZoxYBERERGtGQMWERER0ZoxYBERERGtGQMWERER0ZoxYBERERGtGQMWERER0ZoxYBERERGtGQMWERER0ZoxYBERERGtGQMWERER0ZoxYBERERGtGQMWERER0ZoxYBERERGtGQMWERER0ZoxYBERERGtGQMWERER0ZoxYBERERGt2cYCVl3X5QN3zzm7e//pqv7KpmnM7Bve+c17ICIiIroz8n2NIP3rEpHNPhMiIiL6odlwwHL3EoByziKi2lbUSrFKRFbjUV/rkg4AVV19Ca+LU8xbREREdGfiBh875wwghJBzns/nIYTxeFyuTymZmaqGEEIIAESkRCtV7XOYu5coZmarEUpEyncRERER3b1NBiwAJSqllJqmKdeUMlVKqXxVVUvN6Vrhqr9xqWCV+FUyVrlkwCIiIqJN2VjAKtmopKVScCphqywCltpVVVV9nCofmFnOuVStVotb5dvL9d/XrjIiIiL6rtiKJveyIAhAVfuA1aerxWKxWCxEJKW0XC4Xi0XOeTgc7u3t7ezsxHg9I157RWy6IiIioju24SVCMyu9VjHGlFJd17ICwGKxOD4+Pj8///TTT5umubi4uLi4yDnv7e298847Dx48+MlPflIas67VurYhOBIREdEP04YDloj0JahStSoNVWXtL6V0eHj4m9/85o9//OOvfvWri4uL+Xyecy4VrB/96Ec//vGPz87OPvzww93d3dLFVVVVf891Xeecq6oqD9HvWCQiIiJ6ozYfsFY/FpE+IZnZixcvfv3rX//zP//z73//+5///Oez2Wy5XJai13A4fPLkyfvvv79YLI6Ojh4/fvzjH/94PB6nlEo1q7/n1c53IiIiojuw4YC1anW2gru/evXq17/+9T/8wz/8/Oc///TTTz/55JPlclkmO5Qbz2azs7MzEfnss8+ePHkymUw++OCDxWKxs7NT4lQfs8yMtSsiIiK6M1sUsLCyVbA0Xf3Lv/zLz3/+81/+8penp6fz+byPTWUiw9HRUUlOs9nsyy+//NnPfvb222+XhcJ+c2IZ4tCPeNjsqyMiIqIfiO0KWEVK6fT09JNPPvnVr3710UcfvXjxolxfGrZCCE3TlFlZL1++jDEuFou33nrr6OhIRPrzCvsRWWUYKQMWERER3ZmtCFj9jIbyadM0L168+P3vf//xxx8fHh42TaOqOzs7qwFrNps1TSMiZ2dnh4eHFxcXR0dHZcTDYrEYjUboKlgppRK2NvkKiYiI6Idk87GjVJiKcs3JyclHH330r//6rx999NFsNisTR1NKZY7DcrlsmqbfEphSyjm/fPnyF7/4xW9/+9vVAw37qhU73ImIiOgubXKSe59++japEraOjo4+/vjjX/3qV5999pmZTSaTwWBwcnJSclK/8IeuL15ElsvlP/3TP/393//9+++/PxgMrj0QAxYRERHdpc1XsMqBg+UMHHRnCIrIaDQqZz83TdO3rpcQhpXqVFkWBDAajXZ3d/upWtfOfmbGIiIiojuzsQrWtZbzWzvQ+1T0NfGoz1uve5T+NOg//7kSERERfRubrGBdKzKtnnVzreb0PxmwuIWQiIiI7tLmlwixErBKrro2hB3foEu9H6B185bXTiokIiIietM2PKahHwF6bYxC3/BePu0/+Jp7KGcU3pqxiIiIiO7SVlSwcHWkQl/K+uY9WO6ec26a5mbAKkGNqYuIiIjuzIYD1mobVn/lteFV32TOgruXQVn9YYX99SVdMWARERHRndmWChZua1T/5j1Yq9NKr3XH37ySiIiI6I3aZA/Wzc19pRBVVglXZ7t//Z30N6vrOudcWtqvjcsiIiIiujNbVMEqbu74K5NIX3f7a8MdXpeoGLOIiIjozmzFYc+rQgh9nPomVajypX4r4s1brl7DiaNERER0B7YuYPU5qe+a+pryFa5WsG7WuvpwxlxFREREd2brAtatvkk8ujZP69b9iURERER3YOt6sP481w7MWe2OZwWLiIiI7tg2VrBuTgr9JmMavubsQqYrIiIiuktbV8HyzrVrvub2X38l0xURERHdsW2sYBV9riptVdfGu1+7pj+7sCwOxhj7VUKOGCUiIqI7tnUVLCIiIqLvOgYsIiIiojVjwCIiIiJaMwYsIiIiojVjwCIiIiJaMwYsIiIiojVjwCIiIiJaMwYsIiIiojVjwCIiIiJaMwYsIiIiojVjwCIiIiJaMwYsIiIiojVjwCIiIiJaMwYsIiIiojWLm34CP3TefSDXPr9GDFDAXn9H2t3FjfsRwLH6VW/vqL03XfmiX83cq3f5dU+biIiIVjBgbZIDGQZASspxR3Y44A53ABCBACqmJggCg3VXCswtpeTZ3D0guApERCRIVAhc0d91F7AMZvAstrTkYgAUUolWUHW4e1JNEHWISBANEADexbc+V/VBT5mxiIiIbmDA2rCSVEL5pM8vXiJRV9Vqs5GrQFKCAFEBgUCjusPdIVABREUEDsCRDVDE6+UrA0wA9QxIe98OcfH2YV3aFBcA4yoyERHRt8eAtWH9sp9gJQYJgFDKVBA4JAscarAQVcyzu6oKJIhi4DlnVYUIoKXk5Q5RuCMDrtCy8ieAQ0TUIQ5VEXMRiAgAc3f5E9Uoef0aJhEREfUYsDZPV6tEqxlLACALTNShJYdp0Iw65yxmMUYVBcrCoDjg7lnaBb0SlpYOEQSHCgLgUIVBRD3AMqBfk6n8tuU/6Z7ztedLREREPQasDWtX/7rE4gKBAu4S2pVBgTlyWfeDOqwxsyapm5vFGIJoWUU095wtuZmbqXiIEHHJAkBVINkRBBAJkNBHsC5GuZhBTNRRlh9vWCle/alSFxER0Q8aA9YmCUzbDy45YILSSWUCB7L2+/4ACDSo5mioHMEdkoMK3IIgKIKFGjCgQTJAINr1WsWyDukAVAE43F3U5bZS1ZVtiDfXBW+tbhEREREABqyNuxqt1OEQOOAK8zZg9emqBKYqxEElocnICbkBMsQRAqCQELQaK0S8Ec2wUpwyuENRClh9lQylEnWZnuxbtVj5jRdAREREABiwNu36aKt2WdAhV5fhFMhAAARpkD2YI2UsFqjnyDU8ISjiANUUgwGqwVB9Ie5wraL3/VyFlDsUQ4C747JCVR5l5VZERET052DA2gZtA5aIa9nnBwjQ5GxQETG3KmgEmroeBQmLBU4vcHaB0xOcn17UsybXEkJUne6/heEIk6ns7Wgl4+lomZYxDi03Bo0hiLk1plUAVMRESj3LAFdVRUiAtjsapQzj8tIJz92DRERE3xgD1qa1wcUd3bgEAGUTochARYCc29+TmAdxHB/jixd48XLx7KtnX3z6/NWz2XI2GIx2d3cfv/V4MN3befIUP/vpXhwsm1qqKgKiEl3FARFVhZQ5pupShjOU0pVK6aJvS1zQ0r/1NdGKZS4iIqLbMGBtAferScUgnj1HaChJyywAEAn1ElXwL786/rdf25dfLZ89e/npH18cfrloZoPByPb2Rw++1OHUPzze3d3Bk4fDVPnEJQ4itN2qaOYOgZjABRkOAdy1FKzEpRvjLo5ypdxavmK0IiIiej0GrE3zNryUQVbtx+ZuBsniDjPUS0gAgNkcLw8//n9//sn//Y/h2eF0uVycvNTl6Th4jDF99fIkfnWe7egPf/zJxfnor3/cPH40/dnPdDAWVaQEeHY1FwnqiuxwKauTbR+YlDZ7ucxYghvpqpvtsPIZERERXcGAtXFalgchUoKOeDa3UM7PcUeTpAQsM5ydXXz8hxe//Pev/se/TF+dTgeDfU8TLMNQQsrN7Kyy01Tb4mz+hWI6O971vwtP38N0D5XABWZu3oioRQtXdgG6ezmcRyHeJa3LL1/lPIuQiIjoazFgbYGV7YIONzO3HMo5y27wpGZAxnyZTo7zq8PxxeyB+T0NT0SHJktAUg7Zl4t6pxrUw9GZuR8eVS+P9mvD6QX2aoRx2aCoEFXViNxuGBSFq3t7krO7CMTabrBbxolKm644ooGIiOhrMGBtmgjcr0QZd89mZuWwwXYNMVuezWaHL774zW+bl6/2k93PsptTqGfiM4kuDtTNjldJkZKdvzxqvnq+eP588Op0cH+BagoAAtUQQhCBlbb2/uznkphKM1j/ZP7UQiB3FhIREd2KAWvTysAr78YzmMPc3eucqqghaDvEKptdzOZHJ8/++Ek8Op6Yj8Wrpg55qcGqGMxsKIgwq2eWzSssj47On7/YuTiP84VOaqhCA9QCogOKcjRhO0reIQZXXem4uq18tfohZ7l/I1dD6vXIeluE/WY/2NVF2tc+8s3DufkrIyK6G6/9v850BxxokBIyxOCGDEkeGngyj4McB4iKoIgRGnzZzE/OFheLZ19+FVSqGOb1LA7UQjqv51mWrpbqsypKFD88/urs6BXM3BrxBDSwBBgE6uYNKkPliN522WdFDmKqJjC4u6P868nlf7XLZ2zA+hPKGLHcxiEHMjzDDXDYlRmz3v/XrKRsmF+Zsl+usGv/3DMub28Os3Zwf7uSe+0bWHQkIrobDFibZQbx/u3XABdVVY3JLQsyAqpQgoxqHISY66WZmZl7DgBgVfBBhGcERQziaCBWIahisZxBvY1C5dIdniM8AMERIQoB1IAMyd0oeZf2H/p/K15zNd1mpWfNgJJ+vv62gF0NXwAAKedT3vI/2JKGvbtbgfRHdfd34oxWRER3i0uEGxZW3g4hgAokaIClRTnGBiKIAVFlWA2m4+Fw6MOBL+fiOYh7bsRcgSahCoBIdoOGalSF8dBVQlVJFTGoAC3pyb30tF8+AXTvygxM6yeXhT4tx026oew3AEoqKp1vKwGoO4m7/SpQhukDANylPd9IytHdWn6b0v6xXN7V6gQO/maJiO4YK1hbRttGdIc2ZgYHFLHCcBgmk+HuzoN3Hh3cv2eCxoEYSknDDINQxq4HCzENK0yGcW86eXAw2NnBaIwYEQNU4NZYNrN2AdC6owhdABf3r5vbTn8evfzfmQDazh5r++4cYoIs14tMgteeTySiIhEIIgEiqyWr/lH6z7sHN3BJl4joDrGCtWF9XQJAGX0FLdUkyTkvtBbVqIJBxM642p1O7+0vdyfnKZ2ntDcYWjLIULCsxlXO3iRdqC6qMB8O4t4kHOzFnTEGEVIilDU5N4A2GkRLe72Zt0cNOrPVusn1D/r/h6YUltqzvVfGXgSUofv99/VprC9zXu2H7y7byRoGwF0gK5/jyn3y/6ciIroLDFibpej28QGXacsgCNHNs3njHgVQxWhYHezpwb7u758FmUQ5iFWTa5WcVReuWWQJPxecT0Z4dD8/PFhOR5hMEQIcsFxqVWYGs+jl7EEP7UoTIOjOJaS1adfvSqcULitNvtIXtXLpgix90hUBcvmzcHeRclYkAOQSqhxq7RJvv/nQXeAGFUgJVYb2K9bdL3/FRERvHAPWJkn7Xleac9oVIXcxzyISQohRs9ts2YxUtdKwv/v0f/m74byZvTiOx6fzuj76am5ZssEW9XC601TVfDQe/uRHj//+b8d/97PqvafYmaAaoExojyFqsJQlRA0AXFUB708bdFax1soBa/ON5JQAjTFAYECT3FW0m8JhACyJZXjTfp9I1xqnkCBl04FCoAlIhiZDsmlKlWgIQWNb7RKHwcWv5Ldu6ZcrhEREd4QBa/OuvumVPWEiIkGrKKHx5SKlLDIUCePx8P/4b08H44vjM3zxLB8evrg4W15YgtWpub+3L6NxvbNz7+/+9oP/6//EX/8UO1NMpqgGgEIBjRoxiK4aDH1bu5RDcuBBFMhwvguvTzmByM1yzuLuohrEBTlnCARByjB9M08ppEatLqP028FoIkCAKESgAS5QhSFna7IhZVnWrqGqqkoqWVmI9DZgWf8s/DXD+YmI6E1gwNqw7v0u9Fe4uAFRYhZrLLtLNRzArDHX6RRNag72Hv7X/92/eo7nh9WPnp4fvajrRTUcjPb3q529vL87+YsP0tP3wr17i8FoPJ0CAnGIopzD49LkpqoqYKWtul+VUuV78Bo5IDBVCSGIq6pAyv7ArBIrSABsuQwhQALqGSRheYFljZRhCSKoRhiPMRgAiphQjWOISSVK1BjFESEiYmaSRcoZ3cpfIRHRhjFgbZNu8LY6skBcy7RPlyCKLF6LxNE0PHmyH4fh6RN5dbI4enHv4ly8kVgNd6cY7zSTcXjn7fjBe7i/HwEgdiWpdnu/C+SWpSJtqx18a16ntrVcICLena/dNlR5aqRyAULOWNbIhvNznL3E2VF9cjq/OMvLRhXT6W61s4vpDsYT7O5huo/xtBqOTWHmqqqlo738RxyAtQ1b6H6twt2hRER3jAFrO6ye/mcCaDCIlEOeIRJM4O4ZWELC7l4cjVHXuJiNzk5HqUYERDEeYTSJIWJngv29JcTa/h2gzE+CO/z1BSrl8TdvQBtvVVVM3M1MzUwVOSVrLACYz3E2w8kpDp/Zq69mL786/PLZycvDej4bhLi/f296717Y3x+//e74yRO8lQCEQTUOVRKxULaciqqKwG5sMex+oddGbRER0ZvFgLWNSrlBoe3uL2l3ipliWSOEKDGE8QjjIaZDeEIV4I7BELGCBK+qjJChDfKgTK30sjjo3TsxY9TdKe1PIgJVN8veZDcRr1Qqz1gscXaKlyeLj/7w1a9+qSfP5odfvfry2dnLl2k2G1RVfXBwdnAfO9OHH/71IOVgAigGQ9mRiJCDBAigrv0GBWtH8JfylSsAF+s2D3ILIRHRXWDA2harO/bL26O4B+9meKtmgTqGo0oyINnFZaAYB1hu81dQaOWQpMGgEQgIDmSDmbtD4KVJ5/JRGbTeMOnXfUXgcPfk5sgOG0ZFcsxmOD7Bi8OT3330yT/+9/HZCxy9XJ4cy9l5tayrEGX3Zd57Ma8G08bng9HQEBw6GCCIVFXUykpVUhxtb3u3BNnNi0epiroyWxER3RkGrG3UNcyUoVQhiwmCwlW0KrOS4Fk8qkoYlBOERYLBrZwhnNw9RYmVIjvMzczQbhtkpLo7ZQdgiTxl/567OzLE3K3dTVAvcHTsX35x/slnsz/+5+jiaDQ7HSyXIaUqI+YUz2diqiL5Pz8/39vLMYzG4+G9A+xOEQNgrtqNvGq150gC6LvAysR/DnMnIrorDFhbxK6ecFK26jvQVZ1UAGtMzaFuSLWW7WIOcYFny+35zCmjhrrLsAoVsmipXaj4tYB1symH775vigMw8+RwCIaDKJaQE5rUvDp8+dEfzj/7cjxb7C3TTvIh4ihUQRrNHj1YxjjqxeGro99+vByM9h88GD59itQAXqKVt2Njy9+L9mdL9xWs1fMKiYjoDjBgbRcTQFAmNbSn+QrEUdqmtIStqDEEQcjI3k4rNUCDGiAR0d1zTsEVCtEyFUmBMuGS7pIKTFxhZdyVmYu1J+LE7B5yg2Sz49Pnn3128eL51GXHsJO1AkawAHGYWva83Injk+NXR7mZ7+8MPvjJ/vmFzJYYNxiqi984t9BtpdeKg82IiO4eA9amua5WjRwwdYNpe4pv2YDfFSUgFsW64oRcHpziMBdTM8tmAsRQQRWhjKvsdw62q1To09sdvtD+BX4r3/ls0J+ElOFZ4NGjmEoDzUHGCktydHJ2fnySFrOx54FUVXDxZpmXwZNodkeq66R+fjE7ns/Gzx4dHJ+mi6ZqHBmAOTIcggAVkeBm7hbQrgkCEF8JW6XIBS4WExG9WQxYW+DKcAQHzMRcRB0CCVAFFFJ2o2Ugr3yTAzCISxAxQZDg6lIWjMJlLqONkctzB10AUbiYIwExK1ytycvZ8uLsPMxnmlKum1w3brVbrZ4VUEEGRE0cwRHcAiSoQiIQ4NksuQtQuvJcJOjr29m5SkhEdDcYsLaCu5eD5srbn3rbFi0OgeO2xin3rqiF9sy68q7qLlpOWOGesS3g0v32BJIdXhrmoAhqjuwhuyZDnSRZBdWckWv15JYiEEqhUhDiYFgtg7az2lUVQSAOF4dYBgB1A4IEFZWrh0qWShb/IIiI7g4D1laQbiO/ti3rUoYZad+bXD7oqiFwOMxNFNbtVOtWAdVXNwtuaCXwtWSl9vYnL7/rvMyJBYIC5ialvw4BqIBYTp2M1c5kur+zm0cTqZMEDVUM7gED9SaIA9AgHjQOhjFUoYoSFGLQ9u9D0A4bLRPO3N3dRcKNp9MuGN7tz4CI6AeKAWsLrFQb2l5oh3TvhOLXT4MWuIu4Ze0PQnFzREcWUcAMKnDd1opFu/FR/vTl9yAM5HI0EQDJpjCzADFBBIIbzBHi/f3787ffOX3+av7yVQNLkkt1UqAZGUDjOp8vkyOMxzoeelBXiBjUIVVUeJC2tOVuZmYWq8spWJfj3X1L/ySIiL5/GLC2RV/EEkcQgZd1P5GyQayEsHJkMwBYKEc4Q+AGwDwBgGcRaQc+eHePW+Xa8dJ/8nLLnv63Yu052zBkh5c5ZSIhSpAyg9QNQYf3Dh4+ebr4/Mvnf/xoLO7majlYim4KuKAJfpqW9f7B5K23hm+/Ew/28nAQQ4AGqKoGtKcQqksuI/tvey7a1juJiOjNY8DaDt0gSjgU4u4qZbBCt/2+TOgGvNuWJtrtB3T30rDVLgyWYVfu7eog31A3zwBHNs8ARFQV5hYCUEUMBnh4b++D98Zffbb8eHe2UJs7akdtwSyohBjzoLqI1fDdx/f++q8nf/s3ox+9F+4dYDxACJAA1zL9qvxNqESoyuUJOVAHxEsQb8d6EBHRG8aAtWm3FBsgDtEbpRt3B9TL0YRlRJZY+67ZD826vFz9gDZC2y2fJnA3dzeouJqIp2xVDBhWmFS4t4f33h589o6989bitEoXobmIWedVzlXQwWjow3EzGe1+8MH+z/5q9y9/pu+/j/v3MJp6rGChbbpyQE1EVVUkX3kebXXUORGLiOjOMGBtWslAbe3Jyz9xz03TxyNfiU3uZQppqy1zSTtEtD/KUETkso/rO8zMbsbEW4Pj6nyvm59ujgUAkDolwKtYAVpbPQijDCgSqiAHO0gHg794/+n8v1UvX+ZXR2eHh8ujI29SHI0H+3txZ3cwndz727/Z/y//BR+8j4cPsH8vj4aNhAhoWSB0QwbEXMoRS4bu178a4UW+D38VRETbjwFr0+TqG2C5TiSEdmlv9fwcl+9+GaJ/z/9mOwnlahr4hoGpb0Iqxx6v+SV8G+IQUUEOgnLedjn7KCELKlSV7kzLGUjjv/jg4TAMTs795HTn5avl6bk2zagajKe7YTpZDge7P/0JfvwjPHqEvV1Mpw0UXSYHgHbHg4q4iJhd9rK5d0Ws73hPGxHRdwgD1haQGx+5o5sVWSYaeT+mwa8M5r78zr6+1Z6aIlvS3n6zkuRoT3b5k5f4xonqW93yzggQ+uMiuya5ErCa3GTxSsNgNAyqiLozqnaevIvTc1zMH55epIu5NE2IEYMRhkOrRB89wttvYWeKwbCGNkA2H6ZceVvgdHX0Q9QKV4gJAOeEUSKiO8WAtWH92961Qg2k2waoUsaQAnB3fU2MKFv0ty1k3KwkeSmz3LgsmyGvXY8ywv7Gvd3q2uLg6ndt8MfSnxMYJJSQo2XmaPLGGgseBkMdiMN0WCE+wPkcdY1Fjk2NxiCCEBCjKrAzwXSKIHN48pxMrG7cJJc/E1WHq2rZ8HD5DEocl37WKDvciYjuAgPWJvnKjO22ZiPdicwr0aRclquDhL4WcW2tsOvj6vPEJsNW/7SvXCnwdmwBrl36jWv6PW9yNahde6Br4enaLa8U9jbFAahKhGSBOjTChrFqmgwrxbrgoXIPEgS7U9gYWZBz+4NQaY+VjBFBawCQCK3ELcSArN713ImqqIuLiHrAlb+QLYveRETfdwxYm9cXddoOmb7hHTB0tavSjvT6Cs5WJImrVjNWKbBBxNy+pofs+gys0nDm1+Na/zJfV7fbnh6sTklA2uZFhHEIERBHJQCgYeDWQFAHIMggiHhsl3rRHvedgQR1eAQEiKqoAF0Zw1GGa60O77986ZzWQUR0pxiwNszazvXLRbFVZS9gmZFV3jZXw8KNN9Eux2yBWyORuxtW9kCukNvqbSpw99WA1d/hFgbK2ymszBvVKEglPUYIyvk5K5U6QeVAjaVDTDFwaNuhLlmRu2FaWtKVdwPadWUR1VeOrbw9ZhER0R1hwNqwWxbzukboPnR8F4/n6wpvKwQG5JXBX9JmiLZR6ZZ78O7sRSg8u4u7dWU870s11zYJGDJkZYnQdcMh7PLBtctTyI2FoADc0J4nKQBQocowhXr3wrrfu5ckpbAAhedrRSk3E8CsvX8NLFkREW0SA9YmCRBu2UN4tSh1s7L1tZ4PkK4AACAASURBVGnhrsPElSFLl1eU2V3lMpdhAm4Gh1TevSgVBCCUgxdX61ra3o8LcnfP6lEdgq4FzdspDiv1GwAwZJN+FCscXnbx9af7vYmfwdeQK91P/aNrqLob6GWCFqCCRkCg2r0y7e6nvwuBQnF5sGD53qBw3BxPS0REG8GAtWHf5A3xO/qm2bWru3dpqS9eaZ+xHNL2vfuV7ywTDRSQtpRlV8OReAllClyWvxzZxFYmhQkAgwHYmqOvb3saK2XMcOM25Ysr9aib2ytvLYQSEdEmMWDRG+R9PavdDyd9PSY41NuABXQ1pjYodFnMgCCAQdRhWRRolwhNXcQFAlgZv4r2G1yupg9px90TERHdHQYsemPcVZC7RcQy+TR0rVeCrnbVk7bz7PIKEUWZSV72Hlo5/8W7TiaB9V1NDhd41d3Td7FxjYiIvjcYsGgdXpNi3F2BDBcRhSgQ7UauKvTG6HmBCNSg7QAtmNhllzjgML9cTitN4S7edT1JN/K+vdctWSIkIqIfBAYseoPEYXDtNhUqRG8d0gBA5LJzqvSnS4liZVlQXUxEs5pCbeUk49KcpGUkhHm7CNnNDGP5ioiINoIBi/7nvCbCKNoNgNINYlCRcHXwAEppSuBlVL0AZVmwmzTadmi5AhDV7sBiDX0Uc0gpbHmGASLdXKhbd+AxcBER0R1hwKI3RYHkXmaB3jrpyhQOZIUB5t4PfAplic+B1TEWvrLq1633tSWu0tpuDgFUXzO0lYiI6O4wYNGaXY5IEASRck5eO8bdLCCUyQsuyOUfPKOfFuXibu4qEkQy4EAMbV4ywKz8yzEGhUrpY3dDbjchWrIsJiKqV4dtsnZFRER3iAGLNqBPVw08txOz2mlZCgRAISKigiZbhpZ6lBlyzjnnMqVdVUM7Lkv743SgChEHXNQvz3X0W4/iISIiekMYsOiNEAB+2WlePm0PFNQSgMoYUmS4dUMWytZAte5sQhGN7pIEEYBIBlIAHJ48BVRQUYUDKSoA9dK5FcqjmfdTSHkoHxER3SkGLLo7bZf6ypnE1l66oj29OTiCI5irm4rHysyzWoIIUtamgQESABURaOXllJ0yEUsgdpmmHCYOgYQ7P0CIiIh+4Biw6I0TX6lgAeqrs6zc4Q4DRCFBdKgSgZgcBnjG4lxtgSwAkBHrBqqIA4x34LlUx0wkqxsCANW2YGUOmACI0lbLLvvey/Nojz9kOzwREa0fAxbdHQVgDhXxy+MIczml0F2gAwmDMqbBMuqEZo7Tl1icIQEiyEA2hArjCWrDcIDxEKgGlQKegAy1ckohAIGJi8NEQncwonKVkIiI7gQDFr1B7cT21VDjgEEEwZFKo5W7mAdIVIkumoFlg4tFcz6rLk5Of/0LvTjy2lQVBjNUo2m1sxMO7mF3ivsHONjD7mQwUAkusNqr0uQOILsr4NDbxzbwGB0iInpjGLC2S3eEjAEqt33hRiYo4WHbJz+V054N0LaDXQANjgAEUzhUNECiAXWD8zleHturEzt59en/8496dtws60pUXNx9NN4d7O3tP3kcHtwfPX1Xnr4LP8DO2KqQQhBRSGxzm7vAxcP1HxoPKSQiojeMAWvTVhqBHLC+7ftyDLm2Ewx6gpUT+WzlEt4eN3OHPd03TxUsuuNu2o+lrNlZFhdxcYU5XAIkigRRVakEkjPOLvDsFb54gU8+vfjis+N//WVz/DzPFkNRTZabNByPRvfvN++/548e2udvvZ3/t529v7FUpSq6hlgOgwZgpu6ABW8nl+r1p7fVkZSIiL7TGLC2hV9+YA5XmAG6Wp0qRRfvj0q+nrEc5exjvbzH7SjSlCFU7VwGdYEEF3FRiEBMYEBqUnSP84WcnuL5i+UfPjn9ze9nn/5BD18Nzk7SxYU2GXUdUpbBKJ2eXCyX+eQo1svw07/AxXxpvkxZx5MwjKqONts5IOJZEGTlAB0iIqI3jQFrC/ktOaArYjnczQBcntjXHm3c56lNN3OvPHJ5JYJuCujlfKt2xLs5AiACF1HLkpPPLxavXh599sfD3/3u/A8fVfOLqqmtaWw+15wqiCzcsk32F7NXJ5gcx6NznC3GLrEahp2YcjLEEMqOQi0H9dz9z4CIiH7gGLA27fJkmeurbYo2mEgG3OHiMFd3yQDcLqODo3zsEHMTEWxDsOhD1c0n434lRKpjFEO0hNTIfJ5PXs2fvzj/8vOLLz9/d5pHkjXAVAYeJsNRpdUMkk5ObVmf1PmzX/7Hew8f6ntPq8kUjSXJ6E/n2fRPgIiIfrAYsLaLlHZwLwfstZOc1MTdxdXFHRl9tHKHmLSjysWtfOBwCEJ/jxtUMpa0M0TdXVxcRLILxMW7JwyoJUk1Zhd2fmbHR/bqpRwfVxdng+gjqaM3jjRR2QkaRKLZs1ev0mh0fH6mv/vt3k9/8uDJuxgM4WKpMVERCd1BhKVatrmfARER/RAxYG2dEkra8o9fjwbqMIGXOpUYuvqQl94s7xYH5XI6+kb05aubn5by1WoRS2FBgdwg1bqc6WIeFrNRUwfPw5wqzEO26HkkElINaaTBSGURdaCwlASGQYVBBUvilx3+154DERHRnWHA2iJtW/ZK+GirU+1qlwjUkQO6ikx7mrHB/bK33bzrhb/jp36FC6zLN3bttqUBq99c2I5dB9zgCWaam9DUMdViaVJJlTyKVwMMofAMc4hkqEmTVVBJDfPFTGanNhpWk2mOMYSwUjZzFx72TEREd4oBa0uJiLT5Cbhc4xLxlWatmwUqv7p1cOXUvw1a7cEqYTFA9PIAZoEqrIZnpIzc5KZummVTL7Ivh2EnZATBMAagghkMEgB44+ZBw3iIQWzUB1XQg70AlRBVFED2vKmXTEREP3AMWBvmfS0KXjbWiZfDXkq0UqArTpVYFdpPvJvXUKpdpbG9fF/ZoXdr+9Xlbr51Ba+bGa+9WlQ1u5tZqSKVr2pXWMpmpcNMArS8phAQ1IPosBpMx3E69qNoy2YsUTw3y6YSwXCI4PPlwkdjVCFORnE6sqg5CBTN7CIPx6oVBNmymalqWT9lwzsREd0lBqxtISKXlSkvtSj0sxlalz1FAjhcuxOLy1f78/0A11vXxO4+Z/RLdeVTMxPADeIQW3nVJWdVwQcDm4x8dyp7O3Fvb96ca0pocsiwYMGaec5nZgvRmYuORnsP3jp4+NZgNIYGaBCEa6+xVLOIiIjuEgPW9jGHe7u6Z3Z9jc/V2yHpJZi0QcqvFMMUdzuj4GYzua3GQllZzXRTiDjEXSBwR9nwaAmiGI11f3fw6OHk6bvpbKZR5h//Ni9n7j6Ahiwp1zPgApDByMeTwcH9/YdvTw4eoBojq1g72sKla75i4YqIiDaBAWsrXMYAB7wdJQrvWrO75GQCETGIOFxUHC7WH6zn/fVQv/Wg5S0QQlCHQiUbHC4wMxHN5jEOZDrFg4fDxxeT87klj9PJy+OXBs3LRYpBIfOmrtXTeBQe3t979Hb4yQfTd97GdAfDEYZDCcG9jGK1y6XJLfsJEBHRDwED1pZxh7uUXXV9b7s7REwAwBwmUIEJFDBRdbiUyQ2uUINKv7/wzeerW2tXALxrK7vsJwPKXC+BizsMyO4uHpDNUA1MchDgIOHRQz29kNlCNCz/83EO1XJ2UQUBbJ5qDKLs7YzefufhX/3V7od/ufvB+7h3gIN9THesqQ2i3ZyLErOg4cZzJCIierMYsLaPraxteT/JACs9WmoAHAZId76zCWBqUEAMkJVTpC+rYytzoTbUjCWw7ECbrjIcYqJZEFQzYqiA8Qi7+/7gIFwsEEL9+O1mOFicn80luedkOQwHYW9n50c/2v2bD+/95U/x9DEO9jCeIMTFopYIXRnljjLmnlUsIiK6WwxY28jL4uBqKpC2IpX62QuyurcQDvcrmax805X77HfzuXuMd/SrX01yV16SiAgCFCFYkAwIUEOr4Uj29yZP3puMd/Duu/Pc2Pn5fH7heWmWRV0HlUyG9957eu8nP8Vbj/DgHqbjeiAuWEYdaauEVFUFMxYREd05Bqwt424uboKgXgZEqULbJT/rq1D9WKn+DENXR9uTVZbEgl9fIFzNWHdDSrTpLtsTngGoIgpUIKoVomKWHcEjoDHGgz1MJnj0EHV68ug+ljWWF8g1LCEIKkVVYX8Pe/uIA+zsWjWuoQqMRiNNSVUDBCGgjGloT8LekK95ZEY+IqLvLwasLSNBK0UFN8sCh5po415ar4JApREYXAMkSqWAZSyXy7rJEoMMVEOAajCUpi0PXWVLJITQd3+/uVfQDUUQh5u7O1RKuHI3czeImDhiuQ2ywgAVczeD1eJZPA41DCqkCsuHqGvUu02uHRlRtApShTCdYDTGcAqt3FRdPHsMIqKec3a4QCGerd1sGdbTifWtfnCXCeqbfBvzFhHR9wgD1pbp53CKmntWT25QKdOcFKiACIXALWvKYh6yTMyqtnUcEKi7wKFlWIPky9DTn7pzd7S7bDc2eldzKwU5MYM60OZBqLmZeCMQ12GUuL+HOsOaYE2WjCASgkd4NZCqglaOYKqSRVyQod2uwdvngG1KP35fblzZz6+48XUiIvruYsDaMEe+0R4kIqLiZpZzNghMYowqGuGasiKXo/5QN1g0yAbVKkS4IgwBBazJ5lqV43auzdks/Ul39wpv4W0jvqA8O0GZjGrSHsUoEBeHmWM4xMDhA0VWMahDBSJQdahDMjwLPIoZxNvl0SuNXxs88Rq4nAQriqvHMpaU2V20X1EoMxYR0fcAA9bmva4F2wCYI6cQQlSNCk1JmoTZBVJCzljWWMyxbCCC8RijAfb3IROoRsCQrw0x7zcnbnb8ppbDnQXqMDGFWnuEToCYu4pAy6hQGMxRqnGhjK3PLjA4IMk9W+MSRSMAUbjBRdpJrAA2/UqLLlS1i5UGBQzdpbY/jNbmny4REa0DA9aGSTtRoRvLDkDMgZSTwyEWFcOgURXJMF/AEr46PH/+lS4Wg5R9MbPUiPhgZwf39jF/GwcHmExlOPaApaWhRrk6oGGzFA64lmXMPmW0S6CldlWGrAoEKrZoctT25yIIBmSzDDNky0juooiIqkGwshK3HdGqKCG3j1mrlytnGzFaERF9rzBgbZLDrq4alSjk5p5SQkAUhCAxKHLGYonjEyzT2W9//+l//Ludnkxz0mYh3miM1XS6/+7j0buHfv+BvP0YT97Vai+lVAVpu5G2Z+mp3QfpgMFVxcwV3WHXQICVNUQVCKKbqgigDhEDHCoeUmoc5fhF7VdBRfo735YilrRbQC0ADrP25aFMLlO0nWdAeS3t9xAR0XcdA9Y26NeIDG4ON3hGjhKjSjRDzlgmHB7Ov/gKX774/J//xxf/9m9ycrxjTagv4ClUqtPJ8un7w7efLu89GH344aPRWMcTS9kRSmd7e1Sht4NJ2+Gl157F9avWT9ygZWzClW19Vw9dFEDVBdAqDk1MRAxWZtsrHIJhlOyl+qMq4uX5d6/28o42nK7aZ1VKddJO0PArNyk3cG3/CngyNRHR9wID1tbo3nbd3eGqqipBgGyoE04vls8OLz754vjf/+PwF/9x/pvfTeYzR51mp02aaRSMJ4Ozi8WL09n+/V2pHn7wU33rLc8GjQ6RMqRABN0crE0mj34Vr5uPpeXUnJXiU/f0BAqFGhxlsyGkLBiqhEq07WoqmdQBuxLbtmeVEF56xADY1fGvfRGOiIi+VxiwtkH3lmsCqKhCPEa1lNqR7uZocvPq6PlvfvvpP/53fPbFuwnVbKFnr8aasmVE1PVpGDyf6GQ2T+H9Ex0MEUe6PM1ea1VBtY9WDvduGOlle3UXeszaJcs31Q6vpe3q+t2GIN6ecL3ycylDQkuN53I7Xv+sXFxQRqoCECBcqQ6t8Wigy7t6zf2YW7+loN+14EA2iHQBys09t6NPgTZXtRMs4Bm+cnBiOUuxPHNVNbO7H7FBRER/NgaszVID9PLYwP59Nysi1MQMTY2zGV4eLZ4d1s9e5BeH49OTA427GqtBNYBfLHNOMIWfnungOE7s/JMvLn7xy0FVhfsHg0EUCLK5uwSFqoq4oB9u7u3Rhq1SVXqjL7m9dHFRQB1qgmvpqvzX2+HvZStAKP1q6uIr1a9Ll2cE3VEK8XbSwpWHSzm5ewhBRd0hXWDqKnLeJqlyCrVrdnFE0eihPapRxbtx91om7+ecGa2IiL5bGLA2rytbaNewo6VqoxrEgSbjbIbD48Wzw+Wz5/7qSE9PhsPxLvIQGkUhqAFLODueKY7yxF/97uP5//fPb+3vPvmv/6sEhXlusgQtsxDKW3VyQxd22rW5bzmm/M9VElxXS2v/iZerBe4QuEAyoG6l+tOli9IM7iVXdY1XuIyE7SmNbzyLlGjl/Q+uuzLnnFJqK4Xq2T2E6IBbVk+KBBgsITXIGbGCqBmyDjROStAVa7wMQlMtBymWcWhVVb3pF0VERGvEgLUdSo+z96c0q8HaZJENi9rOL3A297OLUM+xmGvOZsnzTCqrBBqQBDGhanKcL+ujk/Nnz3ePT6IIHJ6yuam22wnd3QXdciGwErAE8DedTrowZFImhaqJOPoW/P4ii7TD3a8/IZHuvOv+mnLPd1S6clyemS0iqz1tvtLiJiLqLrlBU/uytjRXOCQjJzRzGBADwrAKVTUGMHTYIqWgEeY33cULIyKi9WHA2riVBuc+Iri4wF1gggTUCYtGZrUsGtQLw8waMyRHBgQRqBC1GosMh6NKwhAYx8GoUqQGKeWcXRBEoeruKWeDy5rO5vu2L9ba+aJYTVfW1a7aSyC0M+hvy3sOqHQ/q9UhF2Va1pt9AZdLqysZq/9qX3mKIQIInrGcYz7z05P69ESaRfCEukY9cxfEgMmO7B/g3kNoEA1jB6rKRK8dGVlKWURE9B3CgLUdfGUXYVu2CQ5DNqSMlFEnqZMsm9QsBnCRPNBYicsQkGQR5pCgAKxu1DGpqig6m51PpzviiKqIESKWc865rBXe8hzuoALkau3LXUlXXfGu7a4CXLwMc+j7172/lMtDZq4QQ9l2eCf62tXlNRBVLRmrvSolnJzi5MSfPzv//LN0/CrWC6/naTE39xxjtX+w//jp+N3HuHcP+/vY3YdUCFW585wzgH6tkIiIvkMYsLaMA15WB0sFy5HLUTFhoFoJBlEDIFFcYS4aJQM5hLrxOuXsy2UO4qgGIcbytiyqIiEgBHSbBEsOQN95fYcHtYhIfxCzdJfed/ivtKi7IMANba+YXb286vIKfcMZS7rjA1drV/0HKurSbiFsUjOYzfH5Mxy+rD/95Ph3vzn/4nOfnYblslkumpyS6uD+/bP3Pxi980714OFbP/5x+OmHOAhpJCGEkrHKo4TNlBuJiOjPx4C1Yd6Hin4OALpFNM9uWdRQCUYB4yjjwWAyrpbnOcaZ5YQ8zLFRdReVUFtKwesYbDyMo/F0vDPeOUAZFxUDujmjAEIIfSSRK43afw67cdiLt4nHTQxA6Pq7AO83A7YnPXddVv0tpP1BWFh5UhnucOvu6kbG0vKIbygf9i1iWKmoKQTmZfq8A9m9DFGQsv5prosZLk7x5ad48TL94Y+LX/9m/skf/Pw0NEur63m9XEJG9x+Ew+Ozh2/JgwfDurl3cB9VFEEYjwA18WTu0hc1r+k3nxIR0dZhwNqw/k1SuineKh4lN56qIDIwVBm7AQeD5tF09N6jh6dPJerZyckCtithXteWkZPVSGG8e2T2XJvJ/t7B0/d3Hz5GA4QKcnlOTowDg7tJu0jY9bpLv/Ym7eylcvtrPUbX+MoxilJejZcijzlQTgwE4A4tD2GOYGgrPVB3h2aX/oGkPA9vZ59fno3TDTnvZqN7KE3l3ck4baBra2Hfgq9Ete41XzmyxoHU7upse74CPHobBMUdkAQ30ZKVIxxpAbM4e5U+/xjHz2Yf/frkNx+Nn30xPDkKF2c2uzif2y6QBMuzmcxqnMzmh69OdnbuffiXPqqq8QgW4R6gXqmLuKhZG+DKy4eYi3UTIpixiIi2DgPWdlidkeDZPQGGIKgUowF2J3i4P378ML96x49fJuRjFW8WF9bociGLZYjaJMNkHMb74+nu5L3Hk0ePcHAPuwdQQWhnSQHIbhAJKuval+bXPloZVl4mPrnnUMYOGDRKzg0AQYC2k81FFF1yEoi7m7t7NgdUNAzK3evNEo67oJ3pqe0wr/XP8Gqjm6y8vvLb6j9voyVy+z8nhxvSAouZzE4XL786/fw/zz/9dPjq1e5yOYGjCvuNNQkNkBza5Ga2aBzLZ8/z55/L/q7UC4wGQNvLVV6SGUzQbgQVuWWZlIiItgkD1oZdLq61+wc9G5K7x3KEjGI4wtRxzw/eeTw6nwX301F1MYo2O2vq+fL02BUVIuJw/OTdB+88nd5/NPmrv5k8eRe7UwwDupoSHCnnlJOGEMLaah63BRoFrH//dxd3Qen6EpFY+stERdy6GhEACSLddkJziFi3+nbbo14W2O5g6tWVR0ZX8HMvP1qDuyB1UauMrkKTMF/UZ7P5y+PjT7949cl/HjT1RIMoYhUwSdp4gCxySCmn2axeLOfPD0+/fD54+nS6rGGOoGjXUAVASkn+f/bevDmOI8n2Pe4ekUst2AiQ4CaJUo/aZszee9//Q1y71+bemZ6e7tutlkRR3LHVkpkR7u+PyKwqgKCaFEmIgOInqYiqysqtQMUxX46z8BB5/JzGAGUymUzmErLA+hzY6N8zU9UAJWIFR7A4QVGhNuzuVnfvd2fzxeuXZyevWta40PnSWXReilt37shXX+5+80e599B/+RUOb8ERuhbeKymDldDFEEIQwDk3mEnR4IqZsnMffCm0ITOgICYmEKlZVBgiiwPAK+VkBkWyPsfg4ACmaJKK1ZP/KG+4ea5uVO/ooAbpD3kFblFiaSZiOilNpqgKaP9nb4eFGLRpw2yhp/Pm5evm9VFg1sJ1FpUDCEXBUJJOQ9NEmkWReHzaHh3r6cK3oVBAkiDt5+NYiCbUxyOBy2v9M5lMJvPZkAXWb0xfE23riSpGMGMjjgDgiIwdoTLs7CKqtzhim0zrbnasy3lxeoy2LZ3f2t2r738xevQHOnyAO/ewt4PSqQgJpdDRm/Ijvbaeb/cRQiIpOrVKqAmBh0l8QRUxxnQwBomBjMSAmA4cYQRiwKIhUD8fuSRiUyPwqvwdwHlLz42b+WnDOmwg7YdOr9OgRBHr4T39pEUDQtQu6NmCFq0P5jkSmaqSg/cwVTESM2fqY5QQ4unp8uXRuAsWh8I86gNWb4s3XpW1aiaTyWTemyywfkuGunZaPweRMMxiGhkDA0khgtrDBM7hzu29h/f2Xv2xW84RGmuXYirOQTym29g9wNYORlOMRqgqrFKBDAZ5eCJiEWZcXoN1iQx71wvZfKJ98TsrrJ9lbBz7gndLuU8BUbS+Th7oXRrIXDJ2V4tCDEAHe/vzUmLl84mNDsQrgGw1AJFANEwWhIF4nblEsq8SUFy2HE0AbyQKzyhZxNHsLJCYJ2bmwOy6Li6a05OTLWJmAQRqYGLmNLfQsazMNdYHAXKFeyaTyXyeZIH120MASNOqDCYYC6BkSaAEMhESYowE4gBFVWB/1y/niO2qohxbU5BHWcPXcF7ZdcLEcBgKswnOMZFPR+xThKs5OZtWnu/HkKiijf47AICBFGYWmUjAngEmYpCpREPo0EV0iqBQBTmIgxN4J86TuFSPxYr+RAkXyq3SzJ8LllSfFEquFroK1SHyqolyaANN/ZgicE4K7+qyrKulLyiqA9XkPAtCrAyAI2BpLCD2jrx33vuyFFeAZXBZJQZCjN4xb9jDmtnKcCuTyWQynyFZYP3GrKq1B4dyEBH345/JYAEKoGSIOBSwZkZlBUHLbF0jFJlINTopwAwRFAV8EYziyl/KjIdM2mBf+dbS8Pdtw/uF7JXBLEa1CJAX9uwARWyhHZqARYPFEosWyw5RQQLnUJWoR1wVXNWgCg5R46UF3b/VeD7eTFNSr4IMcKkJEkBqTWAH5817v71NW1Mr67BoIgAWGGkXymJkRIs2dEHbkqwo/e5kdGuXi5LFDxVlfRehqnpxPHhtwMwYACsoO5BmMpnM50kWWJ8NydwIMKiaEkmAGohAEWgAx5DCkZsQGVAV44l1LbQFwAzUIzADbCQRwkQypCBNCIZU2EMETlVXug5f9aRs5Rvu5O+AnhNaQ9sizELbEVshIjDTQBqgAcsljk/Cq6Pu9YmdnNlsHpatGUldy2gc65Hs7YzuHODWLVgh4Pl8NqpHcDzIUEuXAZwb+fPpgjlE/RQf26y+GsrbCUZgAxyYkKJxDAPY+e3tZnenPLyzN2/D94/Pjs9KQhOCECjoIoQGbNPRsiiaupgc3t7/w6PR/j7EwRTCg3gjs6jKvOHnnm5wGPKomUwmk/ncyALrM4UAB4ogg2lqymMwIMQMEkppM0RlAMbGxlEBXssb2mis0zSO5uMHfd5oZNtIMpqZMATwBAFgETFgOcfr18uffj754cfFk6fty9c4ObNlB7AbjTCdYGurvHOA+ZejpsHuLuoRg3pPBJyThP20n9/EryCpq97fNHUqEIG4H9UjEG9lgfHE3b5dffmlRDqdtbNFYI2kgRAJWMIiCdUj3d3inYncPaTbt1BXaWpknzY200HMnT8+GzR7NWQymcxnSxZYnxVpwVaGAmnYMamRDp12ybbAEymISYyJiFOyrFWLBICYmEkdhvnA9M5VVb0R18e5EgKYyDMxQUgBhQY0DU5P8eSnkz//9dl//+Xs+x+75y9wfMZNSyRcVZiOaWe3fnBPZiejbonuPm4fuqJEVIiBh/DVheZB2vTT+jjn/1YG6wgjXbnAM5gB6aOQBGJ4T6MJ7e7y/cNR26kbzc6WJ7MmLOc64xhgRlEKGU/GB/vVF/flcH/yx2+r+w8xnaIsQRwNwSCg3suCTwAAIABJREFU2GtKhfH5zC7nNsJMJpP5bMkC63NhNfmELTWQqYHZLBAUCrD2Vd0WLDgTBoSI4YIpCARjlmScJMZEEAOASL0KIEpjXj4+53ZrAMDJ1pwAx2KRCYgBzRLzU/z8pPnu76/+608v//Tn9ofHdHRczpccIhurd6Eu49Y0nhyNQjunWIZWpttS1haVUp3WZQLrKulHChFWU4JW8cLh8h2gcITRSHZ3+eDQK5EfFUen0pos5mF+2sxnIQQuSr+3V3719da339i9g/oPX9K9Q0ymcD4CnWmKXw5dmWZD4vU3ufBMJpPJvBdZYH0WGK1ybQYyUWMztQgguWwO9VggMlZlEBvBiECexczEcWSkwnYhiK2X/asOcxAwSC4mojSmOba6OOVXL+d/+8vrP/351X/+x/yv3/GLV/VsttVpDSJoYF7M/PLsOLbLOcLcoVXb/vIbunUQu05ihJNeXpgRv8Xk/VNiZJacREmH/KASmKEMYQMUSsQkYLKygpk7vAtXSrk1WXRxMi5C52YnND9r27asx9Odvd0vv9z95hvcvmW3d7Gzi6pQSBtDRxAmY+qbJS8jpwgzmUzmsyULrM8I6+cHK6AWwURGRFAeph0D5kBMRqpQwKQXXUzriuiVmzoA66uvkHrSUhDrUwuTVIMOBZTSjD6LsNAtZuHoxckPj8++/37x+Cd6+WI0m++23XbEmMDMUcOs0xNtZ68QSllOK6vq8WLhiTVGZiZDEhuK38yhoJ8MSJosvFaTjsRSlKmPaylg4riu/YEHF6i39yDVwS1POm/Olst5E7q6Go/HW1sHd+jePWxvYVSgHkN8F2JjEUTsmMBK0cwsxS+zospkMplrQhZYvzXGIMWGNkJvthSJCCzpGSfJQjComVoXoKlVjZP7uQpbUk9EsGFwi/zieryqRqePb4JOgEEtdIQABjTGZtken8Tjo3h0JGenvu32YLvMW6QjBgsFo8JMYozzs/CSmyd1O92KzdIzm5mqCvD2aM7VYamkrEcp2ZfZunqtg0UzYxJxrioxUdRTX/jt/V1IdLackLahq4uRlwrVGHv7qCoQgjiA2qhdDCzeU5pwTUpvdhMAn965PpPJZDK/miywPgeSAYEOUSoGUvdYXzZFgPTDWCKZaQgWVCM5MlYGiZIFgzGZpdl1xmncnzFTv99kknmup/9j2J8r1upws8xcYaqm0EIBYphwUF22drbEfOEXwUcbg8dCpYGhYHWKwlQCKHQdvzp7OVq+eG6hA5lZtH4KjaadXywm+2RhuVRPRgbuvVj7cxi6DpK62vDiNyQ5aDBmMeLA7MsCIqg8xJwzrrxrW+crRACM8RjMShQNiBosJDUp68jlW8/to3FZInl1U99+DnrxB+NVYlqB1Tmuh5qvtjfO+jCTydxgssD6ren9P2UVjSBmMGj4ZgRgsO+XK2fWkQjVgPHm+lo6wYVGOus/TqtVbjPisTGjZ3OZe98k1FAmdk7iRCBAAkfiUmKUEBGEFpg/Ozt7dXLy8ytbhL1qWjWL+dmJAlWJikmFCyn9shkLeFQ3oVVru25ZL87IgogDK4t0XeO8V1Mjks1zfwc58Cb0pkq5aIgAWb3IRCCAeSOi1Ne6EdFwqwUMcNrCVN14DFO4GuMShFQ85kaDm1a6fwQi9gyQbflR2rOaJcFS+pJpsBn9sNGR0Xpzh17daD9xiFZ75lTAbwCiGREDaao1eBixrdAQWkU0izB1MGE4YjBDCkRrY+zI1DGxUwCmDswGB5J0IesKuuzjlclkbiZZYH0+vHWlSUtpitkYudXS+qaiOLfoUv/w6c2+hwDOEAVJ1WARzCkeRwawoChcWXDl2GtE0KgRXhyLKWt0BYBIHGFqrEAgi5Qc2yORkQCmoH4en25erJ07+kfnzb1eIsve2H74vggE65+98VVcEHN2TuHyWzf8lQx+DxgGRP7SznX4SGrcdIPBmgFmTOxAZqpk1BeeGaAG6SOlBnRQ02BMDDBxkm19JZmtjpAFViaTuZlkgXXN+NzKnNfL4y8n6Yi49NVovCxL56ulyaKZj0GTalx51rhkKWKMMVrTYSnaRuogkVzyvmJ2YL8aJfRpL+mj8razfduon8/t6myV50sGYIxoCNGkcAwWc4TIGgdPewAGFhIhKBsiMYNcX0yGjbQ04TdoA81kMpmrIwuszAdBq4fE+TASgWwYgshlVW1tjbZ3ltu7s/JJt2wDQaqRrzi0RbDYAG2MZ4qFOC0qGk/9ZEreqxlEINL7Tr1NgnxeyuSf8LkJqbdBBB4mVyYZFRXBNCqYh7kCIoSIqKbatg2coPAMR5SM7UWQolycui/MCGy/HAXMZDKZ604WWJlfz7q6yy6+nhoT12VDQqjLcntrfHB7uX9Q7OzFJsy7OIfTSE2ktg1tCJ3hDC6MpsXeQXl4u3z4pa9HzM6YQH3BEPMnGPmTeQtuKLNP9hMBCNAA1S6IUOFEevdT0xhjjIumFSuceJW+IyD9cnjjVJU2pBWTb+o1kZmZTCbz/mSBlfkgCHzJREIAQO8xkDQYC6oS21t+f6+4ve/v3LHOFkevf24DLZqmXYQQAoyLsq3Hfv+gfvBF9ej++NHX5XS69hcdiBpBl5WW5eX6o7JK7Nm6KxBgIjMvThh+1YyhECMmHhUleQ+hVI1FfdtnHwQzA1LoiikZinD+0jKZzA0lC6zMR2VwL1gFsXrbdSYUBSZjf/ewfPhgZ9614+nip5/PXjxfzrXRaEUp3o22puXW1uTRg51/+aZ6dG/r2294axvOI4bNYIeqiqSGvk9fwf87x5JlCK0mHwqBWSoWNqMuIAZoSAXsBBTOA4xgUdRIGGSAMVEc9kcwM04jh3KWMJPJ3FyywMp8CDx09GPV+L96Y9BYoohCBOdRVbh3pzo53YYLe7s8mc7qoj2u23bBzklVF/u3qr2d6ddfTL99VDw49F9/jVENYVVImkoDoBdYvbTqXRJ+lUdD5p9iqmYGYlUw95qIjCgqug7LBssltAUAEThBYVA1s8iComBfmTCGWJYCZCDilTdbJpPJ3FSywMp8OHxOXfUlO+ohgEaLplFVPQv2duCobJdUlnJ4u7592w5vFSevjQGgquutnZ16/1Z1eFDd3/cP7mJrkizOpSwBsHhTjRoYaTjQxgqd1+p3g4gGUwtbt/ER9UnYPpFnBksTmMgQu86VwowQQwzRGRAjmg6nZ3b0upvNw3IGDUXhXV1iutO1jZ9MyTur6nKvVEMcrMNi7IcSJEctvaDKM5lM5gaRBVbmk8C9tbvGGDUawYSJHWNc0/3Dshzj6HRysP/1Vw/PmkXbdWrBFdVoNPLTMbYmfGuq+9syna6zSJvNibk2+lNiZuu7LXDkk6mCUxAxDGgavDrBs+fz779/8eTxyavnMXb1uBpNJ66ejG/t+3/9o3dOZ/MOpFUl9ZgdaxJyMBhRX+Gev8dMJnNjyQIr82HYRQGUwiKSOsiUEGFGII7EzBwKcft7qCYYjxFMCr8NxewMYDgHcfACL6iLdlJELp0Rg1cFWCsnzuFoG/X1/Uu5rOeDeNOgSw0cAYAiEBVHZ3j8GE+ezX94/Pyvf/n5u7+9fPEkajuejsbbO1KPDr/+ZmtrisO77ITLEkRg1tinjc0AG7w7rvzqMplM5srIAivzwQzu7RdgwEDMqQSHwBKBIN4RMBohRChQ1yDDqIQrwCnVKGDTgjphAzEJbcRTcuzqAzEzW1nfp6zg+bf7b7PfjBbz1lQLYc8MA+aN/e27x//jf7Xf/xge/3Ty/feLFz/z4pgpYlS2k2dni7D84QnNZpOvvpT7D6bf/gHewXtjYXJKMIu9nVmWwplM5kaTBVbmwzg32bdn7dtN7MUpEwBjighEPiIKAfW4H8JCCOMxsRNiKIEkzfNLMQ7rB/EY0CuCrLE+CedrsPpCOkI0DV1HkXxRwoD5cvHDT8//93/q37+np8/j0yfjxdm2C+LJ4lKX83i6bE7nT2Gvnz+bzs8m+7u0NUVdkhTmmIgt2iCw0vedZVYmk7mZZIGV+VBscKFM9M5JyUgSYGJmxH4zJmirsTRw4WFA1E5AftSpqsLTud4yG3rNDIq1aKOssT4dF1KEVVUtFaQGA5oOr4/bpy/16cvxyUJO5pg3Rds5jWSqpiF0Uy6XhnLRtK9ed89fxuNjFzt4h9ABjkBKoBiAgt9in5bJZDI3gyywMh/E20zVaUg1ATCQUVpO2RAoPScApMxRBEBkJiBGiA6f7zdJU+76OAcN1pWXobkA62Nhg85iB+dcmRT0yVl8/NPRjz91z16Ws3nddGW0QoE2xNjFENX7CBFbdkevTsPypC63Hn91cHibR5WNRoACYhZXtrFZJmcymRtMFliZjwO9KbbMoBrNjNiEmZIhuDhhEkZQGBQMtWjmZZicwgYiZjhCHKbxvNtsnN4k62119+dfu4y3q8WbAfWRxc2Ma39x0YyTWQPBCDrUvVkElFgE0XA2f/nk6cvHP549+3l6Oq9ns6JblNZEm0cN6CAa66polt3i1cv5/IS2x93xcZjN3elcitoMTCSahXAmk/ldkAVW5oNIyzC/8aLBUq0NOPXmRxgMDJYAGCDCxHAKhsEUIe1HQWpMSrDeX8sRmM4Nlf6F1VlhgOmF8dMX6sM2z/z8cGruX7pwecMObCOWdk0RW82s6UkvqCkYTKywtu2iqYh4Eceg5OkaY2ya5Xx2enJ08vrF7RgoNoKF444JRjg1dG2symVpunx93FaVPzlYPH9JJzMOQAsKDg4FXEBnliYV2vW+m5lMJvN2ssDKfATeGuLh3sGSeq2lAQLAgEhgAwNsCh0KtEiVksulDUN33gdj2DBf+Hxvow3neSF80qcuV69dCGKd01/6a07ps8J6d7L17Ugvb5heqKpu3AVLgtUIXdc0Tdu2FjoNrcVI1jEpTAmRgNKhYHIwjygR1HXWtmgDRYUCEYgGTiV0Mtidah52lMlkbipZYGU+FUR0oWKaiMwGM6SEWW8NYP1injzEzchIsel4+a5HvTzTtxlpuykZvw/gjVuQ+gYsFV+pDf0EgMLSd6SBhVxR+KqUwtNSkZLAZtHMAG8k3nEHRAggXDrxIp4gUEOKU5KAicDGfWNEHpiTyWRuKllgZT4tK5nVD2khWwdM+vGCa8HVFwWpQYgtlbf/ikNuPL47xm9d7Y1BN6VwqC+06u95yg+uGzNVVXXYcDB3NYUZHFWTyd6dg9n+rbPtqWOhhWkTYMwQgpoKWqgXBbErxtPt0d7t7b1bMh7Du75hgaDExhh+D3L4KpPJ3FiywMp8EpKuWj2uXmeDkgHEmjaz5M6++UH0SovfWyW9ZXO+9H3bfJNB62qtzQQar87uxsyT5l5j9ZdJZBszCoXImNFbviLGGLVDMK+KUb11a2+8v+snEzbE2IZGSjiRCiIATONCrWVR79xka7S3P7m1j+1tjEZwLqS0LwHEKaJ1IxRrJpPJXE4WWJlPxaUpQhjYQMloEkagFP5IsmW12DNgBLFfo2XsrXnCt2yN1YDqc55eqYGxrxJK1V3XXVpddl9W97i/9UTMnB4BqAbVYKregIKwPSlu7bpbOy3i2fIsnFkHjIlLVwC8VH25PJvXVRiPZWfX7exiPEFZoPDmRYVsKGQzGPV3N5PJZG4mWWBlrogknrj3wLKNWb8KGRZeEPNGw+D7Cxp7mx3WptSz849DW50RxfNrvgGSrA2G8jBwfGNYX391bzmjzyxMM6QIN/O265MncBJWQ/bQMZMXdgJVSI1b29Mv7u38y1eucpH1tGtnxydHMVZtJ+Ibpp+Bend3+ujL6utH9Tdfuf09jGp4p4WPQhdDg1d/+ZlMJnNVZIGV+bRcEscCCNRHhtZmCeckVbLEGhKF78oqx3e+MxAAUmlRv7RvCqyV8zygRJtBLO63MVIlA5sCsCGV9uZlvvt5fs4Ms7Spv4de2NUAECMMYJ0+vLv1L4+s4FjJUsOMNM7mourYopfXPL778MHe//f/7PzrH/nrr/DwPna3MKqUWan3n01/MixXuGcymRtMFliZTwgNNdSrV/jSFZVWAitVPevq5V+BrR5SbEpVVflNAbR6gSn5W61SVpSsCbjva7RUiT+4019+0EvjWusz+ZwU2OpL2YwV9roKGM44RZhUk8c+gw1GqEvcOdj9t2/j9jje2fP7u/LkSXu6FENZjKksC0J9/1AfPcQXD3D/ELtbqEr10hkpCKpkcEyO6J/e0kwmk7nWZIGVuVJ4I7xk/1xCfZL8Wu9ndd4LKtWDsSH29WFgTdv0Ogv0O6wZUmZOJmZBzREgjP29nW+/wd403j+o7x7UL77s5o2DFH7ERTEFFQd70/t3+f5dHOxjaxorH8BKBDMyiEEMjMudXjOZTObGkAVW5opRbOimtyyvH6SrVokn2njlAqtqawLDkt082GDohyGqIg2e5uRpQP25GjBkzy4c9bLr+Az75N5BzWxuomZMMDNiNiIiw3SC0RfY25bTO9P7dyenp9ZGRgFXwbkdZoxqbE+xtYXJWL10kC5GZkdKbCa6cauytMpkMjeXLLAyV8d7NPf92v3/0yhTX39FQxIxyayhKksG61PWjSGIBICVdb3lu57QtR8GY2ZRldmzCIFhESRwDtvbKD0mNTUtRYA8qAAxvIc4FB6lt8IH5qimakJgBSuSkM3SKpPJ3HiywMpcNRcUx4VM3cYb/JY33mH/GzulwRhCNybD6DozaMkVoi++TkNdhj2stuzL5+l31/vGImpkq5ZPY9OOiOAc6hq+wFhhDHKAgxGcT62i5lxkMCAMB7Cid+iwi7OKMplM5kaSBVbm90XSTOs4FMFgIEha+zf/BShVvhsp41d5cl13GFAmjhHSi1Ai8UjDBUnhGGCwgBxU+r5AghoU0AgbJk6KAno+uZp7CDOZzI0mC6zM1fMLY2cY+KA84iVe7Uk5XbaWr+JYpEOB1cqnAcMPwzSXmzErZ/PWvlXevOFZ74Q0rl4QRLUYDEpEYJAxyCmRAaE1ZiKBRsRoZuaImTbEK/X9BEZ51HMmk7nJZIGVuXquSqj0Sa0005DX2mJDb61+NLO08K8+mEq6lGBkyf5KwQRIai087yWx4TegABspGX+AUPxcaJuuKEsYmIEAABo0dgEwZSR9BRYmUoIZOo2emXtfC4UqCEy9dymgKQxmRCsRm8NYmUzmRpIF1k3nfRf5T7zc0buoqw85h43KrT6AxRRBROtYCav1GUBCl+qL2ExNDawGMgihcAYLKeHVl7ZTNHPERKwKi2xmBJW1K+eGbiOkKYuKuBql/DlYYb3TGWxs5F257hoQIELVolGMLE7YORKXbkg0mKELc2YnrhIGsZkDQ+PQGmD9pO84zHj87W9IJpPJfCKywMrcZFLljxETwYYeQCIyA1la5I0A6tOIqmREBiZFaDV2SaX19UdGRo2yKCSVZxkxpfkv3I/iMQUxAL7mzYMrLmrCNEuHhYhJUvUV9S2ZBDI4zyLErEnSRhgIxKSqSrDBj5VpZep+Q25UJpPJXCALrMzvhbVd/NAUR4CPIFYxMgODlGEgJTISFWjQzhQaISwggiHGNA1ZGDSEqVYxLtCNsyJdJfeGp+xISIjImJJVWK+uAMBKXzihYZ4hBMNGA6vsa65xz2QyN5sssDI3Gb4sR5rmHQMgwJlSpBR9MYIawKScolpQgsbeGZVEBCQAE4QAQBUxWgitxljX9cWj2GBPejMYrFYh6JOeBBgUpklnGhHgnONVTGoYH5TuJgNm0KEajrPGymQyN5ossDI3n1RnheTVnsbeDKs+IkAKkmEQNCmLMkVYBLGxgwBwkIKcJxgrJ2mh1oXQdV3btiGEKgmsm6gXdNUt0Luy9jfToGYUEa0XTQxT4j6IZ+t84OBKZkBKyxrINgKKmUwmcxPJAivzu6Avkdp4BEA2DIYmgEgJSlAmAAzyYGZjIwJ8mqjTaw2DGUyJYELwwsx6XiswBt+s6xzB2nALs/VTM4WZabSUHbU+gMXKSHXsvR1+ugNJZhHRWmbhrcYZmUwmc2PIAuumk5cxAMMyb0bJKACbmoEBhjICIVL/ggNc0lxtizagizAFp2HFBCKwMHMtZFUZiQFVrM1Iddjx9UcB6LotEoAG01V0KrVGGg8DG2Oq9yeAuJezZmYsrNhIGhr3VXD59zOTydxQssDK/C4wM7a1ArI+f2WpAlsZgRF6Y1FlMHeBgmHZYb7A6QyzJboWiJiWcIBzKAqUJaqKqtI5VlUQa29D0D+qXW8rgjdLyAwpfNXfPmImIuvr2EkIChPAzFKd1kqHAeBhClEmk8n8HsgCK3OzeIuckSEAk5Z8SfU/zBC02kZmBRYWCnICpq6ReYMAvDjCq2O8eP3iH983p6e7t7Z0xLF05j3V1Wj/wB/eBm2hi1x6FoqGABOSDjGEUDrPRmTrNNnHusqLAaTzTz8uPBjb69CJybKaeb0hWgE15uQJlhKCZgCYiIhUNf28PslcgZXJZG40WWBlfl8Q+tnPicjUAQEaYNEUpAJyXcDJGZ68jI+fytms+/nZs//172cvnrWHB01lPKnddIp6fHqwv/X6wdaXX2JvF6qoLFmVs2cAnAzNr8S34dNZmG4Gsd7lYuiNU7FLU6WrrXIxViaTuaFkgXXD+cyM3K+IzavmoW0QF3JeQ4F7RxRMFQaoA7kYMFvg+avu798f/eefu5+eNk+eHP/1r93pyfGT7dabjgqMxjbdKu7e1tm8AFdquLULEWYWtmRlYPSp5uxt5t2ugGS+v3FI68v81xucw+iioNLzKoowTNu+Gb9tmUwmcxlZYGV+X7CBNrTBegwMsRCVABYtXp/gxWt6+vzsz39+8j//XV+8qGI7JUh7Jp5PY5g7od0d6bow2Wp3dlikmE5RGxOlv1EGwlDs/XHZVFep1OnC658omtW7WKxGNg9H6V/vD85Rk33YxciUY1mf8DtNnM5kMpnrTRZYN5BzEY63LLf2ttjWuY/e9NUvBbeUhFmAEiSmmC30+cvl37+b/fm/5n/9v/jpRzk7nogbF4RF7GJEiOJdDBFlvahHZ6NxELd3/wGKCjUzk1my4oR+1EbCC9Jq8+ehR3Jd6cX8MY7cj7UeGLQcbQg7DJahiWR1kUxW6Vwgcfho+pW86b9ZmUwmkwXWzWS9AL9lJUtFx2/CwwdupLrq04W2ThaKgYxZVYQKECJwNmueP3/yn3968T/+p/7jH3cKN51OaDErQihFmthtOR+K6izixZOnT0PXeL9blntfPYIvQKylIzXIR24f/GV1tSmwfjmB+GuE1yqdl+Zin28G5A1rKyNQClUBq/woD3O1L+4wk8lkbjRZYN00LqaQ3rLMv20Z3sz+2PlAxQ3EwABHC4gIADOagNm8PTqeP3s2+/nJ6PRkezLa8mKteTZmK4RMWJkpdC8Xi1lo6dYtd/s2ZjM0S8QxR1llxz6FkLjwxb2ZIrz06Qcc75LXGEiXyP059BnBYXzO+R3Qxm5o4zGTyWRuNFlgXTNWq9f5RUph68iEmQFsZgCxUkrL2CptYwQyUwIpjNPjkM5SIoEpESGpK3rLcd9yHp85Oox5IfST8Pqpz0EtRhCj67BoMF9OnO/qmoQXpydoZ2OO7BAWCwBNWMZmEblwLHVZuGWL+QIx9uXgwsQMgBQ23NVfd7ZvaJvV3vrv2sxg/egaO2eZwHpBYCXzhF8hut4op0p2F7zx/oVzvlB9ZSmIda1+TzKZTObDyQLrOmEba/VQ+JIGv61fJgOB+2ocpHJr6gXF8EggITFiZQKYlEjBkQwIGoiMmZkZkhQCpeOmVXKVEupPhT+3tTPdkHN2AUwEQ9KLxLQqQDNCAKIqG2p2FAJmLRadD8bRYgjadea4qMqwPG1bKzw67VUZUeQQaCF6Nm+OjmOzlLoEYqttQaPYRRhVBadM7Mp1859HBId83MY9Tw5SoGTzCSUiECmM1BBjf4nM6etVQA3GaateIJmxqpKZqvajmt+FC+qqt69aDW48vyWAjczguTc/r9+QTCaTuQqywLp+pCVP14uZbjzyapv1H4Y0Sa9filfVWbRO2BjYyMiEOXlwp26vtWHUak/9ce26VtIY1mrACCCwd45JDAjpDpFzrihKX4+60gftIlA7X4iBwRqZCCSszFE9ceF8UXpiBsEIJpz66MR+laywtXC2IVq12pFZOkM1QJNtp+nqi1BwNFNiNQOvgnR969+7y6pzvOdHspTKZDKZRBZYN4LzlS9G6wiN0PqVtPgpYBa9k1WqiRgG6ucVh5jmyPUJr/Pd+EgfuY6VNJdVRSURw47FMdTQBhDgGaVH6aUsWnHNcrE0rdiDDdqZESDGzsCGoCzkna9rLgowIsHERUCFALB+6E0avoY0x48sZX6JtO8DNXbpO+QAM6I4dEZuXrQaBCBKQa6rMD7NZDKZTBZY1xUGzi2Wfc2xpiY53UjrDMEn6yfwaTAzcLKDZB0+rQwGINyHOmxQV0Pv2KVncN3RQWaBCWRggndUlRjVPBnF0p+dqmhXsXNKMaAzRIESWpFQMI1rvzOt9nYxKsGkLOY4AmrGxJ1Gz/J+GmvY+nzpFgMwimqWLD7NEGGkRkIA1FQJihDBG/5bnP4TwNJURAKMr2vsMZPJZK4VWWBdP+iitjn3zEh1YxhMk8SDRlikGCyqmZqZpmSTkRJAQuKURdHPkVn3EvblVkZ8Xid8vuGr3nBp4xVbz2u5EMeifsBzBFqNhlgIqPa0NfG3dor9W7yzE+fzxUzPIADF2HZABFvh27IiXxQH+9P797cf3MN0DMdBYC6FicwYGtRfXpX0rley0lgKqJEaKfoWhaS1YoxmpmaRYQQFpzI8Ger4AVhqgLA8liaTyWSujiywrhP0iz1pq9Jz6/9MFTwEmJhy11EMFgNIzYxCA4AhQmLizIM8gVhJYz8aWfol2jb2jn6JXpXbf6pxMFcFAWraEaf/LcDvAAAgAElEQVTqfl862pq4Wzvl4UHx9Hbx7E7btQ3jqAstorliGbooJL6w8ci2tqsH9ydf3N/64j6mE/UuCjEoAMHUMWKwX32DVs7p2PjGjQBTM5AazEhjQWJJbykiJafU9JG+gouMLdXJGwyQrLEymUzmSsgC6/qxCljZ+fV3Q3jpqrGQQKLBNR26Bm0Li4CCFE3bp4/YkS+pNJiq49SAF5kIkD5H2Mc/0u5WjW3Wr9p8TRbszXTqOubngGBQUyjYOS4LMKNppl9/sTw9mc9OqJCm9GfHr5uorHHeNuqcm479/j4dHBRfPxx986V/9AW2xp13HZMHIqIpccrMvS/nY2y0zvBCYVADTBQERVSJyqYwCEUAcAxlOAa7NkYjBpGSAaZGEYBafV2+rkwmk7nmZIF1Q3gjrKUMJqi2LbUdFkvMl+gaWAQFkGG+hAHmIQWKCuUS49oKL3WhTGREgJH0qcKVTlgnmfQ6R7D6jks2GEHAwSII5ticIyHsTuAe1CfH9eLMClk4zJ86CcERzhZzda6YTuvD2+Xdu8VXD6svH+DhXcCCIyUYGGb0Dqbq74UBZCAoqbqopIBGhIhZ038VrBBGIRCGc4UwRCBQosCkgJoBpvTGKOZMJpPJfAKywLpmvNkMp2AAiqCqjpmAtmvm81lRlFv1CCIIC5zO8PT57Lu/Hb/4+fjs9fHJkQUd+bKUejzdm957UN0+kDsH/vA2HLiuQRxiZHEANJlKbSYKhyzhZxsMueBv/qYHlVk0MyPEwCzkWVTIEM80+K4r69IWi/KLe1/t30Ls8OPjv/3H/1keHU3HEzC5UVVsb5W7e25/z+3f5v3dtlm4vV1iKSAKFbD3BSLGVfW+t+htd1UtMpEX7qOIXYNnL8LT5+5ohsViPjubtw3XbrSzVWxPtCjc3g6mU0y3uSAxao3i2v9r43A33qw/k8lkfiOywLohECiNmWOATMnMYkBosGjw7Bm+/3n+t7+9+Mt/vfzph9cnL14fv0bQUVlP/GSys98+eDF++LCcnY5jVzy4C+fhnAMMqV5+sGu44A1+3nnr+rBZOM6ElbUXGyySmRDUVXfvcFWhaWDAdHIwqpazs8moqkcjFCXqGuMaozGmI0wmRVU17LRPmBIZE4aJh+/PpZ9zJIKALqJtMGtxdGw//tT+9PPxX77Tk5Oz+WzZNVy4YntU7e3yZHTn229wcBsRmET2tZSFiqjm/sFMJpO5IrLAunZcLmukX9CNUrIIhra1EGg2w9Pn+t137V/+b/eXv9nTH3n+2p8dI8SiGAmP7MVZc9bp2Vw1OOcgXACYTOCYxKUGPKXBnnQVQLt+UQ89P/ClbwYwIwYFMwMMafQMR0EXFY69ehBhb7dwLF3rvEdRwAnKEkWBslDvtCxUfBzK0RjEILaPYV8++LkDAAJM0S5xfIbnr/DDz0d//dviux/DP74Px8ez2Wm0oELLuuxu7RUHe69P59NvHrkI7CttkS+8Ae0Hn1Emk8lk3pEssG4CvddkSh6ZeiEVVg22mId/fD//859n//6nxX//dfn93/n0VaVzW55axIgXPpyYP529PouvXp+1y4WGLWC7KArnUNUoDEAy1uqnRtv6iGv/8GsXxKK1+zkRxd453ZTAJkZQpmiRiqrjIAYuinJrAgw1/sJwAufhPTEnZwuDMRjn3duVei/19z/D9Y+pJ5ShCA2aJU6O8eOToz/998v/+K/F37/Xn36Kx6/b5QJsERYY853t8vZ+8/I1una3rOE8ytKNJwGwEOHzX/lMJpO5CvL/ba89vRt7emKAgVlqXzYhWNMsn/189v13p3/5S/e3v+uTx9KeVawSwBElL31cdljMz5r5Yt4UZJPS793avn2IW+tROCmCEs//rtBF9/jPmc3+wc1mAAMQCUqrLRhQgRBRWVTkIkIH7d1H0WcT135aEck5nRQkgIEYMCUlGCMCRJAPM07X/pBqiIgB7RJHJ83jx2d/+dv8T39tf/yRjp7b/ESgDhwRDSG+PloeH0sbZlU92d33023s7EHNK5aqee5yJpPJXA1ZYN0ECMmhW2GG5CDqxAHWNrxc4uTIjl77s5MytBVBPFpGwXAGXsoy8uvYdWdn7asX7fMXejLjrgMxWGBQQoQlYwOjFMtKh9RfcOS6LigpcX9NKadHJAJzJKrKClIxi2YEgxEBYmZmFpOdOpMZqUYzq12FwTDdaB3JUoL8Wh26+pwCHgQzNK0evZ49fnL23Xfhp5/90fHEojjx8IUXi7psmyWhWTT67PnsHz8cHdw+ODjE4T10KmK/+kwymUwm875kgXXtWfXLJdNM9IN+idTCYnn24uXZs+eL58+r45OyaadePSMSPPUNb6LUxPhqdrZ4+ap9+nTv5CQuGtdFREv7vDjmuT9cPz/n2kRDSDeqos7F53RQVwAEECJvYBIw4PoJM2oGI2NYVFVVGAkLmJmIYdarKFPEwTUs1Xx94F8wGwreCAaNWMzmL58f/fjD6Q9P5OXrumlKFwuxUqhgeJKOinmIR127OJ2dPn6iu98Vdx9uf/EFdvcAFr4+31cmk8lcc7LAuqacr3wyIEU4DIgpYQULUZsOy6Utmtg0Fjoy9UlaAWxggAm1kzq4ykIdzNq4OD5tzuZl0yIEBKFCHFgvmc/zhuT6jbg0KDP4oV7ccu1LPwhH2dgDD5P7+pnIagAl2dqFzljYszCbGUWoRfAQ1FN1zqcdi/aDG4k+VM3QcHsH67Fgy8Xs+PjkxfPZy6eTxUkBqxArx17YE9izQ2FtWLbtvFkuXr4Ij3/eev50++gUs5n60orf/OvKZDKZ3wtZYF0vUsAFdFFdAQZEAzs4gnbQoBq6ZoE2oOlC1BZYAGcBI4N3CA04glL6i6CmvOjQhNgFABABC0AcVRnFup8QQB9R0Y34yifkTQFF514eRgP1kjMVrPNKgRI0jbgGKcCm6zHYIAAe5pIHxRDS6idmo5+wbGYGY5eqrgIgApN+JDYheW4Ja+iG5+KNVn+vTKNdZsT1tmtVKAMwTldFgCOA0lMy1aaZzeavm/ZkirYq/LQqyALIoiBw7GKYW+xEY+isa8Nivjw6aU9Pi9ANMbVz3ZTZBCuTyWQ+EVlgXUc2FcUADTGTvkaKRMR7fxy6ziw6R1UpYkQhaowLaItKUBSVlFtVZD+bgUXVXOHNcbJzSjtZH0XP6amrjmBtRKXsjXdwPsCmG48AiCg19K00zrAnthjJ1jsxG0YMDcqDiEA05NZYbB0IM9XNk0kSiiyme9fbelpvtvWOUubcXV05chjQdCDH43FRFG23PJ2fbiNW1bisPZr5vF02iy6QKrOySFEwgYQBJSJxBOe5dN5dt37PTCaTubZkgXWDoOGRARAX3o3HNh7FSR3LonO+bdsYoRHUgg1EDOeMXOddrM2mE2xNiq0tX5VI1TrMl+z/ikmKynpdo0OgiSnFpyDYiOERAtlKayXXCpCYGds5/7CVs9dqmM2FsTaquhmjWv0MHT42DMNJJJfXpLHMbK3OBg98vI/GuiS7mV4l9t77si7rkbOWnfQn00XtNAJGqt4ihHwpdcmTUsYF1wUqBy9Ocoowk8lkrogssK4jl63TNPzbP2UUpd8aHzx6FH96tvjp2eL0FG0HjXuOK4dKPCDzTs/C/FVRLuqiOLwzefTVaH/PTyYQWe1NL59fxymb9qlJuscIZhbMkGYeAwJmQ3JVXdesE9hRCkkRaDUZhogIMsT8FGCBIjUQyrkDrX5OAuuSE9p4cX2zNxXYhW3esxQrycA+wLb5wbLEaYNFw77Yv3fPf/Hc/fT8ddNwp4V24t1IuNPYWJypnbZtu1Xzznh093Z9Z48mNbyADKRkkgvdM5lM5grIAusaM8iHwcQ9uSkAiAQylA6jun705d6z5/NnL45PZovjmVvORuYL56Iv2k5ftu0rNKdF0WxNdx4eTh59UR/cknE1yA5LFqMYDrTJVflgaQpfRZgRR5haMqRSMYgy2eDKrgBjVf2kvc1nf9ZpHjIbgZiMhnqtdV3U5vjCc2ppeKsfa5j2R7R6I811vsS4fdjFR7F0BwCNXVQ3Ht+694Afvjw7mb84PelsOYXVvnDes4qG0IYwgzaOqr3d8Rf3RvfuYGsENmhUgnAOYmUymcxVkAXWteMS/ykbvMj7uJMQwBCHeoStaXn/3s63f8C8OWtCePZiFjs1oojW8Jr9rCzbvT2+dyh3D4vbB+X+Ho9qMMO0LwxPxd6bgRja/PMTh7E2AkuaWv+od/wEg+2SOrBV4MqGs16dOxHSP4NsPKd9NoNYPKRHL6QO11wWr7pss19685+weY6qEPJbEzk4sMPbfPt2/Pl5u5yFo3auoWwaahpSROGmrGLl6WC/enB/8tXD0b1DTCcYqq/sg3sbM5lMJvMuZIF1jVnVayds7VnFqcqIygLTreLevd0m1q46Ho2673+U49Pl2WmzWCp7da7Y3Z18+YV/eH/rD4+2vvxycngbO9soS/AbpknnzQ+uwmjUQGqWjjsUVg1jbtgIJPCrgnbqrSpAK1XEKYx0sdXRzgff6GJ+EBeK3C989lPCfe/judMDEA1SFtjfY9P69LR89bpYzHlaN4+L+Wx2cjoP8yUD1WhSHhyM9rbrb/8w/tc/bv3hD3x4F1tbKGuIz+Iqk8lkrowssK4Xm6rmXOhIgWjJlomtb10zYid7tzjaSIq6rmVczW8fhKcvFi9ftCczKUuuqvrO7ck3j8YPHm5/8aD44iGmE0ynEIHFtKtokUj6cvJzCzRfhdHooBaxzoWmW2AENkIQEIEZqZjcSJM1u112ZkMWcHhcB6Eubr2SXG+tTB826AVZini9Ge56zwThxQTeat6zc3AlHMF2/RcP6rPTIra2VdO4iEevF8+PF8enYqC9W+MHD9zh7b3/99+KR19VD77A3j7GU5SjwaSCP7lIzGQymUwWWNcTvjQxJyIKTbOZI6LCSnGiwM4eioq2Jts7W/7u7cWTp+74xJ0tXF0WOzvV/kF957A8uI2dHYxHqApwCqNINCUSuaTC/eqwvpsPBJhEAqwfCphKzghAy5GjuVQ5ZSpMyaZLe5X1fhLnXa2hLg1xfVi91frDGw7uCkRAYQHsHMuowO29Kny9PSraF3fHz75qX7ysXp7ERSNBi2o0vXtv8uDe7r99i9v7dHiIrW34Mihg67xnJpPJZD41WWDdEBiIw88GVoMCSgQDxGEyhheUfrSz5e/etcViOV9IWfFkXG5t8/YORlNUNZyHAzTGqCZOvO+9KU2F2M7physaRZjqyInJMQGIgMEYGhGTs2pMLYYMgJk4xECaegYNBE0ZN0qDbza68z7bII5tPPY/qkEjyGABkKKQ7YnQ4Xhc1XcP5awJJzM9XaAN1BqYqp3d+uAWPbiHrQm2t1GNUo61n5P42V54JpPJ3CyywLp2XAxCnFcLDJAhTcujYOSMhAniUBYY1djZ9ncatKFoW4igrlBUKEqQ6wNjTLP5vGmaejx1vkwHszTo8HwxE33q8vbNKwQAuD6wYwp1vRdqsoowJjAiYC6dLqkw8eCNatA0oPHS3f66k/mEXKaBAmKHDhrEtKgrKXy9s+Oajltg2aE1qKENCBG+wGSMnS0UBYrCCNEQFQBahcvjCDOZTOZKyALrJrCyMk8Bp5gkhpoxRYWxBAJg7CrvCioCYkQbwaTemYgRRIkCwRRE82Xbtl1RxdUMZMeyLqW/SsNRgspgsa4GUgZ4qEpisr46Sw2mZgYjcJFuiCmBwJTuiQBq4H6czoXugM+N85KZgFRjxuCgiGYkQr5gD6oYLTBOXzwhGEIHMAqHogBxVPRGGwTTz/eKM5lM5uaRBdY1YzDU3HiCNyUPw1ItM6uZKTojI2KQgUpxIIVwKogPvVm5CAOGaOqKkkicK4CkXQzMtKq2HmJoVxPKUXFmRhahRmaC3qoBsemDU0SAwoxUoYADWMAw1WCqxGAmUUK6vuSWxbQRiPu8eON80mmXEAEFIVV1LAQykBETUV+SxwRHipKZ4RgBsL4vwRgKhM0sciaTyWQ+MVlg3QiGaXqcaq6QFl4iIu9dBIzQIsAQukCtFRGoKwDx/2fvzd7cRpJsz3PMHQC3YGySQltuqqq+dW9/894v8/8/zXZnbnd1VeeeWlJS7MEFgLvZPDhAMhZVSlkpZUjlvy8/JoMbACqCODQ7fky1oSYdNlSCcF5G4zHVSl/AgKi/RVDmryfAjHCkByXtj0aowgBNRnbt1hCmEc1ti9JBKBS0qhoA75ygm6MsvcYCb6UTax0e29+S1m92kVgmBoqJUAymAWzMIhpoEKijOOeFxeUDTGsvo2m0WIi7faIyk8lkPkGywPoEISAiahSK9GGgAmeqDGBjiOkmU2cmUJqZFZEC0ElZ+pR0ALUuG36jbrYSKN0P7/NkrcC8WdK7SsSLQAk1LGu0LRZLtA3qOUKL5GUn1cmiHBbb2+V0C955ImgEk+xMY3Yuj/ch3ntQ6rtgGwO1NyMwCHVmiEplJ7BEVFWUVNLgiJYWSSXMTFurDA4CAtHAqNSIVhVww9/zCDOZTOafhiywPimYVoqlIhbMATEitcdK0DtXjRwLQIEWEBbO0XeTj70AiqZVV4jrwqasS0LYDCL4sEe0XIaisKIs6BQxoFlgPsNi3n7/g87my/OTdrGIpqTBu9b74f2H7t5dxAOMR2kkc6TQl/0Evg8upzbbuG/Wo2+4JwV+pcYsnTjXjfxJJTrCgIEDUHg4omH/HIUGc10rlyDFWEhaSXk9+v6tD2HF22WvXssWe5sHZTKZzCdCFlgfGdczvjd+6n4WWEGANDUhBXDaqShbVW08IGoQiSqU5G+HmCMJVYMIsZmAxa6scmnL7/nsKIBrXMGqIBlbNAtcHOPpU/z8ov3uezk9j68Pz46OFnWNsuSwDL7cunu/vf/A/+FL/+SJ3NsfjUbqfAMxCCBu3W57y4yJaw+zS+/JjY+5bI2T9a2X4+M3H7kqCkqK19h8rZSgmsxwBMygodsmBXTpzkiYQdn9O7JkBJwhpWsYxCkB0KVm6sb4oG5LG6XKNx3PlVvSITDti/aPWifRr4twdtPT8QuiM5PJZD5qssD6BOH6XK60LoBd+rNaUggKJck0m85WI/5oiOmMZ7xpfvEH2f/15gyjalA4V9DQtDg7w4sX9fffxZ9+uPjr13h1uPz5qD49adrQEtFL44vm4NHi4UOZzfcBcYQrZJAyvORSJc4EfN85XvpOBTMFUhP06hrCzStJjvSpGZqappR+JncKVjUDAoxg+kd0ljL3zSz+ih1b78Nl5WhroZpi11bcoq5rJpPJ/F5kgfWJY2+SEWIG20wh7378EOmhb4sRfugKgURFs8TJyfLp87Ovv6u/+Xr5t2/0xcv65TGaxkWNUaOalsXhy7PjV6/nTR0H5cH2FqdTVEUBp1DF9eLTu/OGqtUND7muM64tXVz57OXmx11iNSZoI+N1/TwaBIhcpXVcTbFPka037dib9RBhUF09pn+xa5W49WZuXmHKv/tjJpPJfIpkgfXpY1SaXL2EGBVGowpcuv333tObcDACbUBd43yG18fh2c/ND8/Ci5/ji9fu9GLi/LAoQ7QQUTt5dnw2Vz3z/mhnOrp/d3rnDoaVVI4iaXjiBh/keC9Vnm7QFpv397u0ElHrS4MY03TIGCGgGoQG9osExaDcEFCGlGUvoPQPI5j+xd/lAFLvTwHRy+9Y3wFU6Xqa/UFc11+Xm6GbvKMdLJPJZD4assD6xDGqUgX4O5cEFXot6fx2wEiLaBeYz3F6zsMjvnytL1/pq9c8PRmobXu/RTFvENSF1xBen83nz16cffPt6ecPRw/u+fEY28KBd31r7CYB8Pa8c4kvjRjaGDR0QzeN693qvVjrFY6pA0gzA8XMNK08MBFe8oRxYzA2+mf+Q/+qBhJuvQBzwyq2udRxlS2Bm0XkanVkYnNcebZgZTKZT5UssD5ljF1RQ6lXLiMibOM6EBEJfrgBOG+FEpEW0NSYnePkNBweLV+9mr96aRdnlVlJOBfEamikwkd34LyGqOfz+Or18sXLcHTsHy0w3YYpmRQIcPkc/15P8JupFtYd0U0PukQ3/geEdQv/xGDKpA4FgFJSXcv1JviuiIVOY9FA8lL5ytL063c83D7N33XOr9RpVUmjh9KmN7MvLi+MwGV1dZv6z5lMJvN+yQLrnxQzYyqK9JC0zrhzi3BQsYB2ifkFzk6bk+P65GRxeubaOKzgSxcEF81cDAXgAiZ+sh112ca4qHExt4s5mhZUqMIJ+4E5v8ibI0jXz75JjF5ei9db1vvnaP+IKzLr2gq+jbv7cYrUbvFBav5BebUcl5YydDGqIHt11R+Scf3otxOWBpikBaZg6jfCXTlqu7zzyU6/OtrL0mrzmVfMW5lMJvOJkQXWPy8rdZWs7pti69agAsICYkAbrKmtbkPbtm2tETKEDMoYmmhdHgEtoq4lqnOwEFDXcbFAvUQbUNwQpvDBzu4bsQZvXcThuvbTa6z1S+GaBGSfwZE0VpopxNVdZjD7NbazVQuys5HdNCyaa4eZEauVildYabpLjcWssDKZzCdKFlifGmaWpJKZpaX5dlM5hm8YgOPc7bIdGwzOoSxRFCSjqRogbjDCaDraGo+lqeftcagtGLxjMah0Nm/bNrRtXdez2WwSIoqyUyhvV7VJ2+VGkIN1ExBXSWPpRsVGHcvMaFfLUNEMXSRoerymnlsvWyKsN7/xmnracIivxZZaav85kt1G1w9PLUDpilzJPGWre1PRi3/HWX69iib94aaNWS+nVhKK6/dVAQViV6gThUaLQvFwBnUQWTU00yGFgNJnjZXJZD5JssD6BEm9P5IGkHyTlvoYEE1SR4iywnDkxlsyGKEYxmZRN9a6OKCbDKdqtdRBTY6XiwtAB1U5nQ62t8vJBM53kfQAemu2vkWLalNdaa+7ZCVcVvRy1sxWcZskhQ5EN6sINESzCBgpAJPyIKgWNAYzOnqR3thkUFnnYm06xB0labrOLifExrjIlcZCv1XbuKtXXStT+tWjT3WulUo0QDwiQDUhKTSDWtSo0cwVnpAAU0sHhWhR6CLU+jKVdjFrJl0b1CxERoPzwOUk20wmk/m0yALrU2PTWcVOXn28AgutmTM6X2I8wd5+tXfH7+zJeNos64vzxs8iy2rsysLQtnqB9gh2WpR2Z2fw8GDy4KDa28GgQgSKZA4ScK2xOm6qbK0UmAEKC6ZIlSEa+uE1Yl02a/eTdTpLUh9NDCnLFQDMTC09gtZlfhKAM6CNQRVe4OAKSNJqSkJpjgpTM+tSHEhSevlCdNWwblevJF8haagu28wIAc3U0DX+NhY2pvoUzKBqGrsiaKSiKFrAJBZ0BShEE5p2WZdl2UeZGpg8bqZUhcYYzcw5x14/KVTgAGiIsW6cwhWE81lgZTKZT5gssD5NUtWKcKmikfo1v3j5e+/1DYTWWtKJw2iE/TvlgwfV/QeD14eLRVPPZieL2hoJHi5aAE/hjijL6Xh4b3/w6MHgwUG1t4fBsI88WNuxf3G1JLGqJVns6lOm1IJCu+HxIkkY6UrdmhmMScmpmaqqRhKgguLEpU2IiPe+jUaKiHTJ6KvmYDJPmamZo5B0vbpaTRpc+Z/epKOTjSpVszR1jLvs/kstzb58td5/FQRAYSQMEYCYliFIaAZO0BicFLBgMEcjlRLVYFA1s5imUoNY1cVSLdB9zIo/k8lk3pIssD5BLvcEKQCT/eWXLn+3PX4jYsEiYSw5HGF/zz16MHzyxWRZW4S9OpodHoW2PW+iwITlsvTnY6/39oYPD/jgwN+763b3MR6hGEAIyIZZ6XKp582Ga+3bfwqjGUGwX8DXTRciu1oVQRFqKszQAO1cWjBF7MLklYCo0FtvTBfvSy+wzs1EKs2UBhGmbFAaVfvam7jLJvHNQtSNdFW01COM65Zx0lJdkEdvjUp1rq706axB6yAVQG2LpmVQaRrfBCxO+36jehqcYDhENUQ5iM5FxKCqIG3l3YpGgVC8Z/qNu4W/bplMJvPbkQXWpw+7WMhfvryNKCEuUn01wPa2PHwwPT8rnA91Wxfl0rA8O7Oo4jAYDm06HtzZ4v274ydfjh4/9nfvYGcbwxG8v76Aru+cvfHAV/EKXTlwPWrm2iMJqJkZIZtlITOowqipw0cS3Rq7lG4V1AB6gaRmWzRznaeq6y0a1lulQdhbzC9X0f7OgryrvvnLWmzVwty4pds6CXN0Gry4EorFgudzLGvM55gvUbdoG7Rt1BgJN6zc7i5297Gz7yrvpCioAarWGfOjKRycCAvACLcys+VqViaT+TTJAutT512zHW+T0CJQwDs6S/298Rj3745COxwOY7TZ3rZsby/PTlRVSim3xtX2dHBwp9jfm3zx2dZXXxYHB9iaohqAvCSk3uW0zmSyEm4anDbWD3a3LBYLkp6epMAlJ5xtiDNCVBQQo5EW0CKNsTENGpRKFB5dmme/Wq8zpFufjkDDOq0sxSIYYn8ssiGVrtS0Lk+Qvi6zNt7xjVs8UKqWjLJs4vFx++oYx6fty1f1qyOpmzBfLpbzEKM5N96Z3nl4Xx59Fh82tnfHT8b0rqCoQGENoF0OmaWh20k2mpp8xCswMplM5u+RBVbmVkMndM6IiNINBJjiQOnKe9Xk7N6BPPixuTgHIJWrtsbVdMrxqNjdmdy/5+4fYO8OhiNQYrQufeJdor7YJ5QLCNDMKKu0KXTuduvyP2dt6yneWeHKAtZNCdQIQ6pPwQTmQIHRlEEjvCNcSwumMaoXhZPkj7IuXwNCi6k1aZaKSjAHXBVQ8kvHZeiHFfZPXEdF9MspU05WKr91bUfTgnAxYHbB42N7+XPz7PnpN9+d/fCTLOtwflGfz9oYpKyaO3uDJ1+NTi90Gf2yxYMDbI1QeBEHgyOh5gLFmQLGzmSmt7dwmvHtvkcAACAASURBVMlkMv8oWWB96nzMZzADMHABJNRUoF78kDsOw20dbY3v3nP/7U/tbEYL3ktZlqyqMBpzPHLTLWxNMBhAnKr1q9iEsqGxVFbaYhN292HjcZ0nPBpIB8CUCougWmrtIVYVKaQ4g1AgQATaAESEBsEAQgr4Aq6kYwEDGV1KgFAKjGiiGlMQQ2oTKqAe3fJHByAZtSgrmUfC/ZIHC+geQ6BNT1GIAsEAQAwujeJBhMFRYCnTy7RVbbxGnF+c//Bt/c238cXzw//8jxd/+euoDbiYc9GIifnBfG/7dHbG2Xl5eh5ePi9H/4ahtAGYbJMoKBJdoUzNQROL7yR1M5lM5iMkC6zM7UUBUroccsLEWekoHpVJVaJeDpb7ZduIBSeEI7yXcmDlAFWJwkNEBWpmTJGhKqnVt+lLukGadMb01fUVztJN0gdOCYhIU8KcL0tfAa5Vm824qNEoYot2hrpGNEgFV0EKuBKDAoMCOnQjFII0vafVAFXvfW/86jbdm5UMyajFLqd9xdv02C49xi67uLoI1m4ejtKYlg2a0TDwJY4O58+fLX56vvj2+8W3X59/9zVfP4+LZbFA1aIErFg4DRgMW3HhfOmbpnzyOUaljkaOANDWqOBhhgjQTExIBVzuD2YymU+XLLAyt5fkvOrjpQAQQhQFzFAIhoXTsWNcxymAUgwhXTswmqrCxIFdtEIECDi+W6/w2l5pTJOUDaDRTIiBdyVQGlDXuJjh+DycntnsYnb0anZ6Us/rwpXlYOir0XB3f3h3D9sThi3IxFelCUKSj6DaL/f7/hHSu2h2ueiVYiwMhLre9+5AgaBtmqOT+sXr+tnLk799d/zv/2HHr6emZYMiYgx4cTEyXNTti5enrb388cUuuXXyv2F+NzrvTUFx6WPGkp8tpU7A5xCsTCbzSZMFVuZ2E5UwpnRMWmfWNrMYSbiCEA8BNEINQeEAVQCtxghTAimLCcBKrt1k635LNrLRdZXN4KCViFfFfI7zJWYzHB8tv/vx7Pmz199+c/Tzi5PDI8KNRpPp3bsHf/jyzpMn48f3EbchdzgdoSrpC6715HsnuaAuebD6WFoYDCYGoZCis7k0bRkiz2f105/rn15OQn13OppOhkWMg0iaLNt40bb16fki2NP5Ag8fYDZH08TFIiybcjig78fopEiwvHgwk8n8E5AFVub2QoBqLgVJkCQiEGNUDc45o5ImDoTCMYoYUUYVY3L7KCQpKQOsS0boMtzlLXxLb9gnJeAoASSNMEchrIBSI5YNjl7jx+cX3/7w+j+/Pvvhx+Pvv5m/elWfnpK0wRD7O8XR8/jy6e6f/zj4/NGILfxd57aiaBAXY/RS/Zbv4DWUnRlLABPFtRWF1kXNd6YtgYnZcrFcvDqyo/PtgF0ptwKmhfM0ESCqQKMZ6noJxno5PzqZHR6Nz2csKtHIJGlTyCstEtqnYGWRlclkPmGywMrcahwd0A2EUXS5BQGUwisU0NBXlIwUb1QnluI+u7k2usqO+i0c/30FK43SkS4uyizWC2/AchGfPX3xf/5fL/+f/3Xx3Y92eOxOjvbbdt/UiWNbh8NXzfLi6bPvXz//dvqv/+0R2+mwcJPhUCqDNB+gacZ19eh6HYkkzTSqqTnXxUIslrNXz168evrULZp74+1diWVs2vlM1QqYwAk5LITG1stWqJYXs+MXL6uLWXX3TuEkNs18GbYmIxARUHI1HjFXsjKZzCdMFliZW00KpOwmrRAk4JwI1RBT4jggcFx1/0jApSkwDoxmPvmlAPTZBJcs3u98grc0Q1tWLnSoM7W6QQw4PV0+fXby1/86++tf7fnr0XIxWs63CzeqSgCqoW7t9OTi8PTl0ewQhe0/OJg+vIedbVTDSpxjafquwWW/Fpqy93v1FSsD00BBiTAonUWEeVPP62Xbtg5wIoJoZk3bOkAFhXNCcYUrAOfcgG6hQUP0TlCWIFSVrvN+KQmqsR/qmMlkMp8uWWBlbjcCi4iGaAbSBHRwJjGloxspFKx82WYxmkWqUzOFCkm3dlOvSzfoyyfvVkRJ840VcICy//Mh4MsCsxazGc/Ph8vFvqlzMnFizXJXqqoxDU2wOCycd6YWq9BO27pazHF+gbMLVEM3nKgT/b2LOt1cIFVSQHXeV8PB1vZ0ubUT5Kez85lpPWQsSoFAyEiYpwGtWW0WxElZjSZjTLfgPUIQX0yGI1UYADHtdfJVo30mk8l8WmSBlbnVRO0yqQS0PtecgBO6LiE9nbjNzMTgTKBmgFlMBncSV9er2cblrzrHW/8fgG7sy7LG+TkuLhYnxydPnzbPX+wvmzK0g1KKsCjgoIFNDSsGjq6pI/Xk+x+rh99NvnriHgbULVwohlXsQjj/sYWOb4bdosxuzrQYTGgEybTEsiickKotIHAOrQwGo+nW9mx7elEOgrBRerrCe196aoxAq7xYLmcallvbNhz46WR8Zw+jMYoCVYWo3SxH55oYomnlHQCLoOv2KZPJZD49ssDK3F4MUKqx86dfURw0OANBSSOK1QTKNBKHcPBm1wYN2rXLX3F27+bWrF5bAEFUNC3ms+b8vLk4i/MLtlZACwtiAWqIwZtBY2HwAXG2sPPz5el5c3o2XLZQIBqawOL9/km+yeXVz+bBapAiSRjBwktVjafjnf3ldHv5+qgghwPPoRfv0LZt2y41ziDLogqjcRxNyr09tzNFVcARhAnR+a7M2L1+1lSZTOaTJwuszO0n2ZIEWEUkgAoHOIOkQTHJzZ5mFiaJJcbUhbKNeca/cVWolytpu9FCHRaLxbKeI9RqUAdQLURDpHVL9iKsBeoWcVHPZovFoh62sXuF92/AYqdv+g0RKT9VV+8TARMRDyOMgEc1Ge7e3XvwuH74NJ5fhIvTpRhhUUXbMF/Gi6aZ0zge+92d4b0HO3/4srx3F6MBygJOKGKW3iJaH2jWvXe/dz80k8lk3h9ZYGVuN1xrDuNqOWBy8WAdy27r9EztJdbl17nxxd95dzYU2mYxSCAOdHBC78Q5FM4UYFRYpBIUgSpIUTAiKoliyKKkFBAHcfAF/PtdRrieP2igXToA69+9aCkEKzVWFfAYbeHuneGjxzt/PoKT06ffv3z1c9W2Q1NtdVbHJV0cDSYP7g/++GTy5R+2//W/484eBgOUVYSAEtTSa6mq/toEskwmk/m4yAIrc3shVKw7JUuvCjpZxS66Mq0e7FxWRABMetGVnEZ98lN6wBpZF8beCev6g6vyVcp58igrPxoPt7dHOzvt4aHWyzoEqhYCkmpUB5OiFRda5WhYbe+P9+8V2zuoBhAPR3hn78V5tSYV0lJBafPYV2U+NZLWr94kYBiPsL8nnx1M7L8X93YX/1/17H8uhm1sFXD1shrEUVke7I///Ied//Hnra+ejL/6EjvbKHwsqgAhEDWNke7qV1lZZTKZfwaywMrcathJAcQuegqApGF6KXcUBA1mEFBhUWCCmBappVnGMGFnp77p9X+rHXUoSozHk53d4d4uXo31NDRh4TQS8OLgGVqD88EVOqDf2hnu35vcvT/Y2cOgghcII/EBQhq4ikjYEDtmZuwG2SjRvV3Ghciw8tie2OP7w+3x8Iv7F2N36HUwX45a40U9NJXdSfHg7vTPX+3+8cno0We4dxDLIpalQpr0EWMAaKbrBmEmk8l86mSBlbnV0ECoUgiIIRIAFEYwAg69xmJyYVHZDRxUQzJveYpt2rg2X3wVi/XWJGOSpirZ5jNdgXKA8WS4vTXamcbJSJezemmi5gnzwighAuJjMYArq+29wd7eaP+O39nBeISqbEQC4Pl+A6IuqavO5q/Jk5WORmEC0gGKAMzFN4LBpHKfHUi7g9n2zpb/lwf7xdHZcBl40UQz2Z/GO9t4tFc+eojRFHt7oa1j4SMwa5shXCEOWFewNt7N93ikmUwm8/uSBVbm1mOSDEErSbMqR/WaANJLH/QJBwaFGaBm8g/UqaSTHEg+dEtBB7ZRajJCBa5wGBQYj21rp93anU/246wtFrqsTZ0LxVi9mzNoNaqHozMDd3aq7Z042cJ4gvEIZWGCaFHohMrkCk/+s3RUBnblPIJvVCYbB9rtoN18b/9Df5N0b26aUujSXQozolFzhffFFIhaFcPBYPLoEU4usAg4X4DA9hjjspkO/c42IiBOfelQGBDrOrpyUDoxqAFqTjonnfG3Kx9mMpnM7SMLrMxtRsAS6GbdkPBGvXZals1Fgqv2Vj/vjgaYCgVXK1grw/cluPmoFB+frEgmBioQKbA0eZoRAFRFx5VAKjRT/8WTL/73Yu/hn1795euzb76Z/fjT4eHh6auZFc5PdgbT3fGjB9P7B+MvH2//4audf/kTphOEENslq7Kg67z6BAEzkfW6P4GlIhAMpuxmCGqfesDOqZZ0lZJpRSAVsJSEb6aqA1fhcngFCQfIyqTmfHpBEKVwigJQGgBVczKYYrAFBaYzKLrioTh4KQXqKIMCwKAoIyiwg8lWKj0K4eAqv6X9+06XVxFmMplPmSywMrec9Rk4SQ335r6SAXJNL0kabXPltTae8gukwlUvShSuH3KIvs2mBp1ZO/Ye4wHu3auiY7Vlw73R/oOjrb/ay9f+/DQ4x62Rv3tn+MXj8cN7+19+Pnpwrzx4gOkU46GrCkB0nfYlfYhXP+THUqzBan8VcLYRR7oRjK7oVgWadv7+LhiV3HgvrrxNbzj6Yu1KdyAsmdkEYbSawN2By+mo/T/TeibRlerj39tqJpPJfPxkgZW51byrS+d63+nvn8R/4RTfdeewUgtiUAIp44CAITnTHRlBNyyxN4X4cjS+OxzU+9t79+/Oj05PZuct4MeD4e7u9MHd0b071cE9TMfY3sKogi8BRCCqeZEk6DpFaKsiVbf6r9srairOicnas8V1wrxCe9ljQlqymYN8x1WTfMM4m6Iobrw9u9gzmUwmkQVWJvPLvSpLaxUJaqdQVgkRAigkAgEQISuH6RCFRyXV7lb15Mut+fKgqU2cFY5VyckIkzEmEww8qgrCqGjTZB8IQZh27nvrh9okqEwxBwbpmoBCk07zwSzVrpIoVFNCtBuHTeO6Dfg+eZMgy2QymX82ssDK3Haum67+DmY3Bx3I1XmEqydcu8KrdxqhBukbYExOL+unyghALGOrjq2x8KwmBcYVtkdoI+YRMUKVFCY95gSlx3AI38Vpta22plL4wqWkLwE1TVRMWgrdZrUbxIhudSVNU+NQUhS7mRGaupZM1ish6IyGNJr5Hd7Jt2ezapUFViaTySSywMrcXuwd1dWv2cCNN3J9p16+4mjsQznTrpnBCAGjQqkRUErlKF5QOQw9FIiqMUZVEZHCs+gc6UYERWtah9ZTvBOXFFRc25mSfCFTVr11hTRTroLZCaWlnYqIMTUT0z6aEaIGR2eEGNx7eD+zqMpkMpnrZIGVue28k6nn+sn+l0/+bzH1uWvUWReZmRLl01O9AsDAFQFmgDHWsDa2HiScFN6AGCUERaQIy5IpJl0VMb2IkI6gWkwefRMDIKDeYGmiEjAqSJiowBRGRFgUKNJ1JbrXSMn2SpBdySyroUwmk/kAZIGV+aR4V5P7mptsWBvGcqCfzyO2fqCzzlJuIgIoCHiFwgU1E/pZCHQOsEiLVLHYtiaOQ+8DoarOSVk6ZyTgCAZIvzjQ9I2po6lNaYRCVUQFClVEhSpUO2dYd0SRXTSrEe7KOr5MJpPJvB+ywMrcamy1oO4yK0fVpgAxQC97sLpggt+iapNyyClUNQKmRk31LKXA+1JSrDxgoMJoFk09JIagqqYqgCOEEFgbA0nvQChBT0qaC2RdZKohphQEEyEZYyukOAcgqgJpsaEEAkRc510RQERoTYWFh09J7S2MIFO6w03HJSIAVHWVuZDJZDKZf4QssDIfJZ3xu//Req/SFSM3b059uok3yDi9HO+kKdCp6yoSagCdGtTSVOloBjNvNAPNoFFSDKgjICn/sws+tWjBDJAkpEiB681TKcndFJJeSMRDDJaKZAKoGUFEaOx2LRIQaFpTqEzZ92YIBlFzJNIKSDPblFBZTmUymcz7IAuszK2Gb6g+aZcORTJZn7qYc3PsXeHEW6qHt3mIXUr57F5Z000CAnE9/kWMqiYK0CSCDiJC72GiiGZUQJiaeaYajARJSSN9fBcfT642qEYRFy10soqShi9GU7JKtioHL4hpXFC/xtEUULAFlGpwKwPWytr1Du9SJpPJZN6FLLAyt5c0ZeVNCwlXvawkEpJoiDFuPsBoXdz4jTKKuMFCz0t3prCrmK7YtWd0e9Bplkup5wRVYJEqoEEFAgcBUl3KMY2ZkcLMBKRR0krBfiigSVqwSNDUEBRQI+GcCMRoULh+MWEBOtDalhbhBJaSGSLgojAYYwodzakKmUwm80HIAitz25HrGqhvBW62CIVisPCGHKw30i8PfJMAS/eu4qZMzVlvPV/JNgKE9mN6OmWmYMrOsi6lCpKSRJnmHTvQOQB9mqgZlNB+Nk6SVtalcJkhGkwh4giPlPZOOsBa9WbOEW3L2QKxRVl0+yYO4p0rnFikGQTSdQmRBOjldmEmk8lkfiuywMrcan7x7L8qx6Q+m6fH5RYY38bk/ov3G/rYT3QZDZvBpEQUaMpL7x9mJNWgDik2oc946P1Y62Nj8l1Zfzy9biOhSZuBUVN30BmYVgkmYVQYJMIl8TVrcHiG5RKlg3Mg4Bx8gcEIg8r5MtW7VoOiM5lMJvP+yAIrc6v5+0JAda2lRNYLBjcNTOhG+938Sm/uEK7vXo/4s36GcdcOZFJXRkRaZFcHI2HJY046prYilUj9PoJQiMC0q4TRei/9xvZNui0kYUaKJeeVIapFhQjTX69rDU2NGPD68OT7H9qzk5F3ZqYw9Y7jUbWzP9jbxXSK0QhCsJvT3L+HCiCtIsxkMpnMb0UWWB8Zl0Ixr6iD6xLCrt57Y6rSpVfjRrvs2tM/PJcG2NjVu0wRTbvVecbVKGND8rzHlc4SV2y+oPYX8o7Dj0HtX5FpcI0RSlGYdelUsH66jiNAc6malepbZmoGS+05RIVFFRNJ+9F1Ig2p7pZ2mNC0ppDJ65UytVRICiDAco6Lc8zm+uOP5//xl/mrFwth0ywjiLIotqdbDx67x4+K+wfY3YbfFXoIDWYUs251AD/IpMJMJpP55yELrI8J65OW3GZZJSGdkeiSPErjXahdoQWi114wre0ngGiAwLOLSlq9PnvVwJvk3fs8LRu0gRHmIA4C20hNsBQXBaWLUaOpo5QCD1gEDCKqoYlt430pZQWNoEuJ5y00zfVzEP/3gzc7VWrpP8BU44YJXozUbvwfVTVJFkJI0HUPShomQpOuSq8ZYiRJobgUqmXRDGqF77qMZjBKsqobGczUzAwSDRGlsRJQgLBcnr6Q56/ci1en//6/5n/9S338umkXs4szNdIX1c6uffFl9ac/Fedf4OA+xLB/V5tGqlJhkZg3delK6Vz8RkNfpoPCJOeSZm41b/Jc5ops5vcnC6yPjPRx0p30NgVWEkDJwXMFk3RXSDOArYsW6AxDoCTtcqXEZZevvElIvcEe/puggCEaKDBY7DzgaXMCSe4qAwlndAAB1X6XzEjz3idXd9cXS+v74BQ0KGECfZfPYiW7dHVFZ8UiHWk0EaRULMKwnhRIatK4tn4fUyZDZ5vvgxNgRnYv3D3V1ARKAZINXkg4QSGQYAiKOqC5aF/9vPjbf9V/+3r5H39pn/6E2UlYnut8FmMEPac789nivGkwv1gevt7dnhZ7+2Kp/KcKABK7uYWQ1Gd9t+lEmUwmk7mBLLA+CbpFaKmdZG7DPr2SIwA7bcLuhs0xxr0z5/JrXhqE9zt0kAS9b9yg2s+QSeLFAEIAD3gnRNfiCgIVuGR5dxXSkJiocEUqgKWRfEmzARG/ynuUalS9K91SMlW6JxnZN1XKlcV6q+gpkrbhN0/BWmq80qsTUyM8nMJS1a0UiCOCoq7x+jA8e3n8l78d/h//d/jmm616PtKmmZ1X9SIEVaPNmjbyXBGWi4uT0+KPf979rI5qrnCAOOdERFWjml9nuNtmllgm8xGSvormOlbm9yQLrI+Mqx8YXF+STA20VJNZnRw7iWIQGA0pEBxIS9mSC4fJS3RpEykGgZc3dJ33fAoWOLMuraDbHwOA0EbnSJpTgwaYQk01thQWJUXNgiPoPQwxmusbi+t9tn544NsfAp0iChCTyyvdaAajc50JLIUtpLAIWifENpWKXRYuV1Oprk93Bgh4oIVq1GgtpIIAGtEsl89etM9/rn98fvHd9+75i9GguDMoWzI4HxGjWlS1+VIODxvBRdMuTk62ZvNWpPBirnDOF+KapjFEeH9pryTLq0wmk/n1ZIH18bGWBNxQDOQV/ZCuJc+WGMQMMcL6ulWquVgkhSIGBgKAv/z0Fb9L04iAg2hvvbLewU6FdwIhYkRTo2kQA5YLNG3TRhaF9855SuVZVSiHTvymEt1orbo3HdmN82SSGNI+1DRNDkytWQocDcbIzg4HdKb3zeeuPFjpxyvbtrQW0tZ72jvrUmFSCXNpfWGMoZ7p6fHsxfP2xc88Oqou5kW9GCGOxTRER5gTFSxpy3qxOHxd14vj2fnB6dn8/AJF6byXcbJekX0M/tsPFspkPgauO7RyTSvz4cgC6yPj6glw4+fVZ4nB1KKjAGktWwpk0l5gKVS7jiAFFIijE0fES6P7xDZec/Wx9IHPwDTQEDsNCRKIgCpEEALaFhdzLBZoaywWsqinraqI8w7DAlWB0RBbDuMCyS0ORIAKpAJet1jvZp/sSmOlHl9/BViXoLgqQJl1SRApAxRdYcsExE0tQqw01pXBPilSYtVeNAihUIMJ6B1d6mzGUM9nzemRLRbh7FQX84lgIL5oG5030tZlIYSBIobQLFXrup5fhPr8+Lg8PSsnk+F0klrJVCvESZr8070naX/65Q6ZTCaTeXeywProSFHfl7+HESkmQKECqEXGIEZ6kajSRtQ15ktczDCfYzmz0MRg3nsMxpiMMR5jPJRBRS8QB8CESrFOfwhWbUdsBid8IJeDJqM7AIMDRIEYMGuxmOPwMD572h4du/k8XJwtzmeIEhTlaDDcmcp0ZFuT8vFjPH6M6TZKaYglEBBhWjkMWAiMdqNo7HxtK1tSWpbpnEPvOe9kUyqsqXXFqr7AmHz2qcp4SaJtyKk+8qEf54Pe6Q7Fau2mqQAOEBpUNQRngqgOKMhWm4vz08XsdFRyNK44b0NoSoKSup9WwMSigIDS2tevfi5OTnerQeGL9G+tqkVREICaxUgSrtvPTOaj5R0nOryRXPHK/HqywPqY4OrP/drKvtjXSAyGGDQEo7CNTlvMlzg6wYuX86fPjp8/Ozl6NZ+dz+fz8Xhr/87B7oNH08eP5eEB9nc5HkBKUMzTRMz5Vf6l29wuVurqvaMKVcQuk0HEgBjRBrx8haOj86+/efnv/3H6/Xfh6Hh5dLg4OUWrqjrZ2d7//PHg/oHc29/589kODH8o4QbRu1rDPNSGdqjenA7gnN3wGXrd303SLHnZlWlNYipBKVfXr/T8ePnp11+fGz+yl6/JJs+NRiEMXmBmbdvEuqHBix9UBba2Tprm5Ozk7Oy4itGVBWqqgm4lh2lgKlD6wvmyPD06ns5mu2ooCoAxBI3qqgIRClNViLi+gmZv6J9mMplM5hfJAutjREF0hZNV9hUlQD1AsI1RzMQRGjCf4+lT+/H54sefTr/97uLFs4vT12cnJ3Vdy/bOfPde9erQnR77w5fF5w/9559jNMFgyEaDxGJYGhCh7qavce8/BgsA6KBqRlMzjVoWAu9wNMPJKV6+4vOX9v2P7X/+l7+42G7qwemJD2ZmZbMcewmz8+PnPwHYefwAh69Q3nde1BpKNMSIqGCIKejhhuO4NG+nB5diHRxwefXlFUHSNRKvSKvN+3l105KkkaxeqssXhZJ0zpmIGCApeJTD4RAiUbEMcV4vC9JXlVlrAlWNMS4sLp1vSgmggsPRZG9vbzKZxPncTUszizGGoEUaIG1MaVudLysLrMxtJ/35bX7fU6y/G1z9Beb6KZnMeycLrI+LrnPUXU8Flf5ndnkBWpAOQAyol3j64+zrbxZ//Xr57Q8X330/e/1iOTuuz09D09aT6WLy0r06bI8P/aMHo3q2DZMvnsAXdK4UITR24eLANS2lfRL6e3dl0ZhiGNRoQL3AYhmPj5pnL+rvftCfnvkXL6v5fAzVeuFMzVRmbfFa2ovTdlDVd/bD8+d+ZxvTiSvgVZUKwluyjW9sp2/k/V3kt+s+3Mx6EejGvhBiUIG4FDBhhHgUxXBrur13bzaZLs7mA7Xt4UgKtsuLqDGqhoCFYUkGKTAY++F4a3s6Go2KqnTeXwpOS/629Juz0eR8r0eaybxPNn97r7tJM5n3ThZYHxk3VVo2NFZaeZf+17a4OA8//zz7+uuj//n/1t982/z0LF4cI8z9AhLhThexOl0cnjZHR3z9OlgshoPJ9h7KAcZDkVV7ytYbuhwr+gFOvwQczBzNImmIisUS56fLw9dnX3998p//2fz4gzt8XTbN0EshSgnBVNs2nsbFqVy4QvZ2T77+dmt3r5xMXFWOPCsRUD1QQdTY6ZnOF7UqXG3KiyvH/ObP6PchNk1WdjcRH9mm4YRwHtVouL27++Dh2Z2Di5+Pa1tGXzXelsbYxhgQFDUQfIFyy2/tjfb29w8Otran5XiEsgARYtz87Un5pyuP/S8Pyc5kbgXX61irP97rX4fe/gtSVmOZf4gssD46FLhB2hB9wDjTermAusHJWXt4uHz6dPn9j+HHZ+XxURmXUVADICpDsVjGcNxEbUIsdrfqB/fH90+4tYPRoBudcn1LVzPf3ykJ/Z2hGaEOycivCBHLi3BxXh8fH/744+l3345OjiemE9Exz9uc2gAAIABJREFUzCMaQ3DaRmWLSqVgaF8fn/7wzD36zN2553d2qlGp4kg4U9o622K9xbeqY70X3vzBL6pKgUFIp2bOAPEYjLh7Z+fzLy+++lnO5/7F84u2XjTzRiWCEYggfOWmu9W9h4OHD+zhwZ0Hj0fTLVQVnICIpkoXTH2KveoEVrcj+fSS+cjRy1fk6nfEX356/iPI/HqywPp0kJSsYIAqomFRt6fn5y9ezp7/vHzxc3l6NmmbsQNLBA+LKAWulWUIJ2cXM7OLn3YHD5+PPjsd3l1iW+EVcO66m33jA+r9L+NXwJwFmoBGi4gBTR0Xszg7v3j98vzo1bhtt0flWM2HWmNDBCoKwNPMFwsWzTLMXh1NjmdxtvStuSjOEUypUhSDylUj1LslmG8+1lZr/37j+p6ZAaIGhYCmSqGgJO7dHX/x5b3T+diXs7/97ejrv84X50VRqKOVFBbF1u7o/oPxV19tf/nV6NHB9MEBRkMUna0uwugk2s3SLlewMp8EmzIrB49kPhxZYH2MXHNuGlLqURctYIYQ4mK+OD29eH00f3XUnl6M6nZiMvUiJaK1FuFBF503zptoZ4vF4fH5q8Pp6elwNkPbovBJKCRzjlzesnVj7D7AsUZBVI0gRSO0RQyIjTZ1qBexXRIoSu9VosYYgmvg0I3EQeEnLM6DhYul1S0DAAdjNNIojqBY3wldB9//I8JoFY+1esHfSmbRmcJMwYKiBgACJ5hM7P7drfmTcVWeFsWri9NZXEzGAw2Nc4UU42r37uTRZ5M/PBl/+dXwwX65u4fCp/wJhVGE3kXVVs2T0uvClECRHViZjxnduEQuR2U+PFlgfWIQBgRFG8KibmaL9mLRLpZcNkWIhVgFCiWKRFWnFLCElBBpQ7Oo24tFczEPi6WvW5RlkmyyKmNcb6e9bwygIUaaQcxSDD3NwWjmPJ0z1bAMEdYAtRlcREGoAk0UDYUviigx0FnhpYSUkb42Ba1MU5qvDx+6eVzNTbzRjqarz3JS3vFNuzldTATBoBQ6EMJktaeF0cDu7fnQ+oHfL3DQnhcPd/e2x6Fp6aQstwY7++N7D0ePHxcPH2J/C9MtkNAIeANdWTgp6qaOMYo4SpqalJVV5hPjA30fzGQ2yQLro6OfoGer+cLdRXdqTPnrUUPQZRuCxhijqpopo2lj9CJOYwOoIrSMTMMJVbWJoW6bNgQfFaowkyvSgZd3433TFVTMzCzCdQlRhPNWOhmUGA6axXwWgoXWG0rAAQUQgEataULDqEKW3jzgCGeBsTVzJiEZ6ImN4PSOzRXevH7He0MAffOX7BRkLwKmiFJCARsMXOUYgaqSYXXHozr6Yn97Gpqazns3dOOtYueO3LmL3V1sDTGoQOknZqOU0gAHqqqCrh99fWVSUCZzS7m0EEWAkG4l1KB9u14MsvrKc9OTN1k9IJe7Mv8oWWB9XMh6Fdul05/CUnPLoAZ6DLfK8dwPx1oUVnpXFmVTFhY9I0K0FnGOogApIgIlvWPhUfpyPCknE4xHqAa9F8nWIq6H6E/F7/ljqK1bkVJh0Cj0EIXzbjSKw2o5KMNkdDq/8HWoxJWtDQRVCW2iUorRZCnVadOcNTNvi71S26KthlIN/GK5jNEKN1S1tG5O03+mpl3claQmn0FMaSYCGleJBte5EmYlm7e8Wahcv+fSSWCzdJhKbSn7LKKBtm3TxlC5UaRU0wm96KDY3tveTQORSBhBB1+iGGA0QjVC5VEwhjaYsQniCydUjUU3oSfljArpusap2T+bC+tdJfQ/2dtzy9isqVu/iBoRiEjT4Y2EB4TwpjAzOIChf4ICyvQdLs3SghCuT3TOAivzj5IF1sfJxjo+rqwGAkRABN4hUsrKDYfVdFptTeJoqMu2bkIZ4RwUcCVMoC2Xqq2UbjgY7m5v7e+jLMw5dMUwM0QzJzcVM/ghPoAEvjASql3AOQBXaFm5renk4L4dH8c2NEcnjZmP0kCL0gUJwXzwxSmwqMrxw7sH//ovW/f3OSqBNkJcISI+DRaMMZgY6QGga8CtxxOmUo/rPsSTanmro/7V593rT7xaXTMYzcTMA0JVpXOxGrjCcVgxKlJm2LKGEhTAwXv4Aq6AAzxMjaoi4ijdZB+KwTbCVDOZj4r17+yVjBVZXabhC1h/jqSvLWro5n9mk1bmNycLrI+err6UvD5pzR8J59ygrMaTYrLlJjthOJn7uVtaNPUgaOVAWnVNbTPVuRMbbRXTvcHOXjGZSFX08aJmoJkZr+Vf8cP0COGKEoCGAJcm+zmUlRuPtw7u3//TH7dhRyE0bbsI0cRFbc9DqwZ4r6W/gMNgfPdPf/ri3/4Nnz+wrXHUqERZlkqBwsza0NJTvKzmXPNWJmyyU7zpOkl676F0zonQCSglKLDYzzbyMOtyxECwXzzFVKNaaykRQd8TFMknmMzHA2HU/nNoc6RoWlFtZmrQFG+S7mjbQEJEpAtpdrbO98u//JnfmCywPjbeFH5pBrPO+5weVPhyMi62d8q9/WZ3r75YWF23sfYC0qqiQrCWOqOrJ1vc2yv275R7u8OdHRmN4DwooABiq6F53Ph+CGA17+59Hmv/2UmjRMJ7YDDAdGtwZ3//q69qkfnJyezkbL5YNlycN6ybIM6Vw1Ex3WmKEtPt8eeP8eQr7E45HCgFTghHQDUAMIswB11/BL9RWm043n4XNrPde5HkKCQRu0KmpsnQVwcZwhloBMxkHam64afLuqpnM2TjFy8zvzcK1EBMi2qta/A5QAioqWqrUEFcfZY0TSMi3nvAiUg3hsps/Q1krbRyQSvzj5IF1sfGtc91hQhgjLC+bccAElXpp1uTBw/1y2OezBtII1zOTiDB0IqaY8Gh42DLPXg4+OLz8ZdPRg8fVXf2MBmjcBBCaOCl/uAHP6soGGFKgqA4L8RwAILbsyoGDxs+fyEnZ2E2D2dnzWIWdcv5EtPt6s7BeLTlp1t88ADDAUZDqwqtfLJXRW1pKiIiwnTZz2tWdOP/bjNJIzmHEDu3lVDgvPM0kLAWQbpSl4O5ZM8zdCeUt+wD/nO2Cwl0kSe/dHnbf0s+fRSIQECXzeKIIt0hgKXvh4iGQFiq7jtPoZP+T76XUAZblXh5+fWzxsr8erLA+ohZVTQUELCrwQggDjQMSj/d2nr0mczrsrXFYHxSVbOjF4v6rGnrGGNVVCO/tbV3f/rkD6MnXw7+5Q+jzz73e7sYjeA9YCm4NGXzXR2QZ/gwJ19VjWkVIQWkgEXhICPu76Fwvqr2L2ZaFMVi0Z6eLS8uZvW8qAbjrenu/Yej/Xs6mYy++AzbU1SlDkoWhQEKVdU02bjwniLs81RVzUgzuCTEbiWd1Z5I+7leiUC2/QmD3mm36FBSukX377ZxUHmp4A3Y5Su/eJnfv98bwhM0FA5FBExhBrhkrRKhUOi6j7Hoq6LXVd16ElOYCddF3CszdrLAyvx6ssD6RNAUNQqSGmkOhHcYDN3B3UnQSTWq9+9Ud/dOfn46m5/MFhd1XY+Hk+lgZ+fuw70nTwZffOYePeTjA0ynGJSARdXVl7srCwg/5NklLfIxCKgR1tAMrvSKvV14h/+fvTftkuNYrgSvmblHRC61o7ASAPenp9F86E+t/jjz43VmjqQ+009PUj+SIgmAxFZVqDWXCHc3mw8ekZlVKIALUCBBxCVPIiuXyAiPTPcbZteuDYfbpqPd62UIzdHx6enxtKmlqspquL6946/fwHgN62Nsb4JAQw9yESmlCDM2VVPnqyy7Ylhs7TsB/B7ZVScWQRtkMVNFQWwGBQyIBIUpkpkJtR0p2ZSV6HxRQs+revwhwGRlNkImY+SAVQIMKbXXEixguJVa4ZTfCKBNJl4QmC5LXHr0eFP0BOsPAoMlVWFhcFBLUMeiTtzmFhtjtDbY3nY7m+Xencn05Gx20sya4XA8rMYb29fH9+7jxnXsbGFnC6xgmHGCZlH1Yv7Rl0VXV8+xsmIoGfLkqUZZ6u4drCjIO9y6Xa5tgLg4Olo7Pd1ZG6EoYISiwtYmBhVYIKylj8QKRI0pRsdCRJrSoheQtTWDlO2mfrdz7IIbmRkpdMG4BAJiOIUoaUJigM0A6jKg7dsWarMLWO3A2DOwHu8BjKHdZcPCQUWhhqaJREZE3phdFk4wjJrUEIHICJJ/6bnYw/TSqawPX/V4I/QE6w8DIm4zemCeTqeEOBxVMZlbX4cvMRz4rfWds4/WZ2d1rOtpXRTFeLhOa5vY2MJ4jGEF78zJLMxiUO+9QHLJ/wLnEoWXye3f/lHl61MmMzOIQaOpmiYwF0URIzY3MB4jRqyvFymBFL6AeDCBGE5QVea4hiksIU+syWIKmphyjSRMsw8E87kgUZ5/mQ10SVfo3wCWk6ULMIkC1hY2qJoyFArAZdssAsOgqa21IsC9shfbB0iqMqc8x1n7nN/7BQNCWykLgAQidnpyLEJFUYp4S0kThBiARapnCrai8GXpAaTYmfdmh7lzCXQy077+o8eboCdY7y266BF3S+eKOISNhJgVzAWr8+wcSo9Rie11H2uvOgbADCnhC/gSzkfvExGAQASCwgwm3XpzSbvUd5IizP5UBCQiAiWDWUqgABVmOOfyJCgOPuVefSbM7JJqJEvCBGWIwgzEIDCIhUyzxhVqWUCfQ3VLBc6KyKzzb/j9Lb3Ung3uRFZsavkqHu0h5T6VvVro5yKPUl9J+L7AOnZFbYCdhba2NlSVhMkIJMTtBaEmEArAYB6t4wly+nxlc+0cQERm/Qnu8UboCdYfBwsnJ5CweCICsQJgwAtzicoBIxCBtHWEz6zDGCI5VJUAAxsZWWtHbpaIWv+HV6aXrgwhJeNcCweFGRkZWXYYFzbioJGSgdWRkLCxVyDCoqJOMalySkQQIQJJmxNgotY3J6XUBoOYcvuYnBnNEvIVjrXikXC1eE1u0pY+ZyCQwUizIVmm2oZEkNwHR43J2DLN6uIy+dT3iQ8AK+HAi4/nAoKfcdvjCnD5919VL9iLWKY/JIgBzBCOTZPMpCiVKCWOtWpQUy6ceIEZQkBRFkRgafmxWS4g7AxhyLrrRwbQtzvv8YboCdb7jbzsL2xbMpggIllbEBURiaJCo8AcQURADgSoBlNNqjl+TgziBBgJ5x46rQXWZSvQxXtXhWZe56pqckJEjgzERonBuTooKUdrLKkwi7GwGGCExGRAtIQUSYP33rPkfB/bMhfQJYnAWXm1IJ/vCYws5SpCUgXaFDEU2YIxn5/WeAA9tXoNrCVcbR789bfW5pT6GNaV41XSQMpKSY4oKbMiKUoBInB0jPmM5jVCDTYUDuMBhkMMKqiCpI3p5isoavXvWfxO+SLl5Y/r0eNXoCdY7xvoYvHwYg5Y0CwiOBECMcEZUrKkqqrBzHE2OTbvfTJrgKSmGoiUIyuLKz0JC3GxqP7Pn/LyVHP1NIQyVzAwSGzh4tTmQhlGgAmYnUKJmJ0AICIReBJyhEQpJVVzIDZ1RG0fR+bFxH2hRUxuRLiM+PyOVTlKukhi6IqvRM4Mggy5rw7lmEuPS7Aqw7K2ZLWtyly9TVmrZznuSW39B+iqvXY/ZKxSq1dqoayBeACmaCJCxMNH+Ot/vjg+mja1hToCKJk31tfufLR95zbWxxgMMBhCfHuuqTPTyowLuQXVImDdn90eb4CeYP1xkOMUrbRIKF/WOQKcSyzBXDZzyObfBspEiqX1mPLEyhQAAeU+Eu3a0m2du6u8d4lhNQATg9qATF7bWqNyY2JmkVLMLDfXs6RgygsmkzjnokS16Ik9sUdukGGLZbVNEXbzqABpKW//vU+vnTVD5tZqtKSkICPKZECNyKDUZjz7FCGwiFe9lCJsix7y/XO31hmWkMK6osxeh3VVWGVXFx5fnjWyJkXHBQgvjvHkCR48jP/yz9//P//vf8ynEhqklKBJENbXqi++/ORPX177H//91vVdeA9xSIqYgtGUOFSlN5gqwcAkfeiqx1tBT7DeZ1w2BVGW3bTzT5s4FCYhSZ0gGm2AHMKS29RlciaE0Jb8d5JvNZhClkvyO46EiLSq444DqZGB8vxrMGLKHoHts9R1UVzIXgsSEAvQCvYNgFDnlCqSw2KcBRlYRK3ehxlWCQmauiMVYJEozqKxLr6lgCUCL/2qe5xDy7ZgxnSpCKhtNt5q99pvR09Urwir7Go1xKiqKbVXeUREwq4YJrj5HHsv8L/+7fRf/vnJ//c/n/3tK4uNxCBmRlZrmFfV6eHR/slxPfD1F1+MimJ32+VpTlWjabCS1bTz/hOoe9dq0x5/RPQE64+CC26g1vU+teVzK8ahyLxquZZovkAnkWX/CBBgCgW4DXucm3N+owmIIIASyYWLXDMzVWYBYKqgHOhvZWSUxyO/QbvjPp//y2kBOa/CWWwc7RJ7xYd3Tu1zDopFX9vMorPSmmVZQaViTNlclFqabURm2T4MbXHAB4nzFwa57lbJiEjJJIelCLmqdEmccuJVCaRkTKTossn6npDw9w8vsysjAGyt0kGz4J2ZGSDnjk/i8ZF7/AO+/tvJX/9y8PgxnNyZBwtNtl5IYV7N59O9p359zP/8zz/GtLO1vTtax2gNXjwwBLxaglJbfUsGUbOsc/9NxqDHHwQ9wXrvsHLZvPrjf2kiaNXNsnyu1RWtvHQp1OU2puMWj+dX+WXIg1Zff+6PK8XLYYLWa/2C/J4IJNJWX3NbJ7R89uUN0Mofi7Rg91BHWRYbp4U9xdUiV3eeE6QrgIRkULOcB7TWkMy4JI+0OCBmEEEBBwuZpeXSqyxXu6xi4Y+OXCzWpru78B40DxSBkBJMwUYkwkQmZm1VJqyzugDaH1L3uBmpGRsgnVanX4rfAhRtzQayutCIASQzGJiFHdd13TRN4cWVpROKmuJcHz8M//Y/X/z7/3r63TfHj581MUwVlamDeTY2GzLKZ8/S2emz50+as0lz79PP7n7uo8JLDSSAGSWHOA+ByKRqy69VlfolsscboP/2/NHx2mn/5YiUvPLpy1//zsErt5eBLr37modeuY3f24JpZkoJQGqLHYlAnIxs0e0jL/KMi+Xll8TDPiDYxW9FjvbB0Iay2uoABSRbJrG1OeY2ooGWoBKBs0dam0JP74h2fzjIxRmt1M0h60YJKfckALETr06EnTBILPDsrNl/Uj/6fvLj99MXexrmJfuxWKHs2CqYs9Qo6hRjM6enT8PmTvzhh7Pne1vXJW7m3tBqiJYiU5LufKaO3fWaxR6/Hj3B6tHjPUAOPS2E2SACGYiUFCQAzLRNXRER2WqDtdV/P6y1YqWsUgi2YhnWPt1lfo0XPVPOsbHFGxY0KmdeKQu2fnck/I8DIrpU5u6cY4MIgRnGljCfFIf7k+dPmhd7Op8UhLHnbVihxkwDhhiakCaGeYioT9Lzp5NHD148fbo2WrO1sRciizGGpAYlOMn2V32n5x5vAT3B6tHjfQGZkloyImbu/OUVxmZmpAYQmWZ/oLa3c072tlfh2aPjNzyA3xItG+rMTIxBCmYgGdjYCNIGSc6/r8uvL7XtbRo6p18XYscebwUrjr5EZCv38x0R4Rx6NIMhNphPcHZi9RksVV5GpkPoCOaZvFDl2BsCjFWJKYqMQz07Og6nx00zL0ydEWKKRgw2x8xCtuLS0KPHm6AnWD16vFewRQaQGWADNBmh6/u8XJO6a/CWUS341geGbhjOLZiL7r9QYgNrR5NkGcDKxR2L1Or5kKBZb9FwVWhrU9riwTzYvBx7ApGqWUoAmhrzGSZn8+kkxECEAuZDAwKDBOLEOQJESnDNXJZukwkpuhBdVBcTjCioeeeZTChBckeuCyLMHj1+DXqC1aPHewMiZoZlI7Osv1bjHLyCgSlHZqxNBmqr1reu0sEYH1Tz2sX6uGpptXjckAgJlLjtfJOrzsQ6F3wkg/L5bcB4IXRTM/qQhvNdglaEhBfqB4jIzNQMgPdwHqAU4rQJwRKEK8c0D0GNkrIldZwUERSJk1kC4JzzrhCGIjtwMAkzg5iAlI1Hqa0a6e0aevx69ASrR4/3ANaK2IlItPWXJzOIMpQFxsTJIExggikRA0xtUItplVt8SCtGa9W9kJ+txLESENG2VNKu4paxmvLTLoiRnWkpNwZXa4sLDerQZ5OuCqspQrSufNqJ5YgAFpQjjDexvknlsFE6VKq990U1jJMYgxpiVG8WwTOmGXgS4pH4NBq7jU1UI4hA1diRtU0RrPX+AxG5D+un0uMK0BOsHj3eDxBJ9hjn5RV9Drvkpt25x6K19qvZ7gErcYAPL6VlneMZA9RG9wC0qrRASG1385xBJMqNhUwBkC36GOQ/DZwdHEjB7XPE8sEN6m8GM3TtA4mZOYeYHMoBxhuohg2502hzhhdXDirfkMYmAbVRJMzAc5KZpWNfynhD1zcxGoMEzKYJqpFIlMygyciMwCT9qe3xZugJVo8ev3O0QvWYYhMiAPbOiWMwMZmj2BgLiRc1TKdTESkHZVMHERaBETQtFiaQgvhif5g/MDJ/ci3Hah80QgSaZKfziRIGhR+5QgDWKJrtGRJSRAowBQM5mUSJnCcyCBSIBCgEcL0J1luHWTbGXfRXACGlJGQAxRCOjw81BlcMqrXt7Wv8pz/fefq0mc6Lf/vr3uHRflJSrZI60FDYxzRLOF0fyo2b1Xi4+Xd/Hv1f//e9e59keV1MNgeD2ampZjMIZoL/TY+/xx8EPcHq0eP9QHavRqv8zf2GaU5IDszwBDXAi2Wdu7CSqnJSU0UyAkMIA/mAIi45zmTLsjQgd24GEtBYTDAHFEwe5pAQEuqAEBADLCFGNA0EcAWchy9QChcGRejsG3q8GxDAzItUd1EUcCLei9hoA3fu0+d/uvnD49O9g5OoJ6rHFCYaOaIIqWCkyuvutfU7d6qd7fTxJ+XOdQyGqGMDpJRqZvdSnpeob/bc443RE6wePd4LMEHazozcui1EIBLMEYAIE1YpiA1Jgzg206QpwiIoERGxCSt9iJWEC2S5VVZfKUGESqKBqUsRdY3JDEcnenwcZlOnqk0TZlMGVcMBNrYwGmN9E+M1LsiJRM7tPH/rQ/owYIAwEZA0mllRFF6YxAUwgO1tfP7F8ODg4+f7R5P58XQyGVQj76g+UyAWntY3yo9uD+7eHdy8ke7e96M1EMEwNZgwefFY0dKxdUpF67pW9Ojxq9ATrB493g8wc2e9mDtaW6YLChIkQyRYRcyWNESWrhjOjCAsAmahD855/IIp/+IOA6WIJ19BfQTqKQ6PcXSiz5+fPX0yOTyk0NhsNj+dCPNovL62e93tbPPNW9i9gY1NVw4KX6Tsn9UvwFcPa5uzI6UEVeccu6x/s2hkhOs38ekXG//13fj41IfGORnNJhLnhXBVet7YLD+6v3nnbnnno+H1WzooQTCmALCwYzgFd8HNFfRntseboSdYPXq8HyAQt807WtpAiITkAYFKCCWUwEiJY4NAZORBnsnER1VlpdZH80NZN7gLSrTFgLkvDi0KBokZpTJCg+MzPN3XZ8/D40f1w+9Pnj7T2cTOpmFy5sjH9fV6a6e8cWP88Sflp3PcTrx9rWIxJx9g6cBvAjMDUW5kkBsa5MfbzkWM4Rijdd3Yqr/8u9GN63dj8KH2FgZOykHp1jfKW7dHuzfpzm1UI6ytgRAcE0OMREGszsxACjJC/r8/rz3eFD3B6tHj/cCiZL0zdTIGDcGMIClQTAg16hohIiWotpYMTqgqfVWBSogzSG6t8yFg0aC7ZVdokz6cqzGRvAE5OXh4FB4/bX784eyrfz99+P3J4yfp9Iznc8xDItHRaLa+Kbu705PTtTqsKYk4FJ7KAaB9w5x3AzWQGTObWggBmuAE4pgRmE+nODr9XsoXX/557b/9t88ZgzinUAsUwhiMcG0HWztYG4MFzAiIwp4hCq/JcZsLZCABCoowD/TsuccboSdYPXq8B8jsylpliAEgkMA8Ipo5ZnNMZnhx2Bzs02zuQRZTMo1MqCq/uS5bm1jbwHBIpTP5UAgWOiXNgl1lztkdv7EqmoizKfYPp4+fT7/7/sV//Ed89mP97LmdTatohaqQ08MXdXkQ9g9OJ5NZSsH77WEloyEqB/6ABvM3BDOpGhN556NaXYfYKHkuRpWCjk6mDx49Pjp+urMbPv5k7U9/HlUVpxphjtDAFMQ2GDbjQUkGBlKAkTnHBBYUTC3jJgOgREZI6AsJe7wxeoLV4+qQW+DpyiMrHUsuXBquFvHQ8jF61Wsue/HLW/0d4Pzh/yRecQCWC9dhZsZqAByzQBEjjk9xdILDE330w+mDB+H0pGK2mKJpEpG10eD69fHtm9jdweY2boxIBKClKVT7ARf34fLxfPkU0PnDNL7wtte4cL58rBdLuV6zifMfcfmw5YaD4AtuoNmJgbNbuCbMpjg5is+f6OOnePzEHx5WJ2eYNwNgyCyWQsDx7EwnZyHpZDiqrl2Lt2/K9W2MS/jBhyZru1q0kSRrv0gAG5QggKlBQGAWSSnFGD35AgzY4dHe4yffhTS/c2/n/idb66MEKA0dD6GKFJG0EZ5C1MIgt+sWEoZLZmR0vms3d9FhXexDjx6/Dj3B6vHWoefvKBZBFzNotxplpQPAefGzBCytisxMQQo44pUV3GCAafvKtksZ1HKXGADMRu0Gu9us1vilRkVml5tF/XzT7mz9za1XwKq6+mVcRsJWCI4CRAxY0mAaPbETQUoIDaaneLqHR0/w41797Xezr75uTg614PlkqkyR2W1t0Mf3sPeUd3fs5q1RMcTuTcQAV8A4aRKRpZmBtXkSo0UPvy4IdOnxt4Os5w8hH3477m3TmdxFDqCVU8H5rWgpj60YK/DqCxaNbmjFib4bVOuI/GKPzu8nGwGkBMB0cYyM3IdQgQazQ5zsuf1n8cG3fu+Qj4+1abxg4KmAcbQqwRsmoZ6+OAwPHp6KN3NfAAAgAElEQVRe2x7dvlF+dA27m1Bvxvmrkg+598R6A7AtbK86m1wiy72XvWufFfHVYBRCKAeVodo7fP70yf5sNltfG+xe21obV4QmITk4wBuSpibGJkKbRge+DIlBCUapdeSPRF0vKTAMBgIR4aW+3z16/EL0BKvHFUFXbhdWRAqWrDXO1405Nk955bXlqklEuVZ6ucwzoN0aDYAUlB81MHWXoB0ZoPYPU1xRt7hFnu7yZ893+FghAPr6OFa7vJwPt6CtGTRhAZIzICWEgPkcRyc4eFF/98PZv/9t9tW39Y8/xMmpIjRNkyzOotH6OB0ejg/vDT6+xUb4okEysMt7ko21lgEevrgnl+zcxdDWZe2QreUZ3UY61VP3Cr7AhF4axeW2eNXJ6uLrFw/rymtXR69LDzKgkr9Nlm3btT0TGjCf1qcn4fAwvTj0Z1PXRA8qnStL8QYvSZRT5ONEVofTo5PZ8/3Jwd7Gyamr5xiOXh6nHm+AS34d1OrajYhSSiEEgKtqCPGTupmdNrNZPZ/PN9aHu7s722sbszgVIuNGyKmZIREZkWMSlth9hGDJhi9c4XxAhSA9rhQ9wepxRcizWI47Ia/hRjAkCCczoxz4VwatuGx3DeMIAkQgAOiaxAmvBDe6fwxk4OVCSwtG0i60qxP2z581XxWHMJi2tUvdYbVb7nIbZsujeXslZjllQiBiQUhICU2DeYPjk/D0+cFX3xz823+kBz8Up8c0n6c4I4OlRpHs9KwWJwpoBIqNF8d046MFA22ZrXXyrvOfaWagrhPyz4/d5SHX3EuGJJ+0rsMf2Xmihi4JxCA6l1HOjW4MxrTSHSguQlm53/VPjC91WeqX1u3uo2KK8zCZTM/OprOzWTFvhjBXlNXAl8JIySUGs6sGgzpwsjiv5yenk6OT+dlkPK9/ybD0+PUgIlVl5hDC6enpaDQqiiJEnZxOHv/44+HBi7IoNjc21scbApmenY0GQxIBGQMkIkREwizcechlLKoRFzHIPgDZ4y2iJ1g9rhar7VoVGqEJi/U9EcRgXfPidlVGdqQhABSSgjgRhHKmrG0V176sDZOYXgiIKFTNzJhIiNzbmDOzCiqZAYjWqjOWM/KC1p0PX/3K6ZpWWAiBgaTWJkvNkBQhIiaEgLPT00cPn3/z9fzJj5vz2RrYCVtkowTnmySRhWaNPt8/Tc201vIfHl278RF2tpASzFTAhZ/XDUOE2TlaBP+6yJEtjosWUcaVUQG1fZAN1ib6dMGqgWRGnNO57Xsv2KtLaiviybDChwymrSlRPrkGgMEEY2ND/r6QXVpOv0oHreVty6cAECKU1EAMoxTNAqlCFWQm4NL5gXiCWkgWEpmDRCg5EhGXSMxIddHqsMdbw0/ym5RS0zTj8RhAXdcHz/f+9re/NfP5//EPf7r70X3PokDlK2HniIU9Ue4OLURM7ZUasEKtFp/bs6sebx09werx1tHGrvLCCxAo34cSAmKCZTNy6iQPEeTIQc2MjGBKxgSDMrRVRLRN5Qyt3IfUABhL7hujaBd55KlTTVXNzBGDiTohV96z1yenLoXZ0nsn71LSVnDDZkTUZjHyJs3a3SC1FTbxJpM3dWlUjYmSdnxFcXZy9MPD/Qffjs5ONqTYUEaTiBBDEJYABE1hMj1pZpOTwxfT+fi7h+OPv6zKCp5BYqCULIQAJC+O2bF0ciK7zH/gp44h0+fF6mWZBC2ij7ZCsxQ58qhIBKJMs6GZYwVLRmZmSmpggxpIYA7Uyf3bccHlWaVzcTKiJeNqlVt5I2AoEwnEsXjnCoAMqilpdA6AERnBGCGpCTtxUqAoiqLw3sMVP/P09Xhz5J+AiBRFUZYlgNPT0+++++748Oj6zs79j+7fun7LOwh4c7SdLDEZ5y6UuZkneLWwY5VRrYrneprV4y2iJ1g9rgSrF4imtNDFGJIBQDIwtVSEFZZgRmYGy8zJQCQGOJYcwsnRkRyZIktJ1UjYYCQEMyMDzGCZ2FErWkpt5OPtFHrZwk+6ow4vH6/ZaswuP27Az5q1OwKHVnOrLVEggiMGVJNSuwAQ1BAD6np+cjQ9PhjUta9EtNbQUKw9kjOwGQKl2RnXxKlwa/V073B2dFJtbWNtAO8ot7clUrXsrghDVnxRftyWESwY4aLCybqAXXf60KYbl2yzezF1b2hpLuVIFSlMIO3Wu1eSmlG7HaU8iEYw4zZTSpQThz9jLewStasJWyZuw3Es4oqirPxg1AwGKq5OdaxrAwaFL8SDCkBSbYkl+ZKGg2I0LkfjohqiKH/603u8JeRfkHNufX2dmafT6ZMnTw4PXnxy75MvPvv02vYuGRw5giUzoS4Yu1D9vVQSmDlWvtOzqx5XgZ5g9bgiLELxCUBXvZ8IxFAGCCbgdnLrHJSTdJpkUyIWg5lSlrwDZClpREqqKsyGlCUWWSRkLXGz9tq0XX27ufMCfol0xjrkysccebmw2XyYrTiWYGZs0BztouV23nz6JiI4AQBVNE2oJ5qalJp5fTYDj2DECZQEcAKOUFhMKgZvVgDWNOlshtkcgwLOVBVmUniLSk64zUKCWipJXbzoZ++esCmhLdvrmA0jGmjBrRTcni9SgjHnUgQBcfe1EXKE1GXgCK2OquVVWYD1s+JrK5nWlX+zxs9gBilkOK42tsLWTtreiVsb8ShN4qyu68A0FOcMpjozzJ2z0bDauVbcuDHa2ZXROpy/qhqKHi8hy7CIqCxLM3v48OHXX30F1b/78k9//3dfphSnZ2c0KKuqSCG5YrG0cXeRlfn9xczghT8vpA579HgT9ASrx1VjoXZn0uSYDcogAtiIKDd+IWtDHWpspMZkDklASAozsMEAjRJjTE1S9WWlLERqqsqiALJIC2QEJjazBX27qHH+tVNoJ2A/J/l+mTNdmKPNjAg/n6gs1Psvg4hYBMZQNVU0zenpcUrBkGazcJZON6tB5dmMtOk4oBnMNKY0b1LdiCKFiDogJiRVVgZIWMAsXQLlfATOFo9kTtQehykt43XW6bWYyaQ1FtKVxFwgQFoS3LErACDODhTUEjq0qjoGEQkhEQm3UT3L3Mo64vyzRnNJxHLZ4PLYkhGDyBUYjv3mVrmzXe9es6PteZofH9ViOtc4IOKAqBZUohNdH5fXrw1v3RzsXsOo6tnVO0bO+4vIdDr94Ycfvvvuu93rtzbWRt5DlWIINXNRFGUxOP++rnQGgLa/wz5S1eMdoCdYPa4E+XJzUVzdSpXAzlrzGaYstiECBShAClOoWSxZSghMEQOOTiACU9Q1mjmInBNHhCbwxibqOVyJUubRxIm10mfAWgcCvlSg8zOwKstYzMVMFGIiYaGu3bJZjl2x5Ek8odOHaZsZRBvVOqcD+jWIKWpMpWs1RJpV2QAATWBBORiAuA5aiUcRQUROOFrS5KUYD8YT8syyubmJokAIWF8vHALAzCmmlDQqcp0VmM1MNYHbACHQJvHaSGHKwbnOM4gIhJR78bJ0xQeIsAQkGIMNiJRULQ+XgBnI5pEMuFzhQBAFoT0yguTcobQnAgmqOVULMPEy4fjyeL228pEBsMAYLmG8ho2N8sb1nS8+P7Lp3CMWHGOIhsP5HDDypYmvrm+vf3p//MVn1d27tLWJaoDCQXjx9ejX7DfH673EiMg5F0L49ttvnzx5UlXVJ/fvr4/XyMCgQVk556B20V5/JUtNxK8/S/1J7PEW0ROsHu8AWUNlBEhbRGYwAivASilBG23YuwIsJM4SQo15wHSGp88QA0JMoU4pASrewXnZ3AQR4DBksLOYkhaRDE5yKKxLcq0YOyzw2qW3fcmK5Sm6LKG2IZyuCrJlTwudrK7yEGrp1S9gVZe/unPgVEIuY5SciRQW76rRuFpbG6xtuEkw9vMUOYGYyEiJTGlu2oDNl+VobW1rZ7y5UY5HGA1QCoTBxsxEqAlklrIsjqzT7L+u5S0RGRl14qmUiwkpM0sAlFr/BwOsttqICJTrGiJCUKKkA1dlK49kXeyxK2Rcem8solCMRAxkh8ifPaZA56fWbdE4a9gU5MVhPMTOtrt+LTZzNz8snZUbo2YymU2ms7NTiiiKan3nxuDG7fEXn69//pm/f1duXsfGOqrK+iDWW8Vr+I2q1nU9GAxSSnt7e0dHR5ubm5999tloNARQlMw0TFk/8LoPePv73KPHq9ATrB5Xh0Wlfw66UOsRbgy1Vs1EptBECjYPYqhHQtPgZILjU5ycHf31rzo5CbPakHJkyJWFH47Wb93GZI5qgJ1drIlLpuJJnC5qxBZ9+/gyuc4vYT5LDZaZkJBRFlobWoU4gZIGtLWCOaiTDaHfGrJUPsEEkPwRTlBWw7Xtnd3bx7fvIXlqwvT4NDShIjiQI0BpBsxARk7KoRutbd66ic01jIdwBGGjxIyU6/m6obOOGNlPBd2oY5ALgVrqBgpM1rluEJBNPrm1WoDClJVhhSU2bgVtZKSkdj6lu7B6t1bjlk/xT1YtLM86LTez3HPADBFw3tF4hN0dzGbOY1gkur5hBy8mZyc4fBEOj9m4Go637nw0un5z45PPqk8+xu3b2NnBaAznzLRfsq8Ci7Ld/NVIKTnnhsMhgP39/QcPHgD4h3/4+4/u3lbVed14710hYdaEkHxZnPvi9meox2+EnmD1eJdgKEMVJmhThAYmNmLnBFYgYT7F4Qn2DvXpvu3t7/3LP6ejo6aeMchSVLVyNBzt7Mbn+8Nb+7ZzbQDAexHHrMIIhkVQpc1BvplSZvWSmojMwK2K3nLy7LxKthV6pGWzl188u7dhtxXoIoIFRJg3BYMKh6rCtZ21ux/f+OIolaPqxfFUH89io86xJs+ejOqI4Jzb2XY3bw0+ujO8fg2jCqXL3d2CJvEuHxrnPC7nA8OrhOQvD4t1LCNbhbWFh5qMCVABEawAGxIsERRJNQbKpV4xCIlzjsUbU64ZVAWx62wc8me0t9r2u8kDZT8xvF2g60IlY3cICJpANCwcNka4eQ2eqzXvTnfl5Gw0PVs7PZmenXpy5WC0dW233NryN+7gxk1sbmI0ssIrAcZvmvrt8Qpcmns9Ozv75ptv5vP5vXv37t+/L0IhhNmsVo3D4ZCZszKhfYutUPPXfJt79Lga9ASrxxti0aTkMuTS/xWKokZs2TaBwAwmITNKhsRImNU4PsHTfX3ww/HX300fPjr5y1/09DjOZ5Y01U0TwmBto7l+I969Mz888XfvDrZ3sHuDmWJogkF8octKMTC3NAvdI0u8drZdrfjLVdxtrjC1ISoztBaYZIsybyVYDuIAagmAZ0+/ZP29uIedtacBRlAhkMWcJXSCQYXrN8q7x6P9o5lxkCeTydkUwcpCYxIIFMEYw2H50UfjP325/vmntLUOn6s2KWkMGgUlACfCbd83yg0EbYWaqF1ygrP51+qIKZNB23eSihGgDmAyD2hKEiMICMGauSVlCOBBAhfgGhJH4phZHZslAxIxUZcrtDZ89fJC2aYyz9Goc8N4rh9k97KYME9xxjAvo2GJnS1UHttDNzlbn83HMWhsYhOE2fsKozGqAcZrGI5RVfBF4s5Qo8cV4MKVi3MuxsjMjx49+uqrr0aj0Z///Gfvvao6x0XhADVLReGybTvyGadztz16vGP0BKvHO4XBKTMbwAx2EBAlhiWNDgZVzBq8OGwe/nD8n1+ffvOVPX5Mk2Oa11rPdaYKhPLo7OhkKDJN5gi7n30CSyBPKcSYRPwiqiG5neGvnVhXOVar1jdwLkQzAKamAIwt68ITNAu1jToZ9tuDZYbAZGgNztkxlQ47m3pzV29dT6fT6XRyOK6mOoqDggAkpMaSSLm1vXbvlvv8k+qLT9PmGAJohHchtdEgVXO0KBBAQhu+Apa0RVcbCLYCrLwf2eV1cdRk3DpxiBkZxNSZApAQYQYB2JEJxQTOJmiGBBhDI0zgnZEYs0JgYLCBOJvJ0nJPbKUBzk9SWLvsj5RSo0kJAmbiwdoAlUMzwHwdTWABw5x2trjk4By4ALsAikkTC3ftfXq8LVywMlkoILO8HcDx8fHBwcFnn3128+bNtbW1ppln09EYY+6lA0BViXMZCi7c9iyrx7tET7B6XA3sEpGTAcoC6+wTWnE0KZnAQIwYcHIcf3hy+u3D+vtH9mRvbT6jUMd6rrXmls9q1Eym6fnByXReT6fDOx9d/+geru/weFR4QUw52rIobaNfFWRYtXjOSQdVhVrhWm9Jyo+1h4VkSclA2kqMKIfP3gBdyEWX3WUIxARLuTyASAtHzM2NnfLLT8vRcG13k7bHZ0cH48oDsKSkoq4st7Y27t0tPvmU7tx0m+vqRQUiDGttXzMxylatRsjysdbz4nxwcpmy62T+tqLBQuuzQAwWmIMyjFURE+o5zs4wmSE2mMzrkxPE4Jwz72UwoPEQ62sYDSAeatEC+cIAJTVjMgaEOcv2ErpcZLdLr/W/oOUwLr8IWWLGxOSTaAOegxhUegFVEMFQIYTM+LORW/ZuoyIQR/KB2BSq8P0M+raxarCeUsq6de+9c+74+Pj4+Hhra2tnZ0dEiLKXrpKAQUaImtSU2efI+gXhHS9uevR4J+inhx7vFMRZpwOAzXKfFDVTMkKKmM7D872jhw9PHz7S5/vlydm2EzKJKiAdDgZFVUWWk6T7z54fPLP9p8/c9ZvV/fsjEakG5bCcz4PlpmNsSo4FP+nuuZJZWp2Qs60A1FShSAlRyQzOA5kVqmiS/EIx1UhMYDIjEs8tz6DOjh2wvL6/PL+/1M/upWvtrl0xWycnScTGBrNkypsbG18O8ekXOD7defhgfnhQFT7UNRE59qgGGK1hcwNbm1hfgxTkHAjETkRTTkGaZc9WW/kv7wB38aHFfrepQ2urCLtDMGgrR2LKrqFwYGjumRjx4ig9fXb0w6PTZ8+Onj472d+30Hjvx+sba7s71z/9dPTZfRQ3UAkQYAQ4bb1F2wLA1hvLWi8rsteLxJYndTGGK31SAEZhPCQKpAZTaMxHmtSRY8dgtBYTSiCBI5AHOcdCRGJI1hq09VGRt4jVCJaqppRijCmlwWAwm83+8pe/PHny5JNPPvn0009DCCE4731+sXclgKRpeem20uf7sm7fPXpcOXqC1eMN8YqJi0AMU+vaOIMZBohh0QImV/kLOQURJ6SEpBSV5w2OT+To2J1NCKlQLSMhiZ8HryKsQ0JpqRIqJMm0KeYm5mAlAglRtjHNmigA9NoQVi5nzDRBssLHFMZgJHANUhIWcUQVZSYSSA0hoA4IEcQoBIXzlkxEHcN5RiZhSCmFpEXhRaht7vfqIvR2MF8K++XlwYEizEBmZMQKKIuYlvBsHmNFAqSEK4rpRzGFGAIRqXgpvFQDDCsMBygKcEHEjskShLhwHKFwFC1lRys2EDEZJNt3WSIDwG16biVHuJCai1H2tMoNSdQoxCaGBiBPwGSOw0P8+GT+9Tez778Nz5/F/adydhxj09Sh3Nzltc3p/r6cvKjqL3HvDja2xBdRNSGxGYh9azAfNVnJohCgc8bCIrH58hdwCena0QFdYJHgDAOzEkQEAWevW3GDLiusgIOsBr5y60RiAhuyWUbXgLtvsfJ2wMxmFkIQERExM2b23jdN8+zZs3/6p3/a3Ny8e/duURQbGxtEBGhKSdXYERE55gsTUtfztKfBPX4D9ASrx9UiJ49y/R1a0tOlawgreTyCGWKyEKyudV7bfG7TqQlgSpoYyZsT1az8XhuMJk6mVVkII0WEiCagLIiJmTvvgKRKRPmRV+1f6xcBQLKwp01uqoJzh2kBSmZYRBMpNogB8xqTKeoIYpQORYFxRd5JDlrlyIpBING0ZXArzGllPdaVW1y80l6JvrQX4pY9nGgZRsp5PGYwYUjKnIYjM5OkSgCziWjp2XsUHuwQgWxxv5rv65gTA0pYDbVlGmXAQtBuy31TsuXOt/fJsYHUSI0soQk4OMLTZ+Hr7yb/++v5f30b9p/x0UERJiUpJU3Pj2ej8fz4cD6fDlMchujvm25tOlcYZVaaixQJBl7RtrW3P2/Z7A7u3KgS1Gmm4F3NmfFK5eIrvzOd0drKHz3eEhZe7YvOg9n+an9//69//evz5893d3evX7++s7NDRPP5vKoqote5Z61+W3r0eMfoCVaPq4N18iHq3BK0XciZFmuj5B5zaoiKmCxEjVFjTE0whABiRJcTUw4QVUCZgsXEZA6RtUEs0ZBLEGMiy/rW83ilN/SyzFDba10DiEzBnO3ktYSRJkxnODnB0aHOZuF0ms4mVgfH5MuKBgXdvoFBifEIoxGsMPYKzmaZqkZMWGEDL+3PopvQ67AI1FCnmFICSNSMcv8YEhbHA4C5s0InEMDU/k/U9aRpyxJ/UZ/BxX68CpaP1wyAA5wBdcD+wfzBj4d//frkP7+efvctDg8wPS0sVAUrYdKkpvD18RGfnY3q5hrx7nA8HK3TiBIoMpmRZo+tvMdXvFT+0gHpV+63i+yzwMwxxqZpsvPCycnJN9988+TJk/v37//5z3/OsauUUlVV6ISSq6LJPprY43eCnmD1uDpo2+m5VRqrWRaltimfThad3UYVqjDNDX2NKBEUJt6ZRlYSYmEygqmZIWhSuFzXBzZ4ggCiBpdNE8436rm84zOQm/a0dXntPrUyb7QVg1q7ZJjX2N/H06cnD74PxyeTg6Pm9MxmjYgUwyGvjdbu3ubtreLWdX99F2trVFbELhETm6oigZm7w34NXicUIUBA6fw2IkzJGCQ5dMdATu4ZWmpLBrNoKSWDWiklAKzsiS0bA+Y/c9vIZbHeOSZo0FUWQguJS7vzrawOWpCACE1MB8fTRz+efPv9/NFjfvainE6KNPdIRaRA5tmdhBiPzmb2OFXV8PpN+eRzUiCXDoKUKJqRkbyrUvuXvZNeddvjKpB/qk3TTKfTwWBARCcnJwcHB8Ph8B//8R//9Kc/ee9TSk3TZFf33AF6cdHSs6sevx/0BKvHW0cbiTGkrFDOGZWcgWmDHBesus3QUiVxReEHlQxLLQuASRgKVVPSqFDSkBCE4TwzO+cK74vSkXdgtdjA8YJOLR3YX4PcORidf3ibyOSkZmoM9dFQz/DiED8+wqOH03/7j3pv7+j5fn10nGY1kfjRiNbGJx/dcrdvrH/x2WZqCroNB5Yq2w2kFDXCOSfy+oLGS5KDl7zIYNzKj4wkQJXA1Krqk0ZocgRiBwKIFSkpRSApoOZdm0DNidGuPhHdKVt+8sXTBHR6c15kBpd9ANtm3blJD3X1hYbpbLa/d/LoyckPj2RvbzyfbzNX5D3ICWpLNhiMiQ+VDiZ1enpoj/fo4Bhnc6wbs4KcgkAkCskBN/4V1q2/ADkuyPazbtHTrLeNXDmYfyxEFELI+cGU0vr6+v3794uiAJAVWlkCn1OK+e09u+rxu0JPsHq8XayKiqwtqCdaKnUgZqwgwNgIBkUii8QKEQwqbKwNdraLazuza3sWZkFrCWRqCZaQElAD88jTWaOjcVlW1WBYVRWcBwuBSM34XALuJzRYLc1oV0oDZ7mPqlkwYvVJMZvg2WM8+DZ+/yB9/VV8/tz2DvTkzGZ1TBqKktZG06eP5aObzWxKbJveee/gRByRSIyaUiIi57Iy+1cuA10DHrCh66ZsBk7EAGcD1GiwpBFWVSWgWQ6fmxcSg8TAlFsMdj6itri9MCivJYMvZzOXdVttYlINTYPT0+O9vf0fHx09ezI6OVpPoar8wEiIwDowJuc9hEzrWTx9cRyf7NdPD8qDE1zbgWcjUghncZRelI69dSwykEo/97avTXu7mM1m+cKpLMuU0mw2e/78+d7e3mw229zczDWDs9lsMBg453L4avXtfbVBj98VeoLV4y3iUhXRwlDpnGPCIrCkpgb1phDGaIRrW+Xdm2t7d8NsapVLT5+wppAaNahCgQSnvpThYGPrxvjWnWvXb2O8BT+AFBCvKZusL/HaCVezGzsDCs5SH8qWU8QpBkcBGnB8ag8fHX/1N3z/ID74lg8OBqeTQR2piU2MOpEwn56dnTSTUzOTwsuw2hqUVDgMmH32MA8iZOaI+PwuvbRAv2JnV/JwhK4aMXuPMlx2u9RcLcC5YDObZhFBOCfcmIh1MTYrXu22YC2vHqlVv/7uLJPmwFUev07tbUjKyaAJTYPZdHp2cnJ6OG+mHk1y1kiCRrJGBAwpYiiIh8mqJk6OZ3Z4ZkcTnE0QEtSMCWAD2TJj2eOPjCzAyjzJe394ePj8+fP5fF4Uxfb2toioaowxhOC9J6IY46oGIKcLX3tB1aPHu0NPsHq8dSzCV2g1WJT14zksspz8zCwhKZKaIkbvHQYe2xu4dcPfv+PmU66K2XSSlBLXrOaMzEjZh3Kwde9O9fEndO/21v3PsXUNvspWR6qRz6cFf8YV7UpmzNqsGWdfcjPEhMnZ7NnT0wcP+cH3uvdETs4G81Axe+YGGmExxvhiOjMLg2q2vTW/dSNeu+bHYziPYpjTlFkT9ibDyoB2HXuW3lREAllI2pgdM7lcs2kLIXxrJ5WZ0AUdN7WNZn4heSFlWy2h47ypGJVMoYa2AjCppmSRPbNns5RYp7GBWuFQckoxCntROIULynWkkJByepkIpGABjCSflp8sBejxXiPTphBCDlBNJpPJZMLMd+/evXbtWo5XjUajTKFCCMznJAG6LAvt41g9fnv0BKvHlSCmiCW5yYzHyGApQYXMLGlESmaKZJwg4tlAgrURrm/FW7tnL/bCZHJcVr6KCd4ZsZoZfDX2G5vFjdvr9z8e/59/jxs3QQ6DIVwZLEWQWxG95juvSxxkqRC1baHBUEWKiICqihhEwPTD3/739L++Ge8f4Oh4pLo2KCtmCjAgGceimIe5mzfh9Czt7c2ePK1v3/DXdrC2gRWV/eLCetHT4+cg73eyTvN07kCWTuvZEbR1ATKgo3Ta1VUZkzEvsoGt9NS4tSoAACAASURBVKorcc8Oje2g5RfQMrrVPpbHEgZAbKly6+o2ASYRJnJQQzSYkhOpnHg33lzfHlSj2SRMTwkGwiygTrbhkVSDsRI3ahwSQKiGMJiRtcYepkrQt9yVJq/Ni2YsnTv85Sz4VeSYpA+WvE3kvjfz+RyAc+709DTL2+/fv7+5uZl1V865fLqyHivn3/Od+Xyef2u5r06PHr8t+m9hj7eOHGrhzkNKAQHl8BUxGMQMmLRZQyaKBPFiUCLAO6yvy73ba2S8eyM1xodnYVpn3yWCVOO1cnPz+hdfDj++i3sfYXsTG+uoKngfEzPi4qI2L4r5z9fv8TKEZSACCwrBPCGlKGGOk5PJ4eH88Kg6OS1ChCJZDeeQjAyOyQlfL8de3MGsji+O5nsH4fgU85CjYdxh8XG/4vL60rfIeR06r7IvzdWYXXo2dw6ytn5Qu8LOVnLUHjeBOn9R6tyF7Cf2llbc3mFAPu9C8A7DAdbX1rd3Nm/sNkfH1hzPQqwShq4qHJmlENKcJZpNLNXe+7WNwc4OD0ZIBhIY0cIVFG2G0N5qEGsR+egY5IJw9rharKb2Vke8aRrvfVmWdV1///33X3311Xw+v3PnztbWVlVVWQKPfMHQUd7FpQszZ2l8nyLs8TtBT7B6vEUsF7+VSTOrpfMCxgyXV8qsJxaCkWb/8IRIgBQlrl1bG6+t3f0Yk/rGnU/taDKbzC0lMmaR0fo6b2xhbQ3XNrG5AS+xLLQqIhBEKhATFjPszxC90qJLcZtoo7aRnhFCSkWsUdfzyTTOa4SUIqIhQGtLpbZWmFAb+fLM1Kb17PiUj05mx6dbkxmaBgAznGMRWlht/Yo1/FW1c7R6ZyXP1zEkSzAGujBaWz8o3Xla5BYX4jDqRoI6prXS7U8Bk3OjukgSdv5hQDIghxCYsbm5ffNGuHt378en6fB4ctZQ0LVhOXalpTiV+HQ6n8A15G1jY3jv3s7nn49u3cJoDPZEkh3YubOH+Gmbi1+Oc+cil5T+xEj3eAvIYaeFoegCOSgF4OnTp//6r//67bfffvHFF59//vloNALQNE2MMacRsxXL6qVLVsf3BKvH7wc9werxdtG6jjNdiDTIOalTGy9g6trUGExzBR9YvIMfYGzYhHcjTGbFtE5NMIV4R6Mx1tYhgmGFwitZw2RAzFvl5YT98vXxZXsLy1ZSZmqZZYAZEQiIziIIEHau4FzYRGdqmkgimM2QlGIDpcZZNKiwgP5/9t60S24jyRa8Zu7YYsnIlZnJ5KISVV1Vre6Z1+/0nJrTp//+zLf3el53va5WSUWRFPfcM1YA7mbzwQEEIjOpIilSIlO4hycYAUQADgQSfsPs2jVDzKE/j/fQaiIJN/0gwv2AQZKVDenKiiCGN6RQpiDBasVnAu1tbKwMsSyd3GkZGNPl9nQ1clCdQQUpVxlHJQGcClQMEVlCL7Xbm+sHB+fb3+cn40V0bLzONDIlQXlG0Ss3mxpLvbS3s7X5m3vDrx7Q7X0M+jCGyFBDzxsm+BFALf8krWNysvpo6PKSbg7/KWhCTdf+LYTiwZAcPDg42N7eDsvbQsZr/46uMrYOHX5BdASrwwfHj009UuWi0BArIjBYIAYmNAKsnJZEWRWDAaKkzJxzTkSVKYrTOE0oS8FGGI6r6ItZNvRdEbn/eBBLwRICNEoQrYTggAeUVZjABlEcJZnEmc6cUgIWZYMoEiNeF+rUe1louSCjxto0S4bDdNhHL0USB4eotyJVb29euUqklpM+rRKAyrS9Epldi1anNmqShvWSelD1yClU8wWjq2skSVyXNxoBO/YRAYnF+jC5vbf24IuZc+KcnJ6eLsqTPIcry8jO+6Oy30+2b9kv7pv79+jOLWysIctgY0LEHmLAWqnB3tN6/l1AK+fkbzx2eG+0NVJNCUhwtFosFi9fvjw+Pt7Y2Njf3//yyy9FJJQNNrGr9qba7u2dvL3DJ4WOYHX4eLjMtJY977TOxdRujQasqkoGYSInFRKB2OE6ehIJIu+dKACyBiYCwamKqiGOuFIm1zGIy3gTx9LaQ6L91sYNycYRyKJcwJik1y+StPQTIusBcESRJSgTu9wp0bTIF0Ydc5QkUZbarIc0hTWAiij048U7AitceQRQmYJS7ZERrEEJ7S9lJb1Yk7FajFSvaqu6all8o5RnBarwVUgRwhCEQWxFVUkpMlgf2oOd9d9/ldjIxvHixavpq8Ozw9cCtlkabe4kW5u927fX7t/vf/VFfOcAt7YxGsFaCdeJACE5SBD9+L1yWmnTv/nY4SciUKuAQLCiKBqPx99+++2zZ892d3f//u//fn9/33sfWFSIBLeVc/oOniwdOvzc6AhWh58LdYSmsfU0WjeYA1DNnSEaFUycDCIDj9AUENYaWQmzUAH2YkLgJBS3GYKhtm3m36wibOTezCBfEywAgLEswkqgJF7b3PKbO7hYLM5npN6BnTAxCYuP4InL0iFO4sEg29gYbG4mwyHiCER1NZ9nhaGEiK4pR3t7g4RL76Sl3/q1qSu68mxlQlqJhC2TtZd2UZ+n8Krd9Pm6UypgAyEj5BxgY6ZRH7QzUE16cbLez18f22fPi2fPxPv+YG1tYzfb2kn396ODveTuQXR7D5vryLLaOg0koKUt6sdnNm8S0L9px92E/r5o2FVTjBKWj8fj58+fTyaTP/zhD9vb26EksCzLsPbSH3JDtpqqYXR2ox0+GXQEq8PPjWV/FaJlUTwzAPIQD6J6ulfAKZnKxtJDKQhzGBB478R5ywDZusVN2HRFAqo5mn4s6kH1kKiyl1paOzE42J+jN4h3d4u7By4vL05Oi5KsodyyBdQYUXLM+TCS4TDeuzW4c3twez/a3kbWh4lEWVTVq1bjRsvdfnUQH9REMwTiLtuH6ltTFG2dhop9VdRDwuaJSFVC9rOJzynUV2wVYE8AG5v1iRg2jpKI19eziwm/uosXL0h1fbTZG2zEo61oc0M3RhitY7QGY0UUNlh5VQdQXynUGtVPOl9tKc9P2U6Hn4Imu9dU2l5cXFxcXDjn1tfXDw4O4jguy7Isy9AMJxCykF5sf3Hdl9jh00RHsDr8XCDQagOWoElfmSjNslIs/J8XpZbBVZOYmcmASQlOIRbCtGCNjBrDqvDqhUKnYEXV9Liqv1vJ7CxL7WoNdT2Rh2SXEDzUgq1NyeSwyfb/+d8O2U7TyOv87NXR7OLcirNQdY7IUBz1d3ftzk5y/270my9odw/DNcSxCJWelBI2UJhKf0YkUqu2L5GEv8l/rqwNRgZXtUHXb+YS1Wy/CLtuBtBYxVfhKiJmhQhUIR4+yOVDBRdp7fOuIK/EoVbAOG+8V6dxFBtQins9c+u2mS02xtPBdMqiHCfI1jjrIetRlsJG3sbEkRq6TAVDorAaJzdpTK1zmu+KN07JnXb9Q6P9cyIYgTLzbDbr9XrOufl8PhgMgrUVgKdPn/77v//7cDj83e9+t7W1BSA0HGTm4D4a2FVbd3UVHd/q8ImgI1gdflZcc+f70ZshGabmHh3crYKKy0LZqgqIhCvLciFTB1pIoY0TwRv7A7en55rrBOMFJmIoK2Aj9Ie0u53MHvQZC1/Q5ovF4XE+nc/nhZbO2thk2d7XX/PmRnLvTv83X2T7+xiNEKfe2FJICcocKhSrnV4/mqpD47tmnT6MNuhNn9dmdXgmtU+/UkiwUtUcsdJoUZMGBokNDhGOjB32IQM4B+95UST5AsSIE5BBlMBGADvRUgEVcsxRa2iNw+gHDfJ1+PnRBA57vV5RFNPpNEjXUfn6mpOTE2be2tq6detWlmUAvPdxHHfq9Q6fIzqC1eGTRuPajCaYUrMiZgqmB+GdVAeuUGu0cCVk82PQWgUuUMAaEBjEYEYvBW2NlEZZMsyy6cuXx69eT05OiskMpU/jLB0Mb/8f/8DrG/HuLbO/h91dDNdhTCHqnCNjI8O2CY3QewZdfhlcGapZVgYoExFImUjq+CRVJxAAMRk2qizigsUsYoIaJDF8BmIQgeLA0QDS0quoACCNmq+11plhGZ+Tys70TUPs8ImhEaRLq8tC8BQNBleqOpvNzs7Onjx5EkXR/v7+3t6eMaYsS1VNkqTRYHXo8BmhI1gdPmkwQ5VU2y1NQEQeqqqiQlS5IAAgVWKSVqCDfyR8hStTM6kKoFT5cYWJgQ0igHrYVMTR2sb62tlZ//h0dn5WTufkZJD1esO1eGMLwz7WNzFaw2ANNslVSlc60cgEN3ngbVJanxRbWA3vEWDAAk91lUJgi6qsXEneiKC+svsCiIlFhUjzRQ4oG1hiVe+8I4i1sUhBsAIVqFdoJcUhqXdQ7Z/AgJKS+OWAlqPsEnufAbRGyPfFcRxsRYOr+2Qy+eabb46Pjx88eLCzsxNEVwCSJLnqmNVFszp8FugIVodPGtr+p4pg9NDunUxQXnqKap1jU6h5E1tZ0T9JtYSCJKzShldydDCMBROI0evBMDY3sbe/tpgPZgvJSxbPcYKsj6JE1kMvQ5IgzpStV4ElKgvLb5nf4J+lTO59UZ1Xz4Aqty0xfJNeVFhAqj49MJU1kSFVEAReRJwhD8oBVTWlsxqYE4hIyRCrsZfCjsIhLAYAUttPXF8r2TGtzwVxHBdF4b1nZhHJ8/zVq1ePHz/u9Xp3797d2NgA4JxrHHrD449Lrzp0+NTQEawOnzSaajZaVUs1nIWIwNT8vG3SSeatUoQi8FzJtBQEVFovqEeVMmQDIrCAgTgCDHqArLN37DzEgw1MjLJAFCOKQazGagQGR4YNwZgqfPX5zgu69IYlKBM8wKoKgicK+qtgeKECrvjuUjJPZKw1Xp0SkYFC2bKogijShEV9CE/WXyMBwc2LFFT5xNfSr+WTVs61c1b/HEAteO9PTk6MMTs7O3EcP3/+/Jtvvnn69Om//uu/3r9/P47j4H0VeJX33hjTSAUadHYMHT5xdASrw2eAKr/GBIBbZt6XvA4UIBBjWdD/Y9mj5WdrMymuuiSi7gtTWzwYMIEJEXshJSaFimOvXLsWBFMGsBGvQlVKiw0ojghhQcuyU4RbXYw/ZejVakcNMUMQSKAK9aQCFZAShGAJJvhlKdRXNvEAVFiZADKgiIyQGrAlIl56Y6gqVFSUDQAxRPUQgshLhNpNFNF63jaw6sjWp4Xmt1C47IloPB6j9nMXkVevXp2enmZZdufOnbW1tfCpoL+86tvekaoOnws6gtXhM0DbXrwxEGimfm3ckur/dYURvOU+WkVw1c4IMAKvqk4liLmMiYIQXgCxwrCAhJu+MQTABVv5wLs8kghQEmkPGZd+iH+yqOoGl4SF69Ot9UlngAXkqWrHU0JDI0YlkK/eG46blUWENTSgrFofalW2qawgIgqSOwirEoFUETR1VGUJSUUD5e2iVp8hGm5kjNnb2wNQFMXLly/Pzs7W1tbu3LkzGAzQatnpnLPWBj3WVd/2Dh0+cXQEq8MnDSJUqmatXqJKIdVvAAzVEzkqS6vWL9yGCFz/q7de/sZ4EoE8QYjD/o1X40khDAoxm5CjBKRUD/i63TQDMAwVBYSIAWp+fDcC3s8Fl5sPKoNDPnVZzafwArZMDgBgFCaYdAX7Bq8MMBkUgEHEkBAfrC3iiaCq6oUgBOHAvpqvFb4tUGv6Gf0MnXM6/ES0A07MnOf5dDodDAZFUQQl1nfffffkyZPd3d3f//73t2/fbnuyt1sWouX2fnXLHTp8gugIVodPF7qa+PkIuBICucQkqvd4Reg7DCOAKClAYhgK0RBcCeIioE53eVpRrMvnWOxGtdZJG45V5fM8VBv/dlp26ZGm8k8I5pJmvzHt94DChAY4BAnnjIIOTrghyoqltn2lMPTSkw6fNNrK9MaK3RhjjPHev3jx4tWrV6q6sbGxubn5Sw+2Q4cPiY5gdfik0ZQQopb1BGOkVtwJ7bwBXaZHzYo37aCKXTWBr2W0Ri99jqvUmGgl5xYQEwnAoadiRa1Wd0j1f7SyuLYlf8thfhKoZW5aD74qASSQqqXQWbo6oVzLpojqTGM4s+FEC1VnxNY6Nwqbq7+DOu0LYMmlFMv0LzUtl9rXQse6Pjk0+T4AZVmKSHBnADAej588eXJ8fLyxsbG7uzsajX7RkXbo8IHREawOnyUa09EPsJUaSzfLSxyLqmm85koE+GWLQ65/oK/Eq2qtWNPa+jPH0sI1UKugPAdAxLW7F6snIkDqJkUAIKxclR8qFAiRPq1iVlV9QUXFVtOAaDT2gX6RUuMl23wbbXbV4VNEI5xSVeccgGDdnuf58fHxyclJFEUHBwe3bt3qUn4dbhg6gtXhU0fNpVQrqQ6IwO2oVevN7QiWvs3tun6/1I7hWhuSh8UAjEKWgae6bHA5v7OS1NOIahWNqTr01X2Km0q3JlHY0Lnlnj5BmtAuIqzSdUS6OhEyiETDE6gDNXVeFSWS+pwwEau0yCt7Jh+ehrAYtYhs9Q1S9d7Q4XD5/TbxRnySZ67DZTQuo8YYETk+Pn727FlRFLu7u/fv3x+NRsGO4ZceZocOHwwdwerwSSNEOto/gkNt2Upa8Kf87m2lokJuL5Ag06zVqie0hBylIQoKLNSEDwAbEYFKMEFtxsWrza3/JuQd3/9zQrAkoK0mjyAFK6jKBBJBoU6ZAl/yBCVVsLAySFQRdGwAKQuLg2lSwFI5QACoOjcKqu0IGAADRpnQFCDiZkQHbzbaynRrbfiTcc49ffr0hx9+iOP47t27Ozs7jYlDhw43Bh3B6vBJI5hYXp1F28rZN/WfodUs0xt2sPy/tsMKoZS2sFpY1RAcUQHAmLYNBIG4KXLTlRiLqtZ+p202cE3s6tNFq3izzbECpI72BZdWaGixLaG2UhgAfFgEAMwEQLwBABINtZk1XRJqJFykXPOqoPRqCBYRTHAe7dJJnwnaJuxNX+ejo6OHDx8eHR19/fXXd+/eTZIkBLc6I4YONwkdwbp5kGVRVw2FyLJXbpWdQU1fAtrG2HWYIoQapEVwuEqK1fEec20M4c1K82YkrWVv/KisLpbKo4EACFeacqKQOiJoI42uP0PLJ5cH2ZJYteXo3B5Po8QSJvJGWEmVAhWT5v1cJQShxJ4DGxCGEGBAjsgE06fAshplNkRbX5NvHfjKF3HpNKys/0loAlHLgFu99dZFcnnHslS6N0MRgIm0xWTrbdRdiwjgKrda5/ua76TOnoaCQtWqH2RF2EgVrFAKYrblMDt8HmisSQJzChlA7/3h4eHLly/zPN/Y2Nje3haRxWKRZdkvPNwOHT4oOoJ1A3BpAhZVVXgoV03sCSWJQgkSAcYxhMAxRMqIhbBQB0hKrN5HJjECKhTiIQ7iwB5GERl4BRhs1diF0oIJkASIVYmMaqVUYhCDqhyOD5GLEG8QJS1Z/FKIpLSkHNXE6UPf33oSD28QWh5nIHZEppGVmyqawVxHUzRkFWv/aK3DSpepAy3pilmlDqHmrfYmIIgyKCZVViHvSQA1ECOhOx9ZE3vG1LuFOA8fkaSGE7ICLlQzL4zagdRSSASKOoCJaFIU57O5T+0oHUSqcTiH4RSKU3j10ngtNgQX7SN6a6hH4Iie4QFXURltEpoWMApu+BerwCtY1TdhJGYy9YljalhTiEClVYshIJhl2SrotcLXuPq62tcuMZrukUsSfuniNtSFrj5ROOfKsjTGhCJBVS2KwlpbliUzR1EUmNZ4PH769Olf/vIXIvr666+//PLLUGaYZdlkMkmSpOk/2KHD546OYN0w1DGnIBOCAkZIgrvAsrExas8mggBKbEERNIhPKXeYlXAO5Rw+BzlYRWxD5xfYmOIsjuOSqAQIdXtkAJUUvVVU3zypJnFp5traNqkBIdgrVfNzVY7f1KOF2Im0KFCLM5nlUa8GeKSuN6sbFLZwXfiqvbI6LqoDflJprogqQXwV/guqIdHC+xK+hAipJdjmr0uE8wLBQVMdyMESImOIQRZGIpHIkGfK4S0Z0fC9KEGUJJgftJKMFfm45ojeAoGheaA26wxXSXUWKrKrdcaUKjam6tH6vkiJV1hO+C6qmsL2iawZ8BvN68310U5uveHy+Dt8mghfcVsuqarT6TSOY2b23gfX0Mlk8uLFi8lksr29fffu3eFwGFrihPbtHbXqcJPQEawbDgKCvDi8rGTUlV6mYhURJAaMKkR4MsVkgfMxpjNMJ5pPF+TEgnuJTbMo6aG3hhEZa3vGzkQMswFpcIus2rGqJzJV4idk9bQZQNsmMhh9h/X1zLky3YbUEgDV0IcQBFKlwAwIQV5dFRVWGcPV+Zpx/QT+Fuet2l/o5FL9g6ISZUsIzVFQYCkDQoYNUUQgUAbtgQwEZYnxDGcT5A5OISVIHMMOe0gzZAPEcY/ZpMkkYoXwGyjTh1F018yJGCG25KBtubgFGV3Zi6pe2mtXS9/hTQh+V6HVZsO3AsEKBg0A5vP5+fl5WZZfffXVF198Ya0VEeecqlprmZu+7Ss6yw4dPkd0BOtGQ4NGqE72VIEZJgJUQq6NAet9DIUXTOc4PZdXR/PnL4rD4/zsZD69yNlTEkX9LF1b729s9Td37G1BZG0vSbxYbtqEiaqqkoTEn5BWkZGmzUwImWij8uElH6K6nyARmFVlqZoKn2YfjABIEEROgdMogySwq+Y2/CZV+zU/jenKk6sriRoJt1TbZoFUaTSCIQLgicEUAwaI4FOIcSXyAscnenxWvD6R04nM5l5KFxvKUjPI+hsbZnMHa+sYZkmaGNAcwtVJU0B0KVa6Znzv+UtfPQAIM4koGVoq9ojUwACioVKPwpUjV4NP7zHnddPkjUcgVW3FFTOnaRqCUuFxNptNJhNmHo1Gt2/fDs6iRVHkec7Mg8GgfZ00F1538XT4TNERrJsMqjRJob2uD01KDBEzl4UoOMhuYgVEMZ3j+ARPf5g8fHT8X3+dPH8xPz6cTc89C/cS2+v1Nrc3dw/83XubThAZbI2SyMKzGoIyB9MjFQn2BVoRL6Lae5sEbQV3KM0P0NDZrnreRJ1YwVpFdFoRLuZQZwYAHDwC6lVvFLb/GLtaXfCmWJE2uUIFyALiQ1KMQYo8LyQ2akwEzUBWHC4mOD3zjx/lrw6nT55Pnr2en5557+0gi9b6mibD7e2tgzvRwQH297E9sr04Cu2Og+8mtXddaa+uUeu/I1SVqkI/MWAiURGQMFmQEEBce4gSBF515Vw0ltwdOlxCoFDNFRJsF0JAS1VDY5xnz569ePGCiA4ODtbX15sPeu+9992l1eGGoSNYNx0aBOcSCA6HWAu4lEIZMYwJEuSyxNk5nj0//4//OP7mL4f/+e3i5St3cVEuJp6F0xhpWgxHuH2o46mFDi0TbmNzA2QVzMwgYiZVFYWKeCIYZlbUoisiGBCpNlErALVeO0jemRVCrUI2qtRYAoRVQU3fsKvwKeXLIZaaDF1/Qt7xBFbhN3BtPNDsut6ggp2WpGwgEdTCYZ7j6Bg/PDn/038Uz19efP/DxdNX85NTFbH9zI6GlGXzjU1/9/XO+UVc5NDb2BklvUwo9qSqAoWqAFXv6Nawg+j/yjG/LURCcR4AiPVabZoFBLBASUkAiPolW1VtT35di+UOV0FExpi2EouZmVmkkgfkef706dPDw8OdnZ2Dg4OmZjCO4zRNi6Lw3rdThA1R+wUOpkOHD4GOYN14BM9HdnVlvoQ6PxvVlpgC53AxxrMXs7988/r/+18Xf/nL9LvHdjpZc07K3EFgjbORPxnn03whfBZHLuK1zNh+DyYmisFoQhuq6lRUKSxDTVGCqNpoO3bFdfc5liYdUEm8lwhhG61l12htM9ilE6p+grgsnA9LqkheGMQ1oGteLfNiBKpl3yEcxwpD8FSdWwCknNgEhhSaQFE4nF3Iox/G//Vfx//2b/7Z8/GTF+74Il7kDJI4kjSifn+avaDjU1sU66yJVSSgNCb2lwbapqNUGR8AFRF9R1AdK1RUjWuabagPdZNBqe6gyoAyi5IyLRsGEqELYnW4jDYFDyGrJpQVBFjOuePj48PDQ+fcrVu3dnZ2kiRpgltZljFzURRxHDeOo91l1uFzR0ewbjqWKR4O3kvBvJFiA68EhSjyHBfn5auX5w8fzR4+LB5/z69eDZU2o4hVc++d96WT6TxnNTI8zDfXzcYou7Nny9vwGWwU9kFEYAo5QqW61y9C0Z0nkGkq+sN46oqzOka0RCNabxjAsj9gDakyoKuf1HfkHW9xDw+VdFAoEy0b9XAYZ/B3ssxQiJTkckymODyePXl69ue/LL77q3v2TF6eJItiQJG1XJZ5PoUbj6dsZ9P5LEvjjSHWsmQjxfqQTVq3Mf4YEOWKRXGwvvDL+s/mYD3UV92vl6L7S0GsDh3aWDX+1Uu6vaIoJpPJ4eHheDxOkmRnZ2cwGABwzi0WiyiKkiRJ03QymYhI1y2nw41BR7BuPKqqfgYELJXZNgXLAw9E4jGb4+jk/Nmzi6c/LJ4/M6dnO8RbsemrWlLEUUFSKM3YTubz2fNnvLN5/OTx6A9fYr5wdgYbWWsBAwmNxkgFcRwLUCWkQFSZVEkwO6haqoj4YOvAZAx8zY2oJlxVGz+qlFVEEAnN/lCIY2MMWAAP56EMtmCpLZ3Q3PQVxPSumcFLYlslUOjRUjtdVIGxpUk5FBqB4ATjC332fPLo8eLpU//qlTk67i+KEWgjjizxQtwcsigcSzF/fXjxwxNza9NtDob766nehZRKgDIRSYvPGBhabSh91RH+b0KBQjxIGGQAqwRDldFXyIEyESEYoIXrxqCa7hpJDa64R7a5V0fCfrVos6vmaglXyHQ6ffr06YsXL/r9/sHBQWg7CCAUDwaUZRkiWGFV59fQ4QagI1i/BgjVzWQqgZNislhYaxITwRj4cjG+GB8enT1/kZU+AfWZB6BMnCFCZDOV3Al5KaScz/P89HSS2cnJyWA+c0nGbC5NXAAAIABJREFUpYP1MCBmQwYM1tBuLpApQaVdaoIlFT8JDkxKpKiMuhuBOYdIFxH5il0pgdQbDp2GKbZWAYV6iIc6FUBKICNLoljlAW/E24SvakWXNolGrQVQumwcU4XSlFAUmMzK84vi5LQ8Polni0wQAwOmvghZTSxlMMezeQL43NjpTCbTcjJFUdRbBEhAdV++Dwn2UCJAlUGeYbQ614FdgahmqKyAgWFm1suM6hI6rUwHAMEvNOiumoVlWUZRZIx5+PDhX//613/4h3/4wx/+EExHiSg4YAUqFhxKqUZ7y130tMNnio5g3WxUffy49pRqpkfn1US13Ny5fDGbX1zMzs76pU/IDGKOVcmVob8uhCJmWwp50cVifHp2YrF7cbGnHlI5BJIqmII2iAm+bibT7B1N5WDNVIKwyQdLK6pEQUagcLXqCQBIKo18vbHQClBLiFTWCWSooiSqGqhbrQdRIoJc162wUXDjcpKxWducrqa98UqpYW0rtdyKAs5hMpufnc9OTuYnp+l0lhIN0iR2HuogliwnzBYaA3npislUT07is9PBYp4GMqrh1Jm2mqzOt7aGenncbwUKedxqgyT1xKUIHJaaiKEBGZCtLUVVW6ejPg8tM40PZdXV4bNEEFoFnoQ6jsXMweZqOp2enZ1NJpOtra3t7e35fA4gECzU1NwYkyRJW+Qe0HUn7PD5oiNYNx28bDbY3LcUSJLMMBTwZUG+jC2nSZTGNl8shl6ILMELlFXhPbxnNaSeQRAty3KxWIgI0iSKIhhLxBW9ISjUi2cOO5aa2+myYQ2WdMoThCo70UqNRY5VoCGZKCCuTT4BJqgPdZCLxbxU9QwYa+OYyBiEA6qSVoofLbRrsau/CUETRRMQL3lFQ7Da+jARX5bFfJbPZ8V8ZvMiTDMs6orSkpBGAKXG5F4NdD5fLM7PkvOzxWKxVo2tpnOEq0Gsa+jgu3CaiCMJ5ZgQKIv4UB7pJUSvjIRiUxImS+1rRrUpB2vHGKrwFTpq9WtHmxjleQ4gWIx+//33jx49Gg6H//zP/3z37l3UHQkDmsJDAFEUXWsu2kWwOnym6AjWjUcwOwdX5uMGClLEEbxgoU7Kssec9nq9QT9N03meL/KysJxYZmYlJYgTVRIHJbI2jqI4tklskhhRYiyjnogDrRGtrCmbvsamKrVbmi+AmpLGZQZQENr0EVWSq9Dgp4QXhPCYrxorwwnlOUJfFqtqiKwIRKEWVqBc28oHFcjlu/Ob2JWuPl/9kABEcEaCSQSFAkhqBbEQ1F8sJI7Uq3iVwkuuVECViA0RsWEma+JePy48O++heengvJPgDy9hxMuBVDSLl6G/KqAm7yTACojAEiJYGnZFqqj6SBJUQt5VmJVJmeumy6oiEsQxTZFXNbzq9FLHsX7laGhTWZbOudBS0Dn38OHDP//5z19++eW//Mu/bGxsiEgjtALQ6LSal1e33LGrDp8pOoJ1s7FSjMd1oic8OlUStVDEEWVZliU2jo2Ncz+fS9mPEpMk3pcE7w2VTtUycxT3srWNjWJrPen1EbiUKomGFjzBDqvSESlAYJWaWlWEQIkB9kSqUKpShCqwFLiVAgIRqIN3yEu4shJi2xjWgBhM/TTtMZcMZeMMC6AiqsFla0Wfzo1U/vKp+dsgwLekVhXxgwBcdxzCclFIskXGpHGUxVEvtlnCUbzIi8jrwFqbJmASazgylX0WOE4S7veiNA3pEqAq8mv8939swPpuHCuM14RtCdeNIxVgZkJwy1ASESZiFpAqkQZ7M5EQwTLGvNFu9L2ylh1uANoqPSKK4zjwrclkMp1O5/N5HMcbGxsA8jxP03TFVu3aX0GttT/LEXTo8OHREaxfA4KmpxaaB1cqBRExMTPDGPR7axvrm9s7dnPTTxeLoswBYnZexLkQavIcU5Jka4PBzjbtbw9Ga40rVdgiNRSEqqo9bjeyaxEErbslLxNrVYWheHHkcs1zKRZcFO7sXPO8LD2YkjSLexnSDDZCf0DMsbVgYqCAGFq2zXt73UbDYt7mLq6AJ6kyhMKmJYlyAhKwhUljHg3Xd7byWzt2Z9udXbj8dOrKNI7TJPLivAqpLrwvxFMU9YZD3tq0mxtplsF85L9HBVzV5JnDl1fZMcA0x+9FIfBKwrDs1Unw/6pPKTMbw01WdMldu3nwV4yGIYVGhEF6NZvNnjx5MpvNdnd39/b2wipmLssyjuN2J5zG2aGjUx1uEjqCdcPAgEAZ8FDWKgVUq5sAQECGFREHVkEUIkP9Id3aje/ds98/y08viotxaiOnUvh5aNIqzLCJSzMaDHtbW2s7t/qDITgiE4MtDCM0z9NgvyDMfMXzkxHMqwAsvRiUNeiu1YpG4pAvMJ/IdKyTscwWZ48fyzwvigKGe/1hb309G65RltHWFpIYvUwjK0QeECIi0z4PCqbabuBHztcSdE2YqIrw1EGskNiod6ONZr/0joQTCKIIw5HdvpXu384PjsrXJ/PJbD7zibEmSiXPF2XB6hdeZ7CLOI2Go3RjMx6tR9kAHANWYaAsVNVaNjKsKzMPXzvgH4c4rSJtRGCEZtUa2kQqYICCa59XBZSkZA6tewQIpv3c1ttfGlVLZfez4Iruvl4sTSnqClZrF95U3NDhXdF2GY2iCID3/vz8/Lvvvjs6Onrw4MG9e/dU1TmXJEnzkXCjQItjdQSrw01CR7BuAFZIQpB3Q6v6ewEJaS0XFzADLlhGESDeMVkM18HJ9P6DONfhxSztZUePfjicjHvOIxLnF957m/Z4tB7vH6Rf3LW7+we//W28tgNEMEnJxiIIc0LWyVuGVs7gVWatsrNSYWYmBTyIRAgqBGMAo2KkRD7H9ByHR/r82fTFc3d8evjXx4vzcZkXaS/LR6PF5miwfSu9tcXbm8nv/w5ZTGSYSRRkrFfl0E+nUmfXVYztu/bqFItLU+p1tYahKbUBHOAp1DAyN6lXBgiumKdJQgC8RxTj1j795u8wXkQXkwKYvDh0QuOp41xdCYXPjXG9TDa3s1u3enu3R/e/zLb3UEJN7MkQkWqtcK8k7yLLCnZeCp7eYz5SrdOdpISSK/JdQhMiMZ59GacZ8hLllI0UizzOUk4SK3ClhELDcPQNEQuPXsSG+bLddPKKt/6Kcv+dx39la1ePD5XfmkGrGpWar56l/r2xjFzqz88NP0tc6mbTUCIiCs0EQ89BY8zFxcW333778uXL3/72t7/73e96vV7Qswezq/DxtpjvjXnnDh0+W3QE6+Zh2adPCUqm8TwPKR0GAC8uZ6JKP24i9Ae0u2vysveHvyutzfrD/PioOL/w4ymKgpmjzQ1aH0QHB+mXXwy/+iq+fx9bm0h7sJZNVNXWAVgN8kslJGrmYOKVe2gw6BIWNQx4h9kUrw/1++9Pvv329OFf56+Ops8Py/GkLJxLEjfsz9fW5ru3olvb63/3IMky3FpgfZ0HPUOWDES5OUQFE/Syr/uPs6s3YGWSrqoGpOJtWoeZSJQ9k0WSAIRNjQ4OkvOxOzqOnCgn88msmBaaz4kpihNaG2C0Ft876D940L9/L9ndw3ANNhG2xBFCC8JQl8nXZDzfmwyEVAwxg0i5Css5QCFlkWdJFltCochnmOWAg+ax5nAlkhLG2DgDiXhPJpKmjDK424dafUHwgbgSOHxnW9S3PqTqwJriCaWqSlUDhbwO18SuOrwFLtmsX8u0mDnP82fPnn3//fdpmm5vb29vb4cPBnnWzz/sDh1+EXQE6+ajDuOswHsP5op1EWBNbzTCHcX8H7G5gdt7Fy9fLF4dFRfnxvs4jvsbG7Q2iG/vD764n/zmC+ztYLSGOEZi2wbfqoqqed9y1mqLLQAE5yqplxhSIwInmM9xdu5fvDr9/snrb/5y8s23i5eHfDHFbO5LKayVNCuHg/LkwhyfWeIkyeLCWROZdDC0JMoFWBRvmFI/DEJoRKESgkgMECtDmByoBCICIotBf7hzi+9Ns/lsNuhjtDk7OlkcnbnzaUQcDfr97U27vdX/8t7o918Nf/eA7u5jtIE4Vqba+KCKwdHqOfyJWLqw1vlBKFi9YUK5sEwoHS6mKB3OxyjmKGcwgihBmmK4hjVFFKkTSb0aS7DV1SUIirTg3K+BdGpdCgp8qNjEm5ll5dFBVFVXUOgUGUz86dJb37z1LobyFriqlwrJvlAGQUSnp6dPnz49Ozu7d+/e3t7ecDgsyzJI3UMCsUOHXwM6gnWTQQpAhVpcJywPj6FyLMRnAi0YDfHlfawN1rY37eHtxcmpm4wj1TiO40GPB4NoZ9vs3cLONkZDn6aeTUSWWpX8AFD3eW36qLSHVHeaIYUSGSDoxIA8x3iqhyeTp88vHj2ZP3rqnr8yx6frakwp3nt4j1LVeUuA6rzfn/QHfRvbrR1sAkTs1EDlI2cZ6hJMVfgQdwsRIJslZLiEqmpMhDjC+qh/cCczJtvctrfvLo5PFsfnxcU0Ik572WB7226t9+/diX9zFwd72BggTUvDoVngVXzA7ElV+ElEBAN4cXBFZBh5gcm0eH3Ep2MrkOPT+emhFDMbMdLUjIY8Wit7Ax0Nk63twsWaxDZNDaLKjDRotGqZGj6Cc4O24mAVF6J6xSVFmJrl2muCmKsbbZ7QdYa0Ha4g/KU3zXAaN/YQx5rNZs+ePTs7O9vY2Pjyyy+3trYAlGVZlmV4W+NH2qHDzUZHsG46RKlNsFZzZMwc/AKgUnGszS3EiRkOe3t72WyueW5VmUGDHnoZ+n30e2WWlHEiJiUYBmzNrurfr1BaIVXt9AEQmrEoqlROyIQJvMdsOn/9evzoyeS7R+UPL9LDczuZ7q+N2ECEvPdlmeeucN7n+SJPokm/L/1+//59BB0+IMxk4o8ZwRKCryJYgFcVIhAcwZpEAYEv4A3YmAijdVjL/V62fYvHY53Ndboop1P1YowZbG1g2MfWJrZGGA01TRbMDmSgRiv9P2mtl1I1V1qIUFj5PoSA2jSDxZMr3fkkdR7T6fzb786/fdgvfXF8Onn9UhcTNtAsTba33ebaOEk2fvvVvf/7j4nRUhSOyYYCRIYAIsRseHUHLa/4DwKFBC2hhr6UIS9MK+9oXnpa/qhYVVxdKXPtqNVb4/KlWL8MKqujo6OHDx9Op9P79+8/ePAgTdOyLL33SZJEUXSpl06HDjcYHcG62WDAt+e3xty8DP1tiGBIvHCYqq2BjWEiznpcOvgS4uEc1CPrIbaIjCeeEwpRGMQhlqOXw1SqysRBQnQpP1h7SinAhoggpAJVlCUm0/zoZPL8VfHqdXw6HnoM4952xATr4Upo7suZw2Q68a5wo+Hs+JUebWI+gQpIwWytLT6mnoaCbrpxpedWQx/AQx2ceiFFPzKILcwIaQ9r60lZQAWFzxZz5CWgWB8hiZEmSGMf8YK5CF5lK8nV1q4b5/R3t6K4tJ3q+1KqWjyrY18iLyCCRYGnzw//x/84OT3zJ+fl2Ul+fqIkPknS/T3a2ZwO+xkD//2/GQiYxBiwUY4odPQ2ddL5Y2HZfwlBYihKl9JVtAxrKcHX7aKaYBY1mi2g6qFUrevKCP82moaDzZJGHhCe53n+8uXLw8PDYHw1GAzKshyPxwCyLAvNB3+pwXfo8DOjI1g3HEzUWEs2UEIUJcysYAaBuSJbocFwnMBGEA/voQr1UA+2QWUTjMxNkNiEaBSq369cbeeafFbj9y1gqVsDCmDDb18FCodZ7i4u3NkZnY+zvNzhaCNOtJhBnVWJWG3MRslBJpKLy+ezscwuimIeSwmwkPfGqMfHAysssUAMwXCw4aTg5lXAA1CQEgvYKwwzQMiMJjEJAIX3KAo4DwBZAsOwBgYOcKHss5JF1RqsKjTUEh7VEav3nqWICKIeQspBNGVU4B0WM7x8jcc/nP/vP+XffhudnPHFpFfMaT4hIAdoMaPJ2GfJRb+P3/6v4taO7mxHOztsEy9evBiybIyUYTeVJoookOnqsSJD7cG/S9yoXZwYOHqIlbbPRjjTAb7OV3LFsZQaguUdwgW/5Fz4KBr8m4U8z6MoCqa4IW4d+FZ4AuDs7Ozw8DCKojt37uzu7uLKtdp5MXT49aAjWDccVP/WvHRLM5ab6nospyQWH1wTGMwgAwgoqkRaqiBYgmXrwQ5QKDcMi6i6yZLS6t6uvaVeFqMrICJF6aYLN53rLGcYpGY6PuOqQo0MR4bJihpVXxaLxczPJ4vFPC5yTzqDKpRt76PevC0o2LiHlCfqkFIEFsDCiBEDVFWcjFKJbPV+8iwMBiFi9Y4MwxgPKMQAgVqZqnxwWZJJaDX8+ek//imkFhXwHmwR2j6KPz5+9j//58W//cfFn/7EL1+uO9/zLmWjvdTGZlr4hZdyMpudnR3hT/85WNv5v/576nyytoYBMSP34tRbGITul1z1mtSqThF1DevykSrVE71LzIiXpg+KwO4FGlxqoSy1b6rW76nN9xGaA4XaQmrSi83KCu/TfehXhTzPg4KKiJxzwZGhCWI550JT56C+2t/fBxDHcb/fd841ca+OY3X4laAjWDcNLbVTwBt9g5bZnJaiwthWwMTU5u+h5q8181uIATexq4BwA9XWHhu1e50fVIWKioINGQHEO/U+QhCBkTVRHKeOIxEsXJ6UoepbQ1DHe++clpASKPKZK8oo2EzU8i8mS0QECgajWulv6SfezxuJScuWqjmFIARGBQ8GYJoGyQrCsgG1AmwN25o5mXBChIEIsLVuu003uLWXyt6iIQXvTbaIyLCJjJA456wl2Ah5Xpyd03icv3phz86GZdmf5UPxPUPOkivzvteUaDaebKi68dx9/6Tc29u4fRsClAtvU2+oVEkgWcQhHKcigcwJBRE0VLXq+R3G/x7fidYnRgQEJijBK5x4trFABeRVBepUAKhqZqypKia1aihOClEKIusqmVhXVnYJwhpS2641S7z33vtQAxiWLxYL732v10MteP/uu+8ePXrEzLu7u3fv3rXWlmUZCgz7/X7YbFDE/0KH1aHDz4qOYP2q0VbMLJvGUL0OgHIdkWgTi7YU5t3ulUH7UzWbUYGEXSiSFFkvGqxFwzXTH0h8PnfC6kbZgMmzqIh4J169AGpYyVhrI5swGShYyKoBc2VMFahKo1v6gNOmXqlZU4RyPIIE261qcZ3gk9VPV0NqPRqgeVewwfyIIITKgrpPkaIsUBSmdDqd6XgaF8VQMYBkKkZFnDMEUoVzVo0HzxYlzsZ8NubxHIscTihWJkswIS8YWl6GS+QqCdRrbBPeEaLgpZ+aYSZmqaoCNLSzNBUhJlfMoarMhhnEIKbgRN8+ITBd7OoSLrHfporl0g8qIrLWhh9R8/n88ePHz58/Pzg42N/fD8sDo2pvtotddfj1oCNYNx6taePSdFeThPZivxrxam6GTGE7zVpttb15t5mpVr7Ai6j3QgbGwsRIMjNcizY2aGO9ODk9nedzdX07ML704sqynImfQ3KQ2rg/WIs3tvsbm4OkDzVGTaoGagtaSTpV9/MPdUuvMqICbZoxNwcFc/UEK7Dsq9MeRvs0NqQNICECX+nf0xrATxl9vY2KYylUxCs7h0XuZ4v5ydnk8HgwmbN4A4WUCilZ2TAroJoy95nzvJgen5fnF248iRdzeMeh/3aViKsLH8LVVQXeSKEa3Ed/4iGsFk5qfR2qlL5u07Ssq4CmQcTmPbwXIjVsiImI+NKtj4HrDTJ+nWiyfoE8hbOqqm0XK2NMUxJIRCcnJ48ePZpMJv/0T/90586dUFF4SYDVsasOvyp0BOtXjLpqKnAsBiSU2gNtzsQAwB4AhFYiMsrvGBsigOvyNQGpqldSYhDDMLLMrI+SW7vx/t7ifJznxeLcb3JkvHrRXMoCVMLqoJ+uD4cHtwdf3OsdHGBtBBuDLJGFMhFro+9pZSc/HOrOMrjEOAFUFpcVa1pWuzUs6WrTGKr138uv4+OClEjBBCJ1KipcOpSuXOTz8WQ+maZ5QdaAg3hfvYAiYmLxxAoWaOGmk4uNvCjKRVyU8J5EySg3EnIBAaKVnSy1GkUjXENVv+n3GDyanwXifemcqpJhY0zMJlIflGyqClEAJDAKwKuIKHmoF/ZMILK28b2o6H6HNyGcp1DCEkWR917qGuSgdnfOFUXx5MmTxWKxs7Ozvb2dpmmQZIUoVzsn2DV17vDrQUewbjgu5aTe+kMChJtie+5pRx8EdVrl3TgWhRBE8HRXVUigeEmGwTDe3snuHMzPzhbzogT5ND3ywkVZqHpi5RS9JN3dTHe3+vfurH9xPzk4wGiEOAJZ2NCx5yODUO2FmpxqeCKVIVPrHC0d66vXVxybCJUDWfPyY4MQ6IfWErXwmkQNGWMsDCuTGhbLhtR7MbDCJKKiWjKVRN6YkrRUgXg4hZeIAWWry+PlVbsJ+VAHRwzAe1+W3rkSQEzGEklZ1qIqgvjK6UoU6kAgVUPMhjyTMHmihSuZ2ZA1pi5Z6FwaVtGmxW2eFAhWWBiWFEXx8OHDb7/9dm1t7euvvx4Oh2jRskqaWW8tXHWd0WiHXwM6gnWToa2YSSWuukYUcymItUxp8XW/7KVe2BQevtOQCMQQggdCfkEFJAomizjhtVGye2t4MXF5oZYxGp58/0SNKdlQZGwWxaNeurdj93eSu/vpnX3sbmKQImJhy1HkOEQu6pBQbSX/fuGSa0ffhKNqsZS0KGZNuaimqLgyYdefXb66zK4+MkckUhFR58U5lRgAM2xsOOr3hsPh0EymhS8XIhaeRcCsMEGZ7MkUALK0tzniYYYsVWOJAFEjMEKgKkVIWKkRpZCPrOn4e38flcEC1EPBZIwxzDETQOwEIvAC7+EV4iEKAmILJkQGxpAhy1wyEcF5zwqY1Wu+41hvRlMp3BQPNuGri4uLP//5z0dHR//4j//44MGDJEmcc9ba8IYA733b8P2XO44OHX4+dATrhuONU8YblMbm0nuu3AlNJWl6T1vG0EpFQ0kXMxMJqBAY8ZYt9fvprR1Tujgyw/URnZ4+BbnJ2LgiTqN0mMajQX93K9rbiu7dxr09bG9imCGJSo4QUakg0WCO1FTjK37ClH4FWvsENORVawFWo3lH6w2Gli9xWXvVnJLl6Nr06oOrr8IQFN4JHEREyBiYGDbp9Ye3bu3p7v5iPCnHJwuRiILvlw0VezDsiAuGGfY2Dm4Pd2/1Nkc0yKo6yVLgBWzqoS7rU4E3eKe+FxzUQ4mJQ/Ap2E14B1XkBSZzTKc6z6l04YvRXuxTa3spsgxZijgCyEPZGjLBAqvivNW/jl3VuMqEmpfMHARYAC4uLp4/f358fLyxsXH//v3hcBiyh3meW2ubSFXTpvBSxrBDhxuMjmDdcFwOWtGP/Uyv/QUoaH4veWRd2tzbiSi4DuXoMpumoqCqER4RqYoQiE0UUX9AQGyjaNiLdzbp/GJmIz8ee19m/TRb60VrvWRrFG2vz3spbu1gfRNZ6uK4ZEtACbUMgggxVAQg9crmUkeZawN5bwNtHVLrAKtVdcniCvfSt9vdzxc6IRGSIAYn9YCBYcQxNjcGt/dnd+8VZ2elOFPMSWJ23jsqYGBZrJ0bPjds1td7u7vZzk6ysYmsDxNDCPDwCh8htoAKIASC1OdK+E0n4R2PmUAGoZMzDAxKh6LEfOYPj2R8MT8+nh2fzM/HPi8gKizZ1rodDgabm/2tTd7awmAQ9TKKbMFMMBGMQdWNExrqEzuGtYKrqb3gxm6tZWbn3Pn5+evXr5n57t27e3t7DX+azWZJkgQTh2WjUgCdAKvDrwYdwbrJoFZEhNpLL3Gm5f+1SKitFrp6M/wbt8fghlXJe4IDkUKgBCIhqWwaVAC2DAipoixLYkr6A/RSDHq0PtTtdYxnm2sbJi9K8TbmZC1L1noYZEhtNFpHYjXNJMnUWAPrACYiCKAKJQiHEBlCN8Y6UNGqnVwqb95wdNev1Cou1U6S0upHLrkzXBuguhZvPLUfZEoiKaksqChKr6qG2DlnQdgc4WTN7Wzpwe3nf/7P0/OL/TQZcWqMWjZRnE7LYso8YXpeLNaId+5/YTZuIVlDMkCSwlMBEctey4Qp9L4kVtRxiyaCFbwzRNE4qr1rkYRV+DqlJ06ZGFCML8zpkX/8ffH0h/Gzpz88fnx8fOwJZM3O3s7ewZ21L3/H97+EIzjAE8VRnKbE3GpxICCBDRqvLr5SoV0mQkRlWapqHMdlWTrnjDHT6fThw4dHR0dbW1tfffVVHMd5nqdpWhRFWwLvnAMQjBt+4UPq0OFnREewbjiuv5/92F3uihD7p+ydSCvpd6M6qhJpQSvFREGsY60lAphAFtzTCCaLaT1f39pFUUA8LCE16EWILCwhijSyMDGMFXAw6FZ1tc5diAKHu/Jz+SemgVpRvSZkdWllAF9eec3LnxkKKFFQL6mqIUOhhBOM4Zpu79h7d6P793B+NvNey8KUvpiXhpDHse+lfjgwBvFvvoj2b/f2DzBcA1kIYJiN9UTinBqFgqgqFSWQBCPW0Je5mqq5ST6/n9RZBAyQA4oZXrwqH35rXr5Y/PXbxePvZ08fzx49np6eCJEwrZ3cnhwenR5d8KuT7ME5fvMAd9msr6mslnlyVXDY4RKaP5/gg9Vk9wL3Oj09nUwmIrK3tzcajYL6CgAzN/lBauGXOooOHX4RdASrw8cCEeGKC45pCucaf6pAsCKuA0EEGErTJI0hQKHwAnVBEAQTJDSC2BIbsCGY0GOORUlhDNWCZQ3BlNCV+dLYrplLfyRn+kHe/wmAAFZjEKEivUbVeCIDh63tKM22bu38cdB78Zsv5Pho+ur14uxsMZlwmkRpsr6zs37ntl8bbn/15eYf/4g0xmCAyIIIxhhrg8NH5TtGlVc7lpR6+fje02zwvHIE9SCAvMdkvnj6/Ph//+Xl//v/+B+e4PAVJuPheLpGnA56HEdyMtFx/vwVWrkiAAAgAElEQVSH0+f/9Wjw26d7fxxvphGGfYIIScg3AhCiAkog+76c72ZDVYOTe3hpjPHen5+fv3z5cjabpWm6v78/HA4bFmWMieO4IVihnU7XKqfDrw0dwerwcdFIZWmliJGpNfMSVT6VqiBRBKMmWBiFeBgGLFhhABJoWM1eVX0o5gtxGAKbUMIWrA8hSgq6xK5a9uL6tkqy1QTrO73/0wKTqkEEIs8gMh6AQDRiW5peD8NBov7ucFAeH5798Pzs+LVcnJo4SvqD9dv72/fu2Y1RtL+P27sgQhSBDAAhDl8Ys64QLCwJFhGjcsj6SdDaatSqwpdYzOXkdP7sRfnslX15mJ2Ps7IgjyiyCWIoOcF0kp/n0/HJWMgODm6v/f7UFrchCWCVKiu3EnB1p6OfOMKbisCxwpOgvjo5+f/Ze88uyY0kS/SauQMImapSlKTu5vbufpl35v9/2zl7zs7MezNv3kyTbDZZiiVYqUMBcDd7H8yBQIoiq4qqBG5XJyMRAMIhMvzC7Nq1oxcvXhDR3t7edDrt2jEQUZ7ntqFRqz6C1eMDRE+wevwmaPqWXG/1ufbobMJYQZFqupLtY5NEGmSipIiAkDN9jwASRFNfGqXUE5EAkIimBsJifQjpkvd3i1Z73xnzS3DRTOznrcXeyHzs94EqkTrrVRQVUVED7KgYj8vZbASJo3G4fXtwsLt9585ofraxnIHVD4aTnZ3BzjYNBhiOAEXmkWUgjiKiJKpE5IhhPrKd80q/ahWhAsSaKaGKKFeYzfX0TA8PN6pqGHVDeaAkAi5LRKliNRwWOdGI/EbmiWkcK14ucH6MjSHUU6LtaFpU90i49s+2pUoA5vP5s2fPzs/Px+Px3t5eURRGrcyPtN22Xfj7Dr9Hj7cCPcHq8Vuhcde6sEQhjUeSdPVeEiGkDsqkQpqskwhCPgKKxLEAOBDBExOv1eWsDR8jiTbBkyolEyysOdbFKeM3n1PfwrJ/URAcIWqqdowEBrxDPRxEZmIuNkZwXCzmRV1uOAUEWY5BgTwHO7BT5gBiVSIIuyisIgTHBCto6E7NvyK7AkBQlxotVVgucX5anRyXh0fnTx770zOO9VBVEJiJKDpEX68y5xy0Ws3L2cnq5GhxepjP9vK452IGcsQEcG7NfN6+y/WWwKhV631VVdWzZ8+ePXsGYHt7e2trqyiKNjnYbnW1Y3SPHh8UeoLV4wJedzJ89e9O4z2qSpQmXYKSksk6GgclUjTORAQhhESOWEGiQTVGKJFmlHGScbGaP7yoqpIqmgZq6wKolwSxrj12urroV1r/j4fCgdou1KoWEAIRlkAVNS+48BMtMiLAEWSAwqd4FTuoqPNEvowRzFGZlAEmApQtE5uur2nv6Fc+HZTotUAUMSKUqMrlfDY7Owr1SjWwU0AlxqAAQiUYeDiVRb1aVMuzH7Pw4ml2duyrJWJAjHZGbM8D96uZpb0HaP922hfmzuCcE5Hj4+PHjx+fnp7u7u7evn17a2ur6yna1cJf2qe96ClXjw8EPcHq8dviOrtCAJHIauQFYFV1TAApVNSa9QoAVQZRM/GRUibkFJEgQRVQB2ISVm5d220bWPiqmR7EShn7b3UkVbemZpBgSlE2D9TeKbAURQjDjHkwQm6u9EqgCFmsKg84T7VSQXkkjQIHZWLnTD8HajhWi4ZMX8AbMy+CJJf2JHSHxlCWZV2WVazUOYGKqfA8s0ooIzs4dp7ZO2JSonYnMTX0sVMQG6f5/j55CUyrXtf1+fn58fFxXddbW1sHBweTyaSuazSpwJZgWbrQttUGfUyrx4eDnmD1+A3RVWKpahM9sUdY81AAq6zNG7CuPgNAYCemawcAIVuFI9T4GYGgiGZ0BYAAMe8tIiJnX/cXh7SW2V8z2pcsuo4OKNQymelXe9C/tP7FyNlb0eZWIhCV2BEXTIEgmhznpznHKBwCM6sImBFUAcpyABKDCC2XVeYpK3Kz01BOUSoSMIGYRLQNVZoeq40LKVSS0yzTL4kWWU2Ec3ZuLXUVHLvMi6hAs8wLYhlEItgjKiJE4ZQQBarKziHz8A6ucxf0Tu4dGEnqqqlijLZkNpvdv3//9PT05s2b+/v7tkJZlvZnnue5975tVthu3vOqHh8geoLV43dFm75rExDAOsRFkCRQT7/CyToVRwxSFhIGEyCUpnECKROJWkF4+iTbfxJkXSge7EJUiIjRDualMKl2miQ0McWuDWNnVXvvGnuI7iZ/AEisGzNDQA7qQIggbr4IiIgdM5mBJ8CO1NoagZRzysR7x5lXR5K0bQnWl4Yu1Yqu0SqxtMnhvtEBCGCnV6AC5zAcjjY2NnZunE8m2dyF1TLUUVSYHTPYAexUNSjB5344GW5Mx5ub2ebWOlhFDa9K43+jcb2zeNk93zos2KORiFgS8Pj4+OnTp+fn56PR6ODg4ODgYDQahRAuOV1djVv36PEBoidYPS5Dfn6VhJ9ViHcsvNdfuNqQrEaHHglQUZueu9YJDk3fGZMNpZFx0iOvV00Uh6DELk0JSciVUhLaOa7usFNnZl2nsYw6Jf7XPRhqLJNw6Z1OjKq7lK45SX/4Q7xCiEgAgnBqOQMoHFHqWm1sU8XCgaDMjsqT95kH0gGJGLldH50qiC60mrl0sNqZchMvfpPxI9HmLMdwiPE425gOtrdlYzeTE6o0KrFGjUQRAtSclaTKmR8OR5s3xls3hpNN5AXYRe9c06k7AhUAIP/AfLA6zzkXlthCEbG0oKrWdc3MZ2dnjx8/DiF8/PHHd+/eHQ6HROS9N+v27hX/w2/1Hj3+cPQEq8caCihe48EzAv4ls+TV2jEzRlIVE0F3Q0EpqgGCKjNBFUwEIoW5sTfoTudrDwjTwKfPY4IpuZCykpzsLq8ZaKew0BJdaU1c4VDSfHxDu6i7Cda7SAduQn1u9/7WSE+MrBKZlYVRUlJVEm0PIP3HmtywIlJqnc1rTkSSLlzLN9Pl6FDqdl8Eki69fvPhsyKKiGeHLMNwiOFIR2OMJ2VeLLOcXKGeFOSV1Dn1vMpoLmEuWPrCDUY0ntJ4jNEYPld2kaytEwJQA+6tr1L4jXDtnRljbOPBzjmTt8cYDw8PVdXygzHGEIL1wLmUEPz9Rt+jx9uKnmC9h3iV4Pwf9Q2oTGqpKQAkBJAYI0nUTpXATdkfCVq1DlldoUpamYTAwiZopkZAI4qgotCoAsB2RgA3PXTaw15HqKJABEzgZDvZyHGBtm2zvVZk7VZXTqCiEzmDkjEZqEYxgtWdgf4wMJsQDOQUIJg1KzXxqEafbuErIIaVKqmqNdhhZgv4pcSrWstB28LShmuLUXSiVNT1m/2lLIYVTAxkHuOB37sx+uje8f37JVGoZQH4WpgoywduWCwoLhFLcrq1Nbqxyzt7tLmDyVQdC1FXgfUh1xB2OzG3fqHtI0Fd13bpY4xHR0cAJpPJaDQy1lWW5Ww2Gw6H6fbo0aNHg55gvZ/o5uOuXeHamb7R0PzUDi9Briy/EKDopgxAgGtygBbOSm8AnXkYQCOGJ1CbF1RiIYlQIdYmOZh2LwDgFAISUSFVqFCK05hEXiFr16vGQ4DMOD5EERGCc44ciwl8RJQ6nl0EAE6QOZfaSbdEhKmNXUWoGF/kVhssGqVbV2Un8w+aihjkmuyn43X2NfndN1efoaSsAMxGg0AERw0BTRlVVbp4FJx8XRO6lIXa/yF9zpvRGQYRsaaksGI8Lj66e7BabWRc/v3B2dffnNx/dPL8xWI2d7HOWPx0UGxs7ezf2vrko8mfPhv/6c+YbiBEGQ4IjsBtlLEZ54cFywOmGpSGB9vNOZ/PiagoCu89Mz969Oif//mf5/P5vXv3vvjii+3tbYtd5Xlu+cH2+aHvhNOjh6EnWO8bukyo/d581W07P9/g47o7ufRVSxdCGql7YKe8DE2kKsV/iCwyJSbU0lRYD7FYVUpvpRQWmae7gAiBRRpn92aPBLQ0qxFwNdtCVKNIjGASImbSJhalTWGZNDEXVmiMJIlh2MBUjTOSQAUqFsRSE36R70r4m5DAH6X/VQDk26ts9QMNlwWA0K6amvSJMnFz9EiROduem4bdTapUiTrW+FfV7tRGI984WKSwbj8KiqRwzo+HuLmXSZ1tT3HnYLi/jVt7i/sPZ0cnEaSTyWh3a2tv/87Hn04//QR372J/G5PJKpqPGjsAkSHqCd59ePSquScvabDsLo0xmvGVNb05PDz8l3/5l48//nhvb+/27dsAQghWWjiZTEII3VY5PXr0QE+w3kX8bC15+o4TBV3+vlO6xv1xvYQA18mbKIPEfqoQJefziyJ4aUJlaUyS0mPESCIk81NoB99aLzV7s2n5wiNvOwRORqRKoNTZhrD2HmUCW/2aWJWfMgRqVXAXoiSWMUzsKZkFIALOJhiTx5NTciCBRHIgCBITZABKzAqpxVk+RRUEYhWBEDjzURFg8bNkt0TkwcSOVYSZ26jV9eGr39cjoA3AaXM+uwNpfrJqDQLDAYhQMmuyFGfs/Gy3vfBbN0YGc5ONIPfGHvoEiEqqDSWwAwSjATY3EWrcPsi9u3Gw6/782db5uc+K0caGGxbFeJJvbWNrB5sTjMeYTgcbU7GeTNqMYq324w+NZlnk6aqxwubmpqUFF4vFaDS6cePGF198sbe3B+DFixeTyWQwGABYLpfmlNHusI9g9ehh6AnWO4YLqS4AlyZlZQvtmIIoimZZptraHlzYltpMmXEWZShC7IRbFACxotEvOSisv68NZf0fEkmrAmmWlSaGdKHWjC7IzXk9z188iuaVsKTp2KUPM67j2jRf2pqb7BExSFgUSLTAPj2DB0RN15WCUsoKxIjMZ8U4KmqRUEdiIQ6IdV5wrKs8KwS+jppxAQbJCtYhmYhCXSOSd9kgrzXC+ShSK7zzlajWMvTkAHbsHa+lR4Im/nYpxNMq6X8r0Mv2/hOzIWVdOrSeN7ub6JqvNaR2Pd12VrRuymkYbzADKxAYisRPTWnnyGF3D6MR9vbye+f5+dlksdK6EgmR2G1OkRf5YIThBIMRhiNkOdStk+FpKIJWTfYh9SRsJeqmYW8jrDFG82UwZdW///u/P3z48M6dO1tbW6PRaDqdFkUBoCxLY1etadZbUszRo8fbgJ5gvUtoZgARpPjQy3Bp+jNEszUHbFuLZiUxtyXDknDZIj26ZgGN5qnZbxPEonXIgi1iBgBK60wSAdIhTN2RcefnS0avnGb3huQ1+SkBWEmaNOL6JyCWNLSVqXP8dlySRF2qxrfYxEQQIIACCKSOkTk4CFxk1A7khJkhVeA6oqqgAiJAMhIwENO8z1BmR3Bkhp5ABEgQCUzdGsiX84vfOI71Rvv+OcJxLUt+ybY/te4rwO6xaJWiUUAgcuyB8QhFjtEAmxs+rBDNqB0hy9QX6nPyBVxhGVKJGkWZ2XkTA17OZn446Joy2AsrFTRfBnv32bNnX3311XK5/PLLL41gWbyqlcb3jKpHj2vRE6x3ES8XSFPLHpS0kfsQAI2pRq/r8JnyQ6pmhmTlZFEV0lhSARK568LczQ8KKbPQBf7UDkTXkqo3B0HI6gXTBCidXKOSkAIk6Pzkq+Kul+9eAGJidgpEQWAEEksuWlGZs9hcrLlS1ODzBWZzLBaoKziH3CHPMCwguSeAiZw3f3FitiQmRAXkzfH8F5KLHk1kLApijBARBrMDE5SRZ8gIowF0BIlQAdQrgx3YgzzIQUlFRSUE8d7zuhgBQKd24YNBN1ttYixzXsjz3CozQgjPnz//7rvvptPprVu3Njc3i6IwgmU8rK8c7NHjZegJ1ruEN3rQFrkYUzKOFVWTpIkgSLZGaNyOoBBVsCgJgIhuSXtXDyuqLsnRk7jq6jDf/PvXJNiN8YGsrUbRUEnzJSfrunPZIVWbYjcbKy4rhACwMgkhApERIVFgRuYxRHhHQSARi4jTFUqtjk7k8EV5dlouls654WQ43JzS5hTjETbHYMqKkfcsJASG+XqZWF67o/hJfGAT/GuBGoJlVY3R7jTjxybLImIIhEFBrEGOGUmIWE+ACLXu1iY26lwOTlUSHx66RRjta8v6ichyuVwsFgAmk8nu7q45i6IJX7WvuxqsHj16GHqC9e7hFQmLkFhTklQTt2ZIrFAlFu3ITgA0GnAiARETVFUg2hRftztOKzdj0ba1TWdPzc9rk4Ovi0vDXDfSQZLQcLvSWpV1keVddbds0pmkcAEIhEhQl3ZERNCIqkYZ8OPJ2XePy8N59eKwfPK4PD6az+fO03hza3xje7i7g43pzp++gCg2hYYjVzg2KwElVWX66Tja+jB/Z537uwdttPcAO8fklDQ1q+QsIBJIUEUVYVJlVnUSOYKcI/VmNE/ErEy8dmhY+6N+wCe/JZvM7L23x7D5fP78+fMY47179+7cuVMURddKtC0b7AlWjx7XoidY7zUo6aKUoBpTU7lU+0UgkCQNlnLTL7kpnAMRkTiQqL15SVwvpFa3b3Io2xLNKq/ebucnh287XGu7wMkS1BrqpRUaasWmrAca7wDbStUCStc6iCsg0AiKyT0TADE4cx5hhVWJ+QqPnvz4r//P7PGPenxaPn1UnRzP5zNyPJxORzvb2Y0bujnNSSflCrcCtnawmVPOHhA7yab2//D63P0msLtQAYZzqEGiEAKDBSqQqKyWtCJWB0QlZbAjYhCredgy0FakAhcIsH5wVYRo2JXlB4nIZO8ATk5OHj58qKpffvnlzZs3nXPd5ptGsLompT169OiiJ1jvGOiaANaV1JjFrqwDTeJABKiw6c2VKNkcdZXrSYYF13ABac0RALIUYMfigW0qioA2uTkFNyopM99sIli/YMYi4XV3O0VyfbC30mC4fQFYe50LsSu57tNbtwkTxHMjdgcrgzJwDodVjfMV5kv94enZf/51dv/JcLmgw2f+/DRfLsFOh8Plj88X02m1Md3Z3JRahsougF2G6QaTA5DsImjdo0/RCcB9eHP5r4DG+UHtLgegVElQEpAKESG3OlFmYTLmzREMqIoAUOsLTs2tZVfogzRw6mZJY4xm2m7hKFV98eLFgwcPdnd3v/zyy4ODA7Rp9ytxrB49elxFT7Dea6RqwJ/KPJkQJWkvmADLkwkIIJdUT9owESBxplbRRZfcBThJzt+wEv8ylNYmAWTeCxY8M1an61JEM6wiVZC0ahK1rtBNVO5qEEtTsaSaKp+VPJEDoIJlwKLEfEXH5/zkWfbkyTRGnJ/HxWxY1QpCHavVspwv4/msfPCwnEzcZJoPhry5icGIPZSUnCfqbYF+faggIjWNBiACImLnPBytDWKhJFEVSgJVgWoA2ApnxTlm36EH/GFyrBYhhLqu21+Xy+Xh4eHTp0+zLDMfB1t+6Wa+alXao0cPQ0+w3hM0oXtBo4oA1jk2hRIxg0AsYIDPz8+Lohj6nNkq/giqEoI4LyLEmjmGPeurmUKk1sBS1yFEFcqyjItMdG1emozjRUlVRZ0nYpO6tDwGeIkJoX2ztw037BCiYFaJz/PMwRHy5C5OdVUCqEJwzhXDAQhBEQXMkLKkGITAzN7lzvt2Ar7ErpqJ1RGSdbwjFsAZqQsMznC2+PF//e8X/+t/04+HN8pqXC7dauFU1WdBJUpcBpqvSlX94T/+6yTGW8Vwd2snKytIJDiNNREJCcCt0Wg/G705WpV7+zjQPEAMnEcy3FCGEKl1AI9gbaOoVvOqBMCTv6gQtP3/8j6J7xjMB8u+LoqiWK1Wy+VyOByen5//0z/901dfffXpp5/+wz/8gzXG6ZrloqFW7es/5gB69HiL0ROs9xytl3YrDmYwgBijhBgpqiiDmBQSgsaV1Erw5AB1UJGKJbIwmKEMkUSVMhedU5BArEWK+cavGZ3ZqmujdnkFtN/X7U9lcO4pS9nJGOE1oo6oayLKCEQaY60uDxZ3a2D8TEg0BrKuxi+ZAKzHTuNJSg7CCq/AssLZavHs6MX9x0cPHmVPn40WS66XQ4iXaEyyAjyJc4iix4fH5fPD1dGxzBcIATEClGVZSP4YMTVT7vHLkCKRADqpcdKmulCJUrtqy2QJ2FoBgMDmXHKhxfN6v1daFHwYaFtkmgAryzJ78c033zx58gTA/v7+/v6+2Yr22cAePV4LPcF613CVrKQJI7ZvKll/vAQGrw0OmsWDvBhkeeZZo0CqFBpiUYYwMZl7gyCUGiPIwWfQGkrMTrNMnRe4CEQCEBXsiEhSKi8N4fJAra77JV7iFx+FUyhLNM8tbQkmUKi0Kkk0s7aE3oGyoCEqQC7CAfCeGI5ExNoEmUkCrFfgRQd8bU6IghUMMFnVpVIAshHc0omTMrogI3aTjCfqqCxJ4dRk1mplbCXocDZfHh8vjo7jcokQEGtIhCeEkFpom1f+ukf1hcrM9aiuPTs9AKSKBOAizTLpH3cvqCBJ3XgdZFEwY33zSXru6J5v/tDCV+hwJhGp6zrP8xjj4eGhFQ/u7+9//vnnW1tbMcayLEej0R872h493i30BOtDgLkYkNEsq7kbD4bOqrE0xhiIlBgOsVBFVE/wIliUulhQHUGMrAAIWUaDofe5AjU0JCUMmKCiYsEiCz5ZBOsV0JXNXko6eFZSMMEHyGIms5mUSxciCBDBaIBB7j1J7nU48OQVmrmMSFUkpNpBY2qIL/10srmZrNIQEFVVorJGFasgqVgAwlIjlABY08zswABnxANlF+u4qsOqRKghgjqgquH59bpt93gF6BUHWbFEL5r+1dafWgEVqBLY6PUlf7aeyxpMXSAiquq9L8vy0aNHy+Vye3v77t27+/v7AMqyDCH87K569OjRRU+w3kG8mluSkDWNsUuc/Na5qbmzDssidahLiRVYnBLHMKhLVCsta1ks4/msms2ojsw+L4Yxz3g4clvb2BYajhxTUAExmFQTu1JTv9gnvsqh6JqBXO1i5mJ0IaBcYb7So6P6+Dien+UhZtZJeZxjMsJ4kE1GmIxkWEQiKrZATI6cEpQ1Kcegoo15gzb1kqkETRSkym0NopAqoVbUsRaNhEgopVrFKkMsMm96fweGenHeETvyUi+lqqWsQ12jrhAjNEKSz31jNCEdb7DLnQffsP/xB4em+hMsTSUsITUjalSIdpEVYBIlTk4fxKaJJ1yyZviwYY7t5s4A4Pz8/OnTp6enp3fv3r19+3ZRFPZHmmXZHz3SHj3eMfQE613Dz8dDrph+KmGdBGtWigqNEgNBc8/MpKFGtcLhIY5PVodHq+Oz6uQ0zOcUxLksn0y0GPjt7eHNRRYE2+JGg8L5BWJU51Igil82Pus8I90mwN13r1O+iwhHxWyOkxM8P1w9fbp4+iweHbuyypmyQS65o41xvn8jO7iBrQ23MXHjCTiAvblPqaZ59loHrPZkKQSqGq3pBwOkolwMkOVcFNl4zIO8Jq0pUpEpsSo7cQSQeAIBHGOMdWCQYyZRRAEA5sYCq/HD+Dm87Pz0aCANgaKGkZKYmt1+J5BLuehGDt+4eBAsGgpoV2zVsyz70zNzUascnM/neZ7v7e3t7+8TUQghyzKjXz169Hh19H8z7ya6XuZXIIA03lStFmstylKAoFGUlEnZEZyHxKpe0fFx9vcH4dEPJw8fnT79sTo5jcvSCci7YrqJ4cjt747vHW7MlqO7t7G36yYjznxIfluvXRynDXCdCF1VUQc8eIwfnp0/enT28IfFD0/qwyNXrjJCMRospNbpaOfzj6ef3stv7tL+DewTeKQ5kUtqJ2tU056pq1EiZYpRIFb6CCIyn3hHFEBcFKOtrdl0NI/1WRmGGYa+yJgJ7IShGgSrUJdRNje38xt7Ozs7w2IAZjgHBjQwu6T8X9Msq7xcU6kPUVz9C0Ap9GhXUo1j2Z3HKR2e7NdM5tZ6XbW3Jzf3RM+u0JFhqerh4eGPP/6oqh9//PHNmzfzPAcQY7T6QYt1/aGD7dHjXUJPsN41/PycYJreVB6nRMajgETLzCBoBWVRBgrTM61W/vAUj57im+/Ct9/Pv/376eMfVmczqUoiYp/l4wmNx8XegZyeU10TZMgKbGeb08ieoayZkkRmNvtHsnzkuuWztD2qr9Awgbb8imBuqJFFEUL5t7/p9w/Pv38we/h4+eRJdXTE1co7zvL8qJxjMtTFOYdaysVQamQZRhuUMZCTeYaChInReElYT+jWUouIFUEpqoDUkVNWUYAlyzM/ySa7W3T31urmrbON6Ww1G2dO1BWCqPAKESyDzDWeSNz47NPB3bsbN2/lW9soCjgH4joq58nmHmvDVG5jaimP9Sb3we+Fhsprhwjyde6tTWWfMZw1fkUSQ+uWgdp+yiV1nTbRLVyyYtPG8i399pKHgfeDc106OHqprsBsGtrXJycnp6enzrn9/f3hcKiqq9Wqqqo8z1t79x49erwieoL1ruElM1s3IkJGHABVDYBTcqIQc2Pk6FApjkLtHG0O8kIDzs9xfOYeP8N//R3/+e3yP/8r3H9YzGdcziNUSMsY62IwmG7pfL5czgYZPSlndzZcsT30NeVaKJyQCBfK5IgAOMcgJbbMjKzH3bYtVE1moQwlBHPk1pgTkUhYLrw4PHu++P7vp//nX/nkrP7uPh8dZfNZllMtdZX7sFrKfDwb5kohX55sO9naGNPmBNk2MAQxFSMBVxIdOyZrQqdEhNTDmkWJPUQkElPuStAqLAEZFk4JNFLeGU4/unnj80+PHz8qfRFUV2enWtahRqYOSiVTyDIeD6affjH9b38p7t6j/T1sbCAvMBhqqFaqwqazJ/PI59RNu4msXJ0L3x5ouruENALS+Hoyom/iQzDbDoIAsWNQ1RaUrk1iab3D9B5e93jXe07uslD3E1nzSzSq84vrVrO+Vef8F0I7Py8uV2tm3QTubBXnXIwxxpjneVVVT58+XS6XX3755UcffWThK4ta9eyqR483QE+w3jH8dHwAmToAACAASURBVBkUgWNaSwVQUm50SGYMlOZLBhUFnAg8YoXFEodHePRU7j9efn1/9tV38fBwM/fOuzpWNWl0FKqSTk5lUYcqLDc3S63C8efFxyUH70DqCpBGEoGZTgEMavoGpoY9yWpqPWr7yhYCoAHRwVmQJ1SrsKq8yxD1/NHDxeMH4/OVOzoczGYUqoHzNQsx5z6bl+X8/oPz5WISq8HOdrG7PdrfRZjA5+btlRpdJ3l5BKCqLGp23qxM1vGaIKAaUkIEkSElUDjQeIDdrfG9jyaffQZfUKhXjx+uzs4klCya54UfTbPtncn25vRPfxp98om/cxu7NzCZIi8AJ+rEsTApyIMFxI3JvXSdBdpL+/JIw9uApHNCFAjBNYHK9Kb+9Ljpyos3BF/YQV+i+cqgDqMVEQWbStA5R0Tn5+fffffds2fP8jzf2Njw3hvxIqI8z3uFe48eb4CeYL3noCaY1QYMbE7MPBM4A6CKVYmT2eLZ4dmjH8rHT86eHhIWW8XuMPMr0Yois1vUZVlXy5UK+/LF0TJz4XSO6FCrsigrkETE1nOGFHRlKpTGN91GBjhAGaKp1A+mnCJRioK6wmJ+9ORJ+fwFl4EWZVHHAXjsMiFHlG0U2cmq+uHofLaqsvFY7h3Fg1M9n9NmheEE1tlD1Ky7CQ3VUmNXiciQgiAMjRqJxOTSKgTnMcihY8je6JN724c/au55sXo6O6lirCqwYDoYTba3B/v7emNn+OlnxZ3b2LmByQaKoTE8Zk8qnEI86R934joXL9Vvdxf8AigAZTGxuMJ6CsVkGtak7JLRrEIYwiqNth+X+RBd2nOPXxu0buGw9kkxUqWiqpS8dS3a6CxAxcxnZ2fff//9YrHY3d0dj8fOueVyWVVVlmUWyurRo8froidY7zO4jSq0El9StTYirUJFGJXofDk7nZ0dnbpVGLhsKJONfOAgOflaIiA+6qyuialW6CqUp7PqbImyRpaRMJMncgoXlaxaniXxLcvSRKU2MUEEbZ1QzQ6UQKLMiKF2YBaw6NnJWXn/wXIx13KRifeOp1k+kDggB6G4qjPnVHlJXiPli5JPz+LpbHF6PrhRuQngGAoRUWUHCGzWFwYrEytBvRWf5UxECDZkn0WwJxKQuNwNGMr46M6N1cJvbdJ8gYMb1el5fb4s4DdGW5PpRra1HTc2Bn/+HLcOsDnBYAD2bd7WgayZkNFJ6rCr6wnVW0iztJuBVkTRKBqFjLUzQSmo1gSROACckrKjJOoPAGvDoVMryTUtw6+lQOsTWAAAUcQ2Zk20TswyUYgxhODVe+/Nul00hDoWRbFYLL799tsHDx5Mp9M7d+5Mp1MAIYQYY1EU5pLVUrE/+hh79Hhn0BOsDwQCbuQyAJK7ORyAIKg1lqFelKt5OVCdjCdjUa4F9YylLCiWoS4UlWglimUZ5vOlp+X5DIsS47EjYnbCDuQsC3nJMF2sxhAAUFugy+YAVSiUyAJLVV1W86W6rFB4pdnJ6aO/fVsuF1StlIeeJCPKVBEiQkAItUYCb7gsOhdXlZzOwmwWZ3Mqy1GMUIUIRK2kzJt8p9ssxYT1IgxkTI6IQZ58RG5vB5BzGYaMmwfDLB/e+xhVtV+vVrMFltXQFRhMMRhhMMIgw/YWNqcAocgBVEFy14jQANZk8ZU6uvwul/xXgiQhvsIRQ6GiUNC6FA+qFEFR7ZQSRAgRZohmW6ybMtsywbpLON5ylf/bj071riqpQJocNLf5aAJCqOq6Vo3OOSa2iG5RFHVdf/vtt//xH/9xfHz82Wef3bt3bzKZADBnLJPAhxBUte333KNHj1dBT7Dec6QUYSvuYdW1fwFSR5ygGhGj1jFqiB6cS5hVSwqzAtGRQJF7n0lUhOVqvlouqnEhZpkNMHmQZ86cJo8DbsroqbEcUtXkQmrGm6rWPxqSpt6MnSpFhVPAZ5SLB5XL1Wq1ompVMfm6liBBaq5EYuUoI0iESCSNLLGOsZZQk4iIQghCYIYqWJqsnBBSMSGUU30jKRjMZv4Ngmuq0kiRRURHimKEfY/NTYjE5QKrWss6knfZEPkAeYE8w3iIzCfRtSYO5x0IpGq8A4yW3V7f8fptxMWknlMGkZKAXJP1tBJVR6QQIhWLShqpEmujDYqWa4QwwGlj0LtFNd9iNBzLQtbS9NgUNAWVsWWxQrEOyp5BTAzg+Pj48ePHIvLFF1/8+c9/3tjYsB2a7soIVrdJaI8ePV4RPcF6z5G+Vi1FSKLJvCAlqlgAYcA59pkveDBeZL6K1Wq13IYMgQzkHLOKegAsAYERHWGY06hAlkOpyYBZzKgVWK3dnVrBkzUFFIIjJ6IMAZtEDI4cHAZ54WxILt8ab+5u7yy9i54DUEFKVaSuvKSOiYYU41LCUgNnDkOvmcvzgXd5q/yhq2V6LVrSmcrhjJF1heZOyQWqHRN5BnmJsSoGdRWojsyOKGNm+By5jwRmLEPMrICykZpRcgdonJqQFq7H8DYj6faoWy0IJrIuQQBgFaCIRAoiFlUnQBQRjdIkAo3VKlQgUdSBlTgjVjD14atfhq75nKqScfcrBD6GyMxFNoBQXQbVOMhyX2TL+eLRo0cvXry4ffv2P/7jP965c0dE0DwDtHsxG9Lf8bB69Hgf0BOsDwZMQKcDs2hyGGdG5rkYZ+NxNp0shsNTSC1xPCim5FhK9soOp8tlyS5mPmaZDgo3HMKbRJ4a0sS2W+tL49KTNIEEygISpTaGowAxpT6AAMyPx3kH0hAoRijleb61tfXjZFwPhxwzdWUQyYJqlqmjs6rOJxNVWixOZxKHuQ+DfOVoMBi4LAc7sAMYiJp8UKXVaAPayZYqSEAMFbPNMtrZVlwxZ8QZFNCoUX3GLOLVeWfOBApAPVnSy3nHjFRVoISgnJHaWX9Hn/5NH01A44tg3FwJqhAgCiIjJo81VXbW6DtIVAiU27leoRBVhagwu0jOve0E892AUZ8Uk1ZH6z9yKKVKzxhj5nLnvNRSLatYSzbKfI7FYvXs2bPnz5//5S9/uXPnjnNusViMRqOqqkSEiGKMVmZoSqxeg9Wjx6ujJ1jvIRKlsAdQUVWQiFEHy9AxwIrMsQS4qBiOsLnhppNsZxObk2owkPkiDIpsPNDV2Soss0GmTKdn8zm7wc5Ovr29ce+j8WQDxYh8puytZI8IzKwExyBtqAyBmRkt4UqeDaaFIoW1V/bON1VpjCIz2dLmzo2trR2+eXd6XuXIcXxaE1d1yPI8DvKF94soMtnIxkUcjerRYPPgIBuPAygDg52lr5xL2agUZ0v/J7SvmziN9VmBKaUuGiioQtUpAIEjNicrBYRINEqtLveAHTggYKNfjkDXZQPpmuRYI/p/i6CpN42FKMlyqLVABEE0qoKEHDPIERyIyKlCRUQkd94UZ5rCX3BwQhSjMpzjnIAY1btfdMR90sqoT4ddwdLfBFJEQFRIVT1ndRncwLvM536QF569Oz+efffdd48fP97d3f3iiy9sh8PhMIRQ17VlCU13tVqtVLUvJ+zR47XQE6wPACSdX5JVApv9p+mo8gyjgdvZKHZ3RzdvxvmijPEo1NlyNYKvlevZMjDPfBGG08nOzujm3eGdj7Z29pDlcJ7YgxiEKGtH0Ua0odfyBluYPN9FGv0swTEcW/Eh5T4fDTdv7MUfDznM6nkdyJHKMpa8WtFgUFdhSRqnk/Gdg+zezfH+rXxr249GKAo4b9aXQuYvQBcZU/fk4EJVX8fyfj1WhYgFbNRZwo+S1ZhotAKrTD1ISdv0X1sl925DW0VPI3dXQiTUmtxaPZQJHnAaScHwSb8uQSsBQBnDOWjy3wgKcpwaBv4ydtXD0LacUlFHHhEgERUhNeMTCzv5UU4grYWZeeAA1FX8+uuvieju3bt7e3vOuRCC2YoycwgBgDRwzvUi9x49Xgs9wfqgIAQmBVm8QSGAc4Qiw+akuH1zWpX1fD5gPmeefX9/dTYbsirqsi5pOIyDUbGzOzq4s/fxJ5OPP8XWNpSQ5eIdg61APCqIlJQcy7WURtHo39PvKgIRdU6Ymb3TIACBHQaF39yY3NgvN4+k9OV5XWaLEHEWKKp6xSIE8W5z+8bO51+MPrk7uPPR8MZetrGpwxF8BuJaEJqg1PVDSSWP1hyY18vR4Vhqmi+oCBkRbFOLAEGjCqBsbqbtti2pvUSzLjKKd0vVYqONBGFEFiVkRI4xJJAKRFFHrBaIqWyUJCBGeMagQJaDmMnlTC2rjT/9eT1eAWtyJULKiBafZWYwM9iecKQOdeYZoMjgwoOxOCn/fv/bH3744c6923fv3t3c3EQTDwPAzHmetzlBo1x/6IH26PHuoSdYHwbWQSxhiCozERQBysyuyLE1LcKBc1rOz7LtjaIoAvTkwYPTcs7ZkKajfDodbG5t3P5o+qfPJ59+gnv3sL0FJuQ5MieEWlA3dkfJcmvd+S2FzbpxpJZp2NwgSEIlceRUQYoiw9bm6PZdf76S0WZwxdL5ermsl+NIMQzyVQh+OJ5+8cXuX/7n6ONbuHXDHdzCdJOGBTwJNKoKkg+VSYTak5CCMgoQrztAa2cKacdKAJlonlXl0nKC85YYM3bVeas9SJPEUGsD9osv5u8JalpKtuI5AELweQaoU3FRSBVBsVphvsDRCVYlROEZIIQAErgM4zE2JhhPkXkwQ5lcH8D6pWjVVy3JUqSMOBxAVGkVJAQVZg4oSaCgYT5Q4MX54fOjF8VwsLe3t7W1ZYori1G1DQqNVDFzlmW9yL1Hj9dFT7DecyhJp4xOWclIkCNShRIFT847ZAPwth/wltTh6fOYud3xIL99MD87rlny0WCyc2Nj98aNm/c2b93CvY9wex87Wyg8siwSKyhQyh+RJeYaa1Na042uWUSzrBHkSgQTlBEJgDpS5Dmm0+H/+HI4neBk5m4/jPcf0GxWVXM49sNiqBiOxvt//tP0f/x33LyB7QluHWBYIMsUqBW1irVfi8m2oXHLvDhT8E+4jaOpt0wJTYba6FvROsFEXolUtqcdyh3q1uDqkrcZBDgwJ0cPaCfm5EzWpsIxIAiqCidnODrGybk8eX50eCihdkRCws7xYDDY3hoeHODObWxMURQYAK7vvvIbgK2gQ0QkcogI0UWBBOhytazLajSaEPTo9OSbH756dvJkZ3f74OBgOp1a8aAxKhN1GeVqA1e93K1Hj9dFT7A+JKjxHWFlTwgEURBzdHDIQCMUNHRy4kU17N3cvVX9ZXZ2dl6vouet/b3p9s5kawebW5hOsT3GJEfuAiGYsFshyVYzxa6UhDrUysAdAZb1XrEuzEKI9izuKEZ1DHjGMMfnH2NrikXYONirDnaKxSyrS3U8GI98XgyK0ebNfdy9h80xJgUmEzAruwAKpOJIrGj9auyqwU9NGpfkWAQAdV0jNYqBEqXyKl1r5k2ipI2flkv2WusPkvW+33o0ThPpzmm07gysQpUzZRLyGCGCqsb5DM8P8ePx4q9fPfnmm7PTUyJ1mR9MxvnGdPeTT7BcDKGQfWxuImNkySrkjz7IdxjGhNYmVa4p8IQKR6SL5hhao44+gJFlfoHl1w+//rev/u30xdk//s//68aNG8PhEEAIwXKCFscSEfMXNVWWxbR69Ojx6uj/Zt5zSNMcMEHNmQmM1JI5MmqCAFw4yvPgp5CDwXS4RTlxNl0tNkNZOxTTqR8MMRghy5EXWmRlocLWjEdFNTQVenzZ9ekCqPmna5sIBhG8tYJ2KmAnaTIvHAYT5Ar12Cg29qcTCZNYq2OfZ8Ni4DlDMcDmJkZFlTvKPAMCjYAVKRKYoFfkYJ1JvfsOdZeJpNfm2ZhYWrDKuFRRx4HIWxscSrlIY4oBiOljiC6kHpvrcv1o3j7IBUroGv0cRSHAQxEDZku8OJr/7bvzb74dPnh89Le/nz14UC5XxKpM1XDkNkbx/OzoxbPp2el0+eno04/dkKEkcJx2eRl9vOQV0Z4o636jThWqkACZhbPz1fnZ8rSsy0W5EgmqOhyO61X19f1vzuuznZubt+/eMmdRAN57ETFfhnbPFsfqL0ePHm+AnmC9b0idMXQdbGgEWF2e1XFlIsTUNtCDgKEO794aHNwCHIKirkesKDJIVHLgDJ7BHIgik8JB1cx2nJJy6n5onZs7VgRs6bl4MZYDgBikDKhr7RuImBjmrE6uZK2H2SQfYeDynQ3k2UAFrKgjhkNEIAoGA+QZWAWupS5mF+4AByYIg5rwFf1ETSE6qrHmtURQMmpQZXadeFjynmBKuxZaC7G6V2S99kveurDCpe1JLo2Km1N6YdDU+fkTeN2JkqRpZHmBNQ8GeQbN6wrLBX58fv7Nd9//n389/L//bfv5IZ4fFuVqMy+cc2Vdrc7PcZo/enDfH+xtPXlysJwNBrnbnmI6VJAo03Xinn5Gf0Wo1eqSkqg4VKgVCAhn1emjFw//dv/rb+9/8+zo+Ww5F5HVagXQIBuwZp/c++TP//Dfbn50kE+ySkupZZAPmTmE5i+IOcuyLMv6FoQ9erwZeoL1juGaaYcu/+aJUy9lkmQO6agRnrM1LwmiZoYgogqJIGIHkIfjLJfs8twfYwQ4qY9ADC7UHJJymBk7W9tmIQWrIJkcgsiZM48KrNmyQJlIyGJYqcjfDsKpgqlxSlRhUmYejkpVNyh8MQARRCEBAw8gbcku2SlCSIiIHLmo6tQevmEW7R3wT/AMSmust3BNrkwo9VVs3klFg5brjKZ/abiP6b18E7669gOvWSgXeRKZHToiVBqOTJ1I0jo61hYwXqUrlyoLXp26kAhFYlB07WbMVgBIQcsilCDBaoGnj/yjBxtHL6YnR4NyvpotNZ7lg2KIWMbApd8EnRyfTIMOx5Ps4Cbu3ZZpsSyKIZlpmnZ7Cdd1jU5F24eNy7FOvfy2MKxtlUTEFeoK4aw6e/z84dcP/vr1d3/97ofvDk9ezMs5M6sSKWugQTbKd4ofzh/tl9s0iltu2+f2B82kbG4rzEzMjcuspDutvyA9erwyeoL1HoLQnVO1jWAp2MIQlKbxRsSR1EYESKQ6gut2P21KiNJebdIj2zGIkuQb5hcKSNskRxXWTpoaJ/O2wa/l7Bhrz+nrgzeAAAEkRNFBlDwIUKKMGtWTIPG2degODFVnunNVIjC3h/I657CLhjmZt8VLkN4hResN0ZqVvypV6FbrrT3EEn20q7FmbNfkHq+bAruVj68Dhfncq2dtLc5UoYSokUJQCVQuMTujs1N3duLPT4tyMQwrCqXGmJcSVFysMs0zX/iqLA6P44OHy8ePhqd/wsEm0xAdIRE1XTL7grVXhACWy1aI/VvI4qQ8e/riyTcPv/7r9//17eO/PT18fLo6my3mWea8KzxnqOl8eV48zTe3Jjsbk8wj28qGUAa79m+lWwDc/ch3rg62R48/Dj3B+jCg3GkOA9isZvprIoj9CgCigmTa3bAdBSkcpfKi9o214ea1H2gF5G1TtItfyj8R1Lm8H7NUapKHMIP6dgJOX/d0lUB05+lfscXHawdVXpMq6FWPd0Uiqk3QisGk3LGEkO6HyMVNDe2gL5dMvgJSf2xL/Woql2QVglCMqErM5vOTs8XpeT1bhFALSapFQ2CJHjFjIaoQq8Xs5PiHJ/OHjz85OgnLm8Hnw2KA5r5qCZbIy0lsj5fAstghhOPjw2+///Y/vvp//7/v/vPRi/un1WmNarZcZIUv/KjgHDXiSpQxLga3Nna2R1u704PCRdHoKWsDtj169PiF6AnWhwtSOKLYaQxLRKrcaKUUIFYlJcD6CFoiTtsJ8foICgCgLW7STv/D10/4MMCESGo9aCx9yKAISX0DWxGUpgxmR9D/rgVCtPE8ddRJ9ilDJC0EAIaxq1SNeQ27sihbR0aWQI1+63UH1t4hFoNUjY7hTRtWV/Vivjw/W83m1WImDoD4DC7AOwoQJQwKV9W1Z6liPZ+d0elZtay0DMHXlDPoguKqJ1iviyQQhAJCpLPF7MnzR39/9PcHP9x/OntSusAF6iyoI6VV1JrVh1ieLvyPJz8+fPro87ufBQnixLyHU8fQFDLtL0SPHm+OnmC99yAo63WRJiJSCKumVr7m4IymeJ6EhUFCDYmBCpSJFWAloZezq58czU9N78mTs4mfKaGlViwKYsC6KbbROEtumjrEdvyOkapL6BpNrWGMipoAlnbpF6jTCqntaYN0wZodALhQdvAaWF8vy/BqUoY5KCSirmW1CqsyrMp6VYaCRGOm4klyiEeMJDmLenIeoBhjHSUgilfH0kunf00otI6r88XJ88Pnz49+PFocz3UFBx44kFPfSDNZYhUW5dnh8dOnz/ePTo5m5XycjQUiEEesF+ph3i3vth493iL0BOsDRRK+aNK9K7dBLLOQZFYCmZkDt1YDRA5qZAsEB4K8hM90o2It59E3EnCw1SqawlcJKaiGll0p49o5oE08/VpaaVLgdfZ1pa/hz0Aa4uTQirHYRO7r/aWhXNRpNQtTrUB6Z22//mbmW21xgDaRSwBKkaAEJauOAByxI1Ooc4whavQxkCgrS4ykiGElQBVjKVWkGFXt3stcispZPre9Xn3N2uvC+rsr6XK1ODl98ePhs5Pzo6Us4RQFSaZwQKZETMpMiOfhbFlykMPN289fPDs+PdooNkeZJN6e/mRlnXDupqR79OjxaugJ1vsPvY4SMCRaus04S8Ng2p+k6bXxF+te2OQEeW2u+RI0ScSLilkCa6pKujzICwNeLyJyqmpNd1QJVnGmSTze7Io6u4jdAeA3mLB/98nf7OMBNDOfqaISjeL1uWsDVo3szV1TNvh6w6eUae2o96CWtiQ1c4/MDweDyXgwGWMykuWZiiIIqbISCYIglmEBLAJkzPnmZLq9VYzG7DPfmLm3vV6MDfcE67VgYkpVVZLVanF2dnp8ejRfzqJG5IxCkRMgkaWUGqoeEI6qKOvVslycnZ2dnp6W2ytkCqgimuSvzw726PEL0ROs9x4vbarLnYK4JHE3LdNFpgWYzQI67Aqv8iRLFyXwmkT1rzd6BwKBRM3Ty/y1VFSakNs1qvC2OPIdLPXvaJEuV/9Z+XzyLyUg9au5bv2udwN12Cu99vlvu92lyw6hVEeozAAz8gyjcTGd+o2p35hKtRBVIesvCQEqIArmjDKD296Y3jrYvnOTb9zAaJLnAyiv+UFDsN6tS/bHQi+GSGOMVVWV1bIMpTJR5jRrv+ZVQrmK9SBm7JDlGLqciOq6rqpKJPVdEBF3uRCi57s9erwJeoL1fqKZotZhJCLqTM2IYnJq7XyVikiKV12zw87rq9pxNUcEVVUhiKq2jTVUL0wBROuw1tVPujCzOjJu6JSseI8aFy5ybj0GTRO+/UIX6wfb12ZO/cZYq7zfdMNXATf69LULF63ZVQ1z21pfiwB4AqDOiKjRKREQWleFLlRAr3kaktEGtzkjU9GpSpAQGIrMYzzCZFwOihm7qMiDZtkgG2QsItVKuF5leiLxvAB7f/vmwc7HH2M4AChCmUlFQghoGuFZb5b3NYjVvTO7tZMvW/Nnb5/UvogAYgK1Dm95no8L1gniSCXHsl4hlIArsmKUFY6HwoEWqhFFMZqMpkU2SBK/5swz+lqDHj1+EXqC9X6DXxbp7zKwFu7Kks76P/1BrTyJOnzuiqr6TQRY662uGTGAC0EsejMd99sDas0Y2t8BMAIQoAGqEAf2yW1BIqJABGoORhKVFMxpLxJQR1Gw98kv9Q3/4DU5clgRIQOePbtorY4wHQ1u7Q/v3S7PT7Wu5icnsogCnzNKp2dEC0ezEdyNrY3PPp988rHf2cZ4hGHh8xxXoozvdwTrgjaxgzeoeG0cM9Ltb0wry7LxcLQx3pwOJuRX0UmtWoYqI69ETKCAqqzzyKNsNN3ZuLl/e2uyVfiChQlMIIgSEzrqSn2T+t8ePXr0BOuDwDXBgOZJV69ffAU//yRNrKpE/z9779XkWLKd7b1rZeY2sOWrq6vtmHNmTpDBG5GhCN5L/LXSn1Awvk8iRX3iiOQ5Y9t3VXVZmG1zLV0ksAtVbcb1zKmeySc60DAbwN4ACvlimXcxQqJnUQdEV7e5rCZ6I68vMlcCLisKa9Wpi65s8ssuBb/oo1+qq9UDI3jAQ1ppG/FEag1bWAIU0sIDXuEFVkLnJRsmowRVFN4XVdmCEsqtIWdA117SH08IszW+MeKtb2EsNjd6n/3xtqI36NPuzuQv3x59++xs3lhBq9z0hrqW5fd3xx/d2/388/Gnn+HObQz7cHZhnLosunqb+Pg98PZDfrPwEoFCBIsxCljqreFwvLN16/b2/tHFcVuezOuirsp5Ox2MB6SsXpppU1xUonZzc313be/u7v2t8XZqMiOGFy79oiL02wwgRiK/KlFg/U55yxf6T/RpXglXEb3ju3kZCPn5vG09+g1EsK6xqI4DMymLd4SM2JBH6+EbZq8kTEQw8Oq9MiVwQmxFQdoCUEILT2R/nrQSgvAyP+xFLFtNElIgHaPX30iSZDj0uzvaG1bZyJ/PtFIRT+PUbY+Hn97d+uzj8Wef4dYtrG8iy0Bo1SfEWKalficC67KsDcBKr+uPfRxazIgEAFHx4gW+nw9vbd3++P7D83IiB3RUvJrNZ6hacoBX1IKZyEyMdX0z3h7u7G3srQ83esnAkAVAi2GdtHy7XwuA/5bfmUjkPRMF1m+eVWukH4IAoar90sbz7adXIFymCN8Bve1X+Vs27tC3nP8ts5xqxEBCxnGbKiCCxqMoUZeMAuoXU61FuFXYFGmK3tA413PGMNcKtQY/60VbTgFaRLCQuMSA4BKYEiLIMqg6S3Xmev1B/uAPvYq4kllZFgmw3qeNnvvoLvbvYG2M3hBpoqCuAPC3rahW8d7japlgINQI/nCJyQwFMYVcnqqq975VIdDWxs6f/vh35KzrJfSU2rqxnpvTVlpPgkyz00jwowAAIABJREFUUTbeHG7e2b5/b+fB7e07Oxu31wfrPdd3SCCdGR3eUWAQiUR+CFFgRd4ELWcGfs9pTCT8kqxE+wjioESMNkynmeNsguk52gm0VjECeIGwcfnA9IdYF/T6yHqpNSlzS6gBHzJ6P41lcJMABYtImFrnnaXQkGDGJnP5aNC/ez+9aFEQ5jKsK++oGVg/cNnmCOtj5AlcAubf7dLdeVKsXhmE12o0K5y+o9afcDmFatFgIgLw+mg9yVKbmEk5Ozo6KLLZKBucnB238IlL1gbrW4PtnfXdj+998vD2g4d3Ptrf2V8fbjq4hQlbmD64+Im13OcYuopEfjxRYP1OWP2eFnQ9Sle2ebMb5aIc6L3GGN4Wl7q2N++Qb37lflc2+z7j0w+D670BAm1JAS+oapyc6cvD6YuD+vRYpkeo53WLWkSUTN7vbWz2N7b6u7tY38D6BgYDOGeZWbXyrfnJAguLZTYYoDVNUxHABAMmJhAlGSWZWRvbusWp4LzBTACY1JgeY5QhIziG4WC7JqQGrG/22fjNEpKhInJNYK02FV5NGn5/2JHQuVuQZeOQuCTdWtsaZ4NhMry3bbZ2tk4vTpuycSbdXtvZXd/bGm/v7929s3379ubeZn8zgVu46i8SwAsLEIo/oSKRn0EUWJGOn/Jd2i0TKwLmagLxJ03U+d69eXOS8rfDlYNjsIpCBa3HbIpXr8rHjybfflcdvSwPnvpyXpZl3XiwS4dDv3dHd3bTWWF35xCBCgYDOLuYlf3TWKR1w/QdZeXEJFXbeFEiq8Z4qAAEriF5kvXXDDKgZjCDxGujmWnhyauBAhB4YsMwqrL60ency37Oa3eTCYdmjHk9iAW8sR7rXW8ZAwJmCLOxZP3iOrWgVNNc8+1sY7z54PO/+XwymRRFZcCbo+310dawt7a9sbOzsZPCOiQANY1PHV/J3+tbW14ikcgPIQqs3yGhoPiHbv3uDa9bEl7KghUnp5/x+G/bMuRH3nDfD3tJkOW8HANcScwwWfgaxRxnx3j5RB59Wf/5P6fPns4PD7QumrJqqpZhuD8onh/4rU2cvOo9fDhEi9QgNbBZQ9wSrArjR/ggLAtyluENUQhB1IjJyChBWqiQMCkTiBisSgWrScmkbIhh2BjrRa3ahZOWwhJBiEivtUR8WNKqCzu9joh0hlJt23rvmdla27atc67bJtjFtW379uqr1YjXZRrx0jOMmABWMKfO9QTeQ+f19OL5WXNU3hvuf/7JZ398+IeyLFXIsk3T/jAf5fnQsCOlnFKoiKi1yxnP3RtCuPL3/SG9M5HIjSAKrMgvwa8RWvqNfuHrtf/RGTc0NeZTnJ3o4Yv5s0fl40fl08dycWbb1jY+rRqIMRczP5lPjl5J3ZR1a3q93nCIPIOznKTG/Lj3ZXWIIWFZ+KyAgkBGASIhiIIU4qEEZiuqntUziNRADDHTIvUV9BoHgffhv3/dwAC8JoyCAGqapvNQZWYics5575umybLMWisidV0DSJIk3LHLHobTcDGk/4wxq/6r4ZGNMSAOHrMEVuh0cvrixYujZ0cZpXfu3P78/md3N/e99yIQgWHrXG6RKBikbdP6phURY0yapp1u+7CUbiRyM4kCKxK5UbylyZIUbYPZxB8fT14eXDx7MXn+snh5mDdVDjhhFmgr0lZNpfW0atVWcMnmVr57i9Y30etbR4bMj5q33YUzqNuv0EOogDGgxdgkgpIIQUUUbLq1mZfPtRjYo6oLb3Bi5g9uBV/N6P1A/eGcY+aghLpZQKpqjBGRoLTSNF0dM9Cpq3DGOSciZVmGaTbGGOectTZJklVvi4UwAkTl1eHRo2+/uzg739na/eyzT+/u30mQwAAGCgIMLa3QZFkavxpCA+C97yYxRCKRn0z8K4pEbhqLtNy1KmhURXt6Nj06OH/xfHJw4M/O0qIaEAaMjMkZ55xtwVNPaNpiMpWzi/bsQqYzU7VoBJkQASo/ymqUrl3QhT+StQyETLOSgojgRVQMUScjunptVYj3IhIEFoOMMZbMhxXEWh7LlejO25RW27ZBoxhjvPdEFC4WRZHnOYDpdDqZTIKQats2y7LVIvfupSvLMk3TPM97vV545BAMa9vWmIWW9d6HjKQxxhK/evXq5bPnNjO3tnd2d25lnJVSssKDSKBkHDuwZSUDSpK0IbbWro4niuGrSOS9EAVWJHJzWda6C7RBVZYXF5Oj44vnB8XLI57MB4KxQR/IBZbAhmCcVakaXxeln1xUp2flxUW/LOBbiMePil+9cX8YArQAkS4TfZdztU3wFe/KiXCpSEKqaxGYYQ7hLjYf3kL+7tGBXeQpHHK4pkv/ee+DuprP5/P5XESqqjo8PHz58uXFxUUQVSGTGE7Dg2xvb9+5c2draytJkk6EiUie5yH01YWgRKQoZq8ODqeTyf2tu7s7O3maAmrJ1lWlBAYTM6CGiZfVb865riws8DMHd0YikUAUWJHIzeGyRaCrfwKwaNEzbFW0KOqLi/Zi0q/bNWOGTjJRI569AAYMp2q9lBeT+vQUpyfDi0m/LODr0AD4owXWytCesEue4BkCMUoMCuVZRGSIiaiTcLTi2R+SYiFDhuVsHH6tP+KDo5NTq+oqnA+iKgyuDhsfHBw8e/bs8PBwMplUVRWyhyG4labp1tZW2OxaI2HbttPp9N///d/rulbVLMvG4/FgMPjoo4+YOYS1QtIwJPu++OKLV4fH4/H4sz98/uD+RyCp6pIISZICABjKREZFlS4Djd3hIIavIpH3RxRYkcgN4s1N+aShHz8xxqpqVUlZOu+zPHW2Zu+1hYiyehAxsxBa8WXbuKZutG3YO21FGy/GcPYj1s+Veb9KEMADnha1Ph5gkFUyRAZETIaohlxm/hZGTgqADakChlWVQcwfmPvVtcxgcE5fbRUMdBdFRESKophOp1VVlWV5fHx8dHR0enpqjOn1enmeh5r33d3d27dvd3Va3eOHM1mWvXr16vHjx4eHh0VRhIc6OTlh5jzPh8PhYDDo9/vOubqu5/P582fPnLUfffTg048/YeKmqeuySRLrXFdEH5S2KgmIQEZkadP/mx6zHYn8+kSBFYl8ILReRETQtFLXbSOqQOtVBfBgQaoEY0TIE7kst2lq08RkiUkcDLfifdua5Kc/vy4VlwJ+Wa7uQRy6DJkBsL5huoqqYsU/kz7AOUci0g2lDhc7gXWtaipwcXHRNM3BwcGXX355cHDgnNva2lpfX//000+3trY2NjZWs3JVVaVp+ranXl9f/+STT8JTn52dPXny5OXLl1988UWapsPhcGtra3d3t9frFUVxenra7/eHw+He3p51iYo/P59Ya7Osj4UHA5hIGUQECnnARRVXd3QhEhazhJHIzycKrEjkQ0AVaWIHg3Q4zMbjdm3DH50cz8qNHlGFlDDs90BpeTE7F1CSeaA/XB9vbudZj8nCuMTZ+ievmqoa1FH4RxQWYAMyIA4TE0UUUKiIXpNQqtp4D8B0KcLLOq2bxesOBZ1dApYyCyujaZqmCek5Y0x4TSaTSdM0jx8/nkwmJycnFxcX1trRaLS/v3/37t319fWuOL17uneoq6C9Qn2ViKytrWVZtru7OxgMTk9Pp9Pp0dHR48eP7969W5bl06dPCfI3n/9pd2sbrSfLG+ONuq6reZkk2XLYt1Kok1N0Lq+ru9S9uZFI5GcSBVYkckNZST4RiOESDEb55mZ/51a1/QoN6mJacG24BhlLzgrP4QqVqYcZj5LhuNcfZr0RbAIwYBz9LH+yzruKulKh0JgWKtYBr4o31a3/BhJPq35XIdLDzKG6PFwfYlonJydPnz49OTkpikJVnXMPHz5cX18fj8fj8bjf74f71nVdVVWIG4UKqre9REF7BT0X+hCzLAPw2WefFUVxfHwcuhHPz89fvHjx7Nmz0bA/nU5VFcZAF/XvwXDLSHB9vxy/8GEGEyORD4YosCKRG0e32C7XPwYzshzrG/39e+OHB9XJdN5qfWLPpieJtHPlQtWozr3OwDPYdH2rv7493NjJRmMkOchCiMChmupH7IcCgIYRhMs7howfK0iD0bgKNLQJLo2zrvuSL+JA4RqCQAhB7t2scUdvDF+tlkZ1leDLUv2Fu0FVVcfHx0+fPn369OnZ2dn29na/3w/1Vevr66uP6b2vqir4WllrV9NzrxNsSMOzdLE0Y8z6+vr6+vrGxsbp6WlRFP/2b//27NmzoigSZ07Oz14evTJJ2h8MbJqlxKoqIAYRSIkQLPfxQ+YcRiKRn04UWJHIzUEA6abjACDAAwwmMnAJRmPauz148HB6fD6fVyVo3lTGMzXKoo5YkkSyHINBdmc/v327t7uL8RryDMaA+KdMl1uZOLzwHVWogHSRLIMuVQhd71H83qLpH2fJ9VciiKrV6YGracQQx2qaJsSuTk9PB4PB2tranTt3xuPxaq1VEFLe+2CpkGWZMabz83yHwOo2897PZjMAWZZ5740xWZbt7e157//5n/+5KIo7d+5sbqw55x4/fnx+fv7xxx9vbG66JGubisgQWwBEb5iBGIlEfgmiwIpEbhArjWqXVwkAGMOELMfaerq/nx2f2XnpnfPOynzWzGs06lya9Ue9jU3aWBvev5c/vJve3cfWBvo9JBbWwLG+XoL+o3ZPwQIrUC/BSFTp0llAoICwLnKI3VMRPrCewcCq7UInFldVo6pWVRV6A8/Ozs7Ozvr9/v379zc3N/v9/ur0mzCLkJmbpglpwVV19Y7RNFmWdRbwxphg4J4kiarO53NmzrKsaZrz8/MkSf70pz/dvn2rKIonT54cff21F/zJpaPRiI0jMp2BbZhpCEAWvhmRSOQXIQqsSOSmoZfdeksDKiUmEBuHwdDeuj0qak+23Nwudrd1Nq2mpW/E2mSwtjbeuWU314Z3993eLt2/je119DN1RqxZzKv7cbty/QIpjEAFysFuPszdhhJ4xXT02vEQSD/MjNSqwFqVVmGE8/Pnz7/++uvT01NmDnZWt2/f7lzXm6YJlVghjqWqaZqGcvXwCF3J/NsiWMw8n88nk0mSJIPBIBRghf1p23Y2m4nI0dERgI8++ujzzz/P83QymUwmk6IoTk5OHj16tL+/v7GxEaNWkcivTxRYkchNRxYmn2TZmryH3d0h20F/1Nw7mZ4coSmbed1ULbPNBsP+xjqPh27vFtYH2Bxj2KssSqBBy5ABOf7BS21ndkoEFoBCDhNQEDGFaT5MohCGV8WyTzBgQGG0TmBh7P6ByKzV8NXq2B8si6iCK9WTJ09OTk7SNA2dfcExofNwx9WIV9M0IQQVcoWrg5zfIYDClnVdN03jnAv3DU2L8/n8xYsX33777a1btz777LOdnZ2mqZqmuXXr9mi0NpvNXr58OZvNHj58uLGxEUrpl+EwBuRtYbNIJPJeiAIr8mFxLcV1/Xf/wnhcAVoxQocQGAhRl0VYyIeZxctSp5U7d2deS6f9hBqmn8KV5+Cl0FFAwUgSrDkkCQ0HyWRno74L36L2TV2rUJLl6PfRzzEaoJeglzWGKkipTaNihAf2rY4AP3TXwj82l+dXU2lX/dlVlRRCsMQeyoAHDEhuWnH799FpkTDfJvTuhSiRtfbhw4effPJJyP0BaJqmrus8z51zIVIV7quqZVnaBQxwp7EuY4WrnzplVR0Oh4PByHsPIGxrjPFe0zRntq9enTx//vIf//EfP/roE4CSJMuyZmvLZVl2cHDwL//yL8+fP6+q6h/+4R9CKX1wmtCYHIxEfnmiwIrcaGSx8MjyJ/5i+VFVwwZA03pVTVwCoGl8q21VF5lyPugBqr5tyBtjCMQQeIIqiL2lGdRD+ui1dSONWpNYhgigsKxsBEYBredTEaRpSsEL+5fVWHzlDC3CPmZZDE6GIAbaopchc9jaQF1BFKJOFpVaYFJDlOUw5AGAErAlowQwGfAPX1lpuUOLzGJIWVq+po6YwMuvkuuPvUxxhqOgq/9uINcSgp1j+3Q6TZIkxJ/qun716tXR0dFsNnvw4MHOzs7W1lY32hlAZ7sQnEiDS0JQNmkaat5DJBDMoUlALn85XAosASyR9V7bxhtjmKGCuhFVTVNzeHj67TePDw+OH9z/+P69j/Isnc9r0ZbZDIc9Zh4Ohx9//PGLFy9evXr1r//6r/v7+w8fPgx1YLqcMP3GyNk7asIikcgPJwqsyAeEACE8BdVFEESkhVpVEEGIm7YFhAmoK0C0KZWEnOOQ3vKAEJiMh0uYiRmevHgvix44gSpEvOOgaYRYSX9NJ6fLGFvH6iUlqDHKChiImjyDBCuFRW25IqTtFEydslk066n+2AGA9NYL79zyTTe9fvqhQET9fj/UqofhgKenp+fn523bbm1tjUajzq2q237VwQFvaBLsVNTKz4aFtJLL60kAKcvKe5+mqaoNNfJZ5gCEsnpr7fr6ejeUUINVO3PY593dXWPMbDb77rvvyrIMJqUhzFaWZVEUXVFXJBJ570SBFflQCT/9VRUaZrGAGTBIbZIqwTeoGq5L25RNW6ds4BUtoATDSF3eT5GmcAkTGWPBSobEQjy8AKRMRGA1loIRFBj4dVKE72J1GDBRKI+60qO3NAAlvapm9Ddh+PkrE6qpuoCW934+n5+ens7n8zzPx+Px1tbW6xqFiLoOwY6l3gr6iV9Ldl9/jG4XiDyRZxaiRrS0JiF2RVEcHD67mJyO14b7d24NRz0QjKVQX9UNnN7a2krTdDqdHhwcnJ2dffXVV0VR7O3t5XmeJEmo6FrtlPzZL1gkErkkCqzIh0pQVkSX6SZmOEO5ITSCqsZkgum0PDm8ODnOiV0tSauWLCUOwz62x1hbx9iySRLjwKwGDUEUtYoyCGwgMFYhwmxuTNXQlYVQJFSad1eoqtIiZPK9y3jkGqv15l2dOzO3bWuMaZomzGxW1du3b9+7dy9oFKyEr/A9SmVVY+HK+a4EcHF92MBnuWtbAnlRtY6YRdEcHD47evVCpN7b297f300SBkSkFUHYpZCddM6Nx2Nr7aeffvrkyZNXr17N53NV/eijjzoXie5go8CKRN4vUWBFbjivV5qHmbVhehoxMy171wzIGSJtUcxxeoZXx3J4cPLtN0dPnuSqtvJJq5atzdJsY310f5/29rDbYG0TgyESIjHKaLSdt1XuUkAciI0FCcj81WNXb+a19v5r7p7den4zd/9m0qmNEMEKGbe6rg8PDx8/fjydTre3t7e2tgaDQRf+wdVC+C4n+Kbg0NW3TLsh2ldlljJIvDaGjHUoijmTTZKkaZqjo+O//OXPZ2en/UH/1t722toQ8E3bikjbSGgw7J7RGNPr9XZ3d8uyDE2Fk8kk2MGHQYevG6hGpRWJvBeiwIp82BizcMpWBcE7EtQVzi/w8oU8fn7+3bcXX301efyoqCoumiCwTJ7mmxv+6CB/+NCfznr3H/JdB2OClycMK5OHepAFA2RYw5AZ4IbplJXmsytXdgGVlZUy+CN8kI6fvy6rsZxVg4bj4+Nvvvnm5ORke3v7wYMHm5ubwS7hmhwJ9exBYK0Gw96iWjjkuoGuBquTWQxF05QmCXNtxDo2TLOmfHnw/LvvviGi7e3NjY01QJaV8qiqCuAkSWhlirMxZmNjI9S2v3jxYj6fz2az4XDYBbFWJwJFdRWJvC+iwIrcfFbKfpeokgY3pkWCRlSItDHaBnVVff3o4j//6+yrr2ZPH9OrV5gXKBvfiDLXzrXjIU/Pq9l0fnS+rTwajOAcDDvnjGFjrUB1scrBwNx086bVMpqVOYArgRHIB2v1+Vekk0re+5cvXx4eHvb7/Xv37u3t7QGoqiqM0FmNXQHoCrB+nFhZeIh0MosAttYCLBDnUmdSACfHZ0+fPK+qam9v786de4PBCGARb631Xqy1bduKSDCLDw4RzBw0VmiHnEwmjx8/3t3d3d7evvL8MUsYibxXosCK3GTkbUVESz2x3E5EPJwKZuc4Pm6evZx8++3pf/75/M9ftseHWVUkraeysq0omYZI5tPaglxycl71NnZGe3fQ64EJlhfJQAnlwnwpWPQGha8u01Jv2ac3rpQ3Nc15Q1ktq5pOp6FtcDwer62tAajruq7rEB8KOcSw/ds82d/JSrHcFZlFhtPWN03TGGMAnhfzw8NXz5+/TNN8e3t3Z2fXGufFA8RklHg0youiCKE151zwmFgaX1HY+UePHj169KgoiqC6uoON6ioSeb9EgRW50YiEyEv46r9cuoyxAMIAlkUeh4VbhSjOL8qXB/NHz+ZfP66+e5K35W4/Z21b7xmwjNqauW9xMakPj+pST77+Zu/zz3A+RC+HILHGknfOWBCpkBL80pBq6Qr1V+dyLdTlZXqD1qKVTW5Kif7NJjh/diIpz3NVPT8/Pzg48N5vb2/v7u7meQ7AWjufz1dLxVdN29/NqvnU0nCrq5QXANBFaJag02mRpimzE6GL89nzZwdQs3/73r27Hw8H66oc/jq8Z2NIRIJnRDiWoP8AVFUVXK82NjbOzs6+/fbbtm339/fbtg2uXaGKH0Bd19fq3yORyE8jCqzIjWapG67bJy2qRrCoHVkU6qpHKyhrf3ZRHR3509OkmA3U546dtMswgXLrvYWvymYyqRqqT05wMcVGiaaFqAVSY0mVAaNgXUlO3qQgVuSXoJNWXXJtOp0+ffr0q6++6vV69+/fv3v3blAqRDQajX7asxBdaqzV+icAqrRiqwtrkzTpq6hvSZlevTo7O5v2eqOHDz7dWN8xbFQBNd4HvxIifnPnaPC+SpJkc3NzOp2+evWqLMtnz57leb62traqC4PMikQiP5/4szbywcEAq5AK6QoL1/em0aouL6bF+YSKokcmJ3BdmrbJDPqJTQ05kozYeO/nZXF6Vl9MMJuhKNDWUM+AIWaFEfBy9N6CG6iufoAz+g03T//rstoGCCBMpAEgIqGUajKZPH369PDwME3Tvb29YOlZVVXTND8pG7hgWSynqtqNf17W1BtmG86IIEmyXq+Xpul8Vj55/Oz05DxLe/fu3c/zXln6omiaxtd1U5Z1VTVEl65d1wiP3+v1dnZ2dnZ2rLVHR0dnZ2d1XWOpwN4xEjESifxYosCKfJB0y8byvFJwGvW+aZqqqqSpE+fG/ayXOG3UNyDAMJjUsknYZmS4FW1alRbiAR9M3GW5zLBe/fOICuU3R5gY07ZtJyxClXrbtuGjVVXV06dPnzx5cv/+/f39/aCuAARnrKqqftLTXjq2B9HTDYcOH+lgSRrcFsqyVCEoqtJ/9dXXL168XF/fuH//wWCQeq/T6bwoKoCZLcEwvzUjQcuxP977wWDw0Ucf3blzh5kfPXp0eHgYDj/sRijb/0nHFYlErhBThJGbDSkgIF6WYQEAlJlDkoW7cmAiggEYlfrSN7VvnYFJHGuDtlZFmIYTMGCGMcQEAhEswwAkCi+AQFfSJAIiBJ/RKLB+KwQ1E6bfYNlnp6rOuXBlqEN68uTJl19+eXx8/E//9E87OzvhVmYOt/6kqnBZFViAqAqgy35YCc0by50UImp9TexevHz2xRf/Pp/P/v7v//6Pf/xDuK/3TZIkaUpEpm2NtW9tE+2kW9u2aZru7+8zc1mW33zzTZIkw+FwPB5HH6xI5P0SBVbkRkNddqurxFqOW14tZAlBLIDhrFj2hlpG0dRJVVpte7llbQnkvXgh9dqoh1GTGuOYU4fEwFkY9nxZwCIkC1VHAIkQK6LK+o3QiYnVaM2qwgghn9PT06qqdnZ2+v1+EFVBYIXI048vBr9UVwoFPGjxjN1jdrnCcAdmBvTi4uLk5KSqi/4g39hcW96FnLPWLl12DbDoq33XJ7TrKMyyLBxLXdfe+yC/Ot35c7KfkUgkEAVW5ENFNXhVrfg1ENQZ7ue9zbVmfVxZvqjmicNokBtv2rJuRSDUChpp2cE5l/XStJ9h0EMvQ+LYGA/oyryU4NkQBsIp6KYtO6sRi7euqz9oo98jwV4BK7XtncEBgKqqqqoaDof7+/vXnK5CGrrr1/tR6DI5GC4SB79Yr1AvPgisEI8lopBF/O67b54/f7a9vTkYDKzl1teiqbGUZqFwCkQQgXn713mQbsFRostF9nq9jY2NcLAAiMh7H6VVJPK+iH9LkRsOLcNGS6cGCl1Xi1mEKxDAQmz7/f7Obnr7VjMenRq+IG7zQZ305mQnQhOyM7JT8Nwa3+vT+iaNNzAYI+8jTcMapQQl9syeoAyhEMkS/hUm+600Lepr/17fVlb+vXGbyDvoCp6u6acQxZlMJvP53Bizvr4eqq9Ww11t23YV8e9k9S0CwFCz/PSGB1QieN963y7UFYxhlyRZkmTOJNLqn//rP/7yl//q9/Odna3hsD8e91Uba5EkzAyFgED8rg9nMGIIxg1BQmVZtr29TURlWc7ncywtKvATrbwikch1YgQrcpNhWkiHSy8nXc5uY2YCNY20bcvM1loDmNFGMjp3e7eGn31eTctC6fTkxInjqmlb14h6UMVMvXxzbze9f290597oj3+LZIB8DXAqxhtYUCNiDbcGvq5IvXPGEHkvZJJf8GfJqroi+JWGe15Rmt22AvgV7whd2UY8uBOlMWr1Gt0om1V1BSC4n3f9g8+fP//ss8/u3r2bJElwvUqSRETquu71ekSkHivTxgGsTmsOb2b3HqoCBAdCUysbWMOtVG1VOueKYs7MRMYYm6aLUvq2gTU8OZvMJ/PEufW10YP7d8Zra60vrLGAOAeQNu3cWmvYLEdEv+HzWde1tVZVm6YJISsi6vf7WZbleT6ZTA4ODnZ3d5m5KIpg9BWJRH4mUWBFbi4KLFeLt4ZmVgtWlJjYmfWtwZ3aF81oOlfi6ptHF6en8CSwjW2FjWR5tjZy9+8lDx+sPfhksH8P65vIe7AZMxjwoSYGUKAlMiHUAQL/elJl1SCCAA0O37pSqL/3jLgbAAAgAElEQVRqEPZacRibGM760ahqKHUXkfl8Pp1Oicg5F2qtQsuhtbbzRvfe2x8a7Fm8GZNJMRzmSWKbxpd1xQzAVFWbJDmUVUk81bUaprZFXfpicvH48XPxfGfvzu5uMIkQNmh8ZY0lEDOYg1wUBdHb1X/XdauLIQWcJMloNKqqajqdjsfjsFn0wYpE3hdRYEU+YERlNWujYIJivG6F12vfhx33Ry9t8uI//7M/GEpZqig76/rD4c72+KOHo4cft/ce2r1d9DIwASpK2kIJhpdBoy4R+YN9un86nT07XV7R5Uc5xESWXWakIIJbEWGL1yA4318au19mjlSVKC6fV3j9PQ35wdlsdn5+nqZpr9fregY7Nd8VMwHyFgMPvswJAst5zJqlpmsRtOycsyKoq9bCEgMEXrRwoKpRzOXFy7ODo7PR2vYf/vjZ3q19lzCgTe2995QYawzzmyz833SYQYV16T9jTJqmOzs733333cnJSTczxxjTRbkikcjPIQqsyAdJ91tcl0OOicgTCdRaxmjIe7czm2S9fuX9lHlorDa1eMA60++NtjaH9+6Z/btmdw+jEVILCFREWINzgwbFBfUtKdQG4/hfPtu2EqIKK6EJT6oEuurRHRocdblL3X+LF0YWB7JoWFtOb7yc+BNZ0GmsELsKn6WyLGez2XA47Pf74VZrbTdzMKSkgXeHCZdTtpdRWFJNEpTFxLeUpn1Vmk/BhCSxvkGrgMI5GIOmwewCZ6f16WlV1/b2rYf7tx9a4yAK9t77ZSqQl5/K7wlXdrqKVmYmpmm6trZmjJlOp2VZBl1ljIk2DZHIeyEKrMiHzWqdshJasqrqXILNTaQZsnzLufzuXeO9ehGBEIuzWX9gt7awvo7NLTgDa2ApTHUjhYGSUKj/IlW6nGryyyqs8DydiAqxpsWzd+VZqyVXuCr6KFh5QRYxMKGlgVjIMKrqL68QPwy6TrprYqJt2yAymqap63pra6vf7wdnrC6BGKzPeZmZ+z5CsRerAtoAXtrC2L41VNSoK0AwPcdsivMLXFyUALIsNYaquiiK+eFRYVy2s/Mgy928kDRjy5wkmYgyG4BEBKpsgnR+q8x6o2Yyxlhrw+SfcDE0UcYi90jkvRAFVuTm8r0/zFcTH0SkoNr7yksC7SUZhgaA6/fW/vAJygoKKEG8qJJ1yHvIe+jnUAEQcoNtW7cKAqfOGQUACxZSgAUkpL+0D5ZcrVV/g8NCd7oQWNppLA0Rt6sSTQBeuiPRjXOZuBGsRrCwjPGUZVmW5draWr/fD6btXXlW0zShNktE3DusERaPufgHgMAiFVnDZJsWaYrM4fgQ/+2/F8+fHb98eXLw4rBqyuEg39geb6yP8p45v5jv7a8PxsMkQTULbx8zGyJlsgBUlmKRQ4Xgm9/iawJr1Qas1+uFerKQ9IwmWJHI+yIKrMhNh6/KjK7kiMKywUxEhg0Av7RrEDaeyViDfg/9HIbRehBBCV7ZixLDWTgLUnhpQbBGlUQBBUN56a3ljPGqxhj5VTKEXbfkpbpapIDa1QL35a6E1ybU44u/YgkgBuoBhlqwudw+rp3AisJYvQbLEm/v/Ww2m81meZ5nWVZVVbB6DxLEWhvm2HjvQdKNFbwKAxAJ3geLj6qCnDFknfd2PkUxgzT4t/8b//v/9n++eHZxejY7Ozmt27KXu/Wt4d6tzc3tXlkdtp7mc4jCpQChLGuROkkSMIDQArnIXy86Id4ErVq7AVgaUjjnsiy7uLg4OjrCsv7sPby+kUgkCqzIBw2BVtvsSZFZS8v4jlgFZywepGADZhB5Ud8qmIxNmAH1YpTIgCwDiTPqYQm0bOFbGDMGOQf80gLlMkp11dWqVfEEBSTsxCIiIgQKzpUKeJJuIlDrWw8yIMMMVQExQKqxRewa17KEQWC1bVsURVEUodCKiNI0DTcZY7IsWxRgAa/FWGW19Erhl76hDCVilOKVrMvM9BX++397+ef/OP9//8fBP/8f/+X9sG24bYei6eHx7MnByaNn5foaN/VLUfr7/9nv7Ji0BwGms8JwaGZEmPQEEHPYj3f5coVfH+HvJVheiUiWZc6509PTLMvKssyy7H29sJFIJAqsyAfAap/UtcADr6S9HNPqr28FMZMyAyJmsZnyYiTuwkGKCOQUly6N1sCsPoSxdqFhfnEu689XrUVJQIC1LdqiLb2INcaxIQVUU5szWCBlXTKcM46BeVMyMTETSAUwlgERNFWZZ4ZIV5Niv8+K5tfTgt1N3nvnXNM0oSAJYZbypaJCd96YECXEZVZWRSBYfiyJyBhWJVWowCuILNns7AIvD/zLo/Y//nzyn3+ZlO1eXeVMuZKv26L1E8NtUbGZtfC9kzN59uLi/tn6fj9MMxdnLRAcRcIhQCQ4wr/rrbxiaLIs5wfQ6/XKsvTeh2KsYPj+817dSCQCRIEV+S1BgFl1JViuexryNcC1+JMAjKA9rpkdvA7jV9FYl/ugy0QgQYEGUkpdNLWIpGKNVQcmBbQCW0dkkgQwgHpozziihSWSAqpoCb6VRjSLtqO/IOFDFCQXKTwRKymUut8IRFmrKGqcT/T4VE4ueF4MW3GqQ0EOEvAcOhCUraBpS0PV2an/+uuDW7eHSWo3NuHSNMk6MweovnlXIpHIX50osCI3mh+pBiRUrAMAmAgG6KJTV3N7smLJyFitGl9Etl7fg1+xeunqqhmslpSJDJOKBZxqvkgUKuoKxhi2gEddOzDSBK3CQIFW4AlCaBTtr3cAvxuUsRo2pcVIHNEWAMgQAWzUawgXNoKywPExnj47/+7b46dPpscnrigHrOvG9JVUuYQmovOqqbmkNOkfHE2++OKb9S2zsflgMHZJkjG3i8CtALKswPq1fgBEIpEfSBRYkd8cYfjt4jy/ydxaANDSB7LTVbJy8yJH8teK9qz2Ty73wcHAWibTV0o9oRG0LSAIHkoiixyjS1A2ICBJyDpHBJAQyICV5R1W35GfTvD/v5w5qPAL4U4G8MQQr6qmrXQ+o/OT4uDF2bMnJ8+fX1ycjwmJ4UzRMyDAqXoVNDUgJcRWZfHl10/vfzy8mOyKuCThtm2TxGKZHFRSWswYeNNPiUgk8lciCqzIbw5a1jKFnqpV7yda9WUUgKEggqHFeihdlfJrFhG/gtbS5bPTazsg8AawZFNW2wBFi4sZZjOUF/CVTovZrHAuSdc30R+ACHkP/R76fTjrDIOpZTbEy3BY5Jcj2LoKhSo5iAbDVwhArFZbtBXqwpczqWYCWEc9kRScEMBKFlmjpXrrYSrl2reHh9Xx6WRWVq2Hc2i0M9oFFnX6XatDJBK5KUSBFfktwZfi4VrH+qrDgXKnrjrXKUNXMmiLLOH3VWa9d4LGMp0QXD41gyzgiEmBssHxFC+OcHpSHH+nbTk5m51dTPr94d6du2Z9C0xYW8PGGAyYHOQIzIAYikvwL4wsTkku7WmVVImYjCdRsIdRmyC1nFp1gIMahyRMQ2KynpxyCq1Jk6ZlUNb6uQqL17YFEZIkEdXlZ12Jghmtemj8Qo9Ebg7x7zHym0K7/MhykszqbYtTuqa3AHR2nMBlsg2/fj6ty/Gs9vYx4MAMJd9iWuHgVL99cf7Vk+Lw+eTgS19PZpOyLKtJ3m+ePh9sbVN/kN/azfd2WRW8BuohdcHVPeaPfklkqZC7RKFAWRf2Y0SsKSM36Cdu2OuP8n6eFLOKAWIQyXLQOGBBIAuyonY4WN/cGGxu7fT7Q4QPrLSGbBh4s+oyofDxKz0SuTnEv8bIbw1ZERFh9M2CK07oDJVFxOuqa+cVllKsM1D4pYNZb5I/DIAhJIJpheMTffLi7MuvX33xl8nTR+XJ42Z+VheVqtY2qb97NNzZTrc2N4pP0Bb93CInWLKOhZ0gtt//ovDlZEgKFuu6MIJQImJScgl6OYZ9rI16a+N80HPTiRJaRaXKKqSoVGslD3iD1rIfjbKd3cHerZ3xOGeGB8qq7meOiZVWfxiA9IfMfY5EIr8SUWBFflNcDplZvQpvGrtzbW4MBZcHdCKHrvz3a6xcnc0ELXOdSoumfwuLusWswKtjPXiuz7+rv/vz7MuvLl49o6ZIrRn1evDt9Ol3xTcJb6zZauK4wtYYvRw2QzJMUluH+N5KWO/3aYKFpbP5NXPz4P8U5saEmYNhaIz3vvO+8t53A5qapnHOdJ8wBQE2TK8Jo7lVxQOhoZXJMltV9IYYj+HS2iaFTWdkWsIYlABqjIFR37ZNU4FrZxtrplV5srX5h/W1NO9hOEbdAiZv1SzCYpcfd2Pf+W52s3GwtFftzotIWZZt21pr47ScSOR9EQVW5LfGWxeZH6Al/upy47KEDAtP9hCQq8smEYEqyrI6eDl78sgfPE8mp1uNoJSUdISK4LOyLurSk6+fPZmN+72dbTdew/o2PENg9Lqq/D1zOQBgqTyC4AhDnfM8T5JkPp8DCFMIw2ZE5L0HwMzOhet1OYNIV5pSFaGHNUwIV1Yl0VY9Qaxx2NhK9u707z4YTovy5dGTNPEiWduStq2XOVGVZTQYSFme39rLP//89p17my5BWUG1sY6wbIVdeJEo+Id9drvDDBorDAXK83xjYyOISGPM71Z2RyLvlyiwIpGbDgGJM6hqTCfH333z5H/8P2f/3xfpq5MN0NDlWrasftiQNW5G7alvpvPm5Z+/OfY67Y321zb7u3egLeBi/dU1Vv3cVyM31tp+v5/n+XQ6LYoijCNMkoSZ27at65qIsiwzJsw00mWQlBQKMMEIfGgsALHCKEi8QCVLrfe6tkWfftabVZ9mvZ3++OX/9S+Pz89fSGNaL6o1UFhLw+Foc5uH/d3/6R/u/i//69/86W/hgpUsSWqMSr0o1gqyDvq9c3LCwYbgHC85Pz8/Pz/v9/u7u7tYikuN7qWRyPsgCqxI5KZxXQcxABKIYHp++uLFy2++nj16dNubcd7bdFBjGt/kbcvsUptQo9rq8dlF8eKAnz4fHZ/25zOUpbJtmV0Sy7DeTKexupmDaZqGxBkA733btqszZBZbkuDqxKGrVX9EYCX2Gu7Sem3qRmyyNtrEnftGaKNWf3T2/OS4LaqmmFdVXZDWo3F2Z59v3+qvbSR/+tvbDz9GPoAXeK2hhYCJDZQBJQ0DCb3CX2a530QXqAtDcros52QyyfN8PB5fO5BIJPIziQIrErlRLObbrF4mCODRVmib1PtMpG1a17QpG6ciUntUja/TKiHLiWiifnPYP2fLVStFIUXBxbwC1da4pH8DEqE3lxDCAcDMaZpWVRVCPs65kFNzzoVCpU6vrCiSRZaQwFAGKS1Sh4trhMAk5Cri1mV2tIE7BqUMzmebVW2KuZ9OZ2VZkDajcX5nf3dvb5zn1b0HeZICgEidumDIrwpmWFIBLIhUlUh+cJ4QQV0FTVnXdZZlaZp2MbwosyKR90IUWJHITUSuXVJBU6IsfDWnprHiXSPsWiUPI9qKQFtRo5llsmrUC7Xi27Yuq6as0sbbHiTYaMWl8010dd9BXqRp2uv1JpPJfD4fDofGGO99mAMdxIeIeO+JoXppj9+Fr4gMwQsIi7whiMgwCxpjWFC51G7uYLyF0Ua+sf0302lbzP1sMq3qglR6/WR3e2Njs7++jjRBfwQQjKsZLUEVjYZiLwJAqkz0I5J6xpiQB2yapmkaAP1+P0mSUFuG33HrQyTyfokCKxK5Qby+Ti7XOgFEfWtUjAp5T6KivjaeMzZV4ptGQCB4NkpUNK1nJMyqpCKw1qapcfHv/Qqr5d4haxZkR5Ika2trw+HwyZMnp6ene3t7uqSL8YgIUYhgLR6KyAAgGIUwoFBF6NQjgJiZ2BbthZJXEEjT3iAFkhSDsSsLVxYoy4E0NZM6Zwc90x9gMERdwTBaLZp2AifiS1VNbQ8kUKiGCjAmKJS/Vz0TUdcsWVXVZDJh5vF4nKZpOC5EgRWJvCfiF24kchPhK0EshfcgouFgfWvzfHPD9/Kmml4UBQacGsOJimjrlRQVcwl1/T6P1nrjcdLLOUnhLKwlw7F6uWPVpoGWfp1EVNd1kiTD4TDP8/Pz84uLi3BryAx2/gXGGCL1IgBAsjI54LKxTyEiCgiTYWYidbYHSAsoYCECZoPxCBsjVDXqGqDEBGtZC+egABnPoITgGQbExjo4j0WO79IDS4jIfK+RbFd9papt285mM2bO8zwILBGJ+cFI5H0RBVYkcuOgZWcaARyEFjOsg0s4y9LRKF3f0FLmdZl4lE3plHppzjBF3UxqKVLr05zyvh2OksHI9XNkKawRKKIVJYBl7VSwgFo9D6DX69V1nef5aDSy1k6n07ZtQxlWd/eqqkSk18uIwMGKqnOZIiwdRwlKIipemMVZYnIGWYsaSqKotQAbyymDFEgSpC5EvQBaPAQTsgyKWlEnxhI8wXkwCaCGwEyGYJm+55uciJqmCQVkZVlmWWaMOTs7m8/nbdvu7OwMBoO2bbswXtRYkcjPJwqsSOQmQtcqltnAJej3ko3N/u29+fODumyr8/NpWyXesXGtzbSVqdc5U5v2hrfu0K3b/a3tZG2MLIc1IF0ZYBdZ0BVdrUqKkERL03QwGJyfnz99+vTBgwcAghUnVsxIsbBp6Dw8eWVmd0i3XZbDA6SwwdqTVRQKhWgVnp5hQDBLj1kKwlrB1FJIMiLBcmCm5UQBUgsw1IoHr0yufNthrh5d27ZVVYXD7PV6aZp21qORSOS9EAVWJHKDoJVzS/N5BkRbT6rIMntrZ/3TT/y8PueUXhzYs4kramajNqvg67R2o0F6a5v3b9v794b3Phrt7dPaGM56oBTJzQ9tNPs9EEqpsBLQCkbtoaR9PB7v7+8/ffr08ePH9+/f9943TRNu7aJZqn4RvuoEDNFl+ImImaAENarUeoAMERuA4RXaShtCaM45gicixqLWnom8qpeGVIlD9Et1kRkkJgOwEqsQdQN63tnB0HlMBLFVFEVRFNPpdDwed5X7r2vNSCTyk4kCKxK5YejlKVGYRs3CxrBBnmNrO/+4XKt9C9Pmg/rRi+r0rCkbtL4V9nk/394Z3b1n7+2n9+6N79/H7T2M1+GSRn3VNnmscwfwmnt7R3fRez8YDG7duvXNN9989913f/d3f9fr9Zxzwf4qKLC6ro3tAlQEsKpCiDhEtZgAJgaTCqlqGE9IhgwTsYV4VUMqXpTFEzOTJSiFEc5QAzRNCwMSZmOUAZhFrT0YIFWBWrqy/wiDD18/3q5HkplDPtQYc3FxMRgMus2C3IxzciKR90L8to1EbhIr6moBQcCwKawFCBuKVvstSrLVeP3c5eWr09lkIiJkknQwpNu39O7e6LNP0zt72L+N0RpSC2YS2Dgo5yqrI/nCRWttVwPunBuNRs654+Pjw8PD+/fvO+fatg2Oo6palsVgmL7pgZnIAJ4AEIwxAhZPiyZEIoIhBjODRNUQkYEhJVbwpbk8LWZEAwxDyqxWVQmii/ZEJYWqVzCIQuXWImn5pk7A4C9qjAl+9EVRhBmLYShQF7uKWcJI5H0RBVYkclNZpJwWicIGYpzjXh87hm22PVrHw/Otzz+vp/NyOvPep0nWH43TtTWMBtjexHiA8QDOolVlWOI8zaFXhj3/zqEVwjWdEUOSJES0sbHxySefMPPjx4+Hw+GtW7c6IZKmKSCdjCEiDS0EiwqqReKOwYAlAwK8h2ViArE3MIBaglprVtwiVvYNACU2GJyaIPuIFnEyIgXJpf28kCqpKpnLqq+OsEnnoVpV1dOnT589ezadTvf29m7dujUYDMJdjDEhiBWJRH4+UWBFIjeJruFfr5TUVAqFGuIsTYkdkhSjMdo2Y82go7JGVcEkGK0hyQBAGiQO1ngyomwUZuGVFLnCinBZEArYgxbJsuyPf/xj0zQHBwdHR0dhQGGocyeiLMtEKyKiZRch0L1lTJAuFElYDCY0TIwwH7pdbEsABTNSXTVZEIBB4bkW12v3DMvyPELX/iitqhIU9KY45Wpx1enp6TfffHN0dNTr9W7fvr29ve2cW/Wmfw8vayQSiQIrErmJ0OUpKYjgCApH1vi2tcbDpRg4QGfV1KTOp8nsQh3x2BE7bauGnCVr1VoFDBsmQKGtko0+DVfo3DUDQVc1TROqrNq2DaVXzrmmaaqq6vf7YQPvfZYlizE4YVzkdf3KZtlPKIAhLFKDy05AAJ0cIxDACiyVFq71e6pC5fIOCs/cfU6IDUO7Kq83KKRQvB8CXmVZzmYzY8ytW7eCh3s4onCma6v8GS9qJBIBosCKRG4YvAhPdAvccgFXqIiSsrCy+//bO5flxo0rDDduvIuiLqPbXD3jSeKkUuXcFinHVckieY68Rp4oD5BtNlmksvHGqZQdO+XYE1seyZJGokYULwCBLI54fNRAgwAFkuDM/5WL5kBgo4FudP99+vRpR3mWcuxmva4spWpWc31bhZGKIhVFjltRtmVZTmTfmFduZhldS9lKoe+8DYsJ62ZTP8vzvNFoxPs9P378uNfrvX79+ujoqFKpkGNWEASXl1fVqleteiSwyMlJCFhb3WwlefPp2N8fTyIx0sJkEx5LWWIfZ0t5t7dTsm1XKaVC36cIohzRildKViqVMAxPT09fvXqllFpfX9/f39/e3iaxyI7tE5sZAOCu4F0CoHxYCf+ylGVFVmQpZbnRJOy4shwVqZvI4db3E1Jkx7AsS1mT2SvIqgyw8Ya93avVarvdvnfv3tnZ2fHxca1WazQaruu6rhuGoWU59AvTJjPCFskUtdQgIR2yVNkT+I5IY/X7/W63OxgMGo3GxsbG+vq6UkqL0VBQ3gAAEFgArAI38z62ZSlLhREfvLGXTMINWBM5ZUWTMA8E+s1s8DI6tuhYltVqtR4/fnx1dXV4eGjbdqvV2t3d9TyPpxcnWxN+7ym/dKUizXK0OnI8Hr969er4+Hg4HG5ubh4cHHQ6HTqHxCI2IgSgWLBsG4AVIJogj4RhGEbROArDMAyiMIqiMYcmtS3lWN/PTrEhBb1nKuyoRP/0fT8IAqVUp9PZ3Ny0LOvo6Oi///3v6ekpxZFyXZedx1maLHEhnuu6juPIaAvsU3V1dXV8fHx6ehpF0b179+7du6cmzmRqIijh4Q5AgUBgAbACUC9OISKVffOf5dj0JbQUf954bMn/LBVZk0+QGXJmIoGllNre3t7d3R2Px4eHh99+++319bU8+aZoJj9cdF4nkMDS1JJlWYPB4Ozs7OLiIgzDVqu1ubnped5wOOz1esPhkDQWVhECUCyYIgRgBbgdIel7e8mNp5XlkFu8NVnOzyvaomjyHeoqM/yEXddlP/GNjY1nz56FYXhxcXF5eXlxceG6bqVSiQd6WO4sm6weYRiOx2MShScnJ0qp3d3dnZ2der2uJuarMAzJGofJQQCKBQILgBVgEuA9kmYJ+n9oUZAAZYmgACpUoaUcpUJL2dHNp4LKmoa2GR9viWNZVqVS2dvbU0q9ePHi8vLyyy+/7Ha7T548qVarvAM0/XCJW81IPyrazvn6+no0Gv3nP/8JgmB3d/fRo0dra2uUQ3IjY4uXEkYsiC0A7g4EFgArQBiFHI+b+j/btiPLsixHRSq0lFJqrJRSKpjEf785Et18hpOlhOg5U6Ct+uQREljkz16tVre3t8/Pzw8PD4+Ojo6Pj/f390mjsNuTFpB9wch4oUEQ9Hq9brfb6/W++eabVqv1/Pnz3d1dpVQQBLZtV6uJ+/wAAIoBAguAUnOjl6jPtu3JvKCKLArZ8P05N0yWFcYTsiLl2NBXafBWOfKfcpGg53l7e3thGL58+bLb7b58+XJnZ6darbKsIRzHIf8t27Yp4gPNxNGcI8Wd4qv4vk9frNvwX4fDIekhioPKOfR9n+YxlVKDwaBWq9E+g5Rgv98/Ozs7OTm5vr5+5513njx5sre3FwQBxZhIeQgwXwFQCBBYAKwGZJogE0VkTekGE/+IbnMqmvnKtm0Ox0B/sm17fX09iqJarXZ1dfXixYuTk5P79+8/evSoWq2Ox+MoilzXHY1G5PyklBqPx57nyW2kybykhCBLUTyklcfjMckpUmYcSpS3F6QSp/2bLcvqdrsnJyenp6cXFxfX19e/+tWv9vf3G40GJ8vbAQEA5gQEFgBlQkzw3T5Mrss3KwHZn8rk7IOVYLMhV9KRGYn2ySE9RKYjz/M2Nzfr9fpgMPjkk0+Ojo7Oz8+jKHr27JnjOIPB4Pr6utfr1Wq1er1O+ozT5+ldsm+RbiMBl6iJydZVqVQoS6SrKAW2h11dXY3HYxJP7H316tWrk5OT0WjUbDabzebW1hY5tvOFYKYCYN5AYAGwQljkyc6x3ZecnbcGx3HkrCtN2Lmu+/TpU7ISffrpp1EUvfPOO9VqlWSQ67qe57GViBfr0c/JoMU+9SnBEdi4RXsjkiyr1+u0QpBCLTQajUql4vt+v9+/vr7+7rvvvvvuuyAINjY2dnZ21tbWPM+jPNAUoZygBADMCQgsAMqHwY6llIp4Z8Hv9wk2pwBmRQa1IjcsGciAJvVc1/3FL35xcnLy1VdfHR8ff/LJJ91u9/nz5xsbG61Wi84cDodhGJLSojWJHCme5vI4fc2kREc0fcaCzPf9m8niKKrX6+12WynV7XZfvHhxfHx8dnZGvmKbm5vb29tra2s3+yRaFq8ZJNsY7FgAzA8ILABWg0ipUKko5tGe3EMa+k10p1PRtA4bimiukLfHoXOq1ere3l6n0zk8PPz444//8Y9/vHz58pe//OXu7i5ZnmiLZdJJ5EcVF1jxpYu8Aw9NJg4GA3KZqlQq7MtFkGkqiqKLi4vvvvvu6Ojo8vLSdd2Dg4MnT55sbGyQZxifX4ZoqAC8JUBgAbAykLqK+F9KQTLNA6mxyOFJKcVbypDhh/bDGQ6Hruu2Wq1nz571+/2rq6tvvvlmMBg8ffr03r1729vb1WqVfQZxNsAAACAASURBVNvZr5zMUeSZTpYt1m1KSB8SWLSKUCnleV6lUuFMhmHo+77jOKPR6Ntvvz0+Pg7DcG1tbXt7u9Pp7OzsdDody7IozIRSSv5WLTucBABvAxBYAKwGtK9gpKKJsLLsibyyRYjRm8/oVohRDjQKPTYVFk8cNZQ2eKag5xxDgSxb9Xp9NBoNh0PHcX74wx+2Wq3PP//866+//uc//3n//v0HDx60Wq1qtdpsNhuNhud57EQ/HA5JNpEpi6/Otiv5SR5d5KWulCJfq9evX19fX5Ov/aeffnpxcXFwcLC/v7+7u7u1tcWpcT7lmkFtX0sAwDxYpsCK28al+Zq/k6+AKRG58pkcUWmYKI9zbBuM2EDZidVQllBKKdswJch7On//aSkr9gmmwvN32nG5bQ4dIcsTR8kiAfTs2bNOp/Puu+/++9//HgwG33zzjeM4vu83m8379+9vbGysr6/TzKA7QSkVBAGpn0igJkav8Xjc6XRs2yYZ57oubSz47bffnp2dcezZhw8fHhwcPHjwoFarhWE4GAzCMKxWqxQhQmv6OHoWAGB+lOgdi68fJgeFdFM2BwBkuRZvSrQvAKwcU+uuleETTEWGaZCfppBRFImKTEo0hbe9vb21tbW1tXV6enp2dnZ+ft7r9WiUeHp66vv++vr63t7e9vY2yzjXdclmFhdYo9FobW1NKTUcDi8vL8/Ozl6/fk1/rdfrGxsbp6enjuM8evTo4cOHzWaTxpYUa5TDmWLBIABLYckCK9HjUi6W0U6LwwKLDPjUvrCvg9y/Yn53AQB4w4jExkRKCCwe9dE/qf2pVqt0JjlF2ba9sbFRr9d3d3cpjEKv1zs6Ovrss8+ur6/7/b5lWVtbW3t7e3t7e48ePbp3715cA3HD1ev1Pvroo48//rjX641Go2q1+vDhw2fPnu3t7dVqtdPT0yiKHjx40Gw2Obc87UhTmVFqIFMAwJwoy1sn/Tp93/d9n4Z0SjiZmn5Iisr3fQoGqG7LNUgrAMAMxId/mrqyLGs0GlG8KzXxOh8MBlEUtVqtRqNBwT/JC2pra6vRaHz11VevXr3q9XpXV1cXFxeWZV1dXZEjfKL3FYWtury8pIm/SqXSarXa7faDBw+2t7crlcrm5iZnmMO727bdbDbJK5/mGSGwAFg8pbBgRWKrryAIRqMRbTShnWZKIZpsJSE1WXzCEQAA0pFaKj3+J4dpkL+qVCp0hKNMUVxQz/MODg42Nzc/+OCDMAyvrq7Oz8/Pz89PTk6++OKLo6MjDt+gbmusbrf7gx/84MMPP/ztb3/r+75t251ORynl+z5rJvYx9TxPNpvs11XsIwIAZKQUwxrpc0CxhoMgYLWkpgksOpPcPxPPT28oAQBAwzQ804xYEmloH41G5F3uuu5wOCSnBcdxhsNhtVptt9s0bbe9vf3ee+/xZs+E5i8RBMHu7m6j0SBbl5rEhqCmjyYceZNB6SxPWYI/OwDLYpkvnrTAc5vCXursg5W+opjFU71e56XIic3iHO4AAPAGkt5caGFI5cIa9tzijf+CICCBRWEaWEu1Wi0KTOW6rowRLyH/h8FgQO7t9XqdBBZJK3L2ktGtRqMR/ZPazBQtCABYAEsTWNqbz/+k1opRGQQWfalWq7VaDfvDAwBm5i5yhE3p9M/RaOQ4DsV/jyZbNdO+0ePxuFqtkgijzXOkwV4JI9bV1VW73SZnr2azSZ6mZK/iddPsXM/qStrSKKgpjFgALJ6lvXVxd1EO36f5IsS/yyPclPi+f319Te0UOUDEQzxgPAcAKBApZbS1ONK2RM2O67rkkkUBtJRS4/FYTuHF/dwbjcZ4PK5UKpVKhWYVyaFe3V4iLWMxaE0cwjQAsCxKN6yRG6BKm5bpfHLqJBs77TZPx017e0FgAQDmDU0dJv6Jl+NQo8ThRlWS/UyOEtF2AbBalE5gEXLr+IzDr9Fo1O/3afcJbesJatEwkgMALAwezmmh+NhaLz2leIpQekTQcZpzTGy7EEUZgDJTOoFFTqDUmnCgv6k+WLTd/XA4lO0U/YmC0JBfAgQWAGABJFrQSVeRVzsdZ48I0yeh+TkoSCsAVoHSCSxySqAVznQkPcKCjH3FQWiUMNHzMBHqCgCwYMIJpK5MrRA1d4kyK77GEEH+AFgJSiewKFoMNUPpTRJBPli0XLlSqZAHKHlisaMDeXFBYAEAFgnN8ZEFnVozx3Foo0D+q+u6KU2TXJnIjhPqtgc9AKCclE5gUcMxHA4HgwEvBtQC8Ul4DEf7rQ4GAzWxz7PtCuoKALB45MygbIWi2ygxGox/khepEu5ZMFwBsBKUTmAppSg8cb/fV5M2JUVg0e4Q4/GYdp94/fr1/v6+dOFSWKgMAFgGMqofN0G0bJB822n3QBnzT/uk+UEoKgBWkeVHcicjk+u6YRhSJOJOpzMajS4vL5VSjuPQGkBTE8P+DUqpwWBAqwhJk5EjF52gDMtwAABgftC0oHaEv3BQK/knyCkA3gyWrznirYkc0iWeoKEZ2+VBhb1OAQAAALBwli+wlBi38RcZlTjjeE56J0RJzCv3AAAAAAC3KYsPllRRJLBmsJPHN8aBugIAAADA4imFBYuxJhsUssDKbsGyxIZckdhfAhoLAAAAAAumFBYsllAyKGhGgcXKyZlA/2SxZU22RAUAAAAAWAylEFiEXFQopwgzWrBs2+Y9KDi46PxyCwAAAABgoixThJoPVl51xfODfL50ky80pwAAAAAAUyiLBUuGPB4Oh0EQUESrSqVCX0xQoCyye3meRyGveB9DpRRFyeKtvvLqrbzTi7PpuXkEaC52YrTkOpVvdk75nJp+xqctZ8PTT4inX/IieDOQ5ZIlQMxiCkV6kaYMPlPyo4USLDzb2qU5w3mjD/LesnNCBtOXX8qWz2URfw55+6YybDbAvkb8XYtFpxaVz7IILIaeS71ebzab3W53NBpFUeS6Lm0WEYcruud5jUajVqupyY7RtM0OTxrO5ow1b0EW/21REg398SLJ+7TLVjqyA54qImkKPv0cU/oLjktu6ghNN5uoWhKPmw7yrzQxLWO15yXLQ5OdSq6spqepyab0W+YLzVzKCwsHLT1SVP5yeXvCVmd8Pnknne6IDHIZr2zyn3Ld2wIyplE6gUUNcbPZXF9fPz4+Hg6HruvWarVer5d4fqVSCcPQcZx2u721tdXpdJRStm37vh+GoW3btNcEWbls26Z9oLOT98WLK+VcV5HBwLL8hH9IHYk1gVMotiHIbijKa6G5C/NYxKBZMoq637tY2ubdRsjOxqQn2DIxdcCTeNxKorAbyEn6pelOaRsJbQQs368UQUkeC/zE6GZNz8eUDrVajuNo+xjGs6qN1LWxFu02Fh+ASWN/PD+aNIwmuyLG0SxDyy3ZFLTnz5nMa5GarZ1fFeLNlKncHceJxGaaGTuvu0P9uFbNqKPn/alkltSSNFbpBBY9FzJH2bZNDVyKShiNRrQZDu1RPxwOW60WqSvf9/lZB0EQRVGlUpm3KfguRZi9dsrmT7a28Wa6KFN2XChM7Z8SjxfekGm3X+z9pgsOSbqlhEuKv5jqoanDmzdafhKFIPed8T6eSbegaA1iijIuqinM+75zWVvC4E31KlfnwS0PH5lNUHKF4QzELVXSeJCukrPb0mRS2s9TshofKOYd/MxjsBRPXytiK//kRt6B+qqglZo2XDedT12wrACFC1CZDVPFpteEX3nOUmJmFiO2SiewSFTRQ+GnaZLP6rYJZzgcDgaDKIo8zwuCgDd75pTfwqWFKY8uF1obVIbHmK4si7pEdo2VCAsvqa6UOcOm8qKWbgGDMMonZVv2Rup261aUEEwZGReSvoksFYaaC2nBmvnhc8HdxaIc3Q7vlys/nuflzXz8fCu2r6KWtyw1PJ15C6zEyqzyl+yb6oOlwWo+pdwTq2Kx5SiHZ/weaWPgRMsuW6DZnLzgnqt0AotbNDZHO46TMlwgL3jXdakF4SfoeR75YHF/IM2G82O29OMjhrwNsTSEagnOkB9TDuMDvrzpFzVlaVJXhacf3fbSMN1vuk9SFHP1MKVjEhyu6yZaFEzp5LUwKdFIycGoNuKfWj/Tr8tpzrsfZdKn5OItsjKYmmbogPmW5Yb0pnRMHZg1sRdyV0cpUD2RqUXCWVuW12z5TySl1OJ3xxnOdYl5+zaZRolly+eykO+7fFtNXTBVbDZe8GMsqp+NhEVZKy95hItVlgsPSmnecPHqSpVQYBGkhKgRcV03RWANh0OaDQyCgNYejkYj2qOe3dtJwEZR5Pt+XotO3opy954jsX2Pn6N9mrr/oiwBmqCZOhow/anwKq498Hmkn6VMs5RXxssVfmau1KzJTqCJSn1qAzrVqVzL9nI7Kk31qtsjctmym552ii8aayMaRqfnxPSeJoabiWeYYYElmxEu07ikSK+Z8h2n9EejkelkdniVBxffpaUja/Vd3qA31QdLinjqhWm4RT58caxJ0Eptdqiocteqnzbq0+xY6nZ7QrWRb2EpVbF0AiuaBBrlIxSIwXS+67qj0ch13Wq1WqvVyMuKRo1yFsOyrPF4PBqN8r4Yec+fYUpOG1TFG/1EtOoS7wityex43vykXy6Lukohb35ydcBR0T5YMuVikzUlaJp6k1ON82gpsnS32dOZ7a/zYGr9SdSR8e8mTOfwlAQpLev29FkcU7sRTSZoNJd5smgS0gPGlL72HLLcmjSbRRO7pun9CoKAQj27rssCfYb3sdhhQxz5Hi3gcitHJGJ0c9WiVfmJ59PzjHs+FTVwot6ccyLdqugSbDmLN4z04ixX4pdOYKlJW8ANCr26ppNJAPm+//Dhw/v37wdB4LquVFdcVxzHaTQaWTIgiyRvA1GpVHKdH79iFrQhrFKKjHaJ/UQhmFqiqRYLjaIWGchhVq4EM2Ky3JgwnWCyLE697tSrpAvxuz8WaRHJTjktFnE4n3esRStnyUgRlNppmh2d7pTamfT041bA7Mzbomkqr7wD45Ur9xmwLIsU89Qz45WqwHK0Yh4pVK9IY5GFmL5T769EnCY1kWhxC66a22BVUjqBZQmfA3nQdD4ZpaIouri4ODw8pEgNvV4vCALampD2z+HeyNRAmEaueYc4M794GU3rnB8tY7KBkBMEBTq5Jx7Pe79FVWgpvOZhms5oCWC63e7UNLPkLWUZPJepEurKlM8Zjlu3fSnSc5v3vZBCM+6xcXdMSZm6h5TFBInH5ZqbLO2D7/vy/KnjgbwDGJlhmSW+L+1Cd9nZQpZdRst62XT2VN4GwTQ/4oVerMmfWgxNEnCUADUxoVH0gEqlQqXJIQg4lsTiKZ3AIuQCwHSZOR6PK5XKaDT67LPP/vrXv3799dcPHjw4Pz8fDoesrijB8YTEdGYwoWdJJwuJ+sCUjmxw43Ysbm25Dyt8bktjqu9IxnRMpAjExOdWrMDSGo6UxNfW1tIzaerwTOdrZNQ9zAxTUfYEEhPSEys76VOcsnLSHZnyM5sl2HTd7PlMLxfpbpL+pvOqGiu2i1cupDO7rEvsNa9VDFO9lbM88q8pgk9TVFw3Es/XnOv5c2ED1IyY7jdv6bypqwhTpoATj5sWVRTV78Sd1glyHKI6GQRBtVpVSr169crzvHq93mq1rMn8INdDKzaNuIBhQBkFFk/8W0nWrMTzlVJffvnl5eXlxx9/3G63u93ucDjkppC84MnDPeMLtvgRWMYOWHsUsvlTSQKrqOzlnYpKWRWV67pZLA3zeGe0jiregmjs7OxMzaf8p6l8UzoYmQ3OZN4OI/15xg1LedNP6YC1KpTeARclsEzpmDoM032xKxW3Kvw95epWzAU4b6BRmStZAeKR8emTw0loWoct94nnx+H74plimoUxCdO4pKMveS3oU6cg70hKuIFc6bypAstEumEiXu7FtsPqdtemJtOXtVqt2WySgWp7e/vJkyftdpsCNpE3tnQHLDBX2SmjwOKo647jkF9bysnccIdheHZ2dn5+XqlUSE4tKr8lharjqjcEpldikSZfqTlMHcznn3+eeDzxxZ7hPecOXks8r8U0u49XepOUIkQSj0unbDlkKsrSacLUDpiE19TrakrChMlilGJBTDyeaCGwYpbpRCcV+c9er6cdYUmdcpsqJrCmWkY1d5yiLKBFUVR7OG9fsWVhqtim+9Xs3DOXuwnNFYSp1+tktdra2qrVai9fvvz5z3/+pz/9qdFo0M4ultibWBvLLVJmlU5gsaKiCT6aVU15K0hD8BxtEATj8ZhmBrUpW8I0ck0cXs/AbBUrbjPIYjGKn6NNGi5r4rlAynALcgBk6rDLkM8yk7K8fyn0+/1lZ2F2pPrJ/pNEM0OK7xc3RNI/b6pAxIuw0sw24GFVPScRE++doyiq1WqDweCLL77wPM/3/bOzs06n8/Tp0/v37//kJz95/vw5KTDSW7y1ToG5ykLpBBbHjOEVvzJMXxzy1qLdoGUxs0E+u3KKqxyVv724y8gmS/HLjMnvHPRL+1NRVSqvxSKv5cNElvTn8dqYWoqUQKBZkp1ar9LvRft5yhRh3vTjU07pFqx0i8vUn/BV8tafLIlLTOnf3fJHR/JO5RdVXqYfZkk/fZDGx+NllGIxNXnsFbVquCgW4Bu60uRt5/lXWltUlIVPtkWRCDoahuHa2pplWTRSajQavV7vz3/+8/7+/k9/+tPBYNDpdJrNpi1CTlh3iI89M6UTWGyvYofKqQ5YNLoiicoBr+kF0Io5So3LokmWdEvSvElp+BK/SxO9rO4FRtRNPD7vmmpKP+8qsJnJ2IFlnJK+i2VU++3dbaXpl0s/IcsiDO26S3mVTPm8uwtB9vbhLnXSdBVN/iYKd/k975IFqaXkkNV0L3JmQJ65Knv25a2ci7eFlBytehRb7lIY8YVOTk6UUvV6vd/v+77veZ7ruoPB4OTk5Kuvvnrx4kW73W6328tdH7pMgcVCikKA2rZdrVbpCdL8oBXbEDsO/YkXRVO/q0WTi5+fhfQR/Dwo5CWf2fY2w7UWwLKEXd4LLV5ozvWKeQ0nWX64lCo07/oz75vKmP/E07JYqkxYt7f0nsHyulpzhRBMd0TzvSuWeE3mIxQugNaxXVxcdLvd8Xi8vr5+7969Vqv17NmzdrttTYJmqcmkFlsf5u1Lt2RPPR6f8Vye67qVSqVardL8IOmtN9WjEAAAAAB3gYXdeDw+Pz8/PDz83//+d3R0dHl5ORgM2P6ibjsjLoAlbwTGQpJdr8iOVa/Xa7UaGbHUqg2GAAAAADAnpE7S7KzX19cvX778+uuvT09P+/2+5jj4tggsqZl4jyE67nleq9VqNptyY8Fl5RMAAAAAZUNb6mRZVqVSiaKo1+tdXl6SuuJg4+k/nxOlm3qj5Zftdnt9fb3ZbHqeh9lxAAAAABDSasVeWSykKFqTjCFAs2TZQwoUxdIElrakk5dT2rZNAqvdbjcajVqtxlsLAQAAAOAtJx53Te45aNs27ZlTr9ftyYbQKRvlzY9lWrB4lQqHCabjlUqFdBWFwiKf9yXmEwAAAAAlITHCJQUfUErZtl2v1zudTqfT8TyPBFYQBKadfOfHkuNgcTg7uXGetlFxsXvqAQAAAOBNwpqgJtHbG41Go9FQwslbxmhYDMsUWGyy4ghYSikSmzs7Ox988EEYhn//+9//9a9/nZycVCqVer0+Ho/7/T49R9awjuPQ3kNqImzJU14JI5mM6ZILLcIef86sf7UfSiUe15qmFPg25Q9zZSNv5Ato3NngWi2roiou0rEpNnHe8qKxXTxMZbF7HWZn1etbelggGctn6ssro9hYSVvWRIKinlveiOeR2E6HmkfKs4xWKr8U1f6YnnBKIFzubmUAoMSYYSnPc2qERU6cyoVmr2S7nV5SvA8vG12ontwlsqOEtkjhDpT60xniQtEeKmQcsgybmlu3SUwnvRwpbxxqgNKpVqv0lOQt9Pv9nZ2dn/3sZ7/+9a8fP35MW47SydrVF9PClC6SOy0EODg4WF9f393d3drasm37o48+okdJNT4IAu63NPcsfogcSVYKkZlbfxlFg77kdQvTZn9TWt6UfYH4HO3nMyy0zLup6pu6NURRmDYPzh6YkcgbAVlLx6S3phKP9D3XyIFTWfXILHKT5jjy2cY7JAm1M/Qpx3jxBCm1eb+npjviHPIokVoYmZ8s3ZvpOeQVUqb0edNxmbLW5GYRGabnLBVb/H7JH0gO2k39CM/tWJNtOdiskHh3eZ8nSz2SRPyZcsuJkOc43QjfMgtrvmu+RN6tq/gdkfqSLuc4Du1w2mw2wzC8vr4Ow7BWq/34xz/+wx/+8Jvf/GZ7e7vf73uex75ZM1gi7kjpBBZpVcdxms3me++9R/Vgf3//b3/72/n5eRiGrusGQUDSilcKaAHclVkA5W24ucZw9uhL3q02qLmJd2BKtJu5zGwyYzP0RtfX17nOxzqDdIbD4dRzsrzbMz9nrSbMbCHT6lLe9ggWLCK+ubWUR/E33TTgoXSkVZt+qHW0C9OjKeUi88A9oiawphZrXgvHzPWTM6MtLuPjWss/Q/oye1SO2eccOD6RtHhZ5pmTjHtiMqQ5qOtk6/UMFlB+SrJia4LVEkwVpvH88wiEc0gWXNd16alWq9V+vx+G4d7e3rvvvvv+++8/f/58f3+/3W5TuHKZ1QVTOoHFJkHyfH/69Gm73f7www+73e7h4SGV3Pn5eRAEnuf1ej0+PwgC6cWmmWFnbomooqvbHVjccjaVuBLiI/JVlNXIlA6PEeOJ5M3P/M5/25g6Aks8HievBUJWbJlmXoum6QVZ1iYKq17fWDBpLz7vr6r1xKbyMgkvadNioijKa5k2kff5s0yJBHEZEU3b4zWvkMpr8ZLwTiFa+qbv6ciC5tGyZnnSzk+x6MiHGU8/Tt7nYBrM5y13nvq8YzrZ2z0eYLB5zPf9IAg2Nzd/97vfvf/++zTx5TiOjPG0rAHbcnZg1TC9jTxZHkXRX/7yl8PDQyqGk5OTwWCglLq8vKQCpmlgFlhWbN/sOz5ore1Qd9slXpNZmgUr3RGPJbwc0MwgsPJ2wGWoJ2XGNLWXqM5T0slbLnIAkCV9EyaBhXKfDZ4Mki+1ijVE1rR5GV5krqUQxXZfLrakZuiwtXaJ4NmZjPWz3+8nHs9r2TI9VfIZoudpCZ+hvO+R9J1NPJO6JO7XxuMxiy0lSj/lvmT6KSO09HyaZlpo9xi5GV26hSkFulPth9IAIW82bznKx8U9LzmQeZ4XhmG9Xrcs6+Tk5Ec/+tEf//jHJ0+ebG5u7u3tra+vUwq8Q0ze+yqE0gksqv1RFJEFi45Q+XW7XTr59evXvu9HUdTr9fjRa66LWnR8FVNaeXOobr97M3SEWmpa3uJDlhTkizpbt5rX1wdThOnEp4SIuDRPLymTL5cJOZbILuMS09HyPBtFjRTL0C7dBepcWVrxQJHvS+vYarWaKR1y72UTkeyw5Zl3kddxTOmkCC/yu+KAO9yq8/csLt69Xq+Q/NMipziO4/i+TzaPSIzqZT4lUwWB9tijiX1lNBqNRiOSHbKgNZFhSt/0nKXUyFLiKe08JyWr1gz1JwgC3/dlIkpMYduCFIGVsihBFo2a2B2r1Sr1+K1Wy3GcV69eHRwc/P73v9/a2qpWqxzXSRZiUU1TLkonsJRS9AI4jjM1/BU9Yq0AqFBJucefad6nHK/Q9MX0ApuQTvfyuDYFmReuOnkF3x2d9IHGVJ8/rZTzjuRMFPv+ytToe956AoFFSJEhv5hWV6WkEwkDGP9Qe99l91NI/vM+fzYIaf2oJgX4iymfeX1bTZimSklPkCCgI4lDXP5uKhpylle3b0opRcI3iiLf90ejET0WbQWA7FPShZSp/9IumlJYpudMxosoikgesdycYXWnXN/HUH/H96uFXoqTUl78RS4hpP6XfLI9z/N9v1qt7uzsVKtVeviUJt+O/G2uG7wjpRNYVPXJB4v8/9XExYoG98PhkOKJ0U+0QZLUWMu9qVxorWfh56enkIWlyP83AK1DTfxeZpZVT8rQLs2DeB8ju9s43KBpkiVuviKKavdmLkfZCGvp3L3VKop5dLfxciGRwcubEq9lKveMGZsqWE3QSnyegGZ1NcP7rpU4KSG+ay1BU/pTDRZyhsqyrPF4TPaX0WjEeisIAjl5FU1Wv1m3V2Iusu4tTWCNx2OWtL7vs9LntYG80FdNNhKKPxf5BPl9Xszjy3uV9AZ0fumbWJUOftWJhIFadjna3EF0288mO7zsPBKT4ykjxXljTWIgydYwpbKZ8rnqU9IZLTdTWy1L+DOltBVM2cqd67m6/QoU1R7Ou/3MGwZiWQOMvM+nKKin1q5OvXnhXUzi0ELdntjlRSTqtryLknyHTKq3QEqxipAKg8uJlJY07pENUyWNh+Ry5QWL00KAwHrjsYQjAusGbVxLbQFZanMlzlMq1iT40HLfAvIZii8vzzuFXa/X55PBBcFFoDXiJDjiNh7TCD66zbyzPTNTy10bYJgwTRXlrdKm98gk3MvWHs67/S+K+KpYzo+sBlPTmRofKxLLv7S6JC8hy107ziNPPriAQl+awJLPSK5loNUN/CDG4zF5C3Kod+6QlBgRao9bzb/CrcoLAJaLbBHio2H5qlsiPGOu9OkLC7jlTo5r68j4Nc8bp2fVkSUbCWcGbRZmavcj/5pyJtexZT1PU7mnf8bJe9xEUUJtWcKLY1Op2+/IvJ/bDNAKDLlowBbxVPkI77aSiKne8oAkvB3JneOaaj5/8dWa/Cdp6S/2CaRQCgsWlUe8CZYq2LTKBoBVhBsUbgjYrfAuCS5ycJYIXVca6peVkzIQl0czPI2pIsx0xUViKvcs4uDu150fRc0wzHxp7gSj1EUMeacyiyIuAbW/ssxKnEzMmL663WBasaXTDBtcJEoMABb8gixtxJO9L6FCWi2nLDNbTAAAAs5JREFUdQBMcH0uXH9IQ30Z3pcFDxZXAtkhzSy5So4s93j/Ehde8b8WkodC0l+iwIpno8z9oDZiVLeXnU2VVlmes1yaYGo8tR0OZGbiJy+ggSrFKsIsxB/oquQ8HVMB5727ohoOUCymGpv4ts/wwq9K9zzv+rwqaCP+jENqU82Zt31ofqyKwCoPK2oPXmS2c7Wfi8lYuQSWzEzeNkhLZ+UqIngjMY2oCO3tK/MIFSwFORUSt3ixXFv61PC8ecMsUlOJ5zNdECwr/9oiMz6ePoWXnej2MiBOQWtX+UJZ0l/ksGTJAkubrY93MFlkZmJdREcFyoy2d2lRrleJRxbJio6zCyc+YxL/U+JfV5SUci+kfV4VYfTWolWAedg4NLWQmH7KFKG6/VYupuaUy4IFAAAAAPAGADMPAAAAAEDBQGABAAAAABQMBBYAAAAAQMFAYAEAAAAAFAwEFgAAAABAwUBgAQAAAAAUDAQWAAAAAEDBQGABAAAAABQMBBYAAAAAQMFAYAEAAAAAFAwEFgAAAABAwUBgAQAAAAAUDAQWAAAAAEDBQGABAAAAABQMBBYAAAAAQMFAYAEAAAAAFAwEFgAAAABAwUBgAQAAAAAUDAQWAAAAAEDBQGABAAAAABQMBBYAAAAAQMFAYAEAAAAAFAwEFgAAAABAwUBgAQAAAAAUDAQWAAAAAEDBQGABAAAAABQMBBYAAAAAQMFAYAEAAAAAFAwEFgAAAABAwUBgAQAAAAAUDAQWAAAAAEDBQGABAAAAABQMBBYAAAAAQMFAYAEAAAAAFAwEFgAAAABAwUBgAQAAAAAUDAQWAAAAAEDBQGABAAAAABQMBBYAAAAAQMFAYAEAAAAAFAwEFgAAAABAwUBgAQAAAAAUDAQWAAAAAEDBQGABAAAAABQMBBYAAAAAQMFAYAEAAAAAFAwEFgAAAABAwUBgAQAAAAAUzP8BSSl+PVrEjl4AAAAASUVORK5CYII=)"
      ],
      "metadata": {
        "id": "0ZfHlNq9Wz2d"
      }
    },
    {
      "cell_type": "code",
      "source": [
        "'''\n",
        "spain2= spain.copy()\n",
        "spain2['equipoContrario'] = np.where(spain2['away_team'] == 'Spain', spain2['home_team'], spain2['away_team'])\n",
        "spain2['winSpain'] = np.where(((spain2['home_team'] == 'Spain') & (spain2['home_score'] >spain2['away_score'])) |\n",
        "                              ((spain2['away_team'] == 'Spain') & (spain2['home_score'] <spain2['away_score']))    ,1, 0)\n",
        "#spain2\n",
        "'''"
      ],
      "metadata": {
        "id": "LSH5RDf-BfZx",
        "outputId": "ab90d7e9-fd4a-4f0f-8037-ee8075f896a4",
        "colab": {
          "base_uri": "https://localhost:8080/",
          "height": 53
        }
      },
      "execution_count": 224,
      "outputs": [
        {
          "output_type": "execute_result",
          "data": {
            "text/plain": [
              "\"\\nspain2= spain.copy()\\nspain2['equipoContrario'] = np.where(spain2['away_team'] == 'Spain', spain2['home_team'], spain2['away_team'])\\nspain2['winSpain'] = np.where(((spain2['home_team'] == 'Spain') & (spain2['home_score'] >spain2['away_score'])) |\\n                              ((spain2['away_team'] == 'Spain') & (spain2['home_score'] <spain2['away_score']))    ,1, 0)\\n#spain2\\n\""
            ],
            "application/vnd.google.colaboratory.intrinsic+json": {
              "type": "string"
            }
          },
          "metadata": {},
          "execution_count": 224
        }
      ]
    },
    {
      "cell_type": "code",
      "source": [
        "'''\n",
        "# Verifico como actua con los partidos que en teoria ha perdido Spain para comprobar que la fórmula esta ok.\n",
        "# Verifico manualmente ....  y está bien.\n",
        "\n",
        "pierde = spain2.loc[:,'winSpain'] ==0\n",
        "pierde2 = spain2.loc[pierde]\n",
        "pierde2.head()\n",
        "'''"
      ],
      "metadata": {
        "colab": {
          "base_uri": "https://localhost:8080/",
          "height": 36
        },
        "id": "ZpJPGj0aE9Fo",
        "outputId": "4ec85524-4f62-41de-9b0a-6b5f0c0a0f7d"
      },
      "execution_count": 225,
      "outputs": [
        {
          "output_type": "execute_result",
          "data": {
            "text/plain": [
              "\"\\n# Verifico como actua con los partidos que en teoria ha perdido Spain para comprobar que la fórmula esta ok.\\n# Verifico manualmente ....  y está bien.\\n\\npierde = spain2.loc[:,'winSpain'] ==0\\npierde2 = spain2.loc[pierde]\\npierde2.head()\\n\""
            ],
            "application/vnd.google.colaboratory.intrinsic+json": {
              "type": "string"
            }
          },
          "metadata": {},
          "execution_count": 225
        }
      ]
    },
    {
      "cell_type": "code",
      "source": [
        "'''\n",
        "partidosGanados= spain2.groupby(['equipoContrario']).sum()\n",
        "partidosJugados = spain2.groupby(['equipoContrario']).count()\n",
        "partidosGanados.drop(['home_score', 'away_score', 'year', 'neutral'], axis = 'columns', inplace = True)\n",
        "#partidosGanados\n",
        "'''"
      ],
      "metadata": {
        "id": "LwnoS6HPQA7u",
        "outputId": "2e80de5a-6d5a-41b9-ba62-e0350bdb4a68",
        "colab": {
          "base_uri": "https://localhost:8080/",
          "height": 36
        }
      },
      "execution_count": 226,
      "outputs": [
        {
          "output_type": "execute_result",
          "data": {
            "text/plain": [
              "\"\\npartidosGanados= spain2.groupby(['equipoContrario']).sum()\\npartidosJugados = spain2.groupby(['equipoContrario']).count()\\npartidosGanados.drop(['home_score', 'away_score', 'year', 'neutral'], axis = 'columns', inplace = True)\\n#partidosGanados\\n\""
            ],
            "application/vnd.google.colaboratory.intrinsic+json": {
              "type": "string"
            }
          },
          "metadata": {},
          "execution_count": 226
        }
      ]
    },
    {
      "cell_type": "code",
      "source": [
        "#partidosJugados"
      ],
      "metadata": {
        "id": "4SubLsOa0YaB"
      },
      "execution_count": 227,
      "outputs": []
    },
    {
      "cell_type": "code",
      "source": [
        "'''\n",
        "resumen = pd.concat([partidosGanados, partidosJugados], axis = 1,)\n",
        "resumen = resumen.sort_values('jugados')[-10:]\n",
        "resumen['proporcion'] = (resumen['winSpain']/resumen['jugados'])\n",
        "resumen = resumen.sort_values('proporcion')\n",
        "resumen['proporcion'] = resumen['proporcion'].apply(lambda x: format(x, '.2%'))\n",
        "resumen\n",
        "'''"
      ],
      "metadata": {
        "colab": {
          "base_uri": "https://localhost:8080/",
          "height": 53
        },
        "id": "Zkl4yhQNIQPs",
        "outputId": "7a9b9561-abf6-4429-f220-19e69b405772"
      },
      "execution_count": 228,
      "outputs": [
        {
          "output_type": "execute_result",
          "data": {
            "text/plain": [
              "\"\\nresumen = pd.concat([partidosGanados, partidosJugados], axis = 1,)\\nresumen = resumen.sort_values('jugados')[-10:]\\nresumen['proporcion'] = (resumen['winSpain']/resumen['jugados'])\\nresumen = resumen.sort_values('proporcion')\\nresumen['proporcion'] = resumen['proporcion'].apply(lambda x: format(x, '.2%'))\\nresumen\\n\""
            ],
            "application/vnd.google.colaboratory.intrinsic+json": {
              "type": "string"
            }
          },
          "metadata": {},
          "execution_count": 228
        }
      ]
    },
    {
      "cell_type": "markdown",
      "source": [
        "# SMOTEN\n",
        "https://imbalanced-learn.org/stable/over_sampling.html"
      ],
      "metadata": {
        "id": "0w7o4a81Fxaj"
      }
    },
    {
      "cell_type": "code",
      "source": [
        "# Saco las variables de X\n",
        "resumen = df1.reset_index(drop= False)\n",
        "X= resumen.iloc[:,[2,4, 5]]\n",
        "X"
      ],
      "metadata": {
        "id": "SQMK7J1gDxBM",
        "outputId": "45115988-8f96-4f1f-b7b4-76abeb8d1273",
        "colab": {
          "base_uri": "https://localhost:8080/",
          "height": 424
        }
      },
      "execution_count": 229,
      "outputs": [
        {
          "output_type": "execute_result",
          "data": {
            "text/plain": [
              "          home_team  home_score  away_score\n",
              "0          Scotland           0           0\n",
              "1           England           4           2\n",
              "2          Scotland           2           1\n",
              "3           England           2           2\n",
              "4          Scotland           3           0\n",
              "...             ...         ...         ...\n",
              "41238       Lesotho           0           0\n",
              "41239        Guinea           1           0\n",
              "41240          Mali           2           0\n",
              "41241  Burkina Faso           0           0\n",
              "41242   Ivory Coast           1           0\n",
              "\n",
              "[41243 rows x 3 columns]"
            ],
            "text/html": [
              "\n",
              "  <div id=\"df-098f614d-3d18-4ed3-8269-da0be482cd0b\">\n",
              "    <div class=\"colab-df-container\">\n",
              "      <div>\n",
              "<style scoped>\n",
              "    .dataframe tbody tr th:only-of-type {\n",
              "        vertical-align: middle;\n",
              "    }\n",
              "\n",
              "    .dataframe tbody tr th {\n",
              "        vertical-align: top;\n",
              "    }\n",
              "\n",
              "    .dataframe thead th {\n",
              "        text-align: right;\n",
              "    }\n",
              "</style>\n",
              "<table border=\"1\" class=\"dataframe\">\n",
              "  <thead>\n",
              "    <tr style=\"text-align: right;\">\n",
              "      <th></th>\n",
              "      <th>home_team</th>\n",
              "      <th>home_score</th>\n",
              "      <th>away_score</th>\n",
              "    </tr>\n",
              "  </thead>\n",
              "  <tbody>\n",
              "    <tr>\n",
              "      <th>0</th>\n",
              "      <td>Scotland</td>\n",
              "      <td>0</td>\n",
              "      <td>0</td>\n",
              "    </tr>\n",
              "    <tr>\n",
              "      <th>1</th>\n",
              "      <td>England</td>\n",
              "      <td>4</td>\n",
              "      <td>2</td>\n",
              "    </tr>\n",
              "    <tr>\n",
              "      <th>2</th>\n",
              "      <td>Scotland</td>\n",
              "      <td>2</td>\n",
              "      <td>1</td>\n",
              "    </tr>\n",
              "    <tr>\n",
              "      <th>3</th>\n",
              "      <td>England</td>\n",
              "      <td>2</td>\n",
              "      <td>2</td>\n",
              "    </tr>\n",
              "    <tr>\n",
              "      <th>4</th>\n",
              "      <td>Scotland</td>\n",
              "      <td>3</td>\n",
              "      <td>0</td>\n",
              "    </tr>\n",
              "    <tr>\n",
              "      <th>...</th>\n",
              "      <td>...</td>\n",
              "      <td>...</td>\n",
              "      <td>...</td>\n",
              "    </tr>\n",
              "    <tr>\n",
              "      <th>41238</th>\n",
              "      <td>Lesotho</td>\n",
              "      <td>0</td>\n",
              "      <td>0</td>\n",
              "    </tr>\n",
              "    <tr>\n",
              "      <th>41239</th>\n",
              "      <td>Guinea</td>\n",
              "      <td>1</td>\n",
              "      <td>0</td>\n",
              "    </tr>\n",
              "    <tr>\n",
              "      <th>41240</th>\n",
              "      <td>Mali</td>\n",
              "      <td>2</td>\n",
              "      <td>0</td>\n",
              "    </tr>\n",
              "    <tr>\n",
              "      <th>41241</th>\n",
              "      <td>Burkina Faso</td>\n",
              "      <td>0</td>\n",
              "      <td>0</td>\n",
              "    </tr>\n",
              "    <tr>\n",
              "      <th>41242</th>\n",
              "      <td>Ivory Coast</td>\n",
              "      <td>1</td>\n",
              "      <td>0</td>\n",
              "    </tr>\n",
              "  </tbody>\n",
              "</table>\n",
              "<p>41243 rows × 3 columns</p>\n",
              "</div>\n",
              "      <button class=\"colab-df-convert\" onclick=\"convertToInteractive('df-098f614d-3d18-4ed3-8269-da0be482cd0b')\"\n",
              "              title=\"Convert this dataframe to an interactive table.\"\n",
              "              style=\"display:none;\">\n",
              "        \n",
              "  <svg xmlns=\"http://www.w3.org/2000/svg\" height=\"24px\"viewBox=\"0 0 24 24\"\n",
              "       width=\"24px\">\n",
              "    <path d=\"M0 0h24v24H0V0z\" fill=\"none\"/>\n",
              "    <path d=\"M18.56 5.44l.94 2.06.94-2.06 2.06-.94-2.06-.94-.94-2.06-.94 2.06-2.06.94zm-11 1L8.5 8.5l.94-2.06 2.06-.94-2.06-.94L8.5 2.5l-.94 2.06-2.06.94zm10 10l.94 2.06.94-2.06 2.06-.94-2.06-.94-.94-2.06-.94 2.06-2.06.94z\"/><path d=\"M17.41 7.96l-1.37-1.37c-.4-.4-.92-.59-1.43-.59-.52 0-1.04.2-1.43.59L10.3 9.45l-7.72 7.72c-.78.78-.78 2.05 0 2.83L4 21.41c.39.39.9.59 1.41.59.51 0 1.02-.2 1.41-.59l7.78-7.78 2.81-2.81c.8-.78.8-2.07 0-2.86zM5.41 20L4 18.59l7.72-7.72 1.47 1.35L5.41 20z\"/>\n",
              "  </svg>\n",
              "      </button>\n",
              "      \n",
              "  <style>\n",
              "    .colab-df-container {\n",
              "      display:flex;\n",
              "      flex-wrap:wrap;\n",
              "      gap: 12px;\n",
              "    }\n",
              "\n",
              "    .colab-df-convert {\n",
              "      background-color: #E8F0FE;\n",
              "      border: none;\n",
              "      border-radius: 50%;\n",
              "      cursor: pointer;\n",
              "      display: none;\n",
              "      fill: #1967D2;\n",
              "      height: 32px;\n",
              "      padding: 0 0 0 0;\n",
              "      width: 32px;\n",
              "    }\n",
              "\n",
              "    .colab-df-convert:hover {\n",
              "      background-color: #E2EBFA;\n",
              "      box-shadow: 0px 1px 2px rgba(60, 64, 67, 0.3), 0px 1px 3px 1px rgba(60, 64, 67, 0.15);\n",
              "      fill: #174EA6;\n",
              "    }\n",
              "\n",
              "    [theme=dark] .colab-df-convert {\n",
              "      background-color: #3B4455;\n",
              "      fill: #D2E3FC;\n",
              "    }\n",
              "\n",
              "    [theme=dark] .colab-df-convert:hover {\n",
              "      background-color: #434B5C;\n",
              "      box-shadow: 0px 1px 3px 1px rgba(0, 0, 0, 0.15);\n",
              "      filter: drop-shadow(0px 1px 2px rgba(0, 0, 0, 0.3));\n",
              "      fill: #FFFFFF;\n",
              "    }\n",
              "  </style>\n",
              "\n",
              "      <script>\n",
              "        const buttonEl =\n",
              "          document.querySelector('#df-098f614d-3d18-4ed3-8269-da0be482cd0b button.colab-df-convert');\n",
              "        buttonEl.style.display =\n",
              "          google.colab.kernel.accessAllowed ? 'block' : 'none';\n",
              "\n",
              "        async function convertToInteractive(key) {\n",
              "          const element = document.querySelector('#df-098f614d-3d18-4ed3-8269-da0be482cd0b');\n",
              "          const dataTable =\n",
              "            await google.colab.kernel.invokeFunction('convertToInteractive',\n",
              "                                                     [key], {});\n",
              "          if (!dataTable) return;\n",
              "\n",
              "          const docLinkHtml = 'Like what you see? Visit the ' +\n",
              "            '<a target=\"_blank\" href=https://colab.research.google.com/notebooks/data_table.ipynb>data table notebook</a>'\n",
              "            + ' to learn more about interactive tables.';\n",
              "          element.innerHTML = '';\n",
              "          dataTable['output_type'] = 'display_data';\n",
              "          await google.colab.output.renderOutput(dataTable, element);\n",
              "          const docLink = document.createElement('div');\n",
              "          docLink.innerHTML = docLinkHtml;\n",
              "          element.appendChild(docLink);\n",
              "        }\n",
              "      </script>\n",
              "    </div>\n",
              "  </div>\n",
              "  "
            ]
          },
          "metadata": {},
          "execution_count": 229
        }
      ]
    },
    {
      "cell_type": "code",
      "source": [
        "y= resumen.iloc[:,[12]]\n",
        "y\n",
        "#df1"
      ],
      "metadata": {
        "id": "fHBRIjlaDC6l",
        "outputId": "342a4529-7d56-406b-c13a-fa85c92b640b",
        "colab": {
          "base_uri": "https://localhost:8080/",
          "height": 424
        }
      },
      "execution_count": 230,
      "outputs": [
        {
          "output_type": "execute_result",
          "data": {
            "text/plain": [
              "       homeGanador\n",
              "0                0\n",
              "1                1\n",
              "2                1\n",
              "3                0\n",
              "4                1\n",
              "...            ...\n",
              "41238            0\n",
              "41239            1\n",
              "41240            1\n",
              "41241            0\n",
              "41242            1\n",
              "\n",
              "[41243 rows x 1 columns]"
            ],
            "text/html": [
              "\n",
              "  <div id=\"df-089523b8-ab37-4efc-a314-113a70b2f007\">\n",
              "    <div class=\"colab-df-container\">\n",
              "      <div>\n",
              "<style scoped>\n",
              "    .dataframe tbody tr th:only-of-type {\n",
              "        vertical-align: middle;\n",
              "    }\n",
              "\n",
              "    .dataframe tbody tr th {\n",
              "        vertical-align: top;\n",
              "    }\n",
              "\n",
              "    .dataframe thead th {\n",
              "        text-align: right;\n",
              "    }\n",
              "</style>\n",
              "<table border=\"1\" class=\"dataframe\">\n",
              "  <thead>\n",
              "    <tr style=\"text-align: right;\">\n",
              "      <th></th>\n",
              "      <th>homeGanador</th>\n",
              "    </tr>\n",
              "  </thead>\n",
              "  <tbody>\n",
              "    <tr>\n",
              "      <th>0</th>\n",
              "      <td>0</td>\n",
              "    </tr>\n",
              "    <tr>\n",
              "      <th>1</th>\n",
              "      <td>1</td>\n",
              "    </tr>\n",
              "    <tr>\n",
              "      <th>2</th>\n",
              "      <td>1</td>\n",
              "    </tr>\n",
              "    <tr>\n",
              "      <th>3</th>\n",
              "      <td>0</td>\n",
              "    </tr>\n",
              "    <tr>\n",
              "      <th>4</th>\n",
              "      <td>1</td>\n",
              "    </tr>\n",
              "    <tr>\n",
              "      <th>...</th>\n",
              "      <td>...</td>\n",
              "    </tr>\n",
              "    <tr>\n",
              "      <th>41238</th>\n",
              "      <td>0</td>\n",
              "    </tr>\n",
              "    <tr>\n",
              "      <th>41239</th>\n",
              "      <td>1</td>\n",
              "    </tr>\n",
              "    <tr>\n",
              "      <th>41240</th>\n",
              "      <td>1</td>\n",
              "    </tr>\n",
              "    <tr>\n",
              "      <th>41241</th>\n",
              "      <td>0</td>\n",
              "    </tr>\n",
              "    <tr>\n",
              "      <th>41242</th>\n",
              "      <td>1</td>\n",
              "    </tr>\n",
              "  </tbody>\n",
              "</table>\n",
              "<p>41243 rows × 1 columns</p>\n",
              "</div>\n",
              "      <button class=\"colab-df-convert\" onclick=\"convertToInteractive('df-089523b8-ab37-4efc-a314-113a70b2f007')\"\n",
              "              title=\"Convert this dataframe to an interactive table.\"\n",
              "              style=\"display:none;\">\n",
              "        \n",
              "  <svg xmlns=\"http://www.w3.org/2000/svg\" height=\"24px\"viewBox=\"0 0 24 24\"\n",
              "       width=\"24px\">\n",
              "    <path d=\"M0 0h24v24H0V0z\" fill=\"none\"/>\n",
              "    <path d=\"M18.56 5.44l.94 2.06.94-2.06 2.06-.94-2.06-.94-.94-2.06-.94 2.06-2.06.94zm-11 1L8.5 8.5l.94-2.06 2.06-.94-2.06-.94L8.5 2.5l-.94 2.06-2.06.94zm10 10l.94 2.06.94-2.06 2.06-.94-2.06-.94-.94-2.06-.94 2.06-2.06.94z\"/><path d=\"M17.41 7.96l-1.37-1.37c-.4-.4-.92-.59-1.43-.59-.52 0-1.04.2-1.43.59L10.3 9.45l-7.72 7.72c-.78.78-.78 2.05 0 2.83L4 21.41c.39.39.9.59 1.41.59.51 0 1.02-.2 1.41-.59l7.78-7.78 2.81-2.81c.8-.78.8-2.07 0-2.86zM5.41 20L4 18.59l7.72-7.72 1.47 1.35L5.41 20z\"/>\n",
              "  </svg>\n",
              "      </button>\n",
              "      \n",
              "  <style>\n",
              "    .colab-df-container {\n",
              "      display:flex;\n",
              "      flex-wrap:wrap;\n",
              "      gap: 12px;\n",
              "    }\n",
              "\n",
              "    .colab-df-convert {\n",
              "      background-color: #E8F0FE;\n",
              "      border: none;\n",
              "      border-radius: 50%;\n",
              "      cursor: pointer;\n",
              "      display: none;\n",
              "      fill: #1967D2;\n",
              "      height: 32px;\n",
              "      padding: 0 0 0 0;\n",
              "      width: 32px;\n",
              "    }\n",
              "\n",
              "    .colab-df-convert:hover {\n",
              "      background-color: #E2EBFA;\n",
              "      box-shadow: 0px 1px 2px rgba(60, 64, 67, 0.3), 0px 1px 3px 1px rgba(60, 64, 67, 0.15);\n",
              "      fill: #174EA6;\n",
              "    }\n",
              "\n",
              "    [theme=dark] .colab-df-convert {\n",
              "      background-color: #3B4455;\n",
              "      fill: #D2E3FC;\n",
              "    }\n",
              "\n",
              "    [theme=dark] .colab-df-convert:hover {\n",
              "      background-color: #434B5C;\n",
              "      box-shadow: 0px 1px 3px 1px rgba(0, 0, 0, 0.15);\n",
              "      filter: drop-shadow(0px 1px 2px rgba(0, 0, 0, 0.3));\n",
              "      fill: #FFFFFF;\n",
              "    }\n",
              "  </style>\n",
              "\n",
              "      <script>\n",
              "        const buttonEl =\n",
              "          document.querySelector('#df-089523b8-ab37-4efc-a314-113a70b2f007 button.colab-df-convert');\n",
              "        buttonEl.style.display =\n",
              "          google.colab.kernel.accessAllowed ? 'block' : 'none';\n",
              "\n",
              "        async function convertToInteractive(key) {\n",
              "          const element = document.querySelector('#df-089523b8-ab37-4efc-a314-113a70b2f007');\n",
              "          const dataTable =\n",
              "            await google.colab.kernel.invokeFunction('convertToInteractive',\n",
              "                                                     [key], {});\n",
              "          if (!dataTable) return;\n",
              "\n",
              "          const docLinkHtml = 'Like what you see? Visit the ' +\n",
              "            '<a target=\"_blank\" href=https://colab.research.google.com/notebooks/data_table.ipynb>data table notebook</a>'\n",
              "            + ' to learn more about interactive tables.';\n",
              "          element.innerHTML = '';\n",
              "          dataTable['output_type'] = 'display_data';\n",
              "          await google.colab.output.renderOutput(dataTable, element);\n",
              "          const docLink = document.createElement('div');\n",
              "          docLink.innerHTML = docLinkHtml;\n",
              "          element.appendChild(docLink);\n",
              "        }\n",
              "      </script>\n",
              "    </div>\n",
              "  </div>\n",
              "  "
            ]
          },
          "metadata": {},
          "execution_count": 230
        }
      ]
    },
    {
      "cell_type": "code",
      "source": [
        "resumen"
      ],
      "metadata": {
        "id": "eLrYMs4KwI7S",
        "outputId": "3904546b-7fb6-4381-cb0d-2912000af6d8",
        "colab": {
          "base_uri": "https://localhost:8080/",
          "height": 424
        }
      },
      "execution_count": 231,
      "outputs": [
        {
          "output_type": "execute_result",
          "data": {
            "text/plain": [
              "       index        date     home_team   away_team  home_score  away_score  \\\n",
              "0          0  1872-11-30      Scotland     England           0           0   \n",
              "1          1  1873-03-08       England    Scotland           4           2   \n",
              "2          2  1874-03-07      Scotland     England           2           1   \n",
              "3          3  1875-03-06       England    Scotland           2           2   \n",
              "4          4  1876-03-04      Scotland     England           3           0   \n",
              "...      ...         ...           ...         ...         ...         ...   \n",
              "41238  41238  2019-10-20       Lesotho    Zimbabwe           0           0   \n",
              "41239  41239  2019-10-20        Guinea     Senegal           1           0   \n",
              "41240  41240  2019-10-20          Mali  Mauritania           2           0   \n",
              "41241  41241  2019-10-20  Burkina Faso       Ghana           0           0   \n",
              "41242  41242  2019-10-20   Ivory Coast       Niger           1           0   \n",
              "\n",
              "                                    tournament          city       country  \\\n",
              "0                                     Friendly       Glasgow      Scotland   \n",
              "1                                     Friendly        London       England   \n",
              "2                                     Friendly       Glasgow      Scotland   \n",
              "3                                     Friendly        London       England   \n",
              "4                                     Friendly       Glasgow      Scotland   \n",
              "...                                        ...           ...           ...   \n",
              "41238  African Nations Championship qualifying       Lesotho       Lesotho   \n",
              "41239  African Nations Championship qualifying       Conakry        Guinea   \n",
              "41240  African Nations Championship qualifying          Mali          Mali   \n",
              "41241  African Nations Championship qualifying  Burkina Faso  Burkina Faso   \n",
              "41242  African Nations Championship qualifying   Ivory Coast   Ivory Coast   \n",
              "\n",
              "       neutral      fecha  year  homeGanador  \n",
              "0        False 1872-11-30  1872            0  \n",
              "1        False 1873-03-08  1873            1  \n",
              "2        False 1874-03-07  1874            1  \n",
              "3        False 1875-03-06  1875            0  \n",
              "4        False 1876-03-04  1876            1  \n",
              "...        ...        ...   ...          ...  \n",
              "41238    False 2019-10-20  2019            0  \n",
              "41239    False 2019-10-20  2019            1  \n",
              "41240    False 2019-10-20  2019            1  \n",
              "41241    False 2019-10-20  2019            0  \n",
              "41242    False 2019-10-20  2019            1  \n",
              "\n",
              "[41243 rows x 13 columns]"
            ],
            "text/html": [
              "\n",
              "  <div id=\"df-d711ddae-a065-4195-b1dc-68a84ea1dc47\">\n",
              "    <div class=\"colab-df-container\">\n",
              "      <div>\n",
              "<style scoped>\n",
              "    .dataframe tbody tr th:only-of-type {\n",
              "        vertical-align: middle;\n",
              "    }\n",
              "\n",
              "    .dataframe tbody tr th {\n",
              "        vertical-align: top;\n",
              "    }\n",
              "\n",
              "    .dataframe thead th {\n",
              "        text-align: right;\n",
              "    }\n",
              "</style>\n",
              "<table border=\"1\" class=\"dataframe\">\n",
              "  <thead>\n",
              "    <tr style=\"text-align: right;\">\n",
              "      <th></th>\n",
              "      <th>index</th>\n",
              "      <th>date</th>\n",
              "      <th>home_team</th>\n",
              "      <th>away_team</th>\n",
              "      <th>home_score</th>\n",
              "      <th>away_score</th>\n",
              "      <th>tournament</th>\n",
              "      <th>city</th>\n",
              "      <th>country</th>\n",
              "      <th>neutral</th>\n",
              "      <th>fecha</th>\n",
              "      <th>year</th>\n",
              "      <th>homeGanador</th>\n",
              "    </tr>\n",
              "  </thead>\n",
              "  <tbody>\n",
              "    <tr>\n",
              "      <th>0</th>\n",
              "      <td>0</td>\n",
              "      <td>1872-11-30</td>\n",
              "      <td>Scotland</td>\n",
              "      <td>England</td>\n",
              "      <td>0</td>\n",
              "      <td>0</td>\n",
              "      <td>Friendly</td>\n",
              "      <td>Glasgow</td>\n",
              "      <td>Scotland</td>\n",
              "      <td>False</td>\n",
              "      <td>1872-11-30</td>\n",
              "      <td>1872</td>\n",
              "      <td>0</td>\n",
              "    </tr>\n",
              "    <tr>\n",
              "      <th>1</th>\n",
              "      <td>1</td>\n",
              "      <td>1873-03-08</td>\n",
              "      <td>England</td>\n",
              "      <td>Scotland</td>\n",
              "      <td>4</td>\n",
              "      <td>2</td>\n",
              "      <td>Friendly</td>\n",
              "      <td>London</td>\n",
              "      <td>England</td>\n",
              "      <td>False</td>\n",
              "      <td>1873-03-08</td>\n",
              "      <td>1873</td>\n",
              "      <td>1</td>\n",
              "    </tr>\n",
              "    <tr>\n",
              "      <th>2</th>\n",
              "      <td>2</td>\n",
              "      <td>1874-03-07</td>\n",
              "      <td>Scotland</td>\n",
              "      <td>England</td>\n",
              "      <td>2</td>\n",
              "      <td>1</td>\n",
              "      <td>Friendly</td>\n",
              "      <td>Glasgow</td>\n",
              "      <td>Scotland</td>\n",
              "      <td>False</td>\n",
              "      <td>1874-03-07</td>\n",
              "      <td>1874</td>\n",
              "      <td>1</td>\n",
              "    </tr>\n",
              "    <tr>\n",
              "      <th>3</th>\n",
              "      <td>3</td>\n",
              "      <td>1875-03-06</td>\n",
              "      <td>England</td>\n",
              "      <td>Scotland</td>\n",
              "      <td>2</td>\n",
              "      <td>2</td>\n",
              "      <td>Friendly</td>\n",
              "      <td>London</td>\n",
              "      <td>England</td>\n",
              "      <td>False</td>\n",
              "      <td>1875-03-06</td>\n",
              "      <td>1875</td>\n",
              "      <td>0</td>\n",
              "    </tr>\n",
              "    <tr>\n",
              "      <th>4</th>\n",
              "      <td>4</td>\n",
              "      <td>1876-03-04</td>\n",
              "      <td>Scotland</td>\n",
              "      <td>England</td>\n",
              "      <td>3</td>\n",
              "      <td>0</td>\n",
              "      <td>Friendly</td>\n",
              "      <td>Glasgow</td>\n",
              "      <td>Scotland</td>\n",
              "      <td>False</td>\n",
              "      <td>1876-03-04</td>\n",
              "      <td>1876</td>\n",
              "      <td>1</td>\n",
              "    </tr>\n",
              "    <tr>\n",
              "      <th>...</th>\n",
              "      <td>...</td>\n",
              "      <td>...</td>\n",
              "      <td>...</td>\n",
              "      <td>...</td>\n",
              "      <td>...</td>\n",
              "      <td>...</td>\n",
              "      <td>...</td>\n",
              "      <td>...</td>\n",
              "      <td>...</td>\n",
              "      <td>...</td>\n",
              "      <td>...</td>\n",
              "      <td>...</td>\n",
              "      <td>...</td>\n",
              "    </tr>\n",
              "    <tr>\n",
              "      <th>41238</th>\n",
              "      <td>41238</td>\n",
              "      <td>2019-10-20</td>\n",
              "      <td>Lesotho</td>\n",
              "      <td>Zimbabwe</td>\n",
              "      <td>0</td>\n",
              "      <td>0</td>\n",
              "      <td>African Nations Championship qualifying</td>\n",
              "      <td>Lesotho</td>\n",
              "      <td>Lesotho</td>\n",
              "      <td>False</td>\n",
              "      <td>2019-10-20</td>\n",
              "      <td>2019</td>\n",
              "      <td>0</td>\n",
              "    </tr>\n",
              "    <tr>\n",
              "      <th>41239</th>\n",
              "      <td>41239</td>\n",
              "      <td>2019-10-20</td>\n",
              "      <td>Guinea</td>\n",
              "      <td>Senegal</td>\n",
              "      <td>1</td>\n",
              "      <td>0</td>\n",
              "      <td>African Nations Championship qualifying</td>\n",
              "      <td>Conakry</td>\n",
              "      <td>Guinea</td>\n",
              "      <td>False</td>\n",
              "      <td>2019-10-20</td>\n",
              "      <td>2019</td>\n",
              "      <td>1</td>\n",
              "    </tr>\n",
              "    <tr>\n",
              "      <th>41240</th>\n",
              "      <td>41240</td>\n",
              "      <td>2019-10-20</td>\n",
              "      <td>Mali</td>\n",
              "      <td>Mauritania</td>\n",
              "      <td>2</td>\n",
              "      <td>0</td>\n",
              "      <td>African Nations Championship qualifying</td>\n",
              "      <td>Mali</td>\n",
              "      <td>Mali</td>\n",
              "      <td>False</td>\n",
              "      <td>2019-10-20</td>\n",
              "      <td>2019</td>\n",
              "      <td>1</td>\n",
              "    </tr>\n",
              "    <tr>\n",
              "      <th>41241</th>\n",
              "      <td>41241</td>\n",
              "      <td>2019-10-20</td>\n",
              "      <td>Burkina Faso</td>\n",
              "      <td>Ghana</td>\n",
              "      <td>0</td>\n",
              "      <td>0</td>\n",
              "      <td>African Nations Championship qualifying</td>\n",
              "      <td>Burkina Faso</td>\n",
              "      <td>Burkina Faso</td>\n",
              "      <td>False</td>\n",
              "      <td>2019-10-20</td>\n",
              "      <td>2019</td>\n",
              "      <td>0</td>\n",
              "    </tr>\n",
              "    <tr>\n",
              "      <th>41242</th>\n",
              "      <td>41242</td>\n",
              "      <td>2019-10-20</td>\n",
              "      <td>Ivory Coast</td>\n",
              "      <td>Niger</td>\n",
              "      <td>1</td>\n",
              "      <td>0</td>\n",
              "      <td>African Nations Championship qualifying</td>\n",
              "      <td>Ivory Coast</td>\n",
              "      <td>Ivory Coast</td>\n",
              "      <td>False</td>\n",
              "      <td>2019-10-20</td>\n",
              "      <td>2019</td>\n",
              "      <td>1</td>\n",
              "    </tr>\n",
              "  </tbody>\n",
              "</table>\n",
              "<p>41243 rows × 13 columns</p>\n",
              "</div>\n",
              "      <button class=\"colab-df-convert\" onclick=\"convertToInteractive('df-d711ddae-a065-4195-b1dc-68a84ea1dc47')\"\n",
              "              title=\"Convert this dataframe to an interactive table.\"\n",
              "              style=\"display:none;\">\n",
              "        \n",
              "  <svg xmlns=\"http://www.w3.org/2000/svg\" height=\"24px\"viewBox=\"0 0 24 24\"\n",
              "       width=\"24px\">\n",
              "    <path d=\"M0 0h24v24H0V0z\" fill=\"none\"/>\n",
              "    <path d=\"M18.56 5.44l.94 2.06.94-2.06 2.06-.94-2.06-.94-.94-2.06-.94 2.06-2.06.94zm-11 1L8.5 8.5l.94-2.06 2.06-.94-2.06-.94L8.5 2.5l-.94 2.06-2.06.94zm10 10l.94 2.06.94-2.06 2.06-.94-2.06-.94-.94-2.06-.94 2.06-2.06.94z\"/><path d=\"M17.41 7.96l-1.37-1.37c-.4-.4-.92-.59-1.43-.59-.52 0-1.04.2-1.43.59L10.3 9.45l-7.72 7.72c-.78.78-.78 2.05 0 2.83L4 21.41c.39.39.9.59 1.41.59.51 0 1.02-.2 1.41-.59l7.78-7.78 2.81-2.81c.8-.78.8-2.07 0-2.86zM5.41 20L4 18.59l7.72-7.72 1.47 1.35L5.41 20z\"/>\n",
              "  </svg>\n",
              "      </button>\n",
              "      \n",
              "  <style>\n",
              "    .colab-df-container {\n",
              "      display:flex;\n",
              "      flex-wrap:wrap;\n",
              "      gap: 12px;\n",
              "    }\n",
              "\n",
              "    .colab-df-convert {\n",
              "      background-color: #E8F0FE;\n",
              "      border: none;\n",
              "      border-radius: 50%;\n",
              "      cursor: pointer;\n",
              "      display: none;\n",
              "      fill: #1967D2;\n",
              "      height: 32px;\n",
              "      padding: 0 0 0 0;\n",
              "      width: 32px;\n",
              "    }\n",
              "\n",
              "    .colab-df-convert:hover {\n",
              "      background-color: #E2EBFA;\n",
              "      box-shadow: 0px 1px 2px rgba(60, 64, 67, 0.3), 0px 1px 3px 1px rgba(60, 64, 67, 0.15);\n",
              "      fill: #174EA6;\n",
              "    }\n",
              "\n",
              "    [theme=dark] .colab-df-convert {\n",
              "      background-color: #3B4455;\n",
              "      fill: #D2E3FC;\n",
              "    }\n",
              "\n",
              "    [theme=dark] .colab-df-convert:hover {\n",
              "      background-color: #434B5C;\n",
              "      box-shadow: 0px 1px 3px 1px rgba(0, 0, 0, 0.15);\n",
              "      filter: drop-shadow(0px 1px 2px rgba(0, 0, 0, 0.3));\n",
              "      fill: #FFFFFF;\n",
              "    }\n",
              "  </style>\n",
              "\n",
              "      <script>\n",
              "        const buttonEl =\n",
              "          document.querySelector('#df-d711ddae-a065-4195-b1dc-68a84ea1dc47 button.colab-df-convert');\n",
              "        buttonEl.style.display =\n",
              "          google.colab.kernel.accessAllowed ? 'block' : 'none';\n",
              "\n",
              "        async function convertToInteractive(key) {\n",
              "          const element = document.querySelector('#df-d711ddae-a065-4195-b1dc-68a84ea1dc47');\n",
              "          const dataTable =\n",
              "            await google.colab.kernel.invokeFunction('convertToInteractive',\n",
              "                                                     [key], {});\n",
              "          if (!dataTable) return;\n",
              "\n",
              "          const docLinkHtml = 'Like what you see? Visit the ' +\n",
              "            '<a target=\"_blank\" href=https://colab.research.google.com/notebooks/data_table.ipynb>data table notebook</a>'\n",
              "            + ' to learn more about interactive tables.';\n",
              "          element.innerHTML = '';\n",
              "          dataTable['output_type'] = 'display_data';\n",
              "          await google.colab.output.renderOutput(dataTable, element);\n",
              "          const docLink = document.createElement('div');\n",
              "          docLink.innerHTML = docLinkHtml;\n",
              "          element.appendChild(docLink);\n",
              "        }\n",
              "      </script>\n",
              "    </div>\n",
              "  </div>\n",
              "  "
            ]
          },
          "metadata": {},
          "execution_count": 231
        }
      ]
    },
    {
      "cell_type": "code",
      "source": [
        "\n",
        "from imblearn.over_sampling import SMOTENC\n",
        "smote_nc = SMOTENC(categorical_features=[0], random_state=0)\n",
        "X_resampled, y_resampled = smote_nc.fit_resample(X, y)\n",
        "print(y_resampled.shape)"
      ],
      "metadata": {
        "id": "9RHjYSHWYB-Z",
        "outputId": "da02be75-8fe4-4cb3-ba2c-5d32cd4f81fa",
        "colab": {
          "base_uri": "https://localhost:8080/"
        }
      },
      "execution_count": 232,
      "outputs": [
        {
          "output_type": "stream",
          "name": "stdout",
          "text": [
            "(42380, 1)\n"
          ]
        }
      ]
    },
    {
      "cell_type": "code",
      "source": [
        "X_resampled.head()\n"
      ],
      "metadata": {
        "id": "47XHaQCiNH8z",
        "outputId": "92e58a1b-6e23-43c3-cc4f-74122bee39b0",
        "colab": {
          "base_uri": "https://localhost:8080/",
          "height": 206
        }
      },
      "execution_count": 233,
      "outputs": [
        {
          "output_type": "execute_result",
          "data": {
            "text/plain": [
              "  home_team  home_score  away_score\n",
              "0  Scotland           0           0\n",
              "1   England           4           2\n",
              "2  Scotland           2           1\n",
              "3   England           2           2\n",
              "4  Scotland           3           0"
            ],
            "text/html": [
              "\n",
              "  <div id=\"df-956ce269-d345-4dfa-989a-8440f5790495\">\n",
              "    <div class=\"colab-df-container\">\n",
              "      <div>\n",
              "<style scoped>\n",
              "    .dataframe tbody tr th:only-of-type {\n",
              "        vertical-align: middle;\n",
              "    }\n",
              "\n",
              "    .dataframe tbody tr th {\n",
              "        vertical-align: top;\n",
              "    }\n",
              "\n",
              "    .dataframe thead th {\n",
              "        text-align: right;\n",
              "    }\n",
              "</style>\n",
              "<table border=\"1\" class=\"dataframe\">\n",
              "  <thead>\n",
              "    <tr style=\"text-align: right;\">\n",
              "      <th></th>\n",
              "      <th>home_team</th>\n",
              "      <th>home_score</th>\n",
              "      <th>away_score</th>\n",
              "    </tr>\n",
              "  </thead>\n",
              "  <tbody>\n",
              "    <tr>\n",
              "      <th>0</th>\n",
              "      <td>Scotland</td>\n",
              "      <td>0</td>\n",
              "      <td>0</td>\n",
              "    </tr>\n",
              "    <tr>\n",
              "      <th>1</th>\n",
              "      <td>England</td>\n",
              "      <td>4</td>\n",
              "      <td>2</td>\n",
              "    </tr>\n",
              "    <tr>\n",
              "      <th>2</th>\n",
              "      <td>Scotland</td>\n",
              "      <td>2</td>\n",
              "      <td>1</td>\n",
              "    </tr>\n",
              "    <tr>\n",
              "      <th>3</th>\n",
              "      <td>England</td>\n",
              "      <td>2</td>\n",
              "      <td>2</td>\n",
              "    </tr>\n",
              "    <tr>\n",
              "      <th>4</th>\n",
              "      <td>Scotland</td>\n",
              "      <td>3</td>\n",
              "      <td>0</td>\n",
              "    </tr>\n",
              "  </tbody>\n",
              "</table>\n",
              "</div>\n",
              "      <button class=\"colab-df-convert\" onclick=\"convertToInteractive('df-956ce269-d345-4dfa-989a-8440f5790495')\"\n",
              "              title=\"Convert this dataframe to an interactive table.\"\n",
              "              style=\"display:none;\">\n",
              "        \n",
              "  <svg xmlns=\"http://www.w3.org/2000/svg\" height=\"24px\"viewBox=\"0 0 24 24\"\n",
              "       width=\"24px\">\n",
              "    <path d=\"M0 0h24v24H0V0z\" fill=\"none\"/>\n",
              "    <path d=\"M18.56 5.44l.94 2.06.94-2.06 2.06-.94-2.06-.94-.94-2.06-.94 2.06-2.06.94zm-11 1L8.5 8.5l.94-2.06 2.06-.94-2.06-.94L8.5 2.5l-.94 2.06-2.06.94zm10 10l.94 2.06.94-2.06 2.06-.94-2.06-.94-.94-2.06-.94 2.06-2.06.94z\"/><path d=\"M17.41 7.96l-1.37-1.37c-.4-.4-.92-.59-1.43-.59-.52 0-1.04.2-1.43.59L10.3 9.45l-7.72 7.72c-.78.78-.78 2.05 0 2.83L4 21.41c.39.39.9.59 1.41.59.51 0 1.02-.2 1.41-.59l7.78-7.78 2.81-2.81c.8-.78.8-2.07 0-2.86zM5.41 20L4 18.59l7.72-7.72 1.47 1.35L5.41 20z\"/>\n",
              "  </svg>\n",
              "      </button>\n",
              "      \n",
              "  <style>\n",
              "    .colab-df-container {\n",
              "      display:flex;\n",
              "      flex-wrap:wrap;\n",
              "      gap: 12px;\n",
              "    }\n",
              "\n",
              "    .colab-df-convert {\n",
              "      background-color: #E8F0FE;\n",
              "      border: none;\n",
              "      border-radius: 50%;\n",
              "      cursor: pointer;\n",
              "      display: none;\n",
              "      fill: #1967D2;\n",
              "      height: 32px;\n",
              "      padding: 0 0 0 0;\n",
              "      width: 32px;\n",
              "    }\n",
              "\n",
              "    .colab-df-convert:hover {\n",
              "      background-color: #E2EBFA;\n",
              "      box-shadow: 0px 1px 2px rgba(60, 64, 67, 0.3), 0px 1px 3px 1px rgba(60, 64, 67, 0.15);\n",
              "      fill: #174EA6;\n",
              "    }\n",
              "\n",
              "    [theme=dark] .colab-df-convert {\n",
              "      background-color: #3B4455;\n",
              "      fill: #D2E3FC;\n",
              "    }\n",
              "\n",
              "    [theme=dark] .colab-df-convert:hover {\n",
              "      background-color: #434B5C;\n",
              "      box-shadow: 0px 1px 3px 1px rgba(0, 0, 0, 0.15);\n",
              "      filter: drop-shadow(0px 1px 2px rgba(0, 0, 0, 0.3));\n",
              "      fill: #FFFFFF;\n",
              "    }\n",
              "  </style>\n",
              "\n",
              "      <script>\n",
              "        const buttonEl =\n",
              "          document.querySelector('#df-956ce269-d345-4dfa-989a-8440f5790495 button.colab-df-convert');\n",
              "        buttonEl.style.display =\n",
              "          google.colab.kernel.accessAllowed ? 'block' : 'none';\n",
              "\n",
              "        async function convertToInteractive(key) {\n",
              "          const element = document.querySelector('#df-956ce269-d345-4dfa-989a-8440f5790495');\n",
              "          const dataTable =\n",
              "            await google.colab.kernel.invokeFunction('convertToInteractive',\n",
              "                                                     [key], {});\n",
              "          if (!dataTable) return;\n",
              "\n",
              "          const docLinkHtml = 'Like what you see? Visit the ' +\n",
              "            '<a target=\"_blank\" href=https://colab.research.google.com/notebooks/data_table.ipynb>data table notebook</a>'\n",
              "            + ' to learn more about interactive tables.';\n",
              "          element.innerHTML = '';\n",
              "          dataTable['output_type'] = 'display_data';\n",
              "          await google.colab.output.renderOutput(dataTable, element);\n",
              "          const docLink = document.createElement('div');\n",
              "          docLink.innerHTML = docLinkHtml;\n",
              "          element.appendChild(docLink);\n",
              "        }\n",
              "      </script>\n",
              "    </div>\n",
              "  </div>\n",
              "  "
            ]
          },
          "metadata": {},
          "execution_count": 233
        }
      ]
    },
    {
      "cell_type": "markdown",
      "source": [
        "# Nivell 3"
      ],
      "metadata": {
        "id": "w1mUFONVZvtr"
      }
    },
    {
      "cell_type": "markdown",
      "source": [
        "## Exercici 3\n",
        "Continua amb el conjunt de dades de tema esportiu i genera una mostra utilitzant el mètode Reservoir sampling. Nueva sección"
      ],
      "metadata": {
        "id": "uLaKbgMgZ0PB"
      }
    },
    {
      "cell_type": "code",
      "source": [
        "import random\n",
        "\n",
        "def generator(max):\n",
        "    number = 1\n",
        "    while number < max:\n",
        "        number += 1\n",
        "        yield number\n",
        "\n",
        "stream = generator(len(df1))\n",
        "k=400\n",
        "reservoir = []\n",
        "\n",
        "for i, elemento in enumerate(stream):\n",
        "    if i+1<= k:\n",
        "        reservoir.append(elemento)\n",
        "    else:\n",
        "        probabilidad = k/(i+1)\n",
        "        if random.random() < probabilidad:\n",
        "             reservoir[random.choice(range(0,k))] = elemento"
      ],
      "metadata": {
        "id": "FNE7vlj-lbMy"
      },
      "execution_count": 234,
      "outputs": []
    },
    {
      "cell_type": "code",
      "source": [
        "\n",
        "\n",
        "reservoir_sample = resumen.iloc[reservoir]\n",
        "reservoir_sample.head()"
      ],
      "metadata": {
        "id": "VkJ0Tdo6lnHA",
        "outputId": "f98ba366-be46-45eb-bdf3-3daef19f1c1d",
        "colab": {
          "base_uri": "https://localhost:8080/",
          "height": 206
        }
      },
      "execution_count": 235,
      "outputs": [
        {
          "output_type": "execute_result",
          "data": {
            "text/plain": [
              "       index        date home_team        away_team  home_score  away_score  \\\n",
              "4696    4696  1960-05-22   Hungary          England           2           0   \n",
              "30395  30395  2008-06-22   Curaçao            Haiti           0           1   \n",
              "8073    8073  1972-02-27     Congo         DR Congo           0           2   \n",
              "1841    1841  1936-01-12    France      Netherlands           1           6   \n",
              "40884  40884  2019-07-08    Tuvalu  Solomon Islands           0          13   \n",
              "\n",
              "                         tournament        city               country  \\\n",
              "4696                       Friendly    Budapest               Hungary   \n",
              "30395  FIFA World Cup qualification  Willemstad  Netherlands Antilles   \n",
              "8073         African Cup of Nations      Douala              Cameroon   \n",
              "1841                       Friendly       Paris                France   \n",
              "40884                 Pacific Games        Apia                 Samoa   \n",
              "\n",
              "       neutral      fecha  year  homeGanador  \n",
              "4696     False 1960-05-22  1960            1  \n",
              "30395     True 2008-06-22  2008            0  \n",
              "8073      True 1972-02-27  1972            0  \n",
              "1841     False 1936-01-12  1936            0  \n",
              "40884     True 2019-07-08  2019            0  "
            ],
            "text/html": [
              "\n",
              "  <div id=\"df-3a347bd8-8a81-4500-8de3-96e4673aee07\">\n",
              "    <div class=\"colab-df-container\">\n",
              "      <div>\n",
              "<style scoped>\n",
              "    .dataframe tbody tr th:only-of-type {\n",
              "        vertical-align: middle;\n",
              "    }\n",
              "\n",
              "    .dataframe tbody tr th {\n",
              "        vertical-align: top;\n",
              "    }\n",
              "\n",
              "    .dataframe thead th {\n",
              "        text-align: right;\n",
              "    }\n",
              "</style>\n",
              "<table border=\"1\" class=\"dataframe\">\n",
              "  <thead>\n",
              "    <tr style=\"text-align: right;\">\n",
              "      <th></th>\n",
              "      <th>index</th>\n",
              "      <th>date</th>\n",
              "      <th>home_team</th>\n",
              "      <th>away_team</th>\n",
              "      <th>home_score</th>\n",
              "      <th>away_score</th>\n",
              "      <th>tournament</th>\n",
              "      <th>city</th>\n",
              "      <th>country</th>\n",
              "      <th>neutral</th>\n",
              "      <th>fecha</th>\n",
              "      <th>year</th>\n",
              "      <th>homeGanador</th>\n",
              "    </tr>\n",
              "  </thead>\n",
              "  <tbody>\n",
              "    <tr>\n",
              "      <th>4696</th>\n",
              "      <td>4696</td>\n",
              "      <td>1960-05-22</td>\n",
              "      <td>Hungary</td>\n",
              "      <td>England</td>\n",
              "      <td>2</td>\n",
              "      <td>0</td>\n",
              "      <td>Friendly</td>\n",
              "      <td>Budapest</td>\n",
              "      <td>Hungary</td>\n",
              "      <td>False</td>\n",
              "      <td>1960-05-22</td>\n",
              "      <td>1960</td>\n",
              "      <td>1</td>\n",
              "    </tr>\n",
              "    <tr>\n",
              "      <th>30395</th>\n",
              "      <td>30395</td>\n",
              "      <td>2008-06-22</td>\n",
              "      <td>Curaçao</td>\n",
              "      <td>Haiti</td>\n",
              "      <td>0</td>\n",
              "      <td>1</td>\n",
              "      <td>FIFA World Cup qualification</td>\n",
              "      <td>Willemstad</td>\n",
              "      <td>Netherlands Antilles</td>\n",
              "      <td>True</td>\n",
              "      <td>2008-06-22</td>\n",
              "      <td>2008</td>\n",
              "      <td>0</td>\n",
              "    </tr>\n",
              "    <tr>\n",
              "      <th>8073</th>\n",
              "      <td>8073</td>\n",
              "      <td>1972-02-27</td>\n",
              "      <td>Congo</td>\n",
              "      <td>DR Congo</td>\n",
              "      <td>0</td>\n",
              "      <td>2</td>\n",
              "      <td>African Cup of Nations</td>\n",
              "      <td>Douala</td>\n",
              "      <td>Cameroon</td>\n",
              "      <td>True</td>\n",
              "      <td>1972-02-27</td>\n",
              "      <td>1972</td>\n",
              "      <td>0</td>\n",
              "    </tr>\n",
              "    <tr>\n",
              "      <th>1841</th>\n",
              "      <td>1841</td>\n",
              "      <td>1936-01-12</td>\n",
              "      <td>France</td>\n",
              "      <td>Netherlands</td>\n",
              "      <td>1</td>\n",
              "      <td>6</td>\n",
              "      <td>Friendly</td>\n",
              "      <td>Paris</td>\n",
              "      <td>France</td>\n",
              "      <td>False</td>\n",
              "      <td>1936-01-12</td>\n",
              "      <td>1936</td>\n",
              "      <td>0</td>\n",
              "    </tr>\n",
              "    <tr>\n",
              "      <th>40884</th>\n",
              "      <td>40884</td>\n",
              "      <td>2019-07-08</td>\n",
              "      <td>Tuvalu</td>\n",
              "      <td>Solomon Islands</td>\n",
              "      <td>0</td>\n",
              "      <td>13</td>\n",
              "      <td>Pacific Games</td>\n",
              "      <td>Apia</td>\n",
              "      <td>Samoa</td>\n",
              "      <td>True</td>\n",
              "      <td>2019-07-08</td>\n",
              "      <td>2019</td>\n",
              "      <td>0</td>\n",
              "    </tr>\n",
              "  </tbody>\n",
              "</table>\n",
              "</div>\n",
              "      <button class=\"colab-df-convert\" onclick=\"convertToInteractive('df-3a347bd8-8a81-4500-8de3-96e4673aee07')\"\n",
              "              title=\"Convert this dataframe to an interactive table.\"\n",
              "              style=\"display:none;\">\n",
              "        \n",
              "  <svg xmlns=\"http://www.w3.org/2000/svg\" height=\"24px\"viewBox=\"0 0 24 24\"\n",
              "       width=\"24px\">\n",
              "    <path d=\"M0 0h24v24H0V0z\" fill=\"none\"/>\n",
              "    <path d=\"M18.56 5.44l.94 2.06.94-2.06 2.06-.94-2.06-.94-.94-2.06-.94 2.06-2.06.94zm-11 1L8.5 8.5l.94-2.06 2.06-.94-2.06-.94L8.5 2.5l-.94 2.06-2.06.94zm10 10l.94 2.06.94-2.06 2.06-.94-2.06-.94-.94-2.06-.94 2.06-2.06.94z\"/><path d=\"M17.41 7.96l-1.37-1.37c-.4-.4-.92-.59-1.43-.59-.52 0-1.04.2-1.43.59L10.3 9.45l-7.72 7.72c-.78.78-.78 2.05 0 2.83L4 21.41c.39.39.9.59 1.41.59.51 0 1.02-.2 1.41-.59l7.78-7.78 2.81-2.81c.8-.78.8-2.07 0-2.86zM5.41 20L4 18.59l7.72-7.72 1.47 1.35L5.41 20z\"/>\n",
              "  </svg>\n",
              "      </button>\n",
              "      \n",
              "  <style>\n",
              "    .colab-df-container {\n",
              "      display:flex;\n",
              "      flex-wrap:wrap;\n",
              "      gap: 12px;\n",
              "    }\n",
              "\n",
              "    .colab-df-convert {\n",
              "      background-color: #E8F0FE;\n",
              "      border: none;\n",
              "      border-radius: 50%;\n",
              "      cursor: pointer;\n",
              "      display: none;\n",
              "      fill: #1967D2;\n",
              "      height: 32px;\n",
              "      padding: 0 0 0 0;\n",
              "      width: 32px;\n",
              "    }\n",
              "\n",
              "    .colab-df-convert:hover {\n",
              "      background-color: #E2EBFA;\n",
              "      box-shadow: 0px 1px 2px rgba(60, 64, 67, 0.3), 0px 1px 3px 1px rgba(60, 64, 67, 0.15);\n",
              "      fill: #174EA6;\n",
              "    }\n",
              "\n",
              "    [theme=dark] .colab-df-convert {\n",
              "      background-color: #3B4455;\n",
              "      fill: #D2E3FC;\n",
              "    }\n",
              "\n",
              "    [theme=dark] .colab-df-convert:hover {\n",
              "      background-color: #434B5C;\n",
              "      box-shadow: 0px 1px 3px 1px rgba(0, 0, 0, 0.15);\n",
              "      filter: drop-shadow(0px 1px 2px rgba(0, 0, 0, 0.3));\n",
              "      fill: #FFFFFF;\n",
              "    }\n",
              "  </style>\n",
              "\n",
              "      <script>\n",
              "        const buttonEl =\n",
              "          document.querySelector('#df-3a347bd8-8a81-4500-8de3-96e4673aee07 button.colab-df-convert');\n",
              "        buttonEl.style.display =\n",
              "          google.colab.kernel.accessAllowed ? 'block' : 'none';\n",
              "\n",
              "        async function convertToInteractive(key) {\n",
              "          const element = document.querySelector('#df-3a347bd8-8a81-4500-8de3-96e4673aee07');\n",
              "          const dataTable =\n",
              "            await google.colab.kernel.invokeFunction('convertToInteractive',\n",
              "                                                     [key], {});\n",
              "          if (!dataTable) return;\n",
              "\n",
              "          const docLinkHtml = 'Like what you see? Visit the ' +\n",
              "            '<a target=\"_blank\" href=https://colab.research.google.com/notebooks/data_table.ipynb>data table notebook</a>'\n",
              "            + ' to learn more about interactive tables.';\n",
              "          element.innerHTML = '';\n",
              "          dataTable['output_type'] = 'display_data';\n",
              "          await google.colab.output.renderOutput(dataTable, element);\n",
              "          const docLink = document.createElement('div');\n",
              "          docLink.innerHTML = docLinkHtml;\n",
              "          element.appendChild(docLink);\n",
              "        }\n",
              "      </script>\n",
              "    </div>\n",
              "  </div>\n",
              "  "
            ]
          },
          "metadata": {},
          "execution_count": 235
        }
      ]
    },
    {
      "cell_type": "code",
      "source": [
        "reservoir_sample.shape"
      ],
      "metadata": {
        "id": "EgxRKzqg_RvO",
        "outputId": "4d723b70-3160-4eef-f614-54f0a3f4d1f7",
        "colab": {
          "base_uri": "https://localhost:8080/"
        }
      },
      "execution_count": 236,
      "outputs": [
        {
          "output_type": "execute_result",
          "data": {
            "text/plain": [
              "(400, 13)"
            ]
          },
          "metadata": {},
          "execution_count": 236
        }
      ]
    },
    {
      "cell_type": "markdown",
      "source": [
        "**Conlclusión**\n",
        "Con el muestreo reservoir todos los registros han tenido una probabilidad **uniforme** de salir"
      ],
      "metadata": {
        "id": "ZmRd6j5kyibZ"
      }
    }
  ]
}